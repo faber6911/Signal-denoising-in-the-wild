{
 "cells": [
  {
   "cell_type": "code",
   "execution_count": 58,
   "metadata": {
    "ExecuteTime": {
     "end_time": "2020-05-17T13:38:52.045994Z",
     "start_time": "2020-05-17T13:38:52.042340Z"
    }
   },
   "outputs": [],
   "source": [
    "# packages\n",
    "\n",
    "import os\n",
    "import sys\n",
    "import pathlib\n",
    "import re\n",
    "import numpy as np"
   ]
  },
  {
   "cell_type": "code",
   "execution_count": 59,
   "metadata": {
    "ExecuteTime": {
     "end_time": "2020-05-17T13:38:52.539310Z",
     "start_time": "2020-05-17T13:38:52.535696Z"
    }
   },
   "outputs": [],
   "source": [
    "# paths\n",
    "\n",
    "main_path = '/export/corpora/'\n",
    "clean_audios = 'siwis_database/wav/'\n",
    "noise_audios = 'musan'\n",
    "info_clean_audios = 'siwis_database/info'"
   ]
  },
  {
   "cell_type": "code",
   "execution_count": 60,
   "metadata": {
    "ExecuteTime": {
     "end_time": "2020-05-17T13:38:52.855080Z",
     "start_time": "2020-05-17T13:38:52.851672Z"
    }
   },
   "outputs": [],
   "source": [
    "clean_audios_path = os.path.join(main_path, clean_audios)\n",
    "noise_audios_path = os.path.join(main_path, noise_audios)"
   ]
  },
  {
   "cell_type": "code",
   "execution_count": 61,
   "metadata": {
    "ExecuteTime": {
     "end_time": "2020-05-17T13:38:53.384687Z",
     "start_time": "2020-05-17T13:38:53.338065Z"
    }
   },
   "outputs": [
    {
     "name": "stdout",
     "output_type": "stream",
     "text": [
      "Clean audios measures:\n",
      "Max: 147.512472\n",
      "Min: 0.704399\n",
      "Mean: 5.761135318841562\n",
      "Median: 5.149864\n"
     ]
    }
   ],
   "source": [
    "# utt2duration\n",
    "utt2duration = {}\n",
    "\n",
    "info_dir = os.listdir(os.path.join(main_path, info_clean_audios))\n",
    "audio_length_files = [elem for elem in info_dir if re.search('_audio_length.txt', elem)]\n",
    "\n",
    "with open('../data/utt2duration.scp', 'w') as outfile:\n",
    "    durations = []\n",
    "    for file in audio_length_files:\n",
    "        for line in open(os.path.join(main_path, info_clean_audios, file)):\n",
    "            utt, duration = line.rstrip().split()\n",
    "            utt = utt.replace('.wav', '')\n",
    "            durations.append(float(duration))\n",
    "            outfile.write('{} {}\\n'.format(utt, duration))\n",
    "            utt2duration[utt] = float(duration)\n",
    "\n",
    "outfile.close()\n",
    "print('Clean audios measures:')\n",
    "print('Max: {}\\nMin: {}\\nMean: {}\\nMedian: {}'.format(max(durations), min(durations), np.mean(durations), np.median(durations)))"
   ]
  },
  {
   "cell_type": "code",
   "execution_count": 62,
   "metadata": {
    "ExecuteTime": {
     "end_time": "2020-05-17T13:38:54.138765Z",
     "start_time": "2020-05-17T13:38:53.905160Z"
    }
   },
   "outputs": [
    {
     "name": "stdout",
     "output_type": "stream",
     "text": [
      "Detected 10997 clean audios\n",
      "{'DE': 2093, 'EN': 2720, 'FR': 3906, 'IT': 2278}\n"
     ]
    }
   ],
   "source": [
    "# clean wav.scp\n",
    "min_length = 4.0\n",
    "counter = {}\n",
    "\n",
    "with open('../data/clean_wav.scp', 'w') as file:\n",
    "    for language in os.listdir(clean_audios_path):\n",
    "        for folder in os.listdir(os.path.join(clean_audios_path, language)):\n",
    "            for utt in os.listdir(os.path.join(clean_audios_path, language, folder)):\n",
    "                tmp = os.path.join(clean_audios_path, language, folder, utt)\n",
    "                if pathlib.Path(tmp).suffix == '.wav':\n",
    "                    if utt2duration[utt.replace('.wav', '')] > min_length:\n",
    "                        file.write('{} {}\\n'.format(utt.replace('.wav', ''), tmp))\n",
    "                        if language in counter:\n",
    "                            counter[language] += 1\n",
    "                        else:\n",
    "                            counter[language] = 1\n",
    "\n",
    "file.close()\n",
    "print('Detected {} clean audios'.format(sum(counter.values())))\n",
    "print(counter)"
   ]
  },
  {
   "cell_type": "code",
   "execution_count": 63,
   "metadata": {
    "ExecuteTime": {
     "end_time": "2020-05-17T13:38:54.456157Z",
     "start_time": "2020-05-17T13:38:54.382666Z"
    }
   },
   "outputs": [
    {
     "name": "stdout",
     "output_type": "stream",
     "text": [
      "Detected 2016 noise audios\n",
      "{'music': 660, 'noise': 930, 'speech': 426}\n"
     ]
    }
   ],
   "source": [
    "# noise wav.scp\n",
    "counter = {}\n",
    "\n",
    "with open('../data/noise_wav.scp', 'w') as file:\n",
    "    for folder in os.listdir(noise_audios_path):\n",
    "        if os.path.isdir(os.path.join(noise_audios_path, folder)):\n",
    "            for subfolder in os.listdir(os.path.join(noise_audios_path, folder)):\n",
    "                if os.path.isdir(os.path.join(noise_audios_path, folder, subfolder)):\n",
    "                    for utt in os.listdir(os.path.join(noise_audios_path, folder, subfolder)):\n",
    "                        if utt.endswith('.wav'):\n",
    "                            file.write('{} {}\\n'.format(utt.replace('.wav', ''),\n",
    "                                                        os.path.join(noise_audios_path, folder, subfolder, utt)))\n",
    "                            if folder in counter:\n",
    "                                counter[folder] += 1\n",
    "                            else:\n",
    "                                counter[folder] = 1\n",
    "\n",
    "file.close()\n",
    "print('Detected {} noise audios'.format(sum(counter.values())))\n",
    "print(counter)"
   ]
  },
  {
   "cell_type": "code",
   "execution_count": 64,
   "metadata": {
    "ExecuteTime": {
     "end_time": "2020-05-17T13:38:55.164387Z",
     "start_time": "2020-05-17T13:38:55.130252Z"
    }
   },
   "outputs": [
    {
     "name": "stdout",
     "output_type": "stream",
     "text": [
      "36 speakers\n"
     ]
    }
   ],
   "source": [
    "# utt2spk\n",
    "list_of_speakers = set()\n",
    "with open('../data/utt2spk.scp', 'w') as file:\n",
    "    for line in open('../data/clean_wav.scp'):\n",
    "        utt, path = line.split()\n",
    "        spk = utt.split('_')[2]\n",
    "        list_of_speakers.add(spk)\n",
    "        file.write('{} {}\\n'.format(utt, spk))\n",
    "        \n",
    "file.close()\n",
    "print('{} speakers'.format(len(list_of_speakers)))"
   ]
  }
 ],
 "metadata": {
  "kernelspec": {
   "display_name": "Python 3",
   "language": "python",
   "name": "python3"
  },
  "language_info": {
   "codemirror_mode": {
    "name": "ipython",
    "version": 3
   },
   "file_extension": ".py",
   "mimetype": "text/x-python",
   "name": "python",
   "nbconvert_exporter": "python",
   "pygments_lexer": "ipython3",
   "version": "3.8.2"
  }
 },
 "nbformat": 4,
 "nbformat_minor": 4
}
