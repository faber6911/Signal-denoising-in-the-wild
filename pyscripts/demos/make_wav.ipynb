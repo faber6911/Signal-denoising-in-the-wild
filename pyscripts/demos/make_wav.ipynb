{
 "cells": [
  {
   "cell_type": "code",
   "execution_count": 1,
   "metadata": {
    "ExecuteTime": {
     "end_time": "2020-05-19T07:46:58.218226Z",
     "start_time": "2020-05-19T07:46:55.879374Z"
    }
   },
   "outputs": [
    {
     "name": "stderr",
     "output_type": "stream",
     "text": [
      "/root/anaconda3/envs/kalditorch/lib/python3.8/site-packages/librosa/util/decorators.py:9: NumbaDeprecationWarning: An import was requested from a module that has moved location.\n",
      "Import requested from: 'numba.decorators', please update to use 'numba.core.decorators' or pin to Numba version 0.48.0. This alias will not be present in Numba version 0.50.0.\n",
      "  from numba.decorators import jit as optional_jit\n",
      "/root/anaconda3/envs/kalditorch/lib/python3.8/site-packages/librosa/util/decorators.py:9: NumbaDeprecationWarning: An import was requested from a module that has moved location.\n",
      "Import of 'jit' requested from: 'numba.decorators', please update to use 'numba.core.decorators' or pin to Numba version 0.48.0. This alias will not be present in Numba version 0.50.0.\n",
      "  from numba.decorators import jit as optional_jit\n"
     ]
    }
   ],
   "source": [
    "# packages\n",
    "import argparse\n",
    "import os\n",
    "import sys\n",
    "import pathlib\n",
    "import re\n",
    "import numpy as np\n",
    "import pandas as pd\n",
    "from sklearn.model_selection import train_test_split\n",
    "import librosa"
   ]
  },
  {
   "cell_type": "code",
   "execution_count": 2,
   "metadata": {
    "ExecuteTime": {
     "end_time": "2020-05-19T07:46:58.224048Z",
     "start_time": "2020-05-19T07:46:58.220015Z"
    }
   },
   "outputs": [],
   "source": [
    "# paths\n",
    "# SIWIS database https://www.unige.ch/lettres/linguistique/research/latl/siwis/database/\n",
    "# MUSAN dataset https://www.openslr.org/17/\n",
    "main_path = '/export/corpora/' # abs path to where siwis_database and musan database are located\n",
    "clean_audios = 'VoxCeleb2_test/aac/'\n",
    "noise_audios = 'musan'\n",
    "#info_clean_audios = 'siwis_database/info' "
   ]
  },
  {
   "cell_type": "code",
   "execution_count": 3,
   "metadata": {
    "ExecuteTime": {
     "end_time": "2020-05-19T07:48:27.926850Z",
     "start_time": "2020-05-19T07:48:27.922983Z"
    }
   },
   "outputs": [
    {
     "name": "stdout",
     "output_type": "stream",
     "text": [
      "Clean audios (siwis_database) directory: /export/corpora/VoxCeleb2_test/aac/\n",
      "Noise audios (musan dataset) directory: /export/corpora/musan\n"
     ]
    }
   ],
   "source": [
    "clean_audios_path = os.path.join(main_path, clean_audios)\n",
    "noise_audios_path = os.path.join(main_path, noise_audios)\n",
    "print('Clean audios (siwis_database) directory: {}'.format(clean_audios_path))\n",
    "print('Noise audios (musan dataset) directory: {}'.format(noise_audios_path))"
   ]
  },
  {
   "cell_type": "code",
   "execution_count": null,
   "metadata": {
    "ExecuteTime": {
     "end_time": "2020-05-19T07:48:31.350488Z",
     "start_time": "2020-05-19T07:48:31.256831Z"
    }
   },
   "outputs": [],
   "source": [
    "# utt2duration\n",
    "\n",
    "if not os.path.isdir('../data'):\n",
    "    os.makedirs('../data')\n",
    "    \n",
    "if not os.path.isfile('../data/utt2duration.scp'):\n",
    "\n",
    "    print('Making utt2duration.scp...')\n",
    "    utt2duration = {}\n",
    "\n",
    "    info_dir = os.listdir(os.path.join(main_path, info_clean_audios))\n",
    "    audio_length_files = [elem for elem in info_dir if re.search('_audio_length.txt', elem)]\n",
    "\n",
    "    with open('../data/utt2duration.scp', 'w') as outfile:\n",
    "        durations = []\n",
    "        for file in audio_length_files:\n",
    "            for line in open(os.path.join(main_path, info_clean_audios, file)):\n",
    "                utt, duration = line.rstrip().split()\n",
    "                utt = utt.replace('.wav', '')\n",
    "                durations.append(float(duration))\n",
    "                outfile.write('{} {}\\n'.format(utt, duration))\n",
    "                utt2duration[utt] = float(duration)\n",
    "\n",
    "    outfile.close()\n",
    "    print('Clean audios measures:')\n",
    "    print('Max: {}\\nMin: {}\\nMean: {}\\nMedian: {}'.format(max(durations), min(durations),\n",
    "                                                          np.mean(durations), np.median(durations)))\n",
    "else:\n",
    "    utt2duration = {}\n",
    "    for line in open('../data/utt2duration.scp'):\n",
    "        utt, duration = line.rstrip().split()\n",
    "        utt2duration[utt] = float(duration)\n",
    "\n",
    "    print('/data/utt2duration.scp file already exists.')"
   ]
  },
  {
   "cell_type": "code",
   "execution_count": null,
   "metadata": {
    "ExecuteTime": {
     "end_time": "2020-05-19T07:49:55.990453Z",
     "start_time": "2020-05-19T07:49:55.794253Z"
    }
   },
   "outputs": [],
   "source": [
    "# make train and test wav.scp\n",
    "\n",
    "if not os.path.isdir('../data/train'):\n",
    "    os.makedirs('../data/train')\n",
    "    \n",
    "if not os.path.isfile('../data/train/wav.scp'):\n",
    "\n",
    "    print('Making utt2duration.scp...')\n",
    "\n",
    "\n",
    "min_length = 4.0\n",
    "utts = []\n",
    "paths = []\n",
    "spks = []\n",
    "for language in ['EN']#os.listdir(clean_audios_path):\n",
    "    #if language == ['EN']:\n",
    "    for folder in os.listdir(os.path.join(clean_audios_path, language)):\n",
    "        for utt in os.listdir(os.path.join(clean_audios_path, language, folder)):\n",
    "            tmp = os.path.join(clean_audios_path, language, folder, utt)\n",
    "            if pathlib.Path(tmp).suffix == '.wav':\n",
    "                if utt2duration[utt.replace('.wav', '')] > min_length:\n",
    "                    utts.append(utt.replace('.wav', ''))\n",
    "                    spks.append(utt.split('_')[2])\n",
    "                    paths.append(tmp)\n",
    "\n",
    "X_train, X_test, y_train, y_test = train_test_split(np.array(paths), np.array(utts), test_size = .1, stratify = spks)\n",
    "\n",
    "if not os.path.isdir('../data/train'):\n",
    "    os.makedirs('../data/train')\n",
    "\n",
    "if not os.path.isfile('../data/train/wav.scp'):\n",
    "\n",
    "    print('Making train...')\n",
    "    with open('../data/train/wav.scp', 'w') as outfile:\n",
    "        for train_counter, line in enumerate(np.column_stack((y_train, X_train))):\n",
    "            outfile.write('{} {}\\n'.format(line[0], line[1]))\n",
    "\n",
    "    outfile.close()\n",
    "\n",
    "else:\n",
    "    print('../data/test/wav.scp already exists.')\n",
    "    \n",
    "if not os.path.isdir('../data/test'):\n",
    "    os.makedirs('../data/test')\n",
    "\n",
    "if not os.path.isfile('../data/test/wav.scp'):\n",
    "\n",
    "    print('Making test...')\n",
    "    with open('../data/test/wav.scp', 'w') as outfile:\n",
    "        for test_counter, line in enumerate(np.column_stack((y_test, X_test))):\n",
    "            outfile.write('{} {}\\n'.format(line[0], line[1]))\n",
    "\n",
    "    outfile.close()\n",
    "\n",
    "    print('Detected {} audio files'.format(train_counter+test_counter))\n",
    "    print('{} in train'.format(train_counter))\n",
    "    print('{} in test'.format(test_counter))\n",
    "    \n",
    "else:\n",
    "    print('../data/test/wav.scp already exists.')"
   ]
  },
  {
   "cell_type": "code",
   "execution_count": null,
   "metadata": {
    "ExecuteTime": {
     "end_time": "2020-05-18T12:55:39.237723Z",
     "start_time": "2020-05-18T12:55:39.234684Z"
    }
   },
   "outputs": [],
   "source": [
    "# clean wav.scp\n",
    "# print('Make clean_wav.scp')\n",
    "# min_length = 4.0\n",
    "# counter = {}\n",
    "\n",
    "# with open('../data/clean_wav.scp', 'w') as file:\n",
    "#     for language in os.listdir(clean_audios_path):\n",
    "#         for folder in os.listdir(os.path.join(clean_audios_path, language)):\n",
    "#             for utt in os.listdir(os.path.join(clean_audios_path, language, folder)):\n",
    "#                 tmp = os.path.join(clean_audios_path, language, folder, utt)\n",
    "#                 if pathlib.Path(tmp).suffix == '.wav':\n",
    "#                     if utt2duration[utt.replace('.wav', '')] > min_length:\n",
    "#                         file.write('{} {}\\n'.format(utt.replace('.wav', ''), tmp))\n",
    "#                         if language in counter:\n",
    "#                             counter[language] += 1\n",
    "#                         else:\n",
    "#                             counter[language] = 1\n",
    "\n",
    "# file.close()\n",
    "# print('Detected {} clean audios'.format(sum(counter.values())))\n",
    "# print(counter)"
   ]
  },
  {
   "cell_type": "code",
   "execution_count": null,
   "metadata": {
    "ExecuteTime": {
     "end_time": "2020-05-18T12:55:39.793427Z",
     "start_time": "2020-05-18T12:55:39.762754Z"
    }
   },
   "outputs": [],
   "source": [
    "# noise wav.scp\n",
    "print('\\n\\nChecking for noise wav.scp presence...')\n",
    "\n",
    "if not os.path.isfile('../data/musan_noise.scp'):\n",
    "\n",
    "\n",
    "    print('Make musan.scp')\n",
    "    counter = {}\n",
    "\n",
    "    for folder in os.listdir(noise_audios_path):\n",
    "        if os.path.isdir(os.path.join(noise_audios_path, folder)):\n",
    "            print('Making musan_{}.scp'.format(folder))\n",
    "            with open('../data/musan_{}.scp'.format(folder), 'w') as file:\n",
    "                for subfolder in os.listdir(os.path.join(noise_audios_path, folder)):\n",
    "                    if os.path.isdir(os.path.join(noise_audios_path, folder, subfolder)):\n",
    "                        for utt in os.listdir(os.path.join(noise_audios_path, folder, subfolder)):\n",
    "                            if utt.endswith('.wav'):\n",
    "                                file.write('{} {}\\n'.format(utt.replace('.wav', ''),\n",
    "                                                            os.path.join(noise_audios_path, folder, subfolder, utt)))\n",
    "                                if folder in counter:\n",
    "                                    counter[folder] += 1\n",
    "                                else:\n",
    "                                    counter[folder] = 1\n",
    "\n",
    "            file.close()\n",
    "\n",
    "    print('Detected {} noise audios'.format(sum(counter.values())))\n",
    "    print(counter)\n",
    "    \n",
    "else:\n",
    "    print('musan noise wav files already exists.')"
   ]
  },
  {
   "cell_type": "code",
   "execution_count": null,
   "metadata": {
    "ExecuteTime": {
     "end_time": "2020-05-18T12:55:42.895991Z",
     "start_time": "2020-05-18T12:55:42.857608Z"
    }
   },
   "outputs": [],
   "source": [
    "# utt2spk\n",
    "print('\\n\\nChecking for utt2spk.scp presence...')\n",
    "\n",
    "if not os.path.isfile('../data/utt2spk.scp'):\n",
    "\n",
    "    list_of_speakers = set()\n",
    "    with open('../data/utt2spk.scp', 'w') as file:\n",
    "        for line in open('../data/train/wav.scp'):\n",
    "            utt, path = line.split()\n",
    "            spk = utt.split('_')[2]\n",
    "            list_of_speakers.add(spk)\n",
    "            file.write('{} {}\\n'.format(utt, spk))\n",
    "            \n",
    "        for line in open('../data/test/wav.scp'):\n",
    "            utt, path = line.split()\n",
    "            spk = utt.split('_')[2]\n",
    "            list_of_speakers.add(spk)\n",
    "            file.write('{} {}\\n'.format(utt, spk))\n",
    "    \n",
    "    file.close()\n",
    "\n",
    "    print('{} speakers'.format(len(list_of_speakers)))\n",
    "\n",
    "else:\n",
    "    print('/data/utt2spk.scp already exists.')"
   ]
  },
  {
   "cell_type": "markdown",
   "metadata": {},
   "source": [
    "<hr>"
   ]
  },
  {
   "cell_type": "code",
   "execution_count": null,
   "metadata": {},
   "outputs": [],
   "source": [
    "## VoxCeleb pipeline\n",
    "\n",
    "# with open('/opt/kaldi/egs/Signal-denoising-in-the-wild/data/utt2durationVoxCeleb.scp', 'w') as outfile:\n",
    "#     for speaker in os.listdir(clean_audios_path):\n",
    "#         for video in os.listdir(os.path.join(clean_audios_path, speaker)):\n",
    "#             for audio in os.listdir(os.path.join(clean_audios_path, speaker, video)):\n",
    "#                 duration = librosa.load(os.path.join(clean_audios_path, speaker, video, audio), sr = 16000)[0].shape[0]\n",
    "#                 utt = os.path.join(speaker, video, audio)\n",
    "#                 outfile.write('{} {}\\n'.format(utt, duration))\n",
    "# outfile.close()\n",
    "\n",
    "# utt2duration = {}\n",
    "# for line in open('/opt/kaldi/egs/Signal-denoising-in-the-wild/data/utt2durationVoxCeleb.scp'):\n",
    "#     utt, duration = line.rstrip().split()\n",
    "#     utt2duration[utt] = float(duration)\n",
    "\n",
    "# min_length = 4.0 * 16000\n",
    "# utts = []\n",
    "# paths = []\n",
    "# spks = []\n",
    "# for speaker in os.listdir(clean_audios_path):\n",
    "#     for video in os.listdir(os.path.join(clean_audios_path, speaker)):\n",
    "#         for audio in os.listdir(os.path.join(clean_audios_path, speaker, video)):\n",
    "#             tmp = os.path.join(clean_audios_path, speaker, video, audio)\n",
    "            \n",
    "#             if pathlib.Path(tmp).suffix == '.m4a':\n",
    "#                 if utt2duration[os.path.join(speaker, video, audio)] > min_length:\n",
    "#                     utts.append(os.path.join(speaker, video, audio).replace('.m4a', ''))\n",
    "#                     spks.append(speaker)\n",
    "#                     paths.append(tmp)\n",
    "\n",
    "# X_train, X_test, y_train, y_test = train_test_split(np.array(paths), np.array(utts), test_size = .7, stratify = spks)\n",
    "# X_train, X_test, y_train, y_test = train_test_split(X_train, y_train, test_size = .2)\n",
    "\n",
    "# with open('/opt/kaldi/egs/Signal-denoising-in-the-wild/data/test/wavVoxCeleb.scp', 'w') as outfile:\n",
    "#     for train_counter, line in enumerate(np.column_stack((y_test, X_test))):\n",
    "#         outfile.write('{} {}\\n'.format(line[0], line[1]))\n",
    "\n",
    "# outfile.close()\n",
    "\n",
    "# list_of_speakers = set()\n",
    "# with open('/opt/kaldi/egs/Signal-denoising-in-the-wild/data/utt2spkVoxCeleb.scp', 'w') as file:\n",
    "#     for line in open('/opt/kaldi/egs/Signal-denoising-in-the-wild/data/train/wavVoxCeleb.scp'):\n",
    "#         utt, path = line.split()\n",
    "#         spk = utt.split('/')[0]\n",
    "#         list_of_speakers.add(spk)\n",
    "#         file.write('{} {}\\n'.format(utt, spk))\n",
    "\n",
    "#     for line in open('/opt/kaldi/egs/Signal-denoising-in-the-wild/data/test/wavVoxCeleb.scp'):\n",
    "#         utt, path = line.split()\n",
    "#         spk = utt.split('/')[0]\n",
    "#         list_of_speakers.add(spk)\n",
    "#         file.write('{} {}\\n'.format(utt, spk))\n",
    "\n",
    "# file.close()\n",
    "\n",
    "# print('{} speakers'.format(len(list_of_speakers)))\n"
   ]
  }
 ],
 "metadata": {
  "kernelspec": {
   "display_name": "Python 3",
   "language": "python",
   "name": "python3"
  },
  "language_info": {
   "codemirror_mode": {
    "name": "ipython",
    "version": 3
   },
   "file_extension": ".py",
   "mimetype": "text/x-python",
   "name": "python",
   "nbconvert_exporter": "python",
   "pygments_lexer": "ipython3",
   "version": "3.8.2"
  }
 },
 "nbformat": 4,
 "nbformat_minor": 4
}
