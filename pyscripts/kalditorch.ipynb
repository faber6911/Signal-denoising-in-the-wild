{
 "cells": [
  {
   "cell_type": "markdown",
   "metadata": {},
   "source": [
    "# KaldiTorch notebook"
   ]
  },
  {
   "cell_type": "markdown",
   "metadata": {},
   "source": [
    "#### Packages"
   ]
  },
  {
   "cell_type": "code",
   "execution_count": 1,
   "metadata": {
    "ExecuteTime": {
     "end_time": "2020-06-11T20:38:45.166105Z",
     "start_time": "2020-06-11T20:38:45.162337Z"
    }
   },
   "outputs": [],
   "source": [
    "import torch\n",
    "from torchvision import transforms\n",
    "from torch.utils.data import DataLoader\n",
    "from torch import nn\n",
    "from torch.nn import functional as F\n",
    "from torchsummary import summary\n",
    "\n",
    "from models import DWaveNet\n",
    "from datasets import SequenceDataset\n",
    "from utils import ScheduledOptim\n",
    "\n",
    "import os\n",
    "import math\n",
    "import time\n",
    "\n",
    "import numpy as np\n",
    "import kaldi_io\n",
    "import kaldiio\n",
    "import librosa\n",
    "from tqdm.notebook import tqdm\n"
   ]
  },
  {
   "cell_type": "code",
   "execution_count": 2,
   "metadata": {
    "ExecuteTime": {
     "end_time": "2020-06-11T21:03:37.194755Z",
     "start_time": "2020-06-11T21:03:37.153094Z"
    }
   },
   "outputs": [
    {
     "name": "stdout",
     "output_type": "stream",
     "text": [
      "Totally 7344 samples with at most 247 samples for one class\n",
      "Totally 816 samples with at most 247 samples for one class\n"
     ]
    }
   ],
   "source": [
    "train_dataset = SequenceDataset('../data/train/trainLAB.scp', '../data/utt2spk.scp', min_length = 16000)\n",
    "test_dataset = SequenceDataset('../data/test/testLAB.scp', '../data/utt2spk.scp', min_length = 16000)"
   ]
  },
  {
   "cell_type": "code",
   "execution_count": 3,
   "metadata": {
    "ExecuteTime": {
     "end_time": "2020-06-11T21:03:38.697431Z",
     "start_time": "2020-06-11T21:03:38.694241Z"
    }
   },
   "outputs": [],
   "source": [
    "train_data = DataLoader(train_dataset, batch_size = 16, shuffle=True)\n",
    "test_data = DataLoader(test_dataset, batch_size = 16, shuffle=True)"
   ]
  },
  {
   "cell_type": "code",
   "execution_count": 4,
   "metadata": {
    "ExecuteTime": {
     "end_time": "2020-06-11T21:03:40.133270Z",
     "start_time": "2020-06-11T21:03:40.103888Z"
    }
   },
   "outputs": [],
   "source": [
    "model = DWaveNet(in_channels=1, num_layers=10, num_stacks=1, residual_channels=128, gate_channels=128, skip_out_channels=128,\n",
    "                last_channels=(2048, 256))"
   ]
  },
  {
   "cell_type": "code",
   "execution_count": 5,
   "metadata": {
    "ExecuteTime": {
     "end_time": "2020-06-11T21:03:58.301441Z",
     "start_time": "2020-06-11T21:03:55.092362Z"
    }
   },
   "outputs": [
    {
     "name": "stdout",
     "output_type": "stream",
     "text": [
      "----------------------------------------------------------------\n",
      "        Layer (type)               Output Shape         Param #\n",
      "================================================================\n",
      "            Conv1d-1           [-1, 128, 16000]             384\n",
      "            Conv1d-2           [-1, 128, 16000]          49,152\n",
      "            Conv1d-3           [-1, 128, 16000]           8,192\n",
      "            Conv1d-4           [-1, 128, 16000]           8,192\n",
      " ResidualConv1dGLU-5        [-1, 2, 128, 16000]               0\n",
      "            Conv1d-6           [-1, 128, 16000]          49,152\n",
      "            Conv1d-7           [-1, 128, 16000]           8,192\n",
      "            Conv1d-8           [-1, 128, 16000]           8,192\n",
      " ResidualConv1dGLU-9        [-1, 2, 128, 16000]               0\n",
      "           Conv1d-10           [-1, 128, 16000]          49,152\n",
      "           Conv1d-11           [-1, 128, 16000]           8,192\n",
      "           Conv1d-12           [-1, 128, 16000]           8,192\n",
      "ResidualConv1dGLU-13        [-1, 2, 128, 16000]               0\n",
      "           Conv1d-14           [-1, 128, 16000]          49,152\n",
      "           Conv1d-15           [-1, 128, 16000]           8,192\n",
      "           Conv1d-16           [-1, 128, 16000]           8,192\n",
      "ResidualConv1dGLU-17        [-1, 2, 128, 16000]               0\n",
      "           Conv1d-18           [-1, 128, 16000]          49,152\n",
      "           Conv1d-19           [-1, 128, 16000]           8,192\n",
      "           Conv1d-20           [-1, 128, 16000]           8,192\n",
      "ResidualConv1dGLU-21        [-1, 2, 128, 16000]               0\n",
      "           Conv1d-22           [-1, 128, 16000]          49,152\n",
      "           Conv1d-23           [-1, 128, 16000]           8,192\n",
      "           Conv1d-24           [-1, 128, 16000]           8,192\n",
      "ResidualConv1dGLU-25        [-1, 2, 128, 16000]               0\n",
      "           Conv1d-26           [-1, 128, 16000]          49,152\n",
      "           Conv1d-27           [-1, 128, 16000]           8,192\n",
      "           Conv1d-28           [-1, 128, 16000]           8,192\n",
      "ResidualConv1dGLU-29        [-1, 2, 128, 16000]               0\n",
      "           Conv1d-30           [-1, 128, 16000]          49,152\n",
      "           Conv1d-31           [-1, 128, 16000]           8,192\n",
      "           Conv1d-32           [-1, 128, 16000]           8,192\n",
      "ResidualConv1dGLU-33        [-1, 2, 128, 16000]               0\n",
      "           Conv1d-34           [-1, 128, 16000]          49,152\n",
      "           Conv1d-35           [-1, 128, 16000]           8,192\n",
      "           Conv1d-36           [-1, 128, 16000]           8,192\n",
      "ResidualConv1dGLU-37        [-1, 2, 128, 16000]               0\n",
      "           Conv1d-38           [-1, 128, 16000]          49,152\n",
      "           Conv1d-39           [-1, 128, 16000]           8,192\n",
      "           Conv1d-40           [-1, 128, 16000]           8,192\n",
      "ResidualConv1dGLU-41        [-1, 2, 128, 16000]               0\n",
      "             ReLU-42           [-1, 128, 16000]               0\n",
      "           Conv1d-43          [-1, 2048, 16000]         786,432\n",
      "             ReLU-44          [-1, 2048, 16000]               0\n",
      "           Conv1d-45           [-1, 256, 16000]       1,572,864\n",
      "           Conv1d-46             [-1, 1, 16000]             257\n",
      "================================================================\n",
      "Total params: 3,015,297\n",
      "Trainable params: 3,015,297\n",
      "Non-trainable params: 0\n",
      "----------------------------------------------------------------\n",
      "Input size (MB): 0.06\n",
      "Forward/backward pass size (MB): 1343.87\n",
      "Params size (MB): 11.50\n",
      "Estimated Total Size (MB): 1355.44\n",
      "----------------------------------------------------------------\n"
     ]
    }
   ],
   "source": [
    "summary(model, train_dataset[0][0].shape, device = 'cpu')"
   ]
  },
  {
   "cell_type": "code",
   "execution_count": 6,
   "metadata": {},
   "outputs": [
    {
     "data": {
      "text/plain": [
       "device(type='cuda')"
      ]
     },
     "execution_count": 6,
     "metadata": {},
     "output_type": "execute_result"
    }
   ],
   "source": [
    "os.environ[\"CUDA_VISIBLE_DEVICES\"] = '0, 1, 2, 3'\n",
    "\n",
    "device = torch.device('cuda' if torch.cuda.is_available() else 'cpu')\n",
    "device"
   ]
  },
  {
   "cell_type": "code",
   "execution_count": 7,
   "metadata": {
    "ExecuteTime": {
     "end_time": "2020-06-11T21:42:29.311668Z",
     "start_time": "2020-06-11T21:42:29.290031Z"
    }
   },
   "outputs": [],
   "source": [
    "# device = torch.device('cuda:0' if torch.cuda.is_available() else 'cpu')\n",
    "# device"
   ]
  },
  {
   "cell_type": "code",
   "execution_count": 8,
   "metadata": {
    "ExecuteTime": {
     "end_time": "2020-06-11T21:42:30.385997Z",
     "start_time": "2020-06-11T21:42:30.383564Z"
    }
   },
   "outputs": [],
   "source": [
    "model = nn.DataParallel(model)"
   ]
  },
  {
   "cell_type": "code",
   "execution_count": 9,
   "metadata": {
    "ExecuteTime": {
     "end_time": "2020-06-11T21:42:30.986842Z",
     "start_time": "2020-06-11T21:42:30.971811Z"
    }
   },
   "outputs": [],
   "source": [
    "model = model.to(device)"
   ]
  },
  {
   "cell_type": "code",
   "execution_count": 10,
   "metadata": {
    "ExecuteTime": {
     "end_time": "2020-05-23T09:42:09.929954Z",
     "start_time": "2020-05-23T09:42:09.926640Z"
    }
   },
   "outputs": [],
   "source": [
    "optimizer = ScheduledOptim( # Transformer optimizer\n",
    "        torch.optim.Adam(\n",
    "            filter(lambda p: p.requires_grad,\n",
    "                   model.parameters()),\n",
    "            betas = (0.9, 0.98),\n",
    "             eps = 1e-09,\n",
    "              weight_decay = 1e-4,\n",
    "               amsgrad = True),\n",
    "                n_warmup_steps = 8000)"
   ]
  },
  {
   "cell_type": "code",
   "execution_count": 11,
   "metadata": {},
   "outputs": [],
   "source": [
    "#log_dir = \"log/\"\n",
    "def train(n_epochs, loaders, model, optimizer, use_cuda, batch_verbose):#, save_path):\n",
    "    for epoch in range(1, n_epochs+1):\n",
    "\n",
    "        print('Epoch %d' % epoch)\n",
    "        start = time.time()\n",
    "        model.train()\n",
    "        train_loss = 0.0\n",
    "        for batch_idx, (data, target, _) in enumerate(loaders['train']):\n",
    "            if use_cuda:\n",
    "                data, target = data.to(device), target.to(device)\n",
    "            #print(data.shape, target.shape)\n",
    "            optimizer.zero_grad()\n",
    "            output = model(data)\n",
    "            #output = output.view((-1,))\n",
    "            #print(output.shape)\n",
    "            a = torch.nn.L1Loss()(output, target)\n",
    "            b = torch.nn.MSELoss()(output, target)\n",
    "            loss = a + b\n",
    "            loss.backward()\n",
    "            optimizer.step()\n",
    "            lr = optimizer.update_learning_rate()\n",
    "            if batch_idx % batch_verbose == 0:\n",
    "                print('Train Epoch: {} [{}/{} ({:.0f}%)]\\tlr:{:.5f}\\tLoss: {:.6f}'.format(\n",
    "                epoch, batch_idx * len(data), len(loaders['train'].dataset),\n",
    "                100. * batch_idx / len(loaders['train']), lr, loss.item()))\n",
    "            #train.update(np.random.randint(300, 800+1)) # 3-8s chunk\n",
    "            train_loss += loss\n",
    "            del data, target, output, loss, a, b\n",
    "        train_loss /= len(loaders['train'].dataset)\n",
    "        print('Train epoch {} completed in {:.3f} minutes with total train loss: {:.3f}'.format(epoch, (time.time()-start)/60, train_loss))\n",
    "      \n",
    "        model.eval()\n",
    "        test_loss = 0.0\n",
    "        with torch.no_grad():\n",
    "            for data, target, _ in loaders['valid']:\n",
    "                if use_cuda:\n",
    "                    data, target = data.to(device), target.to(device)\n",
    "                output = model(data)\n",
    "                a = torch.nn.L1Loss()(output, target).item() # sum up batch loss\n",
    "                b = torch.nn.MSELoss()(output, target).item()\n",
    "                test_loss += (a+b)\n",
    "                # if asoftmax == 'True': # angular-softmax\n",
    "                #     output = output[0] # 0=cos_theta 1=phi_theta\n",
    "                # pred = output.max(1, keepdim=True)[1] # get the index of the max log-probability\n",
    "                # correct += pred.eq(target.view_as(pred)).sum().item()\n",
    "              \n",
    "        test_loss /= len(loaders['valid'].dataset)\n",
    "        print('\\nTest set: Average loss: {:.4f}\\n'.format(test_loss))\n",
    "\n",
    "        del data, target, output, test_loss, a, b\n",
    "\n",
    "      # if 100. * correct / len(val_loader.dataset) > best:\n",
    "      #     best = 100. * correct / len(val_loader.dataset)\n",
    "      #     torch.save({\n",
    "      #         'epoch': epoch,\n",
    "      #         'state_dict': model.state_dict(),\n",
    "      #         'best_acc': best,\n",
    "      #         'optimizer' : optimizer.state_dict(),\n",
    "      #     }, log_dir + str(epoch) + \"_\" + str(int(100. * correct / len(val_loader.dataset))) + \".h5\")\n",
    "      #     print(\"===> save to checkpoint at {}\\n\".format(log_dir + 'model_best.pth.tar'))\n",
    "      #     shutil.copyfile(log_dir + str(epoch) + \"_\" + str(int(100. * correct / len(val_loader.dataset))) +\n",
    "      #             \".h5\", log_dir + 'model_best.pth.tar')\n",
    "      #     best_epoch = epoch\n",
    "      # elif epoch - best_epoch > 2:\n",
    "      #     optimizer.increase_delta()\n",
    "      #     best_epoch = epoch\n",
    "    return model"
   ]
  },
  {
   "cell_type": "code",
   "execution_count": 12,
   "metadata": {
    "ExecuteTime": {
     "end_time": "2020-05-23T09:42:52.570112Z",
     "start_time": "2020-05-23T09:42:52.568167Z"
    }
   },
   "outputs": [],
   "source": [
    "loaders = {'train':train_data, 'valid':test_data}"
   ]
  },
  {
   "cell_type": "code",
   "execution_count": 13,
   "metadata": {
    "ExecuteTime": {
     "end_time": "2020-05-23T10:32:46.418383Z",
     "start_time": "2020-05-23T09:42:53.344760Z"
    },
    "scrolled": true
   },
   "outputs": [
    {
     "name": "stdout",
     "output_type": "stream",
     "text": [
      "Epoch 1\n",
      "Train Epoch: 1 [0/7344 (0%)]\tlr:0.00000\tLoss: 0.065036\n",
      "Train Epoch: 1 [160/7344 (2%)]\tlr:0.00000\tLoss: 0.045168\n",
      "Train Epoch: 1 [320/7344 (4%)]\tlr:0.00000\tLoss: 0.045057\n",
      "Train Epoch: 1 [480/7344 (7%)]\tlr:0.00001\tLoss: 0.035545\n",
      "Train Epoch: 1 [640/7344 (9%)]\tlr:0.00001\tLoss: 0.035614\n",
      "Train Epoch: 1 [800/7344 (11%)]\tlr:0.00001\tLoss: 0.034989\n",
      "Train Epoch: 1 [960/7344 (13%)]\tlr:0.00001\tLoss: 0.040730\n",
      "Train Epoch: 1 [1120/7344 (15%)]\tlr:0.00001\tLoss: 0.037521\n",
      "Train Epoch: 1 [1280/7344 (17%)]\tlr:0.00001\tLoss: 0.034359\n",
      "Train Epoch: 1 [1440/7344 (20%)]\tlr:0.00002\tLoss: 0.033712\n",
      "Train Epoch: 1 [1600/7344 (22%)]\tlr:0.00002\tLoss: 0.034259\n",
      "Train Epoch: 1 [1760/7344 (24%)]\tlr:0.00002\tLoss: 0.034334\n",
      "Train Epoch: 1 [1920/7344 (26%)]\tlr:0.00002\tLoss: 0.035960\n",
      "Train Epoch: 1 [2080/7344 (28%)]\tlr:0.00002\tLoss: 0.033884\n",
      "Train Epoch: 1 [2240/7344 (31%)]\tlr:0.00002\tLoss: 0.034078\n",
      "Train Epoch: 1 [2400/7344 (33%)]\tlr:0.00003\tLoss: 0.031804\n",
      "Train Epoch: 1 [2560/7344 (35%)]\tlr:0.00003\tLoss: 0.036082\n",
      "Train Epoch: 1 [2720/7344 (37%)]\tlr:0.00003\tLoss: 0.033910\n",
      "Train Epoch: 1 [2880/7344 (39%)]\tlr:0.00003\tLoss: 0.030399\n",
      "Train Epoch: 1 [3040/7344 (41%)]\tlr:0.00003\tLoss: 0.032788\n",
      "Train Epoch: 1 [3200/7344 (44%)]\tlr:0.00004\tLoss: 0.028608\n",
      "Train Epoch: 1 [3360/7344 (46%)]\tlr:0.00004\tLoss: 0.029076\n",
      "Train Epoch: 1 [3520/7344 (48%)]\tlr:0.00004\tLoss: 0.028233\n",
      "Train Epoch: 1 [3680/7344 (50%)]\tlr:0.00004\tLoss: 0.030717\n",
      "Train Epoch: 1 [3840/7344 (52%)]\tlr:0.00004\tLoss: 0.030072\n",
      "Train Epoch: 1 [4000/7344 (54%)]\tlr:0.00004\tLoss: 0.028520\n",
      "Train Epoch: 1 [4160/7344 (57%)]\tlr:0.00005\tLoss: 0.030808\n",
      "Train Epoch: 1 [4320/7344 (59%)]\tlr:0.00005\tLoss: 0.028538\n",
      "Train Epoch: 1 [4480/7344 (61%)]\tlr:0.00005\tLoss: 0.029565\n",
      "Train Epoch: 1 [4640/7344 (63%)]\tlr:0.00005\tLoss: 0.026473\n",
      "Train Epoch: 1 [4800/7344 (65%)]\tlr:0.00005\tLoss: 0.026431\n",
      "Train Epoch: 1 [4960/7344 (68%)]\tlr:0.00005\tLoss: 0.032142\n",
      "Train Epoch: 1 [5120/7344 (70%)]\tlr:0.00006\tLoss: 0.028173\n",
      "Train Epoch: 1 [5280/7344 (72%)]\tlr:0.00006\tLoss: 0.024163\n",
      "Train Epoch: 1 [5440/7344 (74%)]\tlr:0.00006\tLoss: 0.025884\n",
      "Train Epoch: 1 [5600/7344 (76%)]\tlr:0.00006\tLoss: 0.025856\n",
      "Train Epoch: 1 [5760/7344 (78%)]\tlr:0.00006\tLoss: 0.023103\n",
      "Train Epoch: 1 [5920/7344 (81%)]\tlr:0.00006\tLoss: 0.026117\n",
      "Train Epoch: 1 [6080/7344 (83%)]\tlr:0.00007\tLoss: 0.028934\n",
      "Train Epoch: 1 [6240/7344 (85%)]\tlr:0.00007\tLoss: 0.027615\n",
      "Train Epoch: 1 [6400/7344 (87%)]\tlr:0.00007\tLoss: 0.024097\n",
      "Train Epoch: 1 [6560/7344 (89%)]\tlr:0.00007\tLoss: 0.024819\n",
      "Train Epoch: 1 [6720/7344 (92%)]\tlr:0.00007\tLoss: 0.025125\n",
      "Train Epoch: 1 [6880/7344 (94%)]\tlr:0.00008\tLoss: 0.023254\n",
      "Train Epoch: 1 [7040/7344 (96%)]\tlr:0.00008\tLoss: 0.024006\n",
      "Train Epoch: 1 [7200/7344 (98%)]\tlr:0.00008\tLoss: 0.021569\n",
      "Train epoch 1 completed in 14.736 minutes with total train loss: 0.002\n"
     ]
    },
    {
     "ename": "ValueError",
     "evalue": "too many values to unpack (expected 2)",
     "output_type": "error",
     "traceback": [
      "\u001b[0;31m---------------------------------------------------------------------------\u001b[0m",
      "\u001b[0;31mValueError\u001b[0m                                Traceback (most recent call last)",
      "\u001b[0;32m<ipython-input-13-28cf14b8aa42>\u001b[0m in \u001b[0;36m<module>\u001b[0;34m\u001b[0m\n\u001b[0;32m----> 1\u001b[0;31m \u001b[0mtrain\u001b[0m\u001b[0;34m(\u001b[0m\u001b[0mn_epochs\u001b[0m\u001b[0;34m=\u001b[0m\u001b[0;36m3\u001b[0m\u001b[0;34m,\u001b[0m \u001b[0mloaders\u001b[0m\u001b[0;34m=\u001b[0m\u001b[0mloaders\u001b[0m\u001b[0;34m,\u001b[0m \u001b[0mmodel\u001b[0m\u001b[0;34m=\u001b[0m\u001b[0mmodel\u001b[0m\u001b[0;34m,\u001b[0m \u001b[0moptimizer\u001b[0m\u001b[0;34m=\u001b[0m\u001b[0moptimizer\u001b[0m\u001b[0;34m,\u001b[0m \u001b[0muse_cuda\u001b[0m \u001b[0;34m=\u001b[0m \u001b[0;32mTrue\u001b[0m\u001b[0;34m,\u001b[0m \u001b[0mbatch_verbose\u001b[0m \u001b[0;34m=\u001b[0m \u001b[0;36m10\u001b[0m\u001b[0;34m)\u001b[0m\u001b[0;34m\u001b[0m\u001b[0;34m\u001b[0m\u001b[0m\n\u001b[0m",
      "\u001b[0;32m<ipython-input-11-c9d37c4ae166>\u001b[0m in \u001b[0;36mtrain\u001b[0;34m(n_epochs, loaders, model, optimizer, use_cuda, batch_verbose)\u001b[0m\n\u001b[1;32m     34\u001b[0m         \u001b[0mtest_loss\u001b[0m \u001b[0;34m=\u001b[0m \u001b[0;36m0.0\u001b[0m\u001b[0;34m\u001b[0m\u001b[0;34m\u001b[0m\u001b[0m\n\u001b[1;32m     35\u001b[0m         \u001b[0;32mwith\u001b[0m \u001b[0mtorch\u001b[0m\u001b[0;34m.\u001b[0m\u001b[0mno_grad\u001b[0m\u001b[0;34m(\u001b[0m\u001b[0;34m)\u001b[0m\u001b[0;34m:\u001b[0m\u001b[0;34m\u001b[0m\u001b[0;34m\u001b[0m\u001b[0m\n\u001b[0;32m---> 36\u001b[0;31m             \u001b[0;32mfor\u001b[0m \u001b[0mdata\u001b[0m\u001b[0;34m,\u001b[0m \u001b[0mtarget\u001b[0m \u001b[0;32min\u001b[0m \u001b[0mloaders\u001b[0m\u001b[0;34m[\u001b[0m\u001b[0;34m'valid'\u001b[0m\u001b[0;34m]\u001b[0m\u001b[0;34m:\u001b[0m\u001b[0;34m\u001b[0m\u001b[0;34m\u001b[0m\u001b[0m\n\u001b[0m\u001b[1;32m     37\u001b[0m                 \u001b[0;32mif\u001b[0m \u001b[0muse_cuda\u001b[0m\u001b[0;34m:\u001b[0m\u001b[0;34m\u001b[0m\u001b[0;34m\u001b[0m\u001b[0m\n\u001b[1;32m     38\u001b[0m                     \u001b[0mdata\u001b[0m\u001b[0;34m,\u001b[0m \u001b[0mtarget\u001b[0m\u001b[0;34m,\u001b[0m \u001b[0m_\u001b[0m \u001b[0;34m=\u001b[0m \u001b[0mdata\u001b[0m\u001b[0;34m.\u001b[0m\u001b[0mto\u001b[0m\u001b[0;34m(\u001b[0m\u001b[0mdevice\u001b[0m\u001b[0;34m)\u001b[0m\u001b[0;34m,\u001b[0m \u001b[0mtarget\u001b[0m\u001b[0;34m.\u001b[0m\u001b[0mto\u001b[0m\u001b[0;34m(\u001b[0m\u001b[0mdevice\u001b[0m\u001b[0;34m)\u001b[0m\u001b[0;34m\u001b[0m\u001b[0;34m\u001b[0m\u001b[0m\n",
      "\u001b[0;31mValueError\u001b[0m: too many values to unpack (expected 2)"
     ]
    }
   ],
   "source": [
    "train(n_epochs=3, loaders=loaders, model=model, optimizer=optimizer, use_cuda = True, batch_verbose = 10)"
   ]
  },
  {
   "cell_type": "code",
   "execution_count": 23,
   "metadata": {},
   "outputs": [
    {
     "name": "stdout",
     "output_type": "stream",
     "text": [
      "Fri Jun 12 17:13:55 2020       \n",
      "+-----------------------------------------------------------------------------+\n",
      "| NVIDIA-SMI 440.64.00    Driver Version: 440.64.00    CUDA Version: 10.2     |\n",
      "|-------------------------------+----------------------+----------------------+\n",
      "| GPU  Name        Persistence-M| Bus-Id        Disp.A | Volatile Uncorr. ECC |\n",
      "| Fan  Temp  Perf  Pwr:Usage/Cap|         Memory-Usage | GPU-Util  Compute M. |\n",
      "|===============================+======================+======================|\n",
      "|   0  Tesla K80           On   | 00000000:83:00.0 Off |                    0 |\n",
      "| N/A   72C    P0    59W / 149W |   8400MiB / 11441MiB |      0%      Default |\n",
      "+-------------------------------+----------------------+----------------------+\n",
      "|   1  Tesla K80           On   | 00000000:84:00.0 Off |                    0 |\n",
      "| N/A   23C    P8    30W / 149W |     11MiB / 11441MiB |      0%      Default |\n",
      "+-------------------------------+----------------------+----------------------+\n",
      "|   2  Tesla K80           On   | 00000000:89:00.0 Off |                    0 |\n",
      "| N/A   21C    P8    26W / 149W |     11MiB / 11441MiB |      0%      Default |\n",
      "+-------------------------------+----------------------+----------------------+\n",
      "|   3  Tesla K80           On   | 00000000:8A:00.0 Off |                    0 |\n",
      "| N/A   30C    P8    29W / 149W |     11MiB / 11441MiB |      0%      Default |\n",
      "+-------------------------------+----------------------+----------------------+\n",
      "|   4  Tesla K80           On   | 00000000:8D:00.0 Off |                    0 |\n",
      "| N/A   21C    P8    26W / 149W |     11MiB / 11441MiB |      0%      Default |\n",
      "+-------------------------------+----------------------+----------------------+\n",
      "|   5  Tesla K80           On   | 00000000:8E:00.0 Off |                    0 |\n",
      "| N/A   30C    P8    30W / 149W |     11MiB / 11441MiB |      0%      Default |\n",
      "+-------------------------------+----------------------+----------------------+\n",
      "                                                                               \n",
      "+-----------------------------------------------------------------------------+\n",
      "| Processes:                                                       GPU Memory |\n",
      "|  GPU       PID   Type   Process name                             Usage      |\n",
      "|=============================================================================|\n",
      "+-----------------------------------------------------------------------------+\n"
     ]
    }
   ],
   "source": [
    "!nvidia-smi"
   ]
  },
  {
   "cell_type": "markdown",
   "metadata": {},
   "source": [
    "<hr>"
   ]
  }
 ],
 "metadata": {
  "kernelspec": {
   "display_name": "Python 3",
   "language": "python",
   "name": "python3"
  },
  "language_info": {
   "codemirror_mode": {
    "name": "ipython",
    "version": 3
   },
   "file_extension": ".py",
   "mimetype": "text/x-python",
   "name": "python",
   "nbconvert_exporter": "python",
   "pygments_lexer": "ipython3",
   "version": "3.8.2"
  }
 },
 "nbformat": 4,
 "nbformat_minor": 4
}
