{
 "cells": [
  {
   "cell_type": "code",
   "execution_count": 3,
   "metadata": {
    "ExecuteTime": {
     "end_time": "2020-06-10T21:22:19.296844Z",
     "start_time": "2020-06-10T21:22:19.292547Z"
    },
    "scrolled": false
   },
   "outputs": [],
   "source": [
    "import os\n",
    "os.environ['KALDI_ROOT'] = '/opt/kaldi/'\n",
    "import kaldi_io\n",
    "import numpy as np\n",
    "import librosa\n",
    "import IPython.display as ipd\n",
    "import random\n",
    "import kaldiio\n",
    "from kaldiio import WriteHelper\n",
    "from utils import add_noise"
   ]
  },
  {
   "cell_type": "code",
   "execution_count": 25,
   "metadata": {
    "ExecuteTime": {
     "end_time": "2020-06-10T22:01:42.747346Z",
     "start_time": "2020-06-10T22:01:42.743578Z"
    }
   },
   "outputs": [],
   "source": [
    "ark_path_train = '/opt/kaldi/egs/Signal-denoising-in-the-wild/data/train/trainVoxCeleb.ark'\n",
    "scp_path_train = '/opt/kaldi/egs/Signal-denoising-in-the-wild/data/train/trainVoxCeleb.scp'\n",
    "ark_path_test = '/opt/kaldi/egs/Signal-denoising-in-the-wild/data/test/testVoxCeleb.ark'\n",
    "scp_path_test = '/opt/kaldi/egs/Signal-denoising-in-the-wild/data/test/testVoxCeleb.scp'\n",
    "train_augmentation = 1\n",
    "test_augmentation = 1"
   ]
  },
  {
   "cell_type": "code",
   "execution_count": 59,
   "metadata": {
    "ExecuteTime": {
     "end_time": "2020-06-10T20:10:37.160144Z",
     "start_time": "2020-06-10T19:59:52.565087Z"
    }
   },
   "outputs": [
    {
     "name": "stdout",
     "output_type": "stream",
     "text": [
      "Adding noise to train audio and augmenting each file 3 times\n",
      "Augmented 0 audio files\n",
      "Augmented 100 audio files\n",
      "Augmented 200 audio files\n",
      "Augmented 300 audio files\n",
      "Augmented 400 audio files\n",
      "Augmented 500 audio files\n",
      "Augmented 600 audio files\n",
      "Augmented 700 audio files\n",
      "Augmented 800 audio files\n",
      "Augmented 900 audio files\n",
      "Augmented 1000 audio files\n",
      "Augmented 1100 audio files\n",
      "Augmented 1200 audio files\n",
      "Augmented 1300 audio files\n",
      "Augmented 1400 audio files\n",
      "Augmented 1500 audio files\n",
      "Augmented 1600 audio files\n",
      "Augmented 1700 audio files\n",
      "Augmented 1800 audio files\n",
      "Augmented 1900 audio files\n",
      "Augmented 2000 audio files\n",
      "Augmented 2100 audio files\n",
      "Augmented 2200 audio files\n",
      "Augmented 2300 audio files\n",
      "Augmented 2400 audio files\n",
      "Augmented train data\n"
     ]
    }
   ],
   "source": [
    "print('Adding noise to train audio and augmenting each file {} times'.format(train_augmentation*3))\n",
    "writer = WriteHelper('ark,scp:{},{}'.format(ark_path_train, scp_path_train), compression_method=3)\n",
    "\n",
    "noise_choice = {'music':659, 'noise':929, 'speech':425}\n",
    "\n",
    "for count, line in enumerate(open('../data/train/wav.scp')):\n",
    "    # clean audio path\n",
    "    utt, path = line.rstrip().split()\n",
    "    # clean audio file\n",
    "    clean_audio, _ = librosa.load(path, sr = 16000)\n",
    "    # now for every noise type we augment n times the clean audio file using random noise audio files\n",
    "    for noise_type in noise_choice:\n",
    "        for aug in range(train_augmentation):\n",
    "            noise_track = np.random.randint(0, noise_choice[noise_type])\n",
    "            _, noise_path = open('../data/musan_{}.scp'.format(noise_type)).readlines()[noise_track].rstrip().split()\n",
    "            noise_audio, _ = librosa.load(noise_path, sr = 16000)\n",
    "            noisy_audio = add_noise(clean_audio, noise_audio, snr=random.choice([2.5, 7.5, 12.5, 17.5]))\n",
    "            # write ark and associated scp file in train directory\n",
    "            writer(utt, np.concatenate((clean_audio.reshape(1, -1), noisy_audio.reshape(1, -1))))\n",
    "    if count % 100 == 0:\n",
    "        print('Augmented {} audio files'.format(count))\n",
    "    \n",
    "writer.close()\n",
    "print('Augmented train data')"
   ]
  },
  {
   "cell_type": "code",
   "execution_count": 6,
   "metadata": {
    "ExecuteTime": {
     "end_time": "2020-06-10T22:04:34.829052Z",
     "start_time": "2020-06-10T22:01:47.285963Z"
    }
   },
   "outputs": [
    {
     "name": "stdout",
     "output_type": "stream",
     "text": [
      "Adding noise to test audio and augmenting each file 3 times\n",
      "Augmented 0 audio files\n",
      "Augmented 100 audio files\n",
      "Augmented 200 audio files\n",
      "Augmented test data\n"
     ]
    }
   ],
   "source": [
    "print('Adding noise to test audio and augmenting each file {} times'.format(test_augmentation*3))\n",
    "writer = WriteHelper('ark,scp:{},{}'.format(ark_path_test, scp_path_test), compression_method=3)\n",
    "\n",
    "noise_choice = {'music':659, 'noise':929, 'speech':425}\n",
    "\n",
    "for count, line in enumerate(open('../data/test/wav.scp')):\n",
    "    # clean audio path\n",
    "    utt, path = line.rstrip().split()\n",
    "    # clean audio file\n",
    "    clean_audio, _ = librosa.load(path, sr = 16000)\n",
    "    # now for every noise type we augment n times the clean audio file using random noise audio files\n",
    "    for noise_type in noise_choice:\n",
    "        for aug in range(test_augmentation):\n",
    "            noise_track = np.random.randint(0, noise_choice[noise_type])\n",
    "            _, noise_path = open('../data/musan_{}.scp'.format(noise_type)).readlines()[noise_track].rstrip().split()\n",
    "            noise_audio, _ = librosa.load(noise_path, sr = 16000)\n",
    "            noisy_audio = add_noise(clean_audio, noise_audio, snr=random.choice([2.5, 7.5, 12.5, 17.5]))\n",
    "            # write ark and associated scp file in train directory\n",
    "            writer(utt, np.concatenate((clean_audio.reshape(1, -1), noisy_audio.reshape(1, -1))))\n",
    "    if count % 100 == 0:\n",
    "        print('Augmented {} audio files'.format(count))\n",
    "    \n",
    "writer.close()\n",
    "print('Augmented test data')"
   ]
  }
 ],
 "metadata": {
  "kernelspec": {
   "display_name": "Python 3",
   "language": "python",
   "name": "python3"
  },
  "language_info": {
   "codemirror_mode": {
    "name": "ipython",
    "version": 3
   },
   "file_extension": ".py",
   "mimetype": "text/x-python",
   "name": "python",
   "nbconvert_exporter": "python",
   "pygments_lexer": "ipython3",
   "version": "3.8.2"
  }
 },
 "nbformat": 4,
 "nbformat_minor": 4
}
