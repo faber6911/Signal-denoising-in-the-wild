{
 "cells": [
  {
   "cell_type": "code",
   "execution_count": 1,
   "metadata": {
    "ExecuteTime": {
     "end_time": "2020-05-19T07:46:58.218226Z",
     "start_time": "2020-05-19T07:46:55.879374Z"
    }
   },
   "outputs": [],
   "source": [
    "# packages\n",
    "\n",
    "import os\n",
    "import sys\n",
    "import pathlib\n",
    "import re\n",
    "import numpy as np\n",
    "import pandas as pd\n",
    "from sklearn.model_selection import train_test_split"
   ]
  },
  {
   "cell_type": "code",
   "execution_count": 2,
   "metadata": {
    "ExecuteTime": {
     "end_time": "2020-05-19T07:46:58.224048Z",
     "start_time": "2020-05-19T07:46:58.220015Z"
    }
   },
   "outputs": [],
   "source": [
    "# paths\n",
    "# SIWIS database https://www.unige.ch/lettres/linguistique/research/latl/siwis/database/\n",
    "# MUSAN dataset https://www.openslr.org/17/\n",
    "main_path = '/export/corpora/' # main path\n",
    "clean_audios = 'siwis_database/wav/'\n",
    "noise_audios = 'musan'\n",
    "info_clean_audios = 'siwis_database/info' "
   ]
  },
  {
   "cell_type": "code",
   "execution_count": 3,
   "metadata": {
    "ExecuteTime": {
     "end_time": "2020-05-19T07:48:27.926850Z",
     "start_time": "2020-05-19T07:48:27.922983Z"
    }
   },
   "outputs": [],
   "source": [
    "clean_audios_path = os.path.join(main_path, clean_audios)\n",
    "noise_audios_path = os.path.join(main_path, noise_audios)"
   ]
  },
  {
   "cell_type": "code",
   "execution_count": 4,
   "metadata": {
    "ExecuteTime": {
     "end_time": "2020-05-19T07:48:31.350488Z",
     "start_time": "2020-05-19T07:48:31.256831Z"
    }
   },
   "outputs": [
    {
     "name": "stdout",
     "output_type": "stream",
     "text": [
      "Make utt2duration.scp\n",
      "Clean audios measures:\n",
      "Max: 147.512472\n",
      "Min: 0.704399\n",
      "Mean: 5.761135318841562\n",
      "Median: 5.149864\n"
     ]
    }
   ],
   "source": [
    "# utt2duration\n",
    "print('Make utt2duration.scp')\n",
    "utt2duration = {}\n",
    "\n",
    "info_dir = os.listdir(os.path.join(main_path, info_clean_audios))\n",
    "audio_length_files = [elem for elem in info_dir if re.search('_audio_length.txt', elem)]\n",
    "\n",
    "with open('../data/utt2duration.scp', 'w') as outfile:\n",
    "    durations = []\n",
    "    for file in audio_length_files:\n",
    "        for line in open(os.path.join(main_path, info_clean_audios, file)):\n",
    "            utt, duration = line.rstrip().split()\n",
    "            utt = utt.replace('.wav', '')\n",
    "            durations.append(float(duration))\n",
    "            outfile.write('{} {}\\n'.format(utt, duration))\n",
    "            utt2duration[utt] = float(duration)\n",
    "\n",
    "outfile.close()\n",
    "print('Clean audios measures:')\n",
    "print('Max: {}\\nMin: {}\\nMean: {}\\nMedian: {}'.format(max(durations), min(durations), np.mean(durations), np.median(durations)))"
   ]
  },
  {
   "cell_type": "code",
   "execution_count": 7,
   "metadata": {
    "ExecuteTime": {
     "end_time": "2020-05-19T07:49:55.990453Z",
     "start_time": "2020-05-19T07:49:55.794253Z"
    }
   },
   "outputs": [
    {
     "name": "stdout",
     "output_type": "stream",
     "text": [
      "Making train...\n",
      "Making test...\n",
      "Detected 2718 audio files\n",
      "2447 in train\n",
      "271 in test\n"
     ]
    }
   ],
   "source": [
    "# make train and test wav.scp\n",
    "min_length = 4.0\n",
    "utts = []\n",
    "paths = []\n",
    "spks = []\n",
    "for language in os.listdir(clean_audios_path):\n",
    "    if language == 'EN':\n",
    "        for folder in os.listdir(os.path.join(clean_audios_path, language)):\n",
    "            for utt in os.listdir(os.path.join(clean_audios_path, language, folder)):\n",
    "                tmp = os.path.join(clean_audios_path, language, folder, utt)\n",
    "                if pathlib.Path(tmp).suffix == '.wav':\n",
    "                    if utt2duration[utt.replace('.wav', '')] > min_length:\n",
    "                        utts.append(utt.replace('.wav', ''))\n",
    "                        spks.append(utt.split('_')[2])\n",
    "                        paths.append(tmp)\n",
    "                        \n",
    "X_train, X_test, y_train, y_test = train_test_split(np.array(paths), np.array(utts), test_size = .1, stratify = spks)\n",
    "\n",
    "# make train\n",
    "print('Making train...')\n",
    "with open('../data/train/wav.scp', 'w') as outfile:\n",
    "    for train_counter, line in enumerate(np.column_stack((y_train, X_train))):\n",
    "        outfile.write('{} {}\\n'.format(line[0], line[1]))\n",
    "\n",
    "outfile.close()\n",
    "\n",
    "print('Making test...')\n",
    "with open('../data/test/wav.scp', 'w') as outfile:\n",
    "    for test_counter, line in enumerate(np.column_stack((y_test, X_test))):\n",
    "        outfile.write('{} {}\\n'.format(line[0], line[1]))\n",
    "        \n",
    "outfile.close()\n",
    "\n",
    "print('Detected {} audio files'.format(train_counter+test_counter))\n",
    "print('{} in train'.format(train_counter))\n",
    "print('{} in test'.format(test_counter))"
   ]
  },
  {
   "cell_type": "code",
   "execution_count": 128,
   "metadata": {
    "ExecuteTime": {
     "end_time": "2020-05-18T12:55:39.237723Z",
     "start_time": "2020-05-18T12:55:39.234684Z"
    }
   },
   "outputs": [],
   "source": [
    "# clean wav.scp\n",
    "# print('Make clean_wav.scp')\n",
    "# min_length = 4.0\n",
    "# counter = {}\n",
    "\n",
    "# with open('../data/clean_wav.scp', 'w') as file:\n",
    "#     for language in os.listdir(clean_audios_path):\n",
    "#         for folder in os.listdir(os.path.join(clean_audios_path, language)):\n",
    "#             for utt in os.listdir(os.path.join(clean_audios_path, language, folder)):\n",
    "#                 tmp = os.path.join(clean_audios_path, language, folder, utt)\n",
    "#                 if pathlib.Path(tmp).suffix == '.wav':\n",
    "#                     if utt2duration[utt.replace('.wav', '')] > min_length:\n",
    "#                         file.write('{} {}\\n'.format(utt.replace('.wav', ''), tmp))\n",
    "#                         if language in counter:\n",
    "#                             counter[language] += 1\n",
    "#                         else:\n",
    "#                             counter[language] = 1\n",
    "\n",
    "# file.close()\n",
    "# print('Detected {} clean audios'.format(sum(counter.values())))\n",
    "# print(counter)"
   ]
  },
  {
   "cell_type": "code",
   "execution_count": 129,
   "metadata": {
    "ExecuteTime": {
     "end_time": "2020-05-18T12:55:39.793427Z",
     "start_time": "2020-05-18T12:55:39.762754Z"
    }
   },
   "outputs": [
    {
     "name": "stdout",
     "output_type": "stream",
     "text": [
      "Make musan.scp\n",
      "Making musan_music.scp\n",
      "Making musan_noise.scp\n",
      "Making musan_speech.scp\n",
      "Detected 2016 noise audios\n",
      "{'music': 660, 'noise': 930, 'speech': 426}\n"
     ]
    }
   ],
   "source": [
    "# noise wav.scp\n",
    "print('Make musan.scp')\n",
    "counter = {}\n",
    "\n",
    "#with open('../data/noise_wav.scp', 'w') as file:\n",
    "for folder in os.listdir(noise_audios_path):\n",
    "    if os.path.isdir(os.path.join(noise_audios_path, folder)):\n",
    "        print('Making musan_{}.scp'.format(folder))\n",
    "        with open('../data/musan_{}.scp'.format(folder), 'w') as file:\n",
    "            for subfolder in os.listdir(os.path.join(noise_audios_path, folder)):\n",
    "                if os.path.isdir(os.path.join(noise_audios_path, folder, subfolder)):\n",
    "                    for utt in os.listdir(os.path.join(noise_audios_path, folder, subfolder)):\n",
    "                        if utt.endswith('.wav'):\n",
    "                            file.write('{} {}\\n'.format(utt.replace('.wav', ''),\n",
    "                                                        os.path.join(noise_audios_path, folder, subfolder, utt)))\n",
    "                            if folder in counter:\n",
    "                                counter[folder] += 1\n",
    "                            else:\n",
    "                                counter[folder] = 1\n",
    "\n",
    "        file.close()\n",
    "        \n",
    "print('Detected {} noise audios'.format(sum(counter.values())))\n",
    "print(counter)"
   ]
  },
  {
   "cell_type": "code",
   "execution_count": 130,
   "metadata": {
    "ExecuteTime": {
     "end_time": "2020-05-18T12:55:42.895991Z",
     "start_time": "2020-05-18T12:55:42.857608Z"
    }
   },
   "outputs": [
    {
     "name": "stdout",
     "output_type": "stream",
     "text": [
      "36 speakers\n"
     ]
    }
   ],
   "source": [
    "# utt2spk\n",
    "list_of_speakers = set()\n",
    "with open('../data/utt2spk.scp', 'w') as file:\n",
    "    for line in open('../data/clean_wav.scp'):\n",
    "        utt, path = line.split()\n",
    "        spk = utt.split('_')[2]\n",
    "        list_of_speakers.add(spk)\n",
    "        file.write('{} {}\\n'.format(utt, spk))\n",
    "        \n",
    "file.close()\n",
    "print('{} speakers'.format(len(list_of_speakers)))"
   ]
  }
 ],
 "metadata": {
  "kernelspec": {
   "display_name": "Python 3",
   "language": "python",
   "name": "python3"
  },
  "language_info": {
   "codemirror_mode": {
    "name": "ipython",
    "version": 3
   },
   "file_extension": ".py",
   "mimetype": "text/x-python",
   "name": "python",
   "nbconvert_exporter": "python",
   "pygments_lexer": "ipython3",
   "version": "3.8.2"
  }
 },
 "nbformat": 4,
 "nbformat_minor": 4
}
