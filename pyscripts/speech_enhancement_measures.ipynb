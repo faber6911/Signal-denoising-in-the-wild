{
 "cells": [
  {
   "cell_type": "code",
   "execution_count": 1,
   "metadata": {},
   "outputs": [],
   "source": [
    "colab = False\n",
    "import librosa\n",
    "import numpy as np\n",
    "import matplotlib.pyplot as plt\n",
    "import seaborn as sns\n",
    "import pysepm\n",
    "import IPython.display as ipd\n",
    "import pandas as pd\n",
    "import torch\n",
    "from models import DWaveNet\n",
    "import os"
   ]
  },
  {
   "cell_type": "markdown",
   "metadata": {},
   "source": [
    "Measures:\n",
    "* PESQ &rarr; Perceptual evaluation of speech quality, using the wide-band (from 0.5 to 4.5).\n",
    "* STOI % &rarr; Short-Time Objective Intelligibility (from 0 to 100).\n",
    "* CSIG &rarr; Mean opinion score (MOS) prediction of the signal distortion attending only to the speech signal (from 1 to 5).\n",
    "* CBAK &rarr; MOS prediction of the intrusiveness of background noise (from 1 to 5).\n",
    "* COVL &rarr; MOS prediction of the overall effect (from 1 to 5).\n",
    "* SSNR &rarr; Segmental SNR (from 0 to inf)."
   ]
  },
  {
   "cell_type": "code",
   "execution_count": 2,
   "metadata": {},
   "outputs": [],
   "source": [
    "model = DWaveNet(in_channels = 1, target_field_length = None, num_layers = 30,\n",
    "                 num_stacks = 3, residual_channels = 128,\n",
    "                 gate_channels = 128, skip_out_channels = 128,\n",
    "                 last_channels=(2048, 256)) "
   ]
  },
  {
   "cell_type": "code",
   "execution_count": 3,
   "metadata": {},
   "outputs": [],
   "source": [
    "if colab:\n",
    "  device = torch.device('cuda' if torch.cuda.is_available() else 'cpu')\n",
    "  device\n",
    "else:  \n",
    "  os.environ[\"CUDA_VISIBLE_DEVICES\"] = '7'\n",
    "  device = torch.device('cuda' if torch.cuda.is_available() else 'cpu')\n",
    "  device"
   ]
  },
  {
   "cell_type": "code",
   "execution_count": 4,
   "metadata": {},
   "outputs": [
    {
     "name": "stdout",
     "output_type": "stream",
     "text": [
      "loading pre-trained model from ../log/fine_tuning/wavenetLABVoxCeleb/model_best.pth.tar\n"
     ]
    }
   ],
   "source": [
    "pretrain_model_pth = \"../log/fine_tuning/wavenetLABVoxCeleb/model_best.pth.tar\"\n",
    "if pretrain_model_pth is not None:\n",
    "    if os.path.isfile(pretrain_model_pth):\n",
    "        print('loading pre-trained model from %s' % pretrain_model_pth)\n",
    "        model_dict = model.state_dict()\n",
    "        checkpoint = torch.load(pretrain_model_pth, map_location = lambda storage, loc: storage) # load for cpu\n",
    "        model.load_state_dict({k.replace('module.',''):v for k,v in checkpoint['state_dict'].items()})\n",
    "    else:\n",
    "        print(\"===> no checkpoint found at '{}'\".format(pretrain_model_pth))"
   ]
  },
  {
   "cell_type": "code",
   "execution_count": 5,
   "metadata": {},
   "outputs": [
    {
     "name": "stdout",
     "output_type": "stream",
     "text": [
      "200 done..\n",
      "400 done..\n",
      "600 done..\n",
      "800 done..\n",
      "{'pesq': 2.082445452803547, 'sig': 3.165552952229102, 'bak': 2.7924844344255333, 'ovl': 2.5917959924147356, 'ssnr': 9.464051444553299}\n"
     ]
    }
   ],
   "source": [
    "model = model.to(device)\n",
    "pesq = []\n",
    "sig = []\n",
    "bak = []\n",
    "ovl = []\n",
    "ssnr = []\n",
    "results = {}\n",
    "model.eval()\n",
    "with torch.no_grad():\n",
    "    count = 0\n",
    "    for line in open('/opt/kaldi/egs/Signal-denoising-in-the-wild/data/denoising_test.scp'):\n",
    "        clean_path, noisy_path = line.rstrip().split()\n",
    "        clean, fs = librosa.load(clean_path, sr= 16000)\n",
    "        noisy, fs = librosa.load(noisy_path, sr = 16000)\n",
    "        noisy = torch.from_numpy(noisy).unsqueeze(0).unsqueeze(0).to(device)\n",
    "        denoised = model(noisy).cpu().squeeze(0).squeeze(0).numpy()\n",
    "        pesq.append(pysepm.pesq(clean, denoised, fs)[1])\n",
    "        tmp = pysepm.composite(clean, denoised, fs)\n",
    "        sig.append(tmp[0])\n",
    "        bak.append(tmp[1])\n",
    "        ovl.append(tmp[2])\n",
    "        ssnr.append(pysepm.fwSNRseg(clean, denoised, fs))\n",
    "        count += 1\n",
    "        if count % 200 == 0:\n",
    "            print(\"{} done..\".format(count))\n",
    "\n",
    "results['pesq'] = np.mean(pesq)\n",
    "results['sig'] = np.mean(sig)\n",
    "results['bak'] = np.mean(bak)\n",
    "results['ovl'] = np.mean(ovl)\n",
    "results['ssnr'] = np.mean(ssnr)\n",
    "print(results)"
   ]
  },
  {
   "cell_type": "markdown",
   "metadata": {},
   "source": [
    "wavenet4:\n",
    "'pesq': 1.37942910295667, 'sig': 2.34887768774676, 'bak': 2.2893793356515033, 'ovl': 1.8110202581679395, 'ssnr': 7.650913123112853\n",
    "\n",
    "wavenet4_fine_tuned: 'pesq': 1.185409572952002, 'sig': 1.5681731302899924, 'bak': 2.012994033959743, 'ovl': 1.3119164729902952, 'ssnr': 5.413532761913475\n",
    "\n",
    "wavenetLAB: 'pesq': 1.9355006084858792, 'sig': 2.8321720834561392, 'bak': 2.7752958417860873, 'ovl': 2.359445965705248, 'ssnr': 11.05712180000405\n",
    "\n",
    "wavenetLAB_fine_tuned: 'pesq': 1.4400822405965583, 'sig': 2.1563515918133485, 'bak': 2.3556137490605633, 'ovl': 1.7505921768273165, 'ssnr': 8.666557766188415\n",
    "\n",
    "wavenetLABVoxCeleb: 'pesq': 2.1357708132093394, 'sig': 3.2044454869361156, 'bak': 2.8171929147604873, 'ovl': 2.6386285444938586, 'ssnr': 9.671704434413316\n",
    "\n",
    "wavenetLABVoxCeleb_fine_tuned: 'pesq': 2.082445452803547, 'sig': 3.165552952229102, 'bak': 2.7924844344255333, 'ovl': 2.5917959924147356, 'ssnr': 9.464051444553299"
   ]
  },
  {
   "cell_type": "code",
   "execution_count": 2,
   "metadata": {},
   "outputs": [
    {
     "name": "stdout",
     "output_type": "stream",
     "text": [
      "200 done..\n",
      "400 done..\n",
      "600 done..\n",
      "800 done..\n",
      "{'pesq': 1.9707932136591197, 'sig': 3.340068088685546, 'bak': 2.442452392195827, 'ovl': 2.6286600366661497, 'ssnr': 10.9741821476963}\n"
     ]
    }
   ],
   "source": [
    "pesq = []\n",
    "sig = []\n",
    "bak = []\n",
    "ovl = []\n",
    "ssnr = []\n",
    "results = {}\n",
    "\n",
    "count = 0\n",
    "for line in open('/opt/kaldi/egs/Signal-denoising-in-the-wild/data/denoising_test.scp'):\n",
    "    clean_path, noisy_path = line.rstrip().split()\n",
    "    clean, fs = librosa.load(clean_path, sr= 16000)\n",
    "    noisy, fs = librosa.load(noisy_path, sr = 16000)\n",
    "    pesq.append(pysepm.pesq(clean, noisy, fs)[1])\n",
    "    tmp = pysepm.composite(clean, noisy, fs)\n",
    "    sig.append(tmp[0])\n",
    "    bak.append(tmp[1])\n",
    "    ovl.append(tmp[2])\n",
    "    ssnr.append(pysepm.fwSNRseg(clean, noisy, fs))\n",
    "    count += 1\n",
    "    if count % 200 == 0:\n",
    "        print(\"{} done..\".format(count))\n",
    "\n",
    "results['pesq'] = np.mean(pesq)\n",
    "results['sig'] = np.mean(sig)\n",
    "results['bak'] = np.mean(bak)\n",
    "results['ovl'] = np.mean(ovl)\n",
    "results['ssnr'] = np.mean(ssnr)\n",
    "print(results)"
   ]
  }
 ],
 "metadata": {
  "kernelspec": {
   "display_name": "Python 3",
   "language": "python",
   "name": "python3"
  },
  "language_info": {
   "codemirror_mode": {
    "name": "ipython",
    "version": 3
   },
   "file_extension": ".py",
   "mimetype": "text/x-python",
   "name": "python",
   "nbconvert_exporter": "python",
   "pygments_lexer": "ipython3",
   "version": "3.8.2"
  }
 },
 "nbformat": 4,
 "nbformat_minor": 4
}
