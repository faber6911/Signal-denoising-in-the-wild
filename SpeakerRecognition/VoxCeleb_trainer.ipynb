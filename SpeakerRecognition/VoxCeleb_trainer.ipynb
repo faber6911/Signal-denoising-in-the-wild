{
 "cells": [
  {
   "cell_type": "markdown",
   "metadata": {
    "colab_type": "text",
    "id": "HOrberoglrte"
   },
   "source": [
    "# VoxCeleb trainer performance measures for pretrained ResNet34 on different type of audio signals"
   ]
  },
  {
   "cell_type": "markdown",
   "metadata": {
    "colab_type": "text",
    "id": "NLiozuBDuEVo"
   },
   "source": [
    "**Src**: https://github.com/clovaai/voxceleb_trainer"
   ]
  },
  {
   "cell_type": "code",
   "execution_count": 1,
   "metadata": {
    "colab": {
     "base_uri": "https://localhost:8080/",
     "height": 122
    },
    "colab_type": "code",
    "executionInfo": {
     "elapsed": 23512,
     "status": "ok",
     "timestamp": 1596207230625,
     "user": {
      "displayName": "Fabrizio D'Intinosante",
      "photoUrl": "https://lh3.googleusercontent.com/a-/AOh14GhrjCQVLGrXDlJRniViKxzD_05EWfYGhPN_t37-=s64",
      "userId": "05737257329450160630"
     },
     "user_tz": -120
    },
    "id": "UpOQotJLomSL",
    "outputId": "1fd1338b-4c27-4b2f-9f2c-d1fcb46c0394"
   },
   "outputs": [],
   "source": [
    "colab = False\n",
    "\n",
    "if colab:\n",
    "    from google.colab import drive\n",
    "\n",
    "    ROOT = '/content/drive'\n",
    "\n",
    "    drive.mount(ROOT)"
   ]
  },
  {
   "cell_type": "code",
   "execution_count": 2,
   "metadata": {
    "colab": {
     "base_uri": "https://localhost:8080/",
     "height": 358
    },
    "colab_type": "code",
    "executionInfo": {
     "elapsed": 3438,
     "status": "ok",
     "timestamp": 1596002176951,
     "user": {
      "displayName": "Fabrizio D'Intinosante",
      "photoUrl": "https://lh3.googleusercontent.com/a-/AOh14GhrjCQVLGrXDlJRniViKxzD_05EWfYGhPN_t37-=s64",
      "userId": "05737257329450160630"
     },
     "user_tz": -120
    },
    "id": "yuIlnKBFriEM",
    "outputId": "89ae6825-2648-4b02-8eb5-8a8b9c1960f8"
   },
   "outputs": [
    {
     "name": "stdout",
     "output_type": "stream",
     "text": [
      "Sun Sep 20 12:40:22 2020       \n",
      "+-----------------------------------------------------------------------------+\n",
      "| NVIDIA-SMI 418.126.02   Driver Version: 418.126.02   CUDA Version: 10.2     |\n",
      "|-------------------------------+----------------------+----------------------+\n",
      "| GPU  Name        Persistence-M| Bus-Id        Disp.A | Volatile Uncorr. ECC |\n",
      "| Fan  Temp  Perf  Pwr:Usage/Cap|         Memory-Usage | GPU-Util  Compute M. |\n",
      "|===============================+======================+======================|\n",
      "|   0  Tesla V100-SXM2...  On   | 00000000:06:00.0 Off |                    0 |\n",
      "| N/A   33C    P0    57W / 300W |  31204MiB / 32480MiB |     20%      Default |\n",
      "+-------------------------------+----------------------+----------------------+\n",
      "|   1  Tesla V100-SXM2...  On   | 00000000:07:00.0 Off |                    0 |\n",
      "| N/A   36C    P0    66W / 300W |  31204MiB / 32480MiB |     34%      Default |\n",
      "+-------------------------------+----------------------+----------------------+\n",
      "|   2  Tesla V100-SXM2...  On   | 00000000:0A:00.0 Off |                    0 |\n",
      "| N/A   40C    P0    64W / 300W |  31204MiB / 32480MiB |     26%      Default |\n",
      "+-------------------------------+----------------------+----------------------+\n",
      "|   3  Tesla V100-SXM2...  On   | 00000000:0B:00.0 Off |                    0 |\n",
      "| N/A   40C    P0   120W / 300W |  23652MiB / 32480MiB |     55%      Default |\n",
      "+-------------------------------+----------------------+----------------------+\n",
      "|   4  Tesla V100-SXM2...  On   | 00000000:85:00.0 Off |                    0 |\n",
      "| N/A   36C    P0    58W / 300W |  23890MiB / 32480MiB |      0%      Default |\n",
      "+-------------------------------+----------------------+----------------------+\n",
      "|   5  Tesla V100-SXM2...  On   | 00000000:86:00.0 Off |                    0 |\n",
      "| N/A   40C    P0   106W / 300W |  31204MiB / 32480MiB |     45%      Default |\n",
      "+-------------------------------+----------------------+----------------------+\n",
      "|   6  Tesla V100-SXM2...  On   | 00000000:89:00.0 Off |                    0 |\n",
      "| N/A   34C    P0    42W / 300W |     11MiB / 32480MiB |      0%      Default |\n",
      "+-------------------------------+----------------------+----------------------+\n",
      "|   7  Tesla V100-SXM2...  On   | 00000000:8A:00.0 Off |                    0 |\n",
      "| N/A   30C    P0    42W / 300W |     11MiB / 32480MiB |      0%      Default |\n",
      "+-------------------------------+----------------------+----------------------+\n",
      "                                                                               \n",
      "+-----------------------------------------------------------------------------+\n",
      "| Processes:                                                       GPU Memory |\n",
      "|  GPU       PID   Type   Process name                             Usage      |\n",
      "|=============================================================================|\n",
      "+-----------------------------------------------------------------------------+\n"
     ]
    }
   ],
   "source": [
    "!nvidia-smi"
   ]
  },
  {
   "cell_type": "code",
   "execution_count": 3,
   "metadata": {
    "colab": {
     "base_uri": "https://localhost:8080/",
     "height": 34
    },
    "colab_type": "code",
    "executionInfo": {
     "elapsed": 593,
     "status": "ok",
     "timestamp": 1596207236927,
     "user": {
      "displayName": "Fabrizio D'Intinosante",
      "photoUrl": "https://lh3.googleusercontent.com/a-/AOh14GhrjCQVLGrXDlJRniViKxzD_05EWfYGhPN_t37-=s64",
      "userId": "05737257329450160630"
     },
     "user_tz": -120
    },
    "id": "VUQ9Ts27o39m",
    "outputId": "b08c5709-28d6-49e8-f9e1-6444500f052c"
   },
   "outputs": [],
   "source": [
    "if colab:\n",
    "    %cd '/content/drive/My Drive/Stage-Imaging/Signal-denoising-in-the-wild/SpeakerRecognition'"
   ]
  },
  {
   "cell_type": "code",
   "execution_count": 4,
   "metadata": {
    "colab": {
     "base_uri": "https://localhost:8080/",
     "height": 51
    },
    "colab_type": "code",
    "executionInfo": {
     "elapsed": 9342,
     "status": "ok",
     "timestamp": 1596207248107,
     "user": {
      "displayName": "Fabrizio D'Intinosante",
      "photoUrl": "https://lh3.googleusercontent.com/a-/AOh14GhrjCQVLGrXDlJRniViKxzD_05EWfYGhPN_t37-=s64",
      "userId": "05737257329450160630"
     },
     "user_tz": -120
    },
    "id": "cMS56G1yoli2",
    "outputId": "520cb70e-ff6e-4947-bc68-741f42a5e72d"
   },
   "outputs": [],
   "source": [
    "import sys, time, os, argparse, socket, random\n",
    "import numpy as np\n",
    "import pdb\n",
    "import torch\n",
    "import glob\n",
    "from tuneThreshold import tuneThresholdfromScore\n",
    "from SpeakerNet import SpeakerNet\n",
    "from DatasetLoader import DatasetLoader\n",
    "from utils import add_noise\n",
    "import librosa\n",
    "from DWaveNet import DWaveNet\n",
    "import matplotlib.pyplot as plt\n",
    "import seaborn as sns"
   ]
  },
  {
   "cell_type": "markdown",
   "metadata": {
    "colab_type": "text",
    "id": "Yr_kwonir9gQ"
   },
   "source": [
    "# Default parameters\n",
    "## Data loader\n",
    "* parser.add_argument('--max_frames', type=int, default=200,  help='Input length to the network');\n",
    "* parser.add_argument('--batch_size', type=int, default=200,  help='Batch size');\n",
    "* parser.add_argument('--max_seg_per_spk', type=int, default=100, help='Maximum number of utterances per speaker per epoch');\n",
    "* parser.add_argument('--nDataLoaderThread', type=int, default=5, help='Number of loader threads');\n",
    "\n",
    "## Training details\n",
    "* parser.add_argument('--test_interval', type=int, default=10, help='Test and save every [test_interval] epochs');\n",
    "* parser.add_argument('--max_epoch',      type=int, default=500, help='Maximum number of epochs');\n",
    "* parser.add_argument('--trainfunc', type=str, default=\"\",    help='Loss function');\n",
    "* parser.add_argument('--optimizer', type=str, default=\"adam\", help='sgd or adam');\n",
    "\n",
    "## Learning rates\n",
    "* parser.add_argument('--lr', type=float, default=0.001,      help='Learning rate');\n",
    "* parser.add_argument(\"--lr_decay\", type=float, default=0.95, help='Learning rate decay every [test_interval] epochs');\n",
    "\n",
    "## Loss functions\n",
    "* parser.add_argument(\"--hard_prob\", type=float, default=0.5, help='Hard negative mining probability, otherwise random, only for some loss functions');\n",
    "* parser.add_argument(\"--hard_rank\", type=int, default=10,    help='Hard negative mining rank in the batch, only for some loss functions');\n",
    "* parser.add_argument('--margin', type=float,  default=1,     help='Loss margin, only for some loss functions');\n",
    "* parser.add_argument('--scale', type=float,   default=15,    help='Loss scale, only for some loss functions');\n",
    "* parser.add_argument('--nSpeakers', type=int, default=5994,  help='Number of speakers in the softmax layer for softmax-based losses, utterances per speaker per iteration for other losses');\n",
    "\n",
    "## Load and save\n",
    "* parser.add_argument('--initial_model',  type=str, default=\"\", help='Initial model weights');\n",
    "* parser.add_argument('--save_path',      type=str, default=\"./data/exp1\", help='Path for model and logs');\n",
    "\n",
    "## Training and test data\n",
    "* parser.add_argument('--train_list', type=str, default=\"\",   help='Train list');\n",
    "* parser.add_argument('--test_list',  type=str, default=\"\",   help='Evaluation list');\n",
    "* parser.add_argument('--train_path', type=str, default=\"voxceleb2\", help='Absolute path to the train set');\n",
    "* parser.add_argument('--test_path',  type=str, default=\"voxceleb1\", help='Absolute path to the test set');\n",
    "\n",
    "## For test only\n",
    "* parser.add_argument('--eval', dest='eval', action='store_true', help='Eval only')\n",
    "\n",
    "## Model definition\n",
    "* parser.add_argument('--model', type=str,        default=\"\",     help='Name of model definition');\n",
    "* parser.add_argument('--encoder_type', type=str, default=\"SAP\",  help='Type of encoder');\n",
    "* parser.add_argument('--nOut', type=int,         default=512,    help='Embedding size in the last FC layer');"
   ]
  },
  {
   "cell_type": "markdown",
   "metadata": {
    "colab_type": "text",
    "id": "HOlz-ff0ua82"
   },
   "source": [
    "# Tuned parameters from the repo author\n",
    "* -- model \"ResNetSE34L\"\n",
    "* -- trainfunc \"angleproto\"\n",
    "* -- max_frames = 300\n",
    "* -- save_path\n",
    "* -- test_list\n",
    "* -- test_path\n",
    "* -- initial_model \"baseline_lite_ap.model\""
   ]
  },
  {
   "cell_type": "markdown",
   "metadata": {
    "colab_type": "text",
    "id": "ctYTXdp-u7e_"
   },
   "source": [
    "# Init pretrained model"
   ]
  },
  {
   "cell_type": "code",
   "execution_count": 5,
   "metadata": {
    "colab": {},
    "colab_type": "code",
    "id": "7RPdUTtdvIjY"
   },
   "outputs": [],
   "source": [
    "# params\n",
    "if colab:\n",
    "    base_path = '/content/drive/My Drive/Stage-Imaging/'\n",
    "else:\n",
    "    base_path = '/opt/kaldi/egs/'\n",
    "    os.environ['KALDI_ROOT'] = '/opt/kaldi/'\n",
    "eval = True\n",
    "model = 'ResNetSE34L'\n",
    "trainfunc = 'angleproto'\n",
    "save_path = '/content/drive/My Drive/Stage-Imaging/'\n",
    "max_frames = 300\n",
    "batch_size = 200\n",
    "max_seg_per_spk = 100\n",
    "nDataLoaderThread = 5\n",
    "max_epoch = 500\n",
    "optimizer = 'adam'\n",
    "hard_prob = .5\n",
    "hard_rank = 10\n",
    "margin = 1\n",
    "scale = 15\n",
    "nSpeakers = 5994\n",
    "test_list = base_path+'Signal-denoising-in-the-wild/SpeakerRecognition/veri_test/veri_test.txt'\n",
    "test_list_25 = base_path+'Signal-denoising-in-the-wild/SpeakerRecognition/veri_test/veri_test_2.5.txt'\n",
    "test_list_25_denoised = base_path+'Signal-denoising-in-the-wild/SpeakerRecognition/veri_test/veri_test_2.5_denoised_v2.txt'\n",
    "test_list_75 = base_path+'Signal-denoising-in-the-wild/SpeakerRecognition/veri_test/veri_test_7.5.txt'\n",
    "test_list_75_denoised = base_path+'Signal-denoising-in-the-wild/SpeakerRecognition/veri_test/veri_test_7.5_denoised_v2.txt'\n",
    "test_list_125 = base_path+'Signal-denoising-in-the-wild/SpeakerRecognition/veri_test/veri_test_12.5.txt'\n",
    "test_list_125_denoised = base_path+'Signal-denoising-in-the-wild/SpeakerRecognition/veri_test/veri_test_12.5_denoised_v2.txt'\n",
    "test_list_175 = base_path+'Signal-denoising-in-the-wild/SpeakerRecognition/veri_test/veri_test_17.5.txt'\n",
    "test_list_175_denoised = base_path+'Signal-denoising-in-the-wild/SpeakerRecognition/veri_test/veri_test_17.5_denoised_v2.txt'\n",
    "if colab:\n",
    "    test_path = '/content/drive/My Drive/Datasets/VoxCeleb1_test/wav/'\n",
    "else:\n",
    "    test_path = '/export/corpora/VoxCeleb1_test/wav/'\n",
    "initial_model = 'baseline_lite_ap.model'\n",
    "encoder_type = 'SAP'\n",
    "nOut = 512\n",
    "lr = 0.001\n",
    "\n",
    "\n",
    "# defaults\n",
    "lr_decay = .95\n",
    "test_interval = 10\n",
    "\n",
    "if colab:\n",
    "  device = torch.device('cuda' if torch.cuda.is_available() else 'cpu')\n",
    "  device\n",
    "else:  \n",
    "  os.environ[\"CUDA_VISIBLE_DEVICES\"] = '3'\n",
    "  device = torch.device('cuda' if torch.cuda.is_available() else 'cpu')\n",
    "  device"
   ]
  },
  {
   "cell_type": "code",
   "execution_count": 6,
   "metadata": {
    "colab": {
     "base_uri": "https://localhost:8080/",
     "height": 51
    },
    "colab_type": "code",
    "executionInfo": {
     "elapsed": 11608,
     "status": "ok",
     "timestamp": 1596002235019,
     "user": {
      "displayName": "Fabrizio D'Intinosante",
      "photoUrl": "https://lh3.googleusercontent.com/a-/AOh14GhrjCQVLGrXDlJRniViKxzD_05EWfYGhPN_t37-=s64",
      "userId": "05737257329450160630"
     },
     "user_tz": -120
    },
    "id": "cWhXhtI_pKYA",
    "outputId": "5c66439e-e0b1-4d94-9f14-da6b8677dcc3"
   },
   "outputs": [
    {
     "name": "stdout",
     "output_type": "stream",
     "text": [
      "Embedding size is 512, encoder SAP.\n",
      "Initialised AngleProto\n"
     ]
    }
   ],
   "source": [
    "s = SpeakerNet(model = model, trainfunc = trainfunc, max_frames = max_frames, batch_size = batch_size, max_seg_per_spk = max_seg_per_spk, nDataLoaderThread = nDataLoaderThread, encoder_type = encoder_type, nOut = nOut,\n",
    "               test_interval = test_interval, max_epoch = max_epoch, optimizer = optimizer, lr = lr, lr_decay = lr_decay, hard_prob = hard_prob, hard_rank = hard_rank, margin = margin, scale = scale,\n",
    "               nSpeakers = nSpeakers)\n",
    "\n",
    "it = 1\n",
    "prevloss = float(\"inf\")\n",
    "sumloss = 0"
   ]
  },
  {
   "cell_type": "code",
   "execution_count": 7,
   "metadata": {
    "colab": {
     "base_uri": "https://localhost:8080/",
     "height": 34
    },
    "colab_type": "code",
    "executionInfo": {
     "elapsed": 10879,
     "status": "ok",
     "timestamp": 1596002235776,
     "user": {
      "displayName": "Fabrizio D'Intinosante",
      "photoUrl": "https://lh3.googleusercontent.com/a-/AOh14GhrjCQVLGrXDlJRniViKxzD_05EWfYGhPN_t37-=s64",
      "userId": "05737257329450160630"
     },
     "user_tz": -120
    },
    "id": "bsGa-FEHnbxz",
    "outputId": "aa060beb-5602-4436-ba8e-9e8a4e986021"
   },
   "outputs": [
    {
     "name": "stdout",
     "output_type": "stream",
     "text": [
      "Model baseline_lite_ap.model loaded!\n"
     ]
    }
   ],
   "source": [
    "## Load model weights\n",
    "modelfiles = glob.glob('%s/model0*.model'%save_path)\n",
    "modelfiles.sort()\n",
    "\n",
    "if len(modelfiles) >= 1:\n",
    "    s.loadParameters(modelfiles[-1]);\n",
    "    print(\"Model %s loaded from previous state!\"%modelfiles[-1]);\n",
    "    it = int(os.path.splitext(os.path.basename(modelfiles[-1]))[0][5:]) + 1\n",
    "elif(initial_model != \"\"):\n",
    "    s.loadParameters(initial_model);\n",
    "    print(\"Model %s loaded!\"%initial_model);\n",
    "\n",
    "for ii in range(0, it-1):\n",
    "    if ii % test_interval == 0:\n",
    "        clr = s.updateLearningRate(lr_decay)"
   ]
  },
  {
   "cell_type": "markdown",
   "metadata": {
    "colab_type": "text",
    "id": "VEM8qefRuUFE"
   },
   "source": [
    "**Evaluation measure EER on Colab**:\n",
    "* Normal audio &rarr; **2.2322**\n",
    "* Noisy audio SNR 2.5 &rarr; **11.9459** - **16.0021** &rarr; **31.3892**\n",
    "* Noisy audio SNR 7.5 &rarr; **6.8293** - **10.8006** &rarr; **27.7678**\n",
    "* Noisy audio SNR 12.5 &rarr; **4.2206** - **8.3775** &rarr; **25.1962**\n",
    "* Noisy audio SNR 17.5 &rarr; **3.1336** - **7.1050** &rarr; **23.5366**\n",
    "\n",
    "**Evaluation measure on LAB**:\n",
    "* Normal audio &rarr; **2.23**\n",
    "* Noisy audio SNR 2.5 &rarr; **12.31** - **16.30** - **11.18** - **10.97**\n",
    "* Noisy audio SNR 7.5 &rarr; **6.63** - **10.81** - **6.20** - **6.17**\n",
    "* Noisy audio SNR 12.5 &rarr; **4.15** - **8.15** - **3.91** - **3.91**\n",
    "* Noisy audio SNR 17.5 &rarr; **3.07** - **7.20** - **3.10** - **3.18**"
   ]
  },
  {
   "cell_type": "markdown",
   "metadata": {
    "colab_type": "text",
    "id": "GcTOU7TWu-_u"
   },
   "source": [
    "# Measures on test data"
   ]
  },
  {
   "cell_type": "markdown",
   "metadata": {
    "colab_type": "text",
    "id": "J0bZYKaEEtzQ"
   },
   "source": [
    "## Normal audio"
   ]
  },
  {
   "cell_type": "code",
   "execution_count": 8,
   "metadata": {
    "colab": {
     "base_uri": "https://localhost:8080/",
     "height": 85
    },
    "colab_type": "code",
    "executionInfo": {
     "elapsed": 3621874,
     "status": "ok",
     "timestamp": 1594217172957,
     "user": {
      "displayName": "Fabrizio D'Intinosante",
      "photoUrl": "https://lh3.googleusercontent.com/a-/AOh14GhrjCQVLGrXDlJRniViKxzD_05EWfYGhPN_t37-=s64",
      "userId": "05737257329450160630"
     },
     "user_tz": -120
    },
    "id": "pBCqjDaDr0dY",
    "outputId": "fe994f3c-44c9-46b0-9816-884ba699eae1"
   },
   "outputs": [
    {
     "name": "stdout",
     "output_type": "stream",
     "text": [
      "Reading 4700: 76.11 Hz, embed size 512\n",
      "Computing 37700: 2953.75 Hz\n",
      "\n",
      "EER 2.2322\n",
      "Acc 0.9777\n"
     ]
    }
   ],
   "source": [
    "# if eval == True:   \n",
    "#   sc, lab = s.evaluateFromListSave(test_list, print_interval=100, test_path=test_path)\n",
    "#   result = tuneThresholdfromScore(sc, lab, [1, 0.1]);\n",
    "#   print('EER %2.4f'%result[1])\n",
    "#   print('Acc %2.4f'%result[2])"
   ]
  },
  {
   "cell_type": "markdown",
   "metadata": {
    "colab_type": "text",
    "id": "rshLx-_pvFE0"
   },
   "source": [
    "## Noisy audio SNR 2.5"
   ]
  },
  {
   "cell_type": "code",
   "execution_count": null,
   "metadata": {
    "colab": {
     "base_uri": "https://localhost:8080/",
     "height": 34
    },
    "colab_type": "code",
    "executionInfo": {
     "elapsed": 635,
     "status": "ok",
     "timestamp": 1594931509771,
     "user": {
      "displayName": "Fabrizio D'Intinosante",
      "photoUrl": "https://lh3.googleusercontent.com/a-/AOh14GhrjCQVLGrXDlJRniViKxzD_05EWfYGhPN_t37-=s64",
      "userId": "05737257329450160630"
     },
     "user_tz": -120
    },
    "id": "Rk3NpbIN2zeQ",
    "outputId": "1db3df5b-1bed-4c83-84da-e950cb845dd8"
   },
   "outputs": [
    {
     "name": "stdout",
     "output_type": "stream",
     "text": [
      "/content/drive/My Drive/Stage-Imaging/Signal-denoising-in-the-wild/SpeakerRecognition\n"
     ]
    }
   ],
   "source": [
    "#%cd '/content/drive/My Drive/Stage-Imaging/Signal-denoising-in-the-wild/SpeakerRecognition'"
   ]
  },
  {
   "cell_type": "code",
   "execution_count": null,
   "metadata": {
    "colab": {
     "base_uri": "https://localhost:8080/",
     "height": 733
    },
    "colab_type": "code",
    "executionInfo": {
     "elapsed": 4929785,
     "status": "ok",
     "timestamp": 1594936881960,
     "user": {
      "displayName": "Fabrizio D'Intinosante",
      "photoUrl": "https://lh3.googleusercontent.com/a-/AOh14GhrjCQVLGrXDlJRniViKxzD_05EWfYGhPN_t37-=s64",
      "userId": "05737257329450160630"
     },
     "user_tz": -120
    },
    "id": "enLA9TjfZw-Q",
    "outputId": "c46b8b3d-145c-4d1f-de02-76c993e5e76b"
   },
   "outputs": [
    {
     "name": "stdout",
     "output_type": "stream",
     "text": [
      "Making noisy audio with SNR: 2.5\n",
      "Making audio files for id10280\n",
      "Making audio files for id10279\n",
      "Making audio files for id10308\n",
      "Making audio files for id10276\n",
      "Making audio files for id10275\n",
      "Making audio files for id10309\n",
      "Making audio files for id10274\n",
      "Making audio files for id10307\n",
      "Making audio files for id10273\n",
      "Making audio files for id10272\n",
      "Making audio files for id10306\n",
      "Making audio files for id10305\n",
      "Making audio files for id10284\n",
      "Making audio files for id10304\n",
      "Making audio files for id10303\n",
      "Making audio files for id10278\n",
      "Making audio files for id10271\n",
      "Making audio files for id10302\n",
      "Making audio files for id10301\n",
      "Making audio files for id10300\n",
      "Making audio files for id10298\n",
      "Making audio files for id10297\n",
      "Making audio files for id10296\n",
      "Making audio files for id10295\n",
      "Making audio files for id10294\n",
      "Making audio files for id10292\n",
      "Making audio files for id10290\n",
      "Making audio files for id10287\n",
      "Making audio files for id10286\n",
      "Making audio files for id10285\n",
      "Making audio files for id10283\n",
      "Making audio files for id10282\n",
      "Making audio files for id10281\n",
      "Making audio files for id10277\n",
      "Making audio files for id10270\n",
      "Making audio files for id10288\n",
      "Making audio files for id10289\n",
      "Making audio files for id10291\n",
      "Making audio files for id10299\n",
      "Making audio files for id10293\n",
      "Made 4875 noisy audios in 82.15119758844375 minutes\n"
     ]
    }
   ],
   "source": [
    "# main_path = '/content/drive/My Drive/Datasets/VoxCeleb1_test/wav'\n",
    "# noise_choice = {'music':659, 'noise':929, 'speech':425}\n",
    "# sample_rate = 16000\n",
    "# snr = 2.5\n",
    "\n",
    "# start = time.time()\n",
    "# with open('noise_logfile_snr2.5.txt', 'w') as f:\n",
    "#   print('Making noisy audio with SNR: {}'.format(snr))\n",
    "#   count = 1\n",
    "#   for folder in os.listdir(main_path):\n",
    "#     print('Making audio files for {}'.format(folder))\n",
    "#     for video in os.listdir(os.path.join(main_path, folder)):\n",
    "#       for file in os.listdir(os.path.join(main_path, folder, video)):\n",
    "#         if os.path.isfile(os.path.join(main_path, folder, video, file)):\n",
    "#           if not any(substring in file for substring in [\"_2.5.\", \"_7.5.\", \"_12.5.\", \"_17.5.\"]):\n",
    "#             noise_type = random.choice(['music', 'noise', 'speech'])\n",
    "#             noise_track = np.random.randint(0, noise_choice[noise_type])\n",
    "#             _, noise_path = open('../data/musan_{}.scp'.format(noise_type)).readlines()[noise_track].rstrip().split()\n",
    "#             noise_path = noise_path.replace('/export/corpora/', '/content/drive/My Drive/Datasets/')\n",
    "#             noise_audio, _ = librosa.load(noise_path, sr = sample_rate)\n",
    "#             clean_audio, _ = librosa.load(os.path.join(main_path, folder, video, file), sr = sample_rate)\n",
    "#             filename = file.strip('.wav')\n",
    "#             filename = filename+'_'+str(snr)+'.wav'\n",
    "#             noisy_audio = add_noise(clean_audio, noise_audio, snr = snr)\n",
    "#             output_path = os.path.join(main_path, folder, video, filename)\n",
    "#             f.write('{} {}_{}\\n'.format(output_path, noise_type, noise_track))\n",
    "#             librosa.output.write_wav(output_path, noisy_audio, sr = sample_rate)\n",
    "#             count += 1\n",
    "#       #print(clean_audio.shape, noise_path, noise_audio.shape, output_path)\n",
    "#   #break\n",
    "# end = time.time()\n",
    "# print('Made {} noisy audios in {} minutes'.format(count, (end-start)/60))"
   ]
  },
  {
   "cell_type": "code",
   "execution_count": null,
   "metadata": {
    "colab": {},
    "colab_type": "code",
    "id": "AUES5JxjvKDN"
   },
   "outputs": [],
   "source": [
    "# with open('veri_test_2.5.txt', 'w') as f:\n",
    "#   for line in open('veri_test.txt'):\n",
    "#     files = line.split()\n",
    "#     files[1] = files[1].replace('.wav', '_2.5.wav')\n",
    "#     files[2] = files[2].replace('.wav', '_2.5.wav')\n",
    "#     f.write('{} {} {}\\n'.format(files[0], files[1], files[2]))\n",
    "\n",
    "# print('Wrote txt file...')"
   ]
  },
  {
   "cell_type": "code",
   "execution_count": 10,
   "metadata": {
    "colab": {
     "base_uri": "https://localhost:8080/",
     "height": 85
    },
    "colab_type": "code",
    "executionInfo": {
     "elapsed": 2487659,
     "status": "ok",
     "timestamp": 1595022207003,
     "user": {
      "displayName": "Fabrizio D'Intinosante",
      "photoUrl": "https://lh3.googleusercontent.com/a-/AOh14GhrjCQVLGrXDlJRniViKxzD_05EWfYGhPN_t37-=s64",
      "userId": "05737257329450160630"
     },
     "user_tz": -120
    },
    "id": "og3BsvFBEfDJ",
    "outputId": "4742cb0a-8146-4ad0-eaaa-bca0d2075c94"
   },
   "outputs": [
    {
     "name": "stdout",
     "output_type": "stream",
     "text": [
      "Reading 4700: 73.71 Hz, embed size 512\n",
      "Computing 37700: 2739.14 Hz\n",
      "\n",
      "EER 12.3118\n"
     ]
    }
   ],
   "source": [
    "# if eval == True:   \n",
    "#   sc, lab = s.evaluateFromListSave(test_list_25, print_interval=100, test_path=test_path)\n",
    "#   result = tuneThresholdfromScore(sc, lab, [1, 0.1]);\n",
    "#   print('EER %2.4f'%result[1])"
   ]
  },
  {
   "cell_type": "markdown",
   "metadata": {
    "colab_type": "text",
    "id": "zTDAO_EVvIEC"
   },
   "source": [
    "## Noisy audio SNR 7.5"
   ]
  },
  {
   "cell_type": "code",
   "execution_count": null,
   "metadata": {
    "colab": {
     "base_uri": "https://localhost:8080/",
     "height": 34
    },
    "colab_type": "code",
    "executionInfo": {
     "elapsed": 730,
     "status": "ok",
     "timestamp": 1594960746681,
     "user": {
      "displayName": "Fabrizio D'Intinosante",
      "photoUrl": "https://lh3.googleusercontent.com/a-/AOh14GhrjCQVLGrXDlJRniViKxzD_05EWfYGhPN_t37-=s64",
      "userId": "05737257329450160630"
     },
     "user_tz": -120
    },
    "id": "PxZ5iwOqSz6Y",
    "outputId": "842a4459-3368-4ad0-95d3-68452e1b6a59"
   },
   "outputs": [
    {
     "name": "stdout",
     "output_type": "stream",
     "text": [
      "/content/drive/My Drive/Stage-Imaging/Signal-denoising-in-the-wild/SpeakerRecognition\n"
     ]
    }
   ],
   "source": [
    "#%cd '/content/drive/My Drive/Stage-Imaging/Signal-denoising-in-the-wild/SpeakerRecognition'"
   ]
  },
  {
   "cell_type": "code",
   "execution_count": null,
   "metadata": {
    "colab": {
     "base_uri": "https://localhost:8080/",
     "height": 733
    },
    "colab_type": "code",
    "executionInfo": {
     "elapsed": 4866190,
     "status": "ok",
     "timestamp": 1594965621658,
     "user": {
      "displayName": "Fabrizio D'Intinosante",
      "photoUrl": "https://lh3.googleusercontent.com/a-/AOh14GhrjCQVLGrXDlJRniViKxzD_05EWfYGhPN_t37-=s64",
      "userId": "05737257329450160630"
     },
     "user_tz": -120
    },
    "id": "yOGmvouJS0Z4",
    "outputId": "1f1af6ac-c358-4f17-dcf4-cbf005e0ae9d"
   },
   "outputs": [
    {
     "name": "stdout",
     "output_type": "stream",
     "text": [
      "Making noisy audio with SNR: 7.5\n",
      "Making audio files for id10280\n",
      "Making audio files for id10279\n",
      "Making audio files for id10308\n",
      "Making audio files for id10276\n",
      "Making audio files for id10275\n",
      "Making audio files for id10309\n",
      "Making audio files for id10274\n",
      "Making audio files for id10307\n",
      "Making audio files for id10273\n",
      "Making audio files for id10272\n",
      "Making audio files for id10306\n",
      "Making audio files for id10305\n",
      "Making audio files for id10284\n",
      "Making audio files for id10304\n",
      "Making audio files for id10303\n",
      "Making audio files for id10278\n",
      "Making audio files for id10271\n",
      "Making audio files for id10302\n",
      "Making audio files for id10301\n",
      "Making audio files for id10300\n",
      "Making audio files for id10298\n",
      "Making audio files for id10297\n",
      "Making audio files for id10296\n",
      "Making audio files for id10295\n",
      "Making audio files for id10294\n",
      "Making audio files for id10292\n",
      "Making audio files for id10290\n",
      "Making audio files for id10287\n",
      "Making audio files for id10286\n",
      "Making audio files for id10285\n",
      "Making audio files for id10283\n",
      "Making audio files for id10282\n",
      "Making audio files for id10281\n",
      "Making audio files for id10277\n",
      "Making audio files for id10270\n",
      "Making audio files for id10288\n",
      "Making audio files for id10289\n",
      "Making audio files for id10291\n",
      "Making audio files for id10299\n",
      "Making audio files for id10293\n",
      "Made 4875 noisy audios in 81.05726673603058 minutes\n"
     ]
    }
   ],
   "source": [
    "# main_path = '/content/drive/My Drive/Datasets/VoxCeleb1_test/wav'\n",
    "# noise_choice = {'music':659, 'noise':929, 'speech':425}\n",
    "# sample_rate = 16000\n",
    "# snr = 7.5\n",
    "\n",
    "# start = time.time()\n",
    "# with open('noise_logfile_snr7.5.txt', 'w') as f:\n",
    "#   print('Making noisy audio with SNR: {}'.format(snr))\n",
    "#   count = 1\n",
    "#   for folder in os.listdir(main_path):\n",
    "#     print('Making audio files for {}'.format(folder))\n",
    "#     for video in os.listdir(os.path.join(main_path, folder)):\n",
    "#       for file in os.listdir(os.path.join(main_path, folder, video)):\n",
    "#         if os.path.isfile(os.path.join(main_path, folder, video, file)):\n",
    "#           if not any(substring in file for substring in [\"_2.5.\", \"_7.5.\", \"_12.5.\", \"_17.5.\"]):\n",
    "#             noise_type = random.choice(['music', 'noise', 'speech'])\n",
    "#             noise_track = np.random.randint(0, noise_choice[noise_type])\n",
    "#             _, noise_path = open('../data/musan_{}.scp'.format(noise_type)).readlines()[noise_track].rstrip().split()\n",
    "#             noise_path = noise_path.replace('/export/corpora/', '/content/drive/My Drive/Datasets/')\n",
    "#             noise_audio, _ = librosa.load(noise_path, sr = sample_rate)\n",
    "#             clean_audio, _ = librosa.load(os.path.join(main_path, folder, video, file), sr = sample_rate)\n",
    "#             filename = file.strip('.wav')\n",
    "#             filename = filename+'_'+str(snr)+'.wav'\n",
    "#             noisy_audio = add_noise(clean_audio, noise_audio, snr = snr)\n",
    "#             output_path = os.path.join(main_path, folder, video, filename)\n",
    "#             f.write('{} {}_{}\\n'.format(output_path, noise_type, noise_track))\n",
    "#             librosa.output.write_wav(output_path, noisy_audio, sr = sample_rate)\n",
    "#             count += 1\n",
    "#       #print(clean_audio.shape, noise_path, noise_audio.shape, output_path)\n",
    "#   #break\n",
    "# end = time.time()\n",
    "# print('Made {} noisy audios in {} minutes'.format(count, (end-start)/60))"
   ]
  },
  {
   "cell_type": "code",
   "execution_count": null,
   "metadata": {
    "colab": {
     "base_uri": "https://localhost:8080/",
     "height": 34
    },
    "colab_type": "code",
    "executionInfo": {
     "elapsed": 1280,
     "status": "ok",
     "timestamp": 1594569527684,
     "user": {
      "displayName": "Fabrizio D'Intinosante",
      "photoUrl": "https://lh3.googleusercontent.com/a-/AOh14GhrjCQVLGrXDlJRniViKxzD_05EWfYGhPN_t37-=s64",
      "userId": "05737257329450160630"
     },
     "user_tz": -120
    },
    "id": "eN73bhYVqW-Q",
    "outputId": "1f7250eb-c309-4adc-f7be-047527266799"
   },
   "outputs": [
    {
     "name": "stdout",
     "output_type": "stream",
     "text": [
      "Wrote txt file...\n"
     ]
    }
   ],
   "source": [
    "# with open('veri_test_7.5.txt', 'w') as f:\n",
    "#   for line in open('veri_test.txt'):\n",
    "#     files = line.split()\n",
    "#     files[1] = files[1].replace('.wav', '_7.5.wav')\n",
    "#     files[2] = files[2].replace('.wav', '_7.5.wav')\n",
    "#     f.write('{} {} {}\\n'.format(files[0], files[1], files[2]))\n",
    "\n",
    "# print('Wrote txt file...')"
   ]
  },
  {
   "cell_type": "code",
   "execution_count": 11,
   "metadata": {
    "colab": {
     "base_uri": "https://localhost:8080/",
     "height": 85
    },
    "colab_type": "code",
    "executionInfo": {
     "elapsed": 1822901,
     "status": "ok",
     "timestamp": 1595229828795,
     "user": {
      "displayName": "Fabrizio D'Intinosante",
      "photoUrl": "https://lh3.googleusercontent.com/a-/AOh14GhrjCQVLGrXDlJRniViKxzD_05EWfYGhPN_t37-=s64",
      "userId": "05737257329450160630"
     },
     "user_tz": -120
    },
    "id": "M6esegcnwBuw",
    "outputId": "3a996b2a-ea44-4415-fbab-f12d3c6e41a8"
   },
   "outputs": [
    {
     "name": "stdout",
     "output_type": "stream",
     "text": [
      "Reading 4700: 61.56 Hz, embed size 512\n",
      "Computing 37700: 2234.66 Hz\n",
      "\n",
      "EER 6.6384\n"
     ]
    }
   ],
   "source": [
    "# if eval == True:   \n",
    "#   sc, lab = s.evaluateFromListSave(test_list_75, print_interval=100, test_path=test_path)\n",
    "#   result = tuneThresholdfromScore(sc, lab, [1, 0.1]);\n",
    "#   print('EER %2.4f'%result[1])"
   ]
  },
  {
   "cell_type": "markdown",
   "metadata": {
    "colab_type": "text",
    "id": "6m33NEu1vLJs"
   },
   "source": [
    "## Noisy audio SNR 12.5"
   ]
  },
  {
   "cell_type": "code",
   "execution_count": null,
   "metadata": {
    "colab": {
     "base_uri": "https://localhost:8080/",
     "height": 733
    },
    "colab_type": "code",
    "executionInfo": {
     "elapsed": 1523734,
     "status": "ok",
     "timestamp": 1594973406423,
     "user": {
      "displayName": "Fabrizio D'Intinosante",
      "photoUrl": "https://lh3.googleusercontent.com/a-/AOh14GhrjCQVLGrXDlJRniViKxzD_05EWfYGhPN_t37-=s64",
      "userId": "05737257329450160630"
     },
     "user_tz": -120
    },
    "id": "erj8BUIGqMrX",
    "outputId": "ae0b21fc-6f6a-4835-eb72-01dbe9a51dba"
   },
   "outputs": [
    {
     "name": "stdout",
     "output_type": "stream",
     "text": [
      "Making noisy audio with SNR: 12.5\n",
      "Making audio files for id10280\n",
      "Making audio files for id10279\n",
      "Making audio files for id10308\n",
      "Making audio files for id10276\n",
      "Making audio files for id10275\n",
      "Making audio files for id10309\n",
      "Making audio files for id10274\n",
      "Making audio files for id10307\n",
      "Making audio files for id10273\n",
      "Making audio files for id10272\n",
      "Making audio files for id10306\n",
      "Making audio files for id10305\n",
      "Making audio files for id10284\n",
      "Making audio files for id10304\n",
      "Making audio files for id10303\n",
      "Making audio files for id10278\n",
      "Making audio files for id10271\n",
      "Making audio files for id10302\n",
      "Making audio files for id10301\n",
      "Making audio files for id10300\n",
      "Making audio files for id10298\n",
      "Making audio files for id10297\n",
      "Making audio files for id10296\n",
      "Making audio files for id10295\n",
      "Making audio files for id10294\n",
      "Making audio files for id10292\n",
      "Making audio files for id10290\n",
      "Making audio files for id10287\n",
      "Making audio files for id10286\n",
      "Making audio files for id10285\n",
      "Making audio files for id10283\n",
      "Making audio files for id10282\n",
      "Making audio files for id10281\n",
      "Making audio files for id10277\n",
      "Making audio files for id10270\n",
      "Making audio files for id10288\n",
      "Making audio files for id10289\n",
      "Making audio files for id10291\n",
      "Making audio files for id10299\n",
      "Making audio files for id10293\n",
      "Made 4875 noisy audios in 69.91929021676381 minutes\n"
     ]
    }
   ],
   "source": [
    "# main_path = '/content/drive/My Drive/Datasets/VoxCeleb1_test/wav'\n",
    "# noise_choice = {'music':659, 'noise':929, 'speech':425}\n",
    "# sample_rate = 16000\n",
    "# snr = 12.5\n",
    "\n",
    "# start = time.time()\n",
    "# with open('noise_logfile_snr12.5.txt', 'w') as f:\n",
    "#   print('Making noisy audio with SNR: {}'.format(snr))\n",
    "#   count = 1\n",
    "#   for folder in os.listdir(main_path):\n",
    "#     print('Making audio files for {}'.format(folder))\n",
    "#     for video in os.listdir(os.path.join(main_path, folder)):\n",
    "#       for file in os.listdir(os.path.join(main_path, folder, video)):\n",
    "#         if os.path.isfile(os.path.join(main_path, folder, video, file)):\n",
    "#           if not any(substring in file for substring in [\"_2.5.\", \"_7.5.\", \"_12.5.\", \"_17.5.\"]):\n",
    "#             noise_type = random.choice(['music', 'noise', 'speech'])\n",
    "#             noise_track = np.random.randint(0, noise_choice[noise_type])\n",
    "#             _, noise_path = open('../data/musan_{}.scp'.format(noise_type)).readlines()[noise_track].rstrip().split()\n",
    "#             noise_path = noise_path.replace('/export/corpora/', '/content/drive/My Drive/Datasets/')\n",
    "#             noise_audio, _ = librosa.load(noise_path, sr = sample_rate)\n",
    "#             clean_audio, _ = librosa.load(os.path.join(main_path, folder, video, file), sr = sample_rate)\n",
    "#             filename = file.strip('.wav')\n",
    "#             filename = filename+'_'+str(snr)+'.wav'\n",
    "#             noisy_audio = add_noise(clean_audio, noise_audio, snr = snr)\n",
    "#             output_path = os.path.join(main_path, folder, video, filename)\n",
    "#             f.write('{} {}_{}\\n'.format(output_path, noise_type, noise_track))\n",
    "#             librosa.output.write_wav(output_path, noisy_audio, sr = sample_rate)\n",
    "#             count += 1\n",
    "#       #print(clean_audio.shape, noise_path, noise_audio.shape, output_path)\n",
    "#   #break\n",
    "# end = time.time()\n",
    "# print('Made {} noisy audios in {} minutes'.format(count, (end-start)/60))"
   ]
  },
  {
   "cell_type": "code",
   "execution_count": null,
   "metadata": {
    "colab": {
     "base_uri": "https://localhost:8080/",
     "height": 34
    },
    "colab_type": "code",
    "executionInfo": {
     "elapsed": 839,
     "status": "ok",
     "timestamp": 1594575412648,
     "user": {
      "displayName": "Fabrizio D'Intinosante",
      "photoUrl": "https://lh3.googleusercontent.com/a-/AOh14GhrjCQVLGrXDlJRniViKxzD_05EWfYGhPN_t37-=s64",
      "userId": "05737257329450160630"
     },
     "user_tz": -120
    },
    "id": "TeRCyawUAyI2",
    "outputId": "2be6dcac-4cb6-4399-d4c3-b2418325e98d"
   },
   "outputs": [
    {
     "name": "stdout",
     "output_type": "stream",
     "text": [
      "Wrote txt file...\n"
     ]
    }
   ],
   "source": [
    "# with open('veri_test_12.5.txt', 'w') as f:\n",
    "#   for line in open('veri_test.txt'):\n",
    "#     files = line.split()\n",
    "#     files[1] = files[1].replace('.wav', '_12.5.wav')\n",
    "#     files[2] = files[2].replace('.wav', '_12.5.wav')\n",
    "#     f.write('{} {} {}\\n'.format(files[0], files[1], files[2]))\n",
    "\n",
    "# print('Wrote txt file...')"
   ]
  },
  {
   "cell_type": "code",
   "execution_count": 12,
   "metadata": {
    "colab": {
     "base_uri": "https://localhost:8080/",
     "height": 85
    },
    "colab_type": "code",
    "executionInfo": {
     "elapsed": 1558022,
     "status": "ok",
     "timestamp": 1595231386841,
     "user": {
      "displayName": "Fabrizio D'Intinosante",
      "photoUrl": "https://lh3.googleusercontent.com/a-/AOh14GhrjCQVLGrXDlJRniViKxzD_05EWfYGhPN_t37-=s64",
      "userId": "05737257329450160630"
     },
     "user_tz": -120
    },
    "id": "L1mriFaKGeA_",
    "outputId": "415597ae-b40a-459d-aff2-f74028a43d38"
   },
   "outputs": [
    {
     "name": "stdout",
     "output_type": "stream",
     "text": [
      "Reading 4700: 61.48 Hz, embed size 512\n",
      "Computing 37700: 2240.47 Hz\n",
      "\n",
      "EER 4.1516\n"
     ]
    }
   ],
   "source": [
    "# if eval == True:   \n",
    "#   sc, lab = s.evaluateFromListSave(test_list_125, print_interval=100, test_path=test_path)\n",
    "#   result = tuneThresholdfromScore(sc, lab, [1, 0.1]);\n",
    "#   print('EER %2.4f'%result[1])"
   ]
  },
  {
   "cell_type": "markdown",
   "metadata": {
    "colab_type": "text",
    "id": "ZZ0QJsaqvcuq"
   },
   "source": [
    "## Noisy audio SNR 17.5"
   ]
  },
  {
   "cell_type": "code",
   "execution_count": null,
   "metadata": {
    "colab": {
     "base_uri": "https://localhost:8080/",
     "height": 733
    },
    "colab_type": "code",
    "executionInfo": {
     "elapsed": 4119251,
     "status": "ok",
     "timestamp": 1594977527071,
     "user": {
      "displayName": "Fabrizio D'Intinosante",
      "photoUrl": "https://lh3.googleusercontent.com/a-/AOh14GhrjCQVLGrXDlJRniViKxzD_05EWfYGhPN_t37-=s64",
      "userId": "05737257329450160630"
     },
     "user_tz": -120
    },
    "id": "5ezo7Am6qPXU",
    "outputId": "7c03b266-06b5-4659-a0ff-fcc5e90ec769"
   },
   "outputs": [
    {
     "name": "stdout",
     "output_type": "stream",
     "text": [
      "Making noisy audio with SNR: 17.5\n",
      "Making audio files for id10280\n",
      "Making audio files for id10279\n",
      "Making audio files for id10308\n",
      "Making audio files for id10276\n",
      "Making audio files for id10275\n",
      "Making audio files for id10309\n",
      "Making audio files for id10274\n",
      "Making audio files for id10307\n",
      "Making audio files for id10273\n",
      "Making audio files for id10272\n",
      "Making audio files for id10306\n",
      "Making audio files for id10305\n",
      "Making audio files for id10284\n",
      "Making audio files for id10304\n",
      "Making audio files for id10303\n",
      "Making audio files for id10278\n",
      "Making audio files for id10271\n",
      "Making audio files for id10302\n",
      "Making audio files for id10301\n",
      "Making audio files for id10300\n",
      "Making audio files for id10298\n",
      "Making audio files for id10297\n",
      "Making audio files for id10296\n",
      "Making audio files for id10295\n",
      "Making audio files for id10294\n",
      "Making audio files for id10292\n",
      "Making audio files for id10290\n",
      "Making audio files for id10287\n",
      "Making audio files for id10286\n",
      "Making audio files for id10285\n",
      "Making audio files for id10283\n",
      "Making audio files for id10282\n",
      "Making audio files for id10281\n",
      "Making audio files for id10277\n",
      "Making audio files for id10270\n",
      "Making audio files for id10288\n",
      "Making audio files for id10289\n",
      "Making audio files for id10291\n",
      "Making audio files for id10299\n",
      "Making audio files for id10293\n",
      "Made 4875 noisy audios in 68.6394400437673 minutes\n"
     ]
    }
   ],
   "source": [
    "# main_path = '/content/drive/My Drive/Datasets/VoxCeleb1_test/wav'\n",
    "# noise_choice = {'music':659, 'noise':929, 'speech':425}\n",
    "# sample_rate = 16000\n",
    "# snr = 17.5\n",
    "\n",
    "# start = time.time()\n",
    "# with open('noise_logfile_snr17.5.txt', 'w') as f:\n",
    "#   print('Making noisy audio with SNR: {}'.format(snr))\n",
    "#   count = 1\n",
    "#   for folder in os.listdir(main_path):\n",
    "#     print('Making audio files for {}'.format(folder))\n",
    "#     for video in os.listdir(os.path.join(main_path, folder)):\n",
    "#       for file in os.listdir(os.path.join(main_path, folder, video)):\n",
    "#         if os.path.isfile(os.path.join(main_path, folder, video, file)):\n",
    "#           if not any(substring in file for substring in [\"_2.5.\", \"_7.5.\", \"_12.5.\", \"_17.5.\"]):\n",
    "#             noise_type = random.choice(['music', 'noise', 'speech'])\n",
    "#             noise_track = np.random.randint(0, noise_choice[noise_type])\n",
    "#             _, noise_path = open('../data/musan_{}.scp'.format(noise_type)).readlines()[noise_track].rstrip().split()\n",
    "#             noise_path = noise_path.replace('/export/corpora/', '/content/drive/My Drive/Datasets/')\n",
    "#             noise_audio, _ = librosa.load(noise_path, sr = sample_rate)\n",
    "#             clean_audio, _ = librosa.load(os.path.join(main_path, folder, video, file), sr = sample_rate)\n",
    "#             filename = file.strip('.wav')\n",
    "#             filename = filename+'_'+str(snr)+'.wav'\n",
    "#             noisy_audio = add_noise(clean_audio, noise_audio, snr = snr)\n",
    "#             output_path = os.path.join(main_path, folder, video, filename)\n",
    "#             f.write('{} {}_{}\\n'.format(output_path, noise_type, noise_track))\n",
    "#             librosa.output.write_wav(output_path, noisy_audio, sr = sample_rate)\n",
    "#             count += 1\n",
    "#       #print(clean_audio.shape, noise_path, noise_audio.shape, output_path)\n",
    "#   #break\n",
    "# end = time.time()\n",
    "# print('Made {} noisy audios in {} minutes'.format(count, (end-start)/60))"
   ]
  },
  {
   "cell_type": "code",
   "execution_count": null,
   "metadata": {
    "colab": {
     "base_uri": "https://localhost:8080/",
     "height": 34
    },
    "colab_type": "code",
    "executionInfo": {
     "elapsed": 1375,
     "status": "ok",
     "timestamp": 1594657680172,
     "user": {
      "displayName": "Fabrizio D'Intinosante",
      "photoUrl": "https://lh3.googleusercontent.com/a-/AOh14GhrjCQVLGrXDlJRniViKxzD_05EWfYGhPN_t37-=s64",
      "userId": "05737257329450160630"
     },
     "user_tz": -120
    },
    "id": "Dk3K8eHSA3SF",
    "outputId": "0c66f91d-4724-481d-f23b-25ab184a8cf5"
   },
   "outputs": [
    {
     "name": "stdout",
     "output_type": "stream",
     "text": [
      "Wrote txt file...\n"
     ]
    }
   ],
   "source": [
    "# with open('veri_test_17.5.txt', 'w') as f:\n",
    "#   for line in open('veri_test.txt'):\n",
    "#     files = line.split()\n",
    "#     files[1] = files[1].replace('.wav', '_17.5.wav')\n",
    "#     files[2] = files[2].replace('.wav', '_17.5.wav')\n",
    "#     f.write('{} {} {}\\n'.format(files[0], files[1], files[2]))\n",
    "\n",
    "# print('Wrote txt file...')"
   ]
  },
  {
   "cell_type": "code",
   "execution_count": 13,
   "metadata": {
    "colab": {
     "base_uri": "https://localhost:8080/",
     "height": 85
    },
    "colab_type": "code",
    "executionInfo": {
     "elapsed": 1620265,
     "status": "ok",
     "timestamp": 1595233007719,
     "user": {
      "displayName": "Fabrizio D'Intinosante",
      "photoUrl": "https://lh3.googleusercontent.com/a-/AOh14GhrjCQVLGrXDlJRniViKxzD_05EWfYGhPN_t37-=s64",
      "userId": "05737257329450160630"
     },
     "user_tz": -120
    },
    "id": "-V6qn9OBbA7g",
    "outputId": "f879d65d-a7e7-431b-bf4e-98cb615ca139"
   },
   "outputs": [
    {
     "name": "stdout",
     "output_type": "stream",
     "text": [
      "Reading 4700: 61.46 Hz, embed size 512\n",
      "Computing 37700: 2236.88 Hz\n",
      "\n",
      "EER 3.0700\n"
     ]
    }
   ],
   "source": [
    "# if eval == True:   \n",
    "#   sc, lab = s.evaluateFromListSave(test_list_175, print_interval=100, test_path=test_path)\n",
    "#   result = tuneThresholdfromScore(sc, lab, [1, 0.1]);\n",
    "#   print('EER %2.4f'%result[1])"
   ]
  },
  {
   "cell_type": "markdown",
   "metadata": {
    "colab_type": "text",
    "id": "t0JLjZeBY7lL"
   },
   "source": [
    "### Concat noise logfiles"
   ]
  },
  {
   "cell_type": "code",
   "execution_count": null,
   "metadata": {
    "colab": {
     "base_uri": "https://localhost:8080/",
     "height": 34
    },
    "colab_type": "code",
    "executionInfo": {
     "elapsed": 1252,
     "status": "ok",
     "timestamp": 1594983107858,
     "user": {
      "displayName": "Fabrizio D'Intinosante",
      "photoUrl": "https://lh3.googleusercontent.com/a-/AOh14GhrjCQVLGrXDlJRniViKxzD_05EWfYGhPN_t37-=s64",
      "userId": "05737257329450160630"
     },
     "user_tz": -120
    },
    "id": "8p-qMFAPY_av",
    "outputId": "aa011931-ad91-43b0-8002-744797694b00"
   },
   "outputs": [
    {
     "name": "stdout",
     "output_type": "stream",
     "text": [
      "Wrote noise logfile..\n"
     ]
    }
   ],
   "source": [
    "# filenames = ['noise_logfile_snr2.5.txt', 'noise_logfile_snr7.5.txt', 'noise_logfile_snr12.5.txt', 'noise_logfile_snr17.5.txt']\n",
    "# with open('logfiles/noise_logfile.txt', 'w') as outfile:\n",
    "#     for fname in filenames:\n",
    "#         with open('logfiles/'+fname) as infile:\n",
    "#             for line in infile:\n",
    "#                 outfile.write(line)\n",
    "\n",
    "# print('Wrote noise logfile..')"
   ]
  },
  {
   "cell_type": "markdown",
   "metadata": {
    "colab_type": "text",
    "id": "MF7BgjLzHE6N"
   },
   "source": [
    "## Denoised audio"
   ]
  },
  {
   "cell_type": "markdown",
   "metadata": {
    "colab_type": "text",
    "id": "1Et-y81sXznU"
   },
   "source": [
    "### WaveNet"
   ]
  },
  {
   "cell_type": "code",
   "execution_count": 8,
   "metadata": {
    "colab": {},
    "colab_type": "code",
    "executionInfo": {
     "elapsed": 678,
     "status": "ok",
     "timestamp": 1596207269406,
     "user": {
      "displayName": "Fabrizio D'Intinosante",
      "photoUrl": "https://lh3.googleusercontent.com/a-/AOh14GhrjCQVLGrXDlJRniViKxzD_05EWfYGhPN_t37-=s64",
      "userId": "05737257329450160630"
     },
     "user_tz": -120
    },
    "id": "aaKj8oSAx8z_"
   },
   "outputs": [],
   "source": [
    "model = DWaveNet(in_channels = 1, target_field_length = None, num_layers = 30,\n",
    "                 num_stacks = 3, residual_channels = 128,\n",
    "                 gate_channels = 128, skip_out_channels = 128,\n",
    "                 last_channels=(2048, 256))"
   ]
  },
  {
   "cell_type": "code",
   "execution_count": 9,
   "metadata": {
    "colab": {
     "base_uri": "https://localhost:8080/",
     "height": 34
    },
    "colab_type": "code",
    "executionInfo": {
     "elapsed": 2053,
     "status": "ok",
     "timestamp": 1596207272971,
     "user": {
      "displayName": "Fabrizio D'Intinosante",
      "photoUrl": "https://lh3.googleusercontent.com/a-/AOh14GhrjCQVLGrXDlJRniViKxzD_05EWfYGhPN_t37-=s64",
      "userId": "05737257329450160630"
     },
     "user_tz": -120
    },
    "id": "RiJgsyA5x9bE",
    "outputId": "2f052595-41a2-4372-d633-e6578c0ab802"
   },
   "outputs": [
    {
     "name": "stdout",
     "output_type": "stream",
     "text": [
      "loading pre-trained model from ../log/fine_tuning/wavenet4/model_best.pth.tar\n"
     ]
    }
   ],
   "source": [
    "pretrain_model_pth = \"../log/fine_tuning/wavenet4/model_best.pth.tar\"#wavenetLABVoxCeleb/55_688.4361267089844.h5\"#model_best.pth.tar\"\n",
    "\n",
    "if pretrain_model_pth is not None:\n",
    "    if os.path.isfile(pretrain_model_pth):\n",
    "        print('loading pre-trained model from %s' % pretrain_model_pth)\n",
    "        model_dict = model.state_dict()\n",
    "        checkpoint = torch.load(pretrain_model_pth, map_location = lambda storage, loc: storage) # load for cpu\n",
    "        model.load_state_dict({k.replace('module.',''):v for k,v in checkpoint['state_dict'].items()})\n",
    "    else:\n",
    "        print(\"===> no checkpoint found at '{}'\".format(pretrain_model_pth))"
   ]
  },
  {
   "cell_type": "code",
   "execution_count": null,
   "metadata": {
    "colab": {
     "base_uri": "https://localhost:8080/",
     "height": 716
    },
    "colab_type": "code",
    "executionInfo": {
     "elapsed": 374925,
     "status": "ok",
     "timestamp": 1595353280707,
     "user": {
      "displayName": "Fabrizio D'Intinosante",
      "photoUrl": "https://lh3.googleusercontent.com/a-/AOh14GjV4gBu-sVkILQf72-ctWj4SpcwSHuzsd9PjAw7=s64",
      "userId": "07649372432619426881"
     },
     "user_tz": -120
    },
    "id": "TLIXfnZyU6VZ",
    "outputId": "723d68cf-57a8-4bdc-9eb7-3431d4727887"
   },
   "outputs": [
    {
     "name": "stdout",
     "output_type": "stream",
     "text": [
      "Denoising audio files for id10280\n",
      "Denoising audio files for id10279\n",
      "Denoising audio files for id10308\n",
      "Denoising audio files for id10276\n",
      "Denoising audio files for id10275\n",
      "Denoising audio files for id10309\n",
      "Denoising audio files for id10274\n",
      "Denoising audio files for id10307\n",
      "Denoising audio files for id10273\n",
      "Denoising audio files for id10272\n",
      "Denoising audio files for id10306\n",
      "Denoising audio files for id10305\n",
      "Denoising audio files for id10284\n",
      "Denoising audio files for id10304\n",
      "Denoising audio files for id10303\n",
      "Denoising audio files for id10278\n",
      "Denoising audio files for id10271\n",
      "Denoising audio files for id10302\n",
      "Denoising audio files for id10301\n",
      "Denoising audio files for id10300\n",
      "Denoising audio files for id10298\n",
      "Denoising audio files for id10297\n",
      "Denoising audio files for id10296\n",
      "Denoising audio files for id10295\n",
      "Denoising audio files for id10294\n",
      "Denoising audio files for id10292\n",
      "Denoising audio files for id10290\n",
      "Denoising audio files for id10287\n",
      "Denoising audio files for id10286\n",
      "Denoising audio files for id10285\n",
      "Denoising audio files for id10283\n",
      "Denoising audio files for id10282\n",
      "Denoising audio files for id10281\n",
      "Denoising audio files for id10277\n",
      "Denoising audio files for id10270\n",
      "Denoising audio files for id10288\n",
      "Denoising audio files for id10289\n",
      "Denoising audio files for id10291\n",
      "Denoising audio files for id10299\n",
      "Denoising audio files for id10293\n",
      "Made 4874 denoised audios in 131.08 min\n"
     ]
    }
   ],
   "source": [
    "# main_path = '/content/drive/My Drive/Datasets/VoxCeleb1_test/wav'\n",
    "\n",
    "# snr = 17.5\n",
    "# sample_rate = 16000\n",
    "# model = model.cuda()\n",
    "# model = model.eval()\n",
    "# if snr < 10:\n",
    "#   idx = -13\n",
    "# else:\n",
    "#   idx = -14\n",
    "\n",
    "# count = 0\n",
    "# start = time.time()\n",
    "# for folder in os.listdir(main_path):\n",
    "#   #if folder not in to_exclude:\n",
    "#   print('Denoising audio files for {}'.format(folder))\n",
    "#   for video in os.listdir(os.path.join(main_path, folder)):\n",
    "#     for file in os.listdir(os.path.join(main_path, folder, video)):\n",
    "#       if os.path.isfile(os.path.join(main_path, folder, video, file)):\n",
    "#         if \"_\"+str(snr)+\".\" in file:\n",
    "#           noisy_audio, _ = librosa.load(os.path.join(main_path, folder, video, file), sr = sample_rate)\n",
    "#           #noisy_audio = torch.FloatTensor(noisy_audio).unsqueeze(0).unsqueeze(0).cuda()\n",
    "#           noisy_audio = torch.from_numpy(noisy_audio).unsqueeze(0).unsqueeze(0).cuda()\n",
    "#           #print(noisy_audio)\n",
    "#           #print(noisy_audio.size())\n",
    "#           with torch.no_grad():\n",
    "#             denoised_audio = model(noisy_audio)\n",
    "#           denoised_audio = denoised_audio.squeeze(0).squeeze(0).cpu().numpy()\n",
    "#           output_path = os.path.join(main_path, folder, video, file[:idx], 'denoised', file[idx:-4]+'_v2'+file[-4:])\n",
    "#           #print(output_path)\n",
    "#           librosa.output.write_wav(output_path, denoised_audio, sr = sample_rate)\n",
    "#           count += 1\n",
    "\n",
    "# end = time.time()\n",
    "# print('Made {} denoised audios in {:.2f} min'.format(count, (end-start)/60))"
   ]
  },
  {
   "cell_type": "code",
   "execution_count": null,
   "metadata": {
    "colab": {
     "base_uri": "https://localhost:8080/",
     "height": 34
    },
    "colab_type": "code",
    "executionInfo": {
     "elapsed": 1903,
     "status": "ok",
     "timestamp": 1595353327791,
     "user": {
      "displayName": "Fabrizio D'Intinosante",
      "photoUrl": "https://lh3.googleusercontent.com/a-/AOh14GjV4gBu-sVkILQf72-ctWj4SpcwSHuzsd9PjAw7=s64",
      "userId": "07649372432619426881"
     },
     "user_tz": -120
    },
    "id": "hzqZCa3Gt7r8",
    "outputId": "915472d2-3e25-4058-c626-d6d11fac9bb5"
   },
   "outputs": [
    {
     "name": "stdout",
     "output_type": "stream",
     "text": [
      "Wrote txt file...\n"
     ]
    }
   ],
   "source": [
    "# with open('veri_test/veri_test_17.5_denoised_v2.txt', 'w') as f:\n",
    "#   for line in open('veri_test/veri_test_17.5_denoised.txt'):\n",
    "#     files = line.split()\n",
    "#     files[1] = files[1].replace('.wav', '_v2.wav')\n",
    "#     files[2] = files[2].replace('.wav', '_v2.wav')\n",
    "#     f.write('{} {} {}\\n'.format(files[0], files[1], files[2]))\n",
    "\n",
    "# print('Wrote txt file...')"
   ]
  },
  {
   "cell_type": "code",
   "execution_count": null,
   "metadata": {
    "colab": {
     "base_uri": "https://localhost:8080/",
     "height": 85
    },
    "colab_type": "code",
    "executionInfo": {
     "elapsed": 2725302,
     "status": "ok",
     "timestamp": 1595356253984,
     "user": {
      "displayName": "Fabrizio D'Intinosante",
      "photoUrl": "https://lh3.googleusercontent.com/a-/AOh14GjV4gBu-sVkILQf72-ctWj4SpcwSHuzsd9PjAw7=s64",
      "userId": "07649372432619426881"
     },
     "user_tz": -120
    },
    "id": "66Hj-NofwHME",
    "outputId": "c942b625-a861-4c60-8d1b-646d50868953"
   },
   "outputs": [
    {
     "name": "stdout",
     "output_type": "stream",
     "text": [
      "Reading 4700: 1.74 Hz, embed size 512\n",
      "Computing 37700: 1690.83 Hz\n",
      "\n",
      "EER 31.3892\n"
     ]
    }
   ],
   "source": [
    "# if eval == True:   \n",
    "#   sc, lab = s.evaluateFromListSave(test_list_25_denoised, print_interval=100, test_path=test_path)\n",
    "#   result = tuneThresholdfromScore(sc, lab, [1, 0.1]);\n",
    "#   print('EER %2.4f'%result[1])"
   ]
  },
  {
   "cell_type": "markdown",
   "metadata": {
    "colab_type": "text",
    "id": "BfKvJZYXyFA8"
   },
   "source": [
    "<hr>"
   ]
  },
  {
   "cell_type": "markdown",
   "metadata": {
    "colab_type": "text",
    "id": "giYc8zhvfZAk"
   },
   "source": [
    "## Grid Search"
   ]
  },
  {
   "cell_type": "markdown",
   "metadata": {
    "colab_type": "text",
    "id": "cmlTs2IUN581"
   },
   "source": [
    "| coeff_noise/snr | 2.5 | 7.5 | 12.5 | 17.5 |\n",
    "|:-|:-|:-|:-|:-|\n",
    "|0.0|16.00|10.80|8.37|7.10|\n",
    "|0.1|13.45|8.51|6.11|4.97|\n",
    "|0.2|12.51|7.59|5.23|4.14|\n",
    "|0.3|12.26|7.13|4.77|3.71|\n",
    "|0.4|11.97|7.02|4.50|3.46|\n",
    "|0.5|11.82|6.89|4.38|3.28|\n",
    "|0.6|11.78|6.82|4.27|3.18|\n",
    "|0.7|11.78|**6.79**|4.22|3.13|\n",
    "|0.8|**11.76**|6.82|4.19|**3.10**|\n",
    "|0.9|11.85|6.80|**4.17**|3.13|\n",
    "|1.0|11.94|6.82|4.22|3.13|\n"
   ]
  },
  {
   "cell_type": "code",
   "execution_count": 3,
   "metadata": {
    "colab": {},
    "colab_type": "code",
    "id": "I6FH4iIdZhet"
   },
   "outputs": [],
   "source": [
    "# x_axis = ['0.0\\nonly denoised', 0.1, 0.2, 0.3, 0.4, 0.5, 0.6, 0.7, 0.8, 0.9, '1.0\\nonly noisy']\n",
    "# values_25 = [16.00, 13.45, 12.51, 12.26, 11.97, 11.82, 11.78, 11.78, 11.76, 11.85, 11.94]\n",
    "# values_75 = [10.80, 8.51, 7.59, 7.13, 7.02, 6.89, 6.82, 6.79, 6.82, 6.80, 6.82]\n",
    "# values_125 = [8.37, 6.11, 5.23, 4.77, 4.50, 4.38, 4.27, 4.22, 4.19, 4.17, 4.22]\n",
    "# values_175 = [7.10, 4.97, 4.14, 3.71, 3.46, 3.28, 3.18, 3.13, 3.10, 3.13, 3.13]\n",
    "# ys = [np.min(values_25), np.min(values_75), np.min(values_125), np.min(values_175)]\n",
    "# xs = [np.argmin(values_25), np.argmin(values_75), np.argmin(values_125), np.argmin(values_175)]"
   ]
  },
  {
   "cell_type": "code",
   "execution_count": 4,
   "metadata": {
    "colab": {
     "base_uri": "https://localhost:8080/",
     "height": 518
    },
    "colab_type": "code",
    "executionInfo": {
     "elapsed": 1860,
     "status": "ok",
     "timestamp": 1595616969816,
     "user": {
      "displayName": "Fabrizio D'Intinosante",
      "photoUrl": "https://lh3.googleusercontent.com/a-/AOh14GhRorgWulAMZlCnNcRn_ZPu8JVL7ro77-ZQUp3qVA=s64",
      "userId": "08264757633423155097"
     },
     "user_tz": -120
    },
    "id": "kEbYK5RZaTTn",
    "outputId": "44e1e0c9-a611-4f14-c9fe-8414c2be123d"
   },
   "outputs": [],
   "source": [
    "# sns.set_style('whitegrid')\n",
    "# plt.figure(figsize = (15, 8))\n",
    "# plt.plot(values_25, label = 'SNR 2.5')\n",
    "# plt.plot(values_75, label = 'SNR 7.5')\n",
    "# plt.plot(values_125, label = 'SNR 12.5')\n",
    "# plt.plot(values_175, label = 'SNR 17.5', color = 'purple')\n",
    "# plt.scatter(y = ys,\n",
    "#             x = xs,\n",
    "#             color = 'red',\n",
    "#             alpha = 1,\n",
    "#             s = 80)\n",
    "# for x, y in zip(xs, ys):\n",
    "#   label = '{:.2f}'.format(y)\n",
    "#   plt.annotate(label, \n",
    "#                (x, y),\n",
    "#                textcoords = 'offset points',\n",
    "#                xytext = (0, 10),\n",
    "#                ha = 'center',\n",
    "#                size = 12)\n",
    "# plt.xticks(ticks = [0, 1, 2, 3, 4, 5, 6, 7, 8, 9, 10], labels = x_axis, size = 12)\n",
    "# plt.yticks(size = 12)\n",
    "# plt.xlabel('Noise Coefficient', size = 12)\n",
    "# plt.ylabel('Equal Error Rate (EER)', size = 12)\n",
    "# plt.legend()\n",
    "#plt.savefig('../plots/GridSearchNoiseCoeff.png')"
   ]
  },
  {
   "cell_type": "code",
   "execution_count": 12,
   "metadata": {
    "colab": {
     "base_uri": "https://localhost:8080/",
     "height": 85
    },
    "colab_type": "code",
    "executionInfo": {
     "elapsed": 18961141,
     "status": "ok",
     "timestamp": 1596021238611,
     "user": {
      "displayName": "Fabrizio D'Intinosante",
      "photoUrl": "https://lh3.googleusercontent.com/a-/AOh14GhrjCQVLGrXDlJRniViKxzD_05EWfYGhPN_t37-=s64",
      "userId": "05737257329450160630"
     },
     "user_tz": -120
    },
    "id": "5_Ng2LkF0av_",
    "outputId": "ddb89fff-a1cc-45d0-a308-4fadf1743c02"
   },
   "outputs": [
    {
     "name": "stdout",
     "output_type": "stream",
     "text": [
      "Reading 4700: 1.45 Hz, embed size 512\n",
      "Computing 37700: 979.44 Hzz\n",
      "\n",
      "EER 26.9989\n",
      "Acc 73.0117\n"
     ]
    }
   ],
   "source": [
    "if eval == True:   \n",
    "    sc, lab = s.comparativeEvaluationFromList(test_list_175, noise_coeff = 0.0, model = model, print_interval=100, test_path=test_path)\n",
    "    result = tuneThresholdfromScore(sc, lab, [1, 0.1])\n",
    "    print('EER %2.4f'%result[1])\n",
    "    print('Acc %2.4f'%result[2])"
   ]
  },
  {
   "cell_type": "code",
   "execution_count": null,
   "metadata": {
    "colab": {
     "base_uri": "https://localhost:8080/",
     "height": 1000
    },
    "colab_type": "code",
    "executionInfo": {
     "elapsed": 5898133,
     "status": "ok",
     "timestamp": 1595603411297,
     "user": {
      "displayName": "Fabrizio D'intinosante",
      "photoUrl": "https://lh3.googleusercontent.com/a-/AOh14GhfLdxgdFv6_OftjTs_pS7OvMVal_kedYzvoVEkcQ=s64",
      "userId": "02945658076697083544"
     },
     "user_tz": -120
    },
    "id": "fkgWaVNkxKAt",
    "outputId": "7c91bd90-76e1-412c-a112-9a753ced1955"
   },
   "outputs": [
    {
     "name": "stdout",
     "output_type": "stream",
     "text": [
      "Evaluation with noise_coeff 0.0\n",
      "\n",
      "Reading 4700: 1.09 Hz, embed size 512\n",
      "Computing 37700: 2803.82 Hz\n",
      "\n",
      "EER 7.1050\n",
      "Evaluation with noise_coeff 0.1\n",
      "\n",
      "Reading 4700: 33.52 Hz, embed size 512\n",
      "Computing 37700: 2819.02 Hz\n",
      "\n",
      "EER 4.9735\n",
      "Evaluation with noise_coeff 0.2\n",
      "\n",
      "Reading 4700: 33.62 Hz, embed size 512\n",
      "Computing 37700: 2778.37 Hz\n",
      "\n",
      "EER 4.1463\n",
      "Evaluation with noise_coeff 0.3\n",
      "\n",
      "Reading 4700: 33.54 Hz, embed size 512\n",
      "Computing 37700: 2698.95 Hz\n",
      "\n",
      "EER 3.7169\n",
      "Evaluation with noise_coeff 0.4\n",
      "\n",
      "Reading 4700: 33.38 Hz, embed size 512\n",
      "Computing 37700: 2839.82 Hz\n",
      "\n",
      "EER 3.4624\n",
      "Evaluation with noise_coeff 0.5\n",
      "\n",
      "Reading 4700: 33.70 Hz, embed size 512\n",
      "Computing 37700: 2723.28 Hz\n",
      "\n",
      "EER 3.2874\n",
      "Evaluation with noise_coeff 0.6\n",
      "\n",
      "Reading 4700: 33.53 Hz, embed size 512\n",
      "Computing 37700: 2717.01 Hz\n",
      "\n",
      "EER 3.1813\n",
      "Evaluation with noise_coeff 0.7\n",
      "\n",
      "Reading 4700: 33.51 Hz, embed size 512\n",
      "Computing 37700: 2718.03 Hz\n",
      "\n",
      "EER 3.1336\n",
      "Evaluation with noise_coeff 0.8\n",
      "\n",
      "Reading 4700: 33.52 Hz, embed size 512\n",
      "Computing 37700: 2825.86 Hz\n",
      "\n",
      "EER 3.1071\n",
      "Evaluation with noise_coeff 0.9\n",
      "\n",
      "Reading 4700: 33.61 Hz, embed size 512\n",
      "Computing 37700: 2691.88 Hz\n",
      "\n",
      "EER 3.1336\n",
      "Evaluation with noise_coeff 1.0\n",
      "\n",
      "Reading 4700: 33.56 Hz, embed size 512\n",
      "Computing 37700: 2830.40 Hz\n",
      "\n",
      "EER 3.1336\n"
     ]
    }
   ],
   "source": [
    "noise_coeffs = [0.0, 0.1, 0.2, 0.3, 0.4, 0.5, 0.6, 0.7, 0.8, 0.9, 1.0]\n",
    "results_dict = {}\n",
    "for noise_coeff in noise_coeffs:\n",
    "  print('Evaluation with noise_coeff {}\\n'.format(noise_coeff))\n",
    "  if eval == True:   \n",
    "    sc, lab = s.comparativeEvaluationFromList(test_list_175, noise_coeff = noise_coeff, snr = 17.5, print_interval=100, test_path=test_path)\n",
    "    result = tuneThresholdfromScore(sc, lab, [1, 0.1])\n",
    "    results_dict[noise_coeff] = result[1]\n",
    "    print('EER %2.4f'%result[1])"
   ]
  },
  {
   "cell_type": "markdown",
   "metadata": {
    "colab_type": "text",
    "id": "uH-je1ljXmhv"
   },
   "source": [
    "<hr>"
   ]
  },
  {
   "cell_type": "markdown",
   "metadata": {},
   "source": [
    "<hr>"
   ]
  },
  {
   "cell_type": "code",
   "execution_count": null,
   "metadata": {},
   "outputs": [],
   "source": [
    "# restore noisy VoxCeleb audio files\n",
    "\n",
    "# sample_rate = 16000\n",
    "# snr = 17.5\n",
    "# for line in open('logfiles/noise_logfile_snr17.5.txt'):\n",
    "#     _, path, noise = line.rstrip().split()\n",
    "#     save_path = path.replace('Drive/Datasets/', '/export/corpora/')\n",
    "#     src_audio_path = save_path.replace('_{}'.format(snr), '')\n",
    "#     noise_type, noise_track = noise.split('_')\n",
    "#     #print(noise_type, noise_track)\n",
    "#     _, noise_path = open('../data/musan_{}.scp'.format(noise_type)).readlines()[int(noise_track)].rstrip().split()\n",
    "#     noise_audio, _ = librosa.load(noise_path, sr = sample_rate)\n",
    "#     clean_audio, _ = librosa.load(src_audio_path, sr = sample_rate)\n",
    "#     noisy_audio = add_noise(clean_audio, noise_audio, snr=snr)\n",
    "#     librosa.output.write_wav(save_path, noisy_audio, sr = sample_rate)\n",
    "    #ipd.Audio(noisy_audio, rate = sample_rate)\n",
    "    #print(save_path)\n",
    "    #break"
   ]
  }
 ],
 "metadata": {
  "colab": {
   "collapsed_sections": [],
   "name": "VoxCeleb_trainer.ipynb",
   "provenance": [],
   "toc_visible": true
  },
  "kernelspec": {
   "display_name": "Python 3",
   "language": "python",
   "name": "python3"
  },
  "language_info": {
   "codemirror_mode": {
    "name": "ipython",
    "version": 3
   },
   "file_extension": ".py",
   "mimetype": "text/x-python",
   "name": "python",
   "nbconvert_exporter": "python",
   "pygments_lexer": "ipython3",
   "version": "3.8.2"
  }
 },
 "nbformat": 4,
 "nbformat_minor": 1
}
