{
 "cells": [
  {
   "cell_type": "code",
   "execution_count": 3,
   "metadata": {},
   "outputs": [],
   "source": [
    "import os\n",
    "\n",
    "os.environ['KALDI_ROOT'] = '/opt/kaldi/'\n",
    "\n",
    "import kaldi_io\n",
    "import numpy as np\n",
    "import librosa\n",
    "import IPython.display as ipd\n",
    "import random\n",
    "import kaldiio\n",
    "from kaldiio import WriteHelper\n",
    "from utils import add_noise\n",
    "from numba.core.decorators import jit"
   ]
  },
  {
   "cell_type": "code",
   "execution_count": 4,
   "metadata": {},
   "outputs": [],
   "source": [
    "from tqdm import tqdm\n",
    "\n",
    "clean_train_folder = '../data/train/'\n",
    "clean_test_folder = '../data/test/'\n",
    "serialized_train_folder = '../data/serialized_train_data/'\n",
    "serialized_test_folder = '../data/serialized_test_data/'\n",
    "window_size = 2 ** 14  # about 1 second of samples\n",
    "sample_rate = 16000"
   ]
  },
  {
   "cell_type": "code",
   "execution_count": 26,
   "metadata": {},
   "outputs": [],
   "source": [
    "def slice_signal(wav, window_size, stride, sample_rate):\n",
    "    \"\"\"\n",
    "    Helper function for slicing the audio file\n",
    "    by window size and sample rate with [1-stride] percent overlap (default 50%).\n",
    "    \"\"\"\n",
    "    #wav, sr = librosa.load(file, sr=sample_rate)\n",
    "    hop = int(window_size * stride)\n",
    "    slices = []\n",
    "    for end_idx in range(window_size, len(wav), hop):\n",
    "        start_idx = end_idx - window_size\n",
    "        slice_sig = wav[start_idx:end_idx]\n",
    "        slices.append(slice_sig)\n",
    "    return slices"
   ]
  },
  {
   "cell_type": "code",
   "execution_count": 6,
   "metadata": {},
   "outputs": [],
   "source": [
    "def process_and_serialize(data_type):\n",
    "    \"\"\"\n",
    "    Serialize, down-sample the sliced signals and save on separate folder.\n",
    "    \"\"\"\n",
    "    stride = 0.5\n",
    "\n",
    "    if data_type == 'train':\n",
    "        clean_folder = clean_train_folder\n",
    "        #noisy_folder = noisy_train_folder\n",
    "        serialized_folder = serialized_train_folder\n",
    "    else:\n",
    "        clean_folder = clean_test_folder\n",
    "        #noisy_folder = noisy_test_folder\n",
    "        serialized_folder = serialized_test_folder\n",
    "    if not os.path.exists(serialized_folder):\n",
    "        os.makedirs(serialized_folder)\n",
    "\n",
    "    # walk through the path, slice the audio file, and save the serialized result\n",
    "    for files in os.path.join(clean_folder, 'wav.scp'):\n",
    "        for filename in tqdm(files, desc='Serialize and down-sample {} audios'.format(data_type)):\n",
    "            clean_file = os.path.join(clean_folder, filename)\n",
    "            noisy_file = os.path.join(noisy_folder, filename)\n",
    "            # slice both clean signal and noisy signal\n",
    "            clean_sliced = slice_signal(clean_file, window_size, stride, sample_rate)\n",
    "            noisy_sliced = slice_signal(noisy_file, window_size, stride, sample_rate)\n",
    "            # serialize - file format goes [original_file]_[slice_number].npy\n",
    "            # ex) p293_154.wav_5.npy denotes 5th slice of p293_154.wav file\n",
    "            for idx, slice_tuple in enumerate(zip(clean_sliced, noisy_sliced)):\n",
    "                pair = np.array([slice_tuple[0], slice_tuple[1]])\n",
    "                np.save(os.path.join(serialized_folder, '{}_{}'.format(filename, idx)), arr=pair)\n"
   ]
  },
  {
   "cell_type": "code",
   "execution_count": 31,
   "metadata": {},
   "outputs": [],
   "source": [
    "def process_and_serialize(data_type):\n",
    "    \"\"\"\n",
    "    Serialize, down-sample, augment the sliced signals and save on separate folder.\n",
    "    \n",
    "    \"\"\"\n",
    "    noise_choice = {'music':659, 'noise':929, 'speech':425}\n",
    "    train_augmentation = 1\n",
    "    stride = .5\n",
    "    \n",
    "    if data_type == 'train':\n",
    "        clean_folder = clean_train_folder\n",
    "        serialized_folder = serialized_train_folder\n",
    "    else:\n",
    "        clean_folder = clean_test_folder\n",
    "        serialized_folder = serialized_test_folder\n",
    "        \n",
    "    if not os.path.exists(serialized_folder):\n",
    "        os.makedirs(serialized_folder)\n",
    "\n",
    "    \n",
    "    for line in tqdm(open(os.path.join(clean_train_folder, 'wav.scp')),\n",
    "                     desc='Serialize and down-sample {} audios'.format(data_type)):\n",
    "        \n",
    "        utt, path = line.rstrip().split()\n",
    "        clean_file, _ = librosa.load(path, sr = 16000)\n",
    "        for noise_type in noise_choice:\n",
    "            for aug in range(train_augmentation):\n",
    "                noise_track = np.random.randint(0, noise_choice[noise_type])\n",
    "                _, noise_path = open('../data/musan_{}.scp'.format(noise_type)).readlines()[noise_track].rstrip().split()\n",
    "                noise_audio, _ = librosa.load(noise_path, sr = 16000)\n",
    "                noisy_file = add_noise(clean_file, noise_audio, snr=random.choice([2.5, 7.5, 12.5, 17.5]))\n",
    "\n",
    "                # slice both clean signal and noisy signal\n",
    "                clean_sliced = slice_signal(clean_file, window_size, stride, sample_rate)\n",
    "                noisy_sliced = slice_signal(noisy_file, window_size, stride, sample_rate)\n",
    "                # serialize - file format goes [original_file]_[noise_type]_[aug]_[slice_number].npy\n",
    "                # ex) EN_C1_12_107.wav_0_5.npy denotes 5th slice of EN_C1_12_107.wav file in his augmentation version number 0\n",
    "                for idx, slice_tuple in enumerate(zip(clean_sliced, noisy_sliced)):\n",
    "                    pair = np.array([slice_tuple[0], slice_tuple[1]])\n",
    "                    print('{}.wav_{}_{}_{}'.format(utt, noise_type, aug, idx))\n",
    "                    #np.save(os.path.join(serialized_folder, '{}.wav_{}_{}'.format(utt, idx, aug)), arr=pair)\n",
    "        break\n"
   ]
  },
  {
   "cell_type": "code",
   "execution_count": 32,
   "metadata": {},
   "outputs": [
    {
     "name": "stderr",
     "output_type": "stream",
     "text": [
      "Serialize and down-sample train audios: 0it [00:00, ?it/s]"
     ]
    },
    {
     "name": "stdout",
     "output_type": "stream",
     "text": [
      "EN_C1_12_107.wav_music_0_0\n",
      "EN_C1_12_107.wav_music_0_1\n",
      "EN_C1_12_107.wav_music_0_2\n",
      "EN_C1_12_107.wav_music_0_3\n",
      "EN_C1_12_107.wav_music_0_4\n",
      "EN_C1_12_107.wav_music_0_5\n",
      "EN_C1_12_107.wav_music_0_6\n",
      "EN_C1_12_107.wav_music_0_7\n",
      "EN_C1_12_107.wav_music_0_8\n",
      "EN_C1_12_107.wav_music_0_9\n",
      "EN_C1_12_107.wav_music_0_10\n",
      "EN_C1_12_107.wav_music_0_11\n",
      "EN_C1_12_107.wav_noise_0_0\n",
      "EN_C1_12_107.wav_noise_0_1\n",
      "EN_C1_12_107.wav_noise_0_2\n",
      "EN_C1_12_107.wav_noise_0_3\n",
      "EN_C1_12_107.wav_noise_0_4\n",
      "EN_C1_12_107.wav_noise_0_5\n",
      "EN_C1_12_107.wav_noise_0_6\n",
      "EN_C1_12_107.wav_noise_0_7\n",
      "EN_C1_12_107.wav_noise_0_8\n",
      "EN_C1_12_107.wav_noise_0_9\n",
      "EN_C1_12_107.wav_noise_0_10\n",
      "EN_C1_12_107.wav_noise_0_11\n",
      "EN_C1_12_107.wav_speech_0_0\n",
      "EN_C1_12_107.wav_speech_0_1\n",
      "EN_C1_12_107.wav_speech_0_2\n",
      "EN_C1_12_107.wav_speech_0_3\n",
      "EN_C1_12_107.wav_speech_0_4\n",
      "EN_C1_12_107.wav_speech_0_5\n",
      "EN_C1_12_107.wav_speech_0_6\n",
      "EN_C1_12_107.wav_speech_0_7\n",
      "EN_C1_12_107.wav_speech_0_8\n",
      "EN_C1_12_107.wav_speech_0_9\n",
      "EN_C1_12_107.wav_speech_0_10\n",
      "EN_C1_12_107.wav_speech_0_11\n"
     ]
    },
    {
     "name": "stderr",
     "output_type": "stream",
     "text": [
      "\n"
     ]
    }
   ],
   "source": [
    "process_and_serialize('train')"
   ]
  }
 ],
 "metadata": {
  "kernelspec": {
   "display_name": "Python 3",
   "language": "python",
   "name": "python3"
  },
  "language_info": {
   "codemirror_mode": {
    "name": "ipython",
    "version": 3
   },
   "file_extension": ".py",
   "mimetype": "text/x-python",
   "name": "python",
   "nbconvert_exporter": "python",
   "pygments_lexer": "ipython3",
   "version": "3.8.2"
  }
 },
 "nbformat": 4,
 "nbformat_minor": 4
}
