{
 "cells": [
  {
   "cell_type": "code",
   "execution_count": 63,
   "metadata": {
    "ExecuteTime": {
     "end_time": "2020-05-16T14:54:01.188219Z",
     "start_time": "2020-05-16T14:54:01.186119Z"
    }
   },
   "outputs": [],
   "source": [
    "import os\n",
    "import sys\n",
    "import pathlib"
   ]
  },
  {
   "cell_type": "code",
   "execution_count": 64,
   "metadata": {
    "ExecuteTime": {
     "end_time": "2020-05-16T14:54:01.328475Z",
     "start_time": "2020-05-16T14:54:01.326726Z"
    }
   },
   "outputs": [],
   "source": [
    "main_path = '/export/corpora/'\n",
    "clean_audios = 'siwis_database/wav/'\n",
    "noise_audios = 'musan'"
   ]
  },
  {
   "cell_type": "code",
   "execution_count": 67,
   "metadata": {
    "ExecuteTime": {
     "end_time": "2020-05-16T14:57:41.659696Z",
     "start_time": "2020-05-16T14:57:41.657337Z"
    }
   },
   "outputs": [],
   "source": [
    "clean_audios_path = os.path.join(main_path, clean_audios)\n",
    "noise_audios_path = os.path.join(main_path, noise_audios)"
   ]
  },
  {
   "cell_type": "code",
   "execution_count": 66,
   "metadata": {
    "ExecuteTime": {
     "end_time": "2020-05-16T14:54:02.841824Z",
     "start_time": "2020-05-16T14:54:02.720971Z"
    }
   },
   "outputs": [
    {
     "name": "stdout",
     "output_type": "stream",
     "text": [
      "Detected 14744 audios\n",
      "{'DE': 2903, 'EN': 3771, 'FR': 5332, 'IT': 2738}\n"
     ]
    }
   ],
   "source": [
    "separator = '-'\n",
    "counter = {}\n",
    "with open('../data/clean_wav.scp', 'w') as file:\n",
    "    for language in os.listdir(clean_audios_path):\n",
    "        for folder in os.listdir(os.path.join(clean_audios_path, language)):\n",
    "            for utt in os.listdir(os.path.join(clean_audios_path, language, folder)):\n",
    "                tmp = os.path.join(clean_audios_path, language, folder, utt)\n",
    "                if pathlib.Path(tmp).suffix == '.wav':\n",
    "                    file.write('{} {}\\n'.format(separator.join(utt.replace('.wav', '').split('_')), tmp))\n",
    "                    if language in counter:\n",
    "                        counter[language] += 1\n",
    "                    else:\n",
    "                        counter[language] = 1\n",
    "\n",
    "file.close()\n",
    "print('Detected {} clean audios'.format(sum(counter.values())))\n",
    "print(counter)"
   ]
  },
  {
   "cell_type": "code",
   "execution_count": 84,
   "metadata": {
    "ExecuteTime": {
     "end_time": "2020-05-16T21:12:28.867498Z",
     "start_time": "2020-05-16T21:12:28.841535Z"
    }
   },
   "outputs": [
    {
     "name": "stdout",
     "output_type": "stream",
     "text": [
      "Detected 2016 noise audios\n",
      "{'music': 660, 'noise': 930, 'speech': 426}\n"
     ]
    }
   ],
   "source": [
    "counter = {}\n",
    "\n",
    "with open('../data/noise_wav.scp', 'w') as file:\n",
    "    for folder in os.listdir(noise_audios_path):\n",
    "        if os.path.isdir(os.path.join(noise_audios_path, folder)):\n",
    "            for subfolder in os.listdir(os.path.join(noise_audios_path, folder)):\n",
    "                if os.path.isdir(os.path.join(noise_audios_path, folder, subfolder)):\n",
    "                    for utt in os.listdir(os.path.join(noise_audios_path, folder, subfolder)):\n",
    "                        if utt.endswith('.wav'):\n",
    "                            file.write('{} {}\\n'.format(utt.replace('.wav', ''),\n",
    "                                                        os.path.join(noise_audios_path, folder, subfolder, utt)))\n",
    "                            if folder in counter:\n",
    "                                counter[folder] += 1\n",
    "                            else:\n",
    "                                counter[folder] = 1\n",
    "\n",
    "file.close()\n",
    "print('Detected {} noise audios'.format(sum(counter.values())))\n",
    "print(counter)"
   ]
  },
  {
   "cell_type": "code",
   "execution_count": 97,
   "metadata": {
    "ExecuteTime": {
     "end_time": "2020-05-16T21:44:19.626007Z",
     "start_time": "2020-05-16T21:44:19.579431Z"
    }
   },
   "outputs": [
    {
     "name": "stdout",
     "output_type": "stream",
     "text": [
      "36 speakers\n"
     ]
    }
   ],
   "source": [
    "list_of_speakers = set()\n",
    "with open('../data/utt2spk.scp', 'w') as file:\n",
    "    for line in open('../data/clean_wav.scp'):\n",
    "        utt, path = line.split()\n",
    "        spk = utt.split('-')[2]\n",
    "        list_of_speakers.add(spk)\n",
    "        file.write('{} {}\\n'.format(utt, spk))\n",
    "        \n",
    "file.close()\n",
    "print('{} speakers'.format(len(list_of_speakers)))"
   ]
  }
 ],
 "metadata": {
  "kernelspec": {
   "display_name": "Python 3",
   "language": "python",
   "name": "python3"
  },
  "language_info": {
   "codemirror_mode": {
    "name": "ipython",
    "version": 3
   },
   "file_extension": ".py",
   "mimetype": "text/x-python",
   "name": "python",
   "nbconvert_exporter": "python",
   "pygments_lexer": "ipython3",
   "version": "3.8.2"
  }
 },
 "nbformat": 4,
 "nbformat_minor": 4
}
