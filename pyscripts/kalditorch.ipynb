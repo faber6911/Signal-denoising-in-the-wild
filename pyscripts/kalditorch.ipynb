{
 "cells": [
  {
   "cell_type": "markdown",
   "metadata": {},
   "source": [
    "# KaldiTorch notebook"
   ]
  },
  {
   "cell_type": "markdown",
   "metadata": {},
   "source": [
    "#### Packages"
   ]
  },
  {
   "cell_type": "code",
   "execution_count": 10,
   "metadata": {
    "ExecuteTime": {
     "end_time": "2020-06-06T10:09:22.551001Z",
     "start_time": "2020-06-06T10:09:09.856955Z"
    }
   },
   "outputs": [],
   "source": [
    "import torch\n",
    "from torchvision import transforms\n",
    "from torch.utils.data import DataLoader\n",
    "from torch import nn\n",
    "from torch.nn import functional as F\n",
    "from torchsummary import summary\n",
    "\n",
    "from models import DWaveNet\n",
    "from utils import AudioDataset, DenoiseDataset\n",
    "\n",
    "import os\n",
    "import math\n",
    "import time\n",
    "\n",
    "import numpy as np\n",
    "import kaldi_io\n",
    "import librosa\n",
    "from tqdm.notebook import tqdm\n"
   ]
  },
  {
   "cell_type": "code",
   "execution_count": 2,
   "metadata": {},
   "outputs": [
    {
     "data": {
      "text/plain": [
       "(82485, 8913)"
      ]
     },
     "execution_count": 2,
     "metadata": {},
     "output_type": "execute_result"
    }
   ],
   "source": [
    "train_dataset, test_dataset = AudioDataset('train'), AudioDataset('test')\n",
    "\n",
    "len(train_dataset), len(test_dataset)"
   ]
  },
  {
   "cell_type": "code",
   "execution_count": 3,
   "metadata": {
    "ExecuteTime": {
     "end_time": "2020-05-23T09:42:02.408745Z",
     "start_time": "2020-05-23T09:42:02.397976Z"
    }
   },
   "outputs": [],
   "source": [
    "train_data = DataLoader(train_dataset, batch_size = 8, shuffle=True)\n",
    "test_data = DataLoader(test_dataset, batch_size = 8, shuffle=True)"
   ]
  },
  {
   "cell_type": "code",
   "execution_count": 4,
   "metadata": {
    "ExecuteTime": {
     "end_time": "2020-05-23T09:42:02.629071Z",
     "start_time": "2020-05-23T09:42:02.618948Z"
    }
   },
   "outputs": [],
   "source": [
    "model = DWaveNet(in_channels=1, num_layers=10, num_stacks=1, residual_channels=56, gate_channels=56, skip_out_channels=56,\n",
    "                last_channels=(512, 128))"
   ]
  },
  {
   "cell_type": "code",
   "execution_count": 5,
   "metadata": {
    "ExecuteTime": {
     "end_time": "2020-05-23T09:33:15.914347Z",
     "start_time": "2020-05-23T09:33:12.188522Z"
    }
   },
   "outputs": [
    {
     "name": "stdout",
     "output_type": "stream",
     "text": [
      "----------------------------------------------------------------\n",
      "        Layer (type)               Output Shape         Param #\n",
      "================================================================\n",
      "            Conv1d-1            [-1, 56, 16384]             168\n",
      "            Conv1d-2            [-1, 56, 16384]           9,408\n",
      "            Conv1d-3            [-1, 56, 16384]           1,568\n",
      "            Conv1d-4            [-1, 56, 16384]           1,568\n",
      " ResidualConv1dGLU-5         [-1, 2, 56, 16384]               0\n",
      "            Conv1d-6            [-1, 56, 16384]           9,408\n",
      "            Conv1d-7            [-1, 56, 16384]           1,568\n",
      "            Conv1d-8            [-1, 56, 16384]           1,568\n",
      " ResidualConv1dGLU-9         [-1, 2, 56, 16384]               0\n",
      "           Conv1d-10            [-1, 56, 16384]           9,408\n",
      "           Conv1d-11            [-1, 56, 16384]           1,568\n",
      "           Conv1d-12            [-1, 56, 16384]           1,568\n",
      "ResidualConv1dGLU-13         [-1, 2, 56, 16384]               0\n",
      "           Conv1d-14            [-1, 56, 16384]           9,408\n",
      "           Conv1d-15            [-1, 56, 16384]           1,568\n",
      "           Conv1d-16            [-1, 56, 16384]           1,568\n",
      "ResidualConv1dGLU-17         [-1, 2, 56, 16384]               0\n",
      "           Conv1d-18            [-1, 56, 16384]           9,408\n",
      "           Conv1d-19            [-1, 56, 16384]           1,568\n",
      "           Conv1d-20            [-1, 56, 16384]           1,568\n",
      "ResidualConv1dGLU-21         [-1, 2, 56, 16384]               0\n",
      "           Conv1d-22            [-1, 56, 16384]           9,408\n",
      "           Conv1d-23            [-1, 56, 16384]           1,568\n",
      "           Conv1d-24            [-1, 56, 16384]           1,568\n",
      "ResidualConv1dGLU-25         [-1, 2, 56, 16384]               0\n",
      "           Conv1d-26            [-1, 56, 16384]           9,408\n",
      "           Conv1d-27            [-1, 56, 16384]           1,568\n",
      "           Conv1d-28            [-1, 56, 16384]           1,568\n",
      "ResidualConv1dGLU-29         [-1, 2, 56, 16384]               0\n",
      "           Conv1d-30            [-1, 56, 16384]           9,408\n",
      "           Conv1d-31            [-1, 56, 16384]           1,568\n",
      "           Conv1d-32            [-1, 56, 16384]           1,568\n",
      "ResidualConv1dGLU-33         [-1, 2, 56, 16384]               0\n",
      "           Conv1d-34            [-1, 56, 16384]           9,408\n",
      "           Conv1d-35            [-1, 56, 16384]           1,568\n",
      "           Conv1d-36            [-1, 56, 16384]           1,568\n",
      "ResidualConv1dGLU-37         [-1, 2, 56, 16384]               0\n",
      "           Conv1d-38            [-1, 56, 16384]           9,408\n",
      "           Conv1d-39            [-1, 56, 16384]           1,568\n",
      "           Conv1d-40            [-1, 56, 16384]           1,568\n",
      "ResidualConv1dGLU-41         [-1, 2, 56, 16384]               0\n",
      "             ReLU-42            [-1, 56, 16384]               0\n",
      "           Conv1d-43           [-1, 512, 16384]          86,016\n",
      "             ReLU-44           [-1, 512, 16384]               0\n",
      "           Conv1d-45           [-1, 128, 16384]         196,608\n",
      "           Conv1d-46             [-1, 1, 16384]             129\n",
      "================================================================\n",
      "Total params: 408,361\n",
      "Trainable params: 408,361\n",
      "Non-trainable params: 0\n",
      "----------------------------------------------------------------\n",
      "Input size (MB): 0.06\n",
      "Forward/backward pass size (MB): 508.12\n",
      "Params size (MB): 1.56\n",
      "Estimated Total Size (MB): 509.75\n",
      "----------------------------------------------------------------\n"
     ]
    }
   ],
   "source": [
    "summary(model, train_dataset[0][0].shape, device = 'cpu')"
   ]
  },
  {
   "cell_type": "code",
   "execution_count": 30,
   "metadata": {},
   "outputs": [],
   "source": [
    "# os.environ[\"CUDA_VISIBLE_DEVICES\"] = '0, 1'\n",
    "\n",
    "# device = torch.device('cuda:2' if torch.cuda.is_available() else 'cpu')"
   ]
  },
  {
   "cell_type": "code",
   "execution_count": 6,
   "metadata": {},
   "outputs": [],
   "source": [
    "device = torch.device('cuda' if torch.cuda.is_available() else 'cpu')"
   ]
  },
  {
   "cell_type": "code",
   "execution_count": 7,
   "metadata": {},
   "outputs": [],
   "source": [
    "#model = nn.DataParallel(model)"
   ]
  },
  {
   "cell_type": "code",
   "execution_count": 8,
   "metadata": {
    "ExecuteTime": {
     "end_time": "2020-05-23T09:42:09.296494Z",
     "start_time": "2020-05-23T09:42:09.293487Z"
    }
   },
   "outputs": [],
   "source": [
    "model = model.to(device)"
   ]
  },
  {
   "cell_type": "code",
   "execution_count": 9,
   "metadata": {
    "ExecuteTime": {
     "end_time": "2020-05-23T09:42:09.929954Z",
     "start_time": "2020-05-23T09:42:09.926640Z"
    }
   },
   "outputs": [],
   "source": [
    "criterion1, criterion2 = torch.nn.L1Loss(), torch.nn.MSELoss()\n",
    "optimizer = torch.optim.Adam(model.parameters())"
   ]
  },
  {
   "cell_type": "code",
   "execution_count": 16,
   "metadata": {
    "ExecuteTime": {
     "end_time": "2020-05-23T09:42:51.435277Z",
     "start_time": "2020-05-23T09:42:51.429453Z"
    }
   },
   "outputs": [],
   "source": [
    "def train(n_epochs, loaders, model, optimizer, criterion, use_cuda):#, save_path):\n",
    "    \"\"\"returns trained model\"\"\"\n",
    "\n",
    "    valid_loss_min = np.Inf \n",
    "    \n",
    "    for epoch in range(1, n_epochs+1):\n",
    "        # initialize variables to monitor training and validation loss\n",
    "        train_loss = 0.0\n",
    "        valid_loss = 0.0\n",
    "        \n",
    "        ###################\n",
    "        # train the model #\n",
    "        ###################\n",
    "        model.train()\n",
    "        for batch_idx, (data, target) in tqdm(enumerate(loaders['train'])):\n",
    "            # move to GPU\n",
    "            if use_cuda:\n",
    "                data, target = data.cuda(), target.cuda()\n",
    "            \n",
    "            optimizer.zero_grad()\n",
    "            \n",
    "            output = model(data)\n",
    "            \n",
    "            \n",
    "            loss = criterion(output, target)\n",
    "            \n",
    "            # backward pass\n",
    "            loss.backward()\n",
    "            # parameter update\n",
    "            optimizer.step()\n",
    "            # update training loss\n",
    "            train_loss += loss.item() * data.size(0)\n",
    "            del data, target, output\n",
    "            \n",
    "        ######################    \n",
    "        # validate the model #\n",
    "        ######################\n",
    "        model.eval()\n",
    "        for batch_idx, (data, target) in tqdm(enumerate(loaders['valid'])):\n",
    "            # move to GPU\n",
    "            if use_cuda:\n",
    "                data, target = data.cuda(), target.cuda()\n",
    "            ## update the average validation loss\n",
    "\n",
    "            # forward pass\n",
    "            output = model(data)\n",
    "            # batch loss\n",
    "            loss = criterion(output, target)\n",
    "            # update validation loss\n",
    "            valid_loss += loss.item() * data.size(0)\n",
    "            del data, target, output\n",
    "\n",
    "        train_loss = train_loss / len(loaders['train'].dataset)\n",
    "        valid_loss = valid_loss /len(loaders['valid'].dataset)\n",
    "        # print training/validation statistics \n",
    "        print('Epoch: {} \\tTraining Loss: {:.6f} \\tValidation Loss: {:.6f}'.format(\n",
    "            epoch, \n",
    "            train_loss,\n",
    "            valid_loss))\n",
    "        \n",
    "        ## TODO: save the model if validation loss has decreased\n",
    "#         if valid_loss <= valid_loss_min: \n",
    "#           print(\"Validation loss descreased from {} ---------> {} Saving model...\".format(valid_loss_min, valid_loss))\n",
    "#           valid_loss_min = valid_loss\n",
    "#           torch.save(model.state_dict(), save_path)\n",
    "             \n",
    "    # return trained model\n",
    "    return model\n"
   ]
  },
  {
   "cell_type": "code",
   "execution_count": 13,
   "metadata": {},
   "outputs": [],
   "source": [
    "#log_dir = \"log/\"\n",
    "def train(n_epochs, loaders, model, optimizer, criterions, use_cuda, batch_verbose):#, save_path):\n",
    "    for epoch in range(1, n_epochs+1):\n",
    "        print('Epoch %d' % epoch)\n",
    "        start = time.time()\n",
    "        model.train()\n",
    "        for batch_idx, (data, target) in enumerate(loaders['train']):\n",
    "            if use_cuda:\n",
    "                data, target = data.to(device), target.to(device)\n",
    "          #print(data.shape, target.shape)\n",
    "            optimizer.zero_grad()\n",
    "            output = model(data)\n",
    "            loss_a = criterions[0](output, target)\n",
    "            loss_b = criterions[1](output, target)\n",
    "            loss = loss_a + loss_b\n",
    "            loss.backward()\n",
    "            optimizer.step()\n",
    "            #lr = optimizer.update_learning_rate()\n",
    "            if batch_idx % batch_verbose == 0:\n",
    "                print('Train Epoch: {} [{}/{} ({:.0f}%)]\\tLoss: {:.6f}'.format(\n",
    "                    epoch, batch_idx * len(data), len(loaders['train'].dataset),\n",
    "                    100. * batch_idx / len(loaders['train']), loss.item()))\n",
    "          #train.update(np.random.randint(300, 800+1)) # 3-8s chunk\n",
    "            del data, target, output, loss, loss_a, loss_b\n",
    "\n",
    "        print('Train epoch {} completed in {:.3f} minutes'.format(epoch, (time.time()-start)/60))\n",
    "      \n",
    "        model.eval()\n",
    "        test_loss = 0.0\n",
    "        with torch.no_grad():\n",
    "            for data, target in loaders['valid']:\n",
    "                if use_cuda:\n",
    "                    data, target = data.to(device), target.to(device)\n",
    "                output = model(data)\n",
    "                test_loss += criterions[0](output, target).item() # sum up batch loss\n",
    "                test_loss += criterions[1](output, target).item()\n",
    "              # if asoftmax == 'True': # angular-softmax\n",
    "              #     output = output[0] # 0=cos_theta 1=phi_theta\n",
    "              # pred = output.max(1, keepdim=True)[1] # get the index of the max log-probability\n",
    "              # correct += pred.eq(target.view_as(pred)).sum().item()\n",
    "              \n",
    "        test_loss /= len(loaders['valid'].dataset)\n",
    "        print('\\nTest set: Average loss: {:.4f}\\n'.format(test_loss))\n",
    "\n",
    "        del data, target, output, test_loss\n",
    "\n",
    "      # if 100. * correct / len(val_loader.dataset) > best:\n",
    "      #     best = 100. * correct / len(val_loader.dataset)\n",
    "      #     torch.save({\n",
    "      #         'epoch': epoch,\n",
    "      #         'state_dict': model.state_dict(),\n",
    "      #         'best_acc': best,\n",
    "      #         'optimizer' : optimizer.state_dict(),\n",
    "      #     }, log_dir + str(epoch) + \"_\" + str(int(100. * correct / len(val_loader.dataset))) + \".h5\")\n",
    "      #     print(\"===> save to checkpoint at {}\\n\".format(log_dir + 'model_best.pth.tar'))\n",
    "      #     shutil.copyfile(log_dir + str(epoch) + \"_\" + str(int(100. * correct / len(val_loader.dataset))) +\n",
    "      #             \".h5\", log_dir + 'model_best.pth.tar')\n",
    "      #     best_epoch = epoch\n",
    "      # elif epoch - best_epoch > 2:\n",
    "      #     optimizer.increase_delta()\n",
    "      #     best_epoch = epoch\n",
    "    return model"
   ]
  },
  {
   "cell_type": "code",
   "execution_count": 11,
   "metadata": {
    "ExecuteTime": {
     "end_time": "2020-05-23T09:42:52.570112Z",
     "start_time": "2020-05-23T09:42:52.568167Z"
    }
   },
   "outputs": [],
   "source": [
    "loaders = {'train':train_data, 'valid':test_data}"
   ]
  },
  {
   "cell_type": "code",
   "execution_count": 14,
   "metadata": {
    "ExecuteTime": {
     "end_time": "2020-05-23T10:32:46.418383Z",
     "start_time": "2020-05-23T09:42:53.344760Z"
    },
    "scrolled": true
   },
   "outputs": [
    {
     "name": "stdout",
     "output_type": "stream",
     "text": [
      "Epoch 1\n"
     ]
    },
    {
     "ename": "RuntimeError",
     "evalue": "CUDA out of memory. Tried to allocate 28.00 MiB (GPU 0; 11.17 GiB total capacity; 877.57 MiB already allocated; 6.19 MiB free; 906.00 MiB reserved in total by PyTorch)",
     "output_type": "error",
     "traceback": [
      "\u001b[0;31m---------------------------------------------------------------------------\u001b[0m",
      "\u001b[0;31mRuntimeError\u001b[0m                              Traceback (most recent call last)",
      "\u001b[0;32m<ipython-input-14-fe6c5225116e>\u001b[0m in \u001b[0;36m<module>\u001b[0;34m\u001b[0m\n\u001b[0;32m----> 1\u001b[0;31m \u001b[0mtrain\u001b[0m\u001b[0;34m(\u001b[0m\u001b[0mn_epochs\u001b[0m\u001b[0;34m=\u001b[0m\u001b[0;36m3\u001b[0m\u001b[0;34m,\u001b[0m \u001b[0mloaders\u001b[0m\u001b[0;34m=\u001b[0m\u001b[0mloaders\u001b[0m\u001b[0;34m,\u001b[0m \u001b[0mmodel\u001b[0m\u001b[0;34m=\u001b[0m\u001b[0mmodel\u001b[0m\u001b[0;34m,\u001b[0m\u001b[0moptimizer\u001b[0m\u001b[0;34m=\u001b[0m\u001b[0moptimizer\u001b[0m\u001b[0;34m,\u001b[0m \u001b[0mcriterions\u001b[0m\u001b[0;34m=\u001b[0m\u001b[0;34m[\u001b[0m\u001b[0mcriterion1\u001b[0m\u001b[0;34m,\u001b[0m \u001b[0mcriterion2\u001b[0m\u001b[0;34m]\u001b[0m\u001b[0;34m,\u001b[0m \u001b[0muse_cuda\u001b[0m \u001b[0;34m=\u001b[0m \u001b[0;32mTrue\u001b[0m\u001b[0;34m,\u001b[0m \u001b[0mbatch_verbose\u001b[0m\u001b[0;34m=\u001b[0m\u001b[0;36m10\u001b[0m\u001b[0;34m)\u001b[0m\u001b[0;34m\u001b[0m\u001b[0;34m\u001b[0m\u001b[0m\n\u001b[0m",
      "\u001b[0;32m<ipython-input-13-a75c08c5f66a>\u001b[0m in \u001b[0;36mtrain\u001b[0;34m(n_epochs, loaders, model, optimizer, criterions, use_cuda, batch_verbose)\u001b[0m\n\u001b[1;32m     10\u001b[0m           \u001b[0;31m#print(data.shape, target.shape)\u001b[0m\u001b[0;34m\u001b[0m\u001b[0;34m\u001b[0m\u001b[0;34m\u001b[0m\u001b[0m\n\u001b[1;32m     11\u001b[0m             \u001b[0moptimizer\u001b[0m\u001b[0;34m.\u001b[0m\u001b[0mzero_grad\u001b[0m\u001b[0;34m(\u001b[0m\u001b[0;34m)\u001b[0m\u001b[0;34m\u001b[0m\u001b[0;34m\u001b[0m\u001b[0m\n\u001b[0;32m---> 12\u001b[0;31m             \u001b[0moutput\u001b[0m \u001b[0;34m=\u001b[0m \u001b[0mmodel\u001b[0m\u001b[0;34m(\u001b[0m\u001b[0mdata\u001b[0m\u001b[0;34m)\u001b[0m\u001b[0;34m\u001b[0m\u001b[0;34m\u001b[0m\u001b[0m\n\u001b[0m\u001b[1;32m     13\u001b[0m             \u001b[0mloss_a\u001b[0m \u001b[0;34m=\u001b[0m \u001b[0mcriterions\u001b[0m\u001b[0;34m[\u001b[0m\u001b[0;36m0\u001b[0m\u001b[0;34m]\u001b[0m\u001b[0;34m(\u001b[0m\u001b[0moutput\u001b[0m\u001b[0;34m,\u001b[0m \u001b[0mtarget\u001b[0m\u001b[0;34m)\u001b[0m\u001b[0;34m\u001b[0m\u001b[0;34m\u001b[0m\u001b[0m\n\u001b[1;32m     14\u001b[0m             \u001b[0mloss_b\u001b[0m \u001b[0;34m=\u001b[0m \u001b[0mcriterions\u001b[0m\u001b[0;34m[\u001b[0m\u001b[0;36m1\u001b[0m\u001b[0;34m]\u001b[0m\u001b[0;34m(\u001b[0m\u001b[0moutput\u001b[0m\u001b[0;34m,\u001b[0m \u001b[0mtarget\u001b[0m\u001b[0;34m)\u001b[0m\u001b[0;34m\u001b[0m\u001b[0;34m\u001b[0m\u001b[0m\n",
      "\u001b[0;32m~/anaconda3/envs/kalditorch/lib/python3.8/site-packages/torch/nn/modules/module.py\u001b[0m in \u001b[0;36m__call__\u001b[0;34m(self, *input, **kwargs)\u001b[0m\n\u001b[1;32m    530\u001b[0m             \u001b[0mresult\u001b[0m \u001b[0;34m=\u001b[0m \u001b[0mself\u001b[0m\u001b[0;34m.\u001b[0m\u001b[0m_slow_forward\u001b[0m\u001b[0;34m(\u001b[0m\u001b[0;34m*\u001b[0m\u001b[0minput\u001b[0m\u001b[0;34m,\u001b[0m \u001b[0;34m**\u001b[0m\u001b[0mkwargs\u001b[0m\u001b[0;34m)\u001b[0m\u001b[0;34m\u001b[0m\u001b[0;34m\u001b[0m\u001b[0m\n\u001b[1;32m    531\u001b[0m         \u001b[0;32melse\u001b[0m\u001b[0;34m:\u001b[0m\u001b[0;34m\u001b[0m\u001b[0;34m\u001b[0m\u001b[0m\n\u001b[0;32m--> 532\u001b[0;31m             \u001b[0mresult\u001b[0m \u001b[0;34m=\u001b[0m \u001b[0mself\u001b[0m\u001b[0;34m.\u001b[0m\u001b[0mforward\u001b[0m\u001b[0;34m(\u001b[0m\u001b[0;34m*\u001b[0m\u001b[0minput\u001b[0m\u001b[0;34m,\u001b[0m \u001b[0;34m**\u001b[0m\u001b[0mkwargs\u001b[0m\u001b[0;34m)\u001b[0m\u001b[0;34m\u001b[0m\u001b[0;34m\u001b[0m\u001b[0m\n\u001b[0m\u001b[1;32m    533\u001b[0m         \u001b[0;32mfor\u001b[0m \u001b[0mhook\u001b[0m \u001b[0;32min\u001b[0m \u001b[0mself\u001b[0m\u001b[0;34m.\u001b[0m\u001b[0m_forward_hooks\u001b[0m\u001b[0;34m.\u001b[0m\u001b[0mvalues\u001b[0m\u001b[0;34m(\u001b[0m\u001b[0;34m)\u001b[0m\u001b[0;34m:\u001b[0m\u001b[0;34m\u001b[0m\u001b[0;34m\u001b[0m\u001b[0m\n\u001b[1;32m    534\u001b[0m             \u001b[0mhook_result\u001b[0m \u001b[0;34m=\u001b[0m \u001b[0mhook\u001b[0m\u001b[0;34m(\u001b[0m\u001b[0mself\u001b[0m\u001b[0;34m,\u001b[0m \u001b[0minput\u001b[0m\u001b[0;34m,\u001b[0m \u001b[0mresult\u001b[0m\u001b[0;34m)\u001b[0m\u001b[0;34m\u001b[0m\u001b[0;34m\u001b[0m\u001b[0m\n",
      "\u001b[0;32m/opt/kaldi/egs/Signal-denoising-in-the-wild/pyscripts/models.py\u001b[0m in \u001b[0;36mforward\u001b[0;34m(self, x)\u001b[0m\n\u001b[1;32m    143\u001b[0m         \u001b[0mskips\u001b[0m \u001b[0;34m=\u001b[0m \u001b[0;32mNone\u001b[0m\u001b[0;34m\u001b[0m\u001b[0;34m\u001b[0m\u001b[0m\n\u001b[1;32m    144\u001b[0m         \u001b[0;32mfor\u001b[0m \u001b[0mconv\u001b[0m \u001b[0;32min\u001b[0m \u001b[0mself\u001b[0m\u001b[0;34m.\u001b[0m\u001b[0mconv_layers\u001b[0m\u001b[0;34m:\u001b[0m\u001b[0;34m\u001b[0m\u001b[0;34m\u001b[0m\u001b[0m\n\u001b[0;32m--> 145\u001b[0;31m             \u001b[0mx\u001b[0m\u001b[0;34m,\u001b[0m \u001b[0mh\u001b[0m \u001b[0;34m=\u001b[0m \u001b[0mconv\u001b[0m\u001b[0;34m(\u001b[0m\u001b[0mx\u001b[0m\u001b[0;34m)\u001b[0m\u001b[0;34m\u001b[0m\u001b[0;34m\u001b[0m\u001b[0m\n\u001b[0m\u001b[1;32m    146\u001b[0m             \u001b[0;31m#print(x.shape, h.shape)\u001b[0m\u001b[0;34m\u001b[0m\u001b[0;34m\u001b[0m\u001b[0;34m\u001b[0m\u001b[0m\n\u001b[1;32m    147\u001b[0m             \u001b[0;32mif\u001b[0m \u001b[0mskips\u001b[0m \u001b[0;32mis\u001b[0m \u001b[0;32mNone\u001b[0m\u001b[0;34m:\u001b[0m\u001b[0;34m\u001b[0m\u001b[0;34m\u001b[0m\u001b[0m\n",
      "\u001b[0;32m~/anaconda3/envs/kalditorch/lib/python3.8/site-packages/torch/nn/modules/module.py\u001b[0m in \u001b[0;36m__call__\u001b[0;34m(self, *input, **kwargs)\u001b[0m\n\u001b[1;32m    530\u001b[0m             \u001b[0mresult\u001b[0m \u001b[0;34m=\u001b[0m \u001b[0mself\u001b[0m\u001b[0;34m.\u001b[0m\u001b[0m_slow_forward\u001b[0m\u001b[0;34m(\u001b[0m\u001b[0;34m*\u001b[0m\u001b[0minput\u001b[0m\u001b[0;34m,\u001b[0m \u001b[0;34m**\u001b[0m\u001b[0mkwargs\u001b[0m\u001b[0;34m)\u001b[0m\u001b[0;34m\u001b[0m\u001b[0;34m\u001b[0m\u001b[0m\n\u001b[1;32m    531\u001b[0m         \u001b[0;32melse\u001b[0m\u001b[0;34m:\u001b[0m\u001b[0;34m\u001b[0m\u001b[0;34m\u001b[0m\u001b[0m\n\u001b[0;32m--> 532\u001b[0;31m             \u001b[0mresult\u001b[0m \u001b[0;34m=\u001b[0m \u001b[0mself\u001b[0m\u001b[0;34m.\u001b[0m\u001b[0mforward\u001b[0m\u001b[0;34m(\u001b[0m\u001b[0;34m*\u001b[0m\u001b[0minput\u001b[0m\u001b[0;34m,\u001b[0m \u001b[0;34m**\u001b[0m\u001b[0mkwargs\u001b[0m\u001b[0;34m)\u001b[0m\u001b[0;34m\u001b[0m\u001b[0;34m\u001b[0m\u001b[0m\n\u001b[0m\u001b[1;32m    533\u001b[0m         \u001b[0;32mfor\u001b[0m \u001b[0mhook\u001b[0m \u001b[0;32min\u001b[0m \u001b[0mself\u001b[0m\u001b[0;34m.\u001b[0m\u001b[0m_forward_hooks\u001b[0m\u001b[0;34m.\u001b[0m\u001b[0mvalues\u001b[0m\u001b[0;34m(\u001b[0m\u001b[0;34m)\u001b[0m\u001b[0;34m:\u001b[0m\u001b[0;34m\u001b[0m\u001b[0;34m\u001b[0m\u001b[0m\n\u001b[1;32m    534\u001b[0m             \u001b[0mhook_result\u001b[0m \u001b[0;34m=\u001b[0m \u001b[0mhook\u001b[0m\u001b[0;34m(\u001b[0m\u001b[0mself\u001b[0m\u001b[0;34m,\u001b[0m \u001b[0minput\u001b[0m\u001b[0;34m,\u001b[0m \u001b[0mresult\u001b[0m\u001b[0;34m)\u001b[0m\u001b[0;34m\u001b[0m\u001b[0;34m\u001b[0m\u001b[0m\n",
      "\u001b[0;32m/opt/kaldi/egs/Signal-denoising-in-the-wild/pyscripts/models.py\u001b[0m in \u001b[0;36mforward\u001b[0;34m(self, x, c, g)\u001b[0m\n\u001b[1;32m     95\u001b[0m \u001b[0;34m\u001b[0m\u001b[0m\n\u001b[1;32m     96\u001b[0m         \u001b[0;31m# For residual connection\u001b[0m\u001b[0;34m\u001b[0m\u001b[0;34m\u001b[0m\u001b[0;34m\u001b[0m\u001b[0m\n\u001b[0;32m---> 97\u001b[0;31m         \u001b[0mx\u001b[0m \u001b[0;34m=\u001b[0m \u001b[0mself\u001b[0m\u001b[0;34m.\u001b[0m\u001b[0mconv1x1_out\u001b[0m\u001b[0;34m(\u001b[0m\u001b[0mx\u001b[0m\u001b[0;34m)\u001b[0m\u001b[0;34m\u001b[0m\u001b[0;34m\u001b[0m\u001b[0m\n\u001b[0m\u001b[1;32m     98\u001b[0m \u001b[0;34m\u001b[0m\u001b[0m\n\u001b[1;32m     99\u001b[0m         \u001b[0mx\u001b[0m \u001b[0;34m=\u001b[0m \u001b[0;34m(\u001b[0m\u001b[0mx\u001b[0m \u001b[0;34m+\u001b[0m \u001b[0mresidual\u001b[0m\u001b[0;34m)\u001b[0m \u001b[0;34m*\u001b[0m \u001b[0mmath\u001b[0m\u001b[0;34m.\u001b[0m\u001b[0msqrt\u001b[0m\u001b[0;34m(\u001b[0m\u001b[0;36m0.5\u001b[0m\u001b[0;34m)\u001b[0m\u001b[0;34m\u001b[0m\u001b[0;34m\u001b[0m\u001b[0m\n",
      "\u001b[0;32m~/anaconda3/envs/kalditorch/lib/python3.8/site-packages/torch/nn/modules/module.py\u001b[0m in \u001b[0;36m__call__\u001b[0;34m(self, *input, **kwargs)\u001b[0m\n\u001b[1;32m    530\u001b[0m             \u001b[0mresult\u001b[0m \u001b[0;34m=\u001b[0m \u001b[0mself\u001b[0m\u001b[0;34m.\u001b[0m\u001b[0m_slow_forward\u001b[0m\u001b[0;34m(\u001b[0m\u001b[0;34m*\u001b[0m\u001b[0minput\u001b[0m\u001b[0;34m,\u001b[0m \u001b[0;34m**\u001b[0m\u001b[0mkwargs\u001b[0m\u001b[0;34m)\u001b[0m\u001b[0;34m\u001b[0m\u001b[0;34m\u001b[0m\u001b[0m\n\u001b[1;32m    531\u001b[0m         \u001b[0;32melse\u001b[0m\u001b[0;34m:\u001b[0m\u001b[0;34m\u001b[0m\u001b[0;34m\u001b[0m\u001b[0m\n\u001b[0;32m--> 532\u001b[0;31m             \u001b[0mresult\u001b[0m \u001b[0;34m=\u001b[0m \u001b[0mself\u001b[0m\u001b[0;34m.\u001b[0m\u001b[0mforward\u001b[0m\u001b[0;34m(\u001b[0m\u001b[0;34m*\u001b[0m\u001b[0minput\u001b[0m\u001b[0;34m,\u001b[0m \u001b[0;34m**\u001b[0m\u001b[0mkwargs\u001b[0m\u001b[0;34m)\u001b[0m\u001b[0;34m\u001b[0m\u001b[0;34m\u001b[0m\u001b[0m\n\u001b[0m\u001b[1;32m    533\u001b[0m         \u001b[0;32mfor\u001b[0m \u001b[0mhook\u001b[0m \u001b[0;32min\u001b[0m \u001b[0mself\u001b[0m\u001b[0;34m.\u001b[0m\u001b[0m_forward_hooks\u001b[0m\u001b[0;34m.\u001b[0m\u001b[0mvalues\u001b[0m\u001b[0;34m(\u001b[0m\u001b[0;34m)\u001b[0m\u001b[0;34m:\u001b[0m\u001b[0;34m\u001b[0m\u001b[0;34m\u001b[0m\u001b[0m\n\u001b[1;32m    534\u001b[0m             \u001b[0mhook_result\u001b[0m \u001b[0;34m=\u001b[0m \u001b[0mhook\u001b[0m\u001b[0;34m(\u001b[0m\u001b[0mself\u001b[0m\u001b[0;34m,\u001b[0m \u001b[0minput\u001b[0m\u001b[0;34m,\u001b[0m \u001b[0mresult\u001b[0m\u001b[0;34m)\u001b[0m\u001b[0;34m\u001b[0m\u001b[0;34m\u001b[0m\u001b[0m\n",
      "\u001b[0;32m~/anaconda3/envs/kalditorch/lib/python3.8/site-packages/torch/nn/modules/conv.py\u001b[0m in \u001b[0;36mforward\u001b[0;34m(self, input)\u001b[0m\n\u001b[1;32m    199\u001b[0m                             \u001b[0mself\u001b[0m\u001b[0;34m.\u001b[0m\u001b[0mweight\u001b[0m\u001b[0;34m,\u001b[0m \u001b[0mself\u001b[0m\u001b[0;34m.\u001b[0m\u001b[0mbias\u001b[0m\u001b[0;34m,\u001b[0m \u001b[0mself\u001b[0m\u001b[0;34m.\u001b[0m\u001b[0mstride\u001b[0m\u001b[0;34m,\u001b[0m\u001b[0;34m\u001b[0m\u001b[0;34m\u001b[0m\u001b[0m\n\u001b[1;32m    200\u001b[0m                             _single(0), self.dilation, self.groups)\n\u001b[0;32m--> 201\u001b[0;31m         return F.conv1d(input, self.weight, self.bias, self.stride,\n\u001b[0m\u001b[1;32m    202\u001b[0m                         self.padding, self.dilation, self.groups)\n\u001b[1;32m    203\u001b[0m \u001b[0;34m\u001b[0m\u001b[0m\n",
      "\u001b[0;31mRuntimeError\u001b[0m: CUDA out of memory. Tried to allocate 28.00 MiB (GPU 0; 11.17 GiB total capacity; 877.57 MiB already allocated; 6.19 MiB free; 906.00 MiB reserved in total by PyTorch)"
     ]
    }
   ],
   "source": [
    "train(n_epochs=3, loaders=loaders, model=model,optimizer=optimizer, criterions=[criterion1, criterion2], use_cuda = True, batch_verbose=10)"
   ]
  },
  {
   "cell_type": "markdown",
   "metadata": {},
   "source": [
    "<hr>"
   ]
  },
  {
   "cell_type": "code",
   "execution_count": 1,
   "metadata": {
    "ExecuteTime": {
     "end_time": "2020-05-19T15:36:00.081770Z",
     "start_time": "2020-05-19T15:36:00.079661Z"
    }
   },
   "outputs": [],
   "source": [
    "import os"
   ]
  },
  {
   "cell_type": "code",
   "execution_count": 2,
   "metadata": {
    "ExecuteTime": {
     "end_time": "2020-05-19T15:36:00.140656Z",
     "start_time": "2020-05-19T15:36:00.138202Z"
    }
   },
   "outputs": [],
   "source": [
    "os.environ['KALDI_ROOT'] = '/home/faber6911/kaldi/'"
   ]
  },
  {
   "cell_type": "code",
   "execution_count": 3,
   "metadata": {
    "ExecuteTime": {
     "end_time": "2020-05-19T15:36:10.872294Z",
     "start_time": "2020-05-19T15:36:00.169872Z"
    }
   },
   "outputs": [
    {
     "name": "stderr",
     "output_type": "stream",
     "text": [
      "/home/faber6911/anaconda3/envs/kalditorch/lib/python3.8/site-packages/librosa/util/decorators.py:9: NumbaDeprecationWarning: An import was requested from a module that has moved location.\n",
      "Import requested from: 'numba.decorators', please update to use 'numba.core.decorators' or pin to Numba version 0.48.0. This alias will not be present in Numba version 0.50.0.\n",
      "  from numba.decorators import jit as optional_jit\n",
      "/home/faber6911/anaconda3/envs/kalditorch/lib/python3.8/site-packages/librosa/util/decorators.py:9: NumbaDeprecationWarning: An import was requested from a module that has moved location.\n",
      "Import of 'jit' requested from: 'numba.decorators', please update to use 'numba.core.decorators' or pin to Numba version 0.48.0. This alias will not be present in Numba version 0.50.0.\n",
      "  from numba.decorators import jit as optional_jit\n"
     ]
    }
   ],
   "source": [
    "import torchaudio\n",
    "import torch\n",
    "import numpy as np\n",
    "import matplotlib.pyplot as plt\n",
    "import kaldi_io\n",
    "from scipy.io import wavfile\n",
    "import librosa.display as display\n",
    "from torch.utils.data import DataLoader\n",
    "import pandas as pd\n",
    "from tqdm.autonotebook import tqdm\n",
    "from sklearn.preprocessing import LabelEncoder\n",
    "import torchvision\n",
    "import re"
   ]
  },
  {
   "cell_type": "markdown",
   "metadata": {},
   "source": [
    "#### Classes and functions"
   ]
  },
  {
   "cell_type": "code",
   "execution_count": 4,
   "metadata": {
    "ExecuteTime": {
     "end_time": "2020-05-03T11:22:31.067224Z",
     "start_time": "2020-05-03T11:22:31.063978Z"
    }
   },
   "outputs": [],
   "source": [
    "# class FeaturesDataset(torch.utils.data.Dataset):\n",
    "#     \"\"\"Features extracted from Kaldi\"\"\"\n",
    "\n",
    "#     def __init__(self, scp_file, transform = None):\n",
    "#         \"\"\"\n",
    "#         Args:\n",
    "#             scp_file (string): Path to the scp file.\n",
    "#             transform (callable, optional): Optional transform to be applied\n",
    "#                 on a sample.\n",
    "#         \"\"\"\n",
    "#         le = LabelEncoder()\n",
    "#         self.features = pd.read_csv(scp_file, sep = \" \", header = None, names = ['long_label', 'path'])\n",
    "#         self.features['label'] = self.features.long_label\n",
    "#         for index, row in self.features.iterrows():\n",
    "#             row.label = row.label.split('-')[0]\n",
    "        \n",
    "#         self.features['label_enc'] = le.fit_transform(self.features.label)\n",
    "#         self.transform = transform\n",
    "\n",
    "#     def __len__(self):\n",
    "#         return len(self.features)\n",
    "\n",
    "#     def __getitem__(self, idx):\n",
    "#         if torch.is_tensor(idx):\n",
    "#             idx = idx.tolist()\n",
    "\n",
    "#         feature_path = self.features.iloc[idx, 1]\n",
    "#         label = self.features.iloc[idx, 3]\n",
    "#         feature = kaldi_io.read_mat(feature_path)\n",
    "\n",
    "#         if self.transform:\n",
    "#             feature = self.transform(feature)\n",
    "\n",
    "#         return (feature, label)\n",
    "    \n",
    "#     def num_speakers(self):\n",
    "#         return len(np.unique(np.asarray(self.features.label)))\n",
    "    \n",
    "#     def get_wav(self, idx):\n",
    "#         absPath = '/export/corpora/VoxCeleb1/dev/wav/'\n",
    "#         relPath = str(self.features.iloc[idx, 0])\n",
    "#         relPath = re.sub('-', '/', relPath)\n",
    "#         relPath = relPath + '.wav'\n",
    "#         completePath = os.path.join(absPath, relPath)\n",
    "#         fs, audio = wavfile.read(completePath)\n",
    "#         return (fs, audio.astype('float'))\n",
    "        \n",
    "# def CountSpeaker(path, require_labels = False):\n",
    "#     assert isinstance(path, str)\n",
    "#     import torchaudio\n",
    "    \n",
    "#     labels = []\n",
    "#     for label, _ in tqdm(torchaudio.kaldi_io.read_mat_scp(path)):\n",
    "#         labels.append(label.split('-')[0])\n",
    "    \n",
    "#     labels = np.asarray(labels)\n",
    "#     if require_labels:\n",
    "#         print(len(np.unique(labels)))\n",
    "#         return np.unique(labels)\n",
    "#     else:\n",
    "#         print(\"{} distinct speakers\".format(len(np.unique(labels))))\n",
    "\n",
    "        \n",
    "# def LabelToPath(label, dataset):\n",
    "#     assert dataset in ['train', 'test']\n",
    "#     assert isinstance(label, str)\n",
    "#     import os\n",
    "#     import re\n",
    "#     import errno\n",
    "    \n",
    "#     # VoxCeleb abs path\n",
    "#     if dataset == 'train':\n",
    "#         abs_path = '/export/corpora/VoxCeleb1/dev/wav'\n",
    "#     else:\n",
    "#         abs_path = '/export/corpora/VoxCeleb1/test/wav'\n",
    "#     # substitute - with /\n",
    "#     rel_path = re.sub('-', '/', label)\n",
    "#     # add extension\n",
    "#     rel_path = rel_path+'.wav'\n",
    "#     complete_path = os.path.join(abs_path, rel_path)\n",
    "#     if not os.path.exists(complete_path):\n",
    "#         raise FileNotFoundError(errno.ENOENT, os.strerror(errno.ENOENT), complete_path)\n",
    "    \n",
    "#     return os.path.join(abs_path, rel_path)\n",
    "\n",
    "\n",
    "# def DisplayAudio(audio, fs):\n",
    "#     assert isinstance(fs, int)\n",
    "#     assert isinstance(audio, np.ndarray)\n",
    "#     plt.figure(figsize = (15, 10))\n",
    "#     plt.subplot(2, 1, 1)\n",
    "#     display.waveplot(audio, sr = fs)\n",
    "#     plt.subplot(2, 1, 2)\n",
    "#     plt.specgram(audio, Fs = fs)[3]"
   ]
  },
  {
   "cell_type": "code",
   "execution_count": 5,
   "metadata": {
    "ExecuteTime": {
     "end_time": "2020-04-21T21:07:59.894057Z",
     "start_time": "2020-04-21T21:07:59.874908Z"
    }
   },
   "outputs": [],
   "source": [
    "class SequenceDataset(torch.utils.data.Dataset):\n",
    "    \"\"\"PyTorch datalaoder for processing 'uncompressed' Kaldi feats.scp\n",
    "    \"\"\"\n",
    "    def __init__(self, scp_file, utt2spkid_file, min_length):\n",
    "        \"\"\"Preprocess Kaldi feats.scp here and balance the training set\n",
    "        \"\"\"\n",
    "        self.rxfiles, self.labels, self.utt2spkid = [], [], {}\n",
    "        \n",
    "        # balanced training \n",
    "        id_count = {}\n",
    "        for line in open(utt2spkid_file):\n",
    "            utt, label = line.rstrip().split()\n",
    "            self.utt2spkid[utt] = int(label)\n",
    "            if not int(label) in id_count:\n",
    "                id_count[int(label)] = 0\n",
    "            id_count[int(label)] += 1\n",
    "        max_id_count = int((max(id_count.values())+1)/2)\n",
    "        \n",
    "        for line in open(scp_file):\n",
    "            utt, rxfile = line.rstrip().split()\n",
    "            label = self.utt2spkid[utt]\n",
    "            repetition = max(1, max_id_count // id_count[label])\n",
    "            self.rxfiles.extend([rxfile] * repetition)\n",
    "            self.labels.extend([label] * repetition)\n",
    "        \n",
    "        self.rxfiles = np.array(self.rxfiles)\n",
    "        self.labels  = np.array(self.labels, dtype=np.int)\n",
    "        self.seq_len = min_length\n",
    "        print(\"Totally \"+str(len(self.rxfiles))+\" samples with at most \"+\n",
    "            str(max_id_count)+\" samples for one class\")\n",
    "    \n",
    "    def __len__(self):\n",
    "        \"\"\"Return number of samples \n",
    "        \"\"\"\n",
    "        return len(self.labels)\n",
    "\n",
    "    def update(self, seq_len):\n",
    "        \"\"\"Update the self.seq_len. We call this in the main training loop \n",
    "        once per training iteration. \n",
    "        \"\"\"\n",
    "        self.seq_len = seq_len\n",
    "\n",
    "    def __getitem__(self, index):\n",
    "        \"\"\"Generate samples\n",
    "        \"\"\"\n",
    "        rxfile  = self.rxfiles[index]\n",
    "        full_mat = kaldi_io.read_mat(rxfile)\n",
    "        assert len(full_mat) >= self.seq_len\n",
    "        pin = np.random.randint(0, len(full_mat) - self.seq_len + 1)\n",
    "        chunk_mat = full_mat[pin:pin+self.seq_len, :]\n",
    "        y = np.array(self.labels[index])\n",
    "        \n",
    "        return chunk_mat, y\n"
   ]
  },
  {
   "cell_type": "code",
   "execution_count": 4,
   "metadata": {
    "ExecuteTime": {
     "end_time": "2020-05-19T15:43:20.775365Z",
     "start_time": "2020-05-19T15:43:20.772452Z"
    }
   },
   "outputs": [],
   "source": [
    "import librosa"
   ]
  },
  {
   "cell_type": "code",
   "execution_count": 29,
   "metadata": {
    "ExecuteTime": {
     "end_time": "2020-05-19T16:13:00.836702Z",
     "start_time": "2020-05-19T16:13:00.830649Z"
    }
   },
   "outputs": [],
   "source": [
    "class DenoiseDataset(torch.utils.data.Dataset):\n",
    "    \"\"\"PyTorch datalaoder for processing 'uncompressed' Kaldi feats.scp. It returns noisy audio\n",
    "    with their corresponding clean audio file.\n",
    "    \"\"\"\n",
    "    def __init__(self, scp_file, min_length):\n",
    "        \"\"\"Preprocess Kaldi feats.scp here\n",
    "        \"\"\"\n",
    "        self.noisy_audios, self.clean_audios = [], []\n",
    "        \n",
    "        for line in open(scp_file):\n",
    "            clean_audio_path, noisy_audio_path = line.rstrip().split() \n",
    "            self.noisy_audios.extend([noisy_audio_path])\n",
    "            self.clean_audios.extend([clean_audio_path])\n",
    "        \n",
    "        self.noisy_audios = np.array(self.noisy_audios)\n",
    "        self.clean_audios  = np.array(self.clean_audios)\n",
    "        self.seq_len = min_length*16000\n",
    "        print(\"Totally \"+str(len(self.noisy_audios))+\" samples\")\n",
    "    \n",
    "    def __len__(self):\n",
    "        \"\"\"Return number of samples \n",
    "        \"\"\"\n",
    "        return len(self.clean_audios)\n",
    "\n",
    "    def update(self, seq_len):\n",
    "        \"\"\"Update the self.seq_len. We call this in the main training loop \n",
    "        once per training iteration. \n",
    "        \"\"\"\n",
    "        self.seq_len = seq_len\n",
    "\n",
    "    def __getitem__(self, index):\n",
    "        \"\"\"Generate samples\n",
    "        \"\"\"\n",
    "        noisy_audio  = self.noisy_audios[index]\n",
    "        full_mat = kaldi_io.read_mat(noisy_audio).squeeze(1)\n",
    "        assert len(full_mat) >= self.seq_len\n",
    "        pin = np.random.randint(0, len(full_mat) - self.seq_len + 1)\n",
    "        chunk_mat = full_mat[pin:pin+self.seq_len]\n",
    "        y, _ = librosa.load(self.labels[index], sr = 16000)\n",
    "        y = y[pin:pin+self.seq_len]\n",
    "        \n",
    "        return chunk_mat, y\n"
   ]
  },
  {
   "cell_type": "code",
   "execution_count": 31,
   "metadata": {
    "ExecuteTime": {
     "end_time": "2020-05-19T16:13:08.650217Z",
     "start_time": "2020-05-19T16:13:08.638722Z"
    }
   },
   "outputs": [
    {
     "name": "stdout",
     "output_type": "stream",
     "text": [
      "Totally 816 samples\n"
     ]
    }
   ],
   "source": [
    "dataset = SequenceDataset(scp_file='../data/test/noisy_audio.scp', min_length = 4.0)"
   ]
  },
  {
   "cell_type": "code",
   "execution_count": 17,
   "metadata": {
    "ExecuteTime": {
     "end_time": "2020-05-19T15:54:44.924533Z",
     "start_time": "2020-05-19T15:54:44.922795Z"
    }
   },
   "outputs": [],
   "source": [
    "import IPython.display as ipd"
   ]
  },
  {
   "cell_type": "code",
   "execution_count": 22,
   "metadata": {
    "ExecuteTime": {
     "end_time": "2020-05-19T15:56:33.581511Z",
     "start_time": "2020-05-19T15:56:33.387456Z"
    }
   },
   "outputs": [
    {
     "data": {
      "text/html": [
       "\n",
       "                <audio  controls=\"controls\" >\n",
       "                    <source src=\"data:audio/wav;base64,UklGRiT0AQBXQVZFZm10IBAAAAABAAEAgD4AAAB9AAACABAAZGF0YQD0AQD8HZcicCFDL0Mv9SxDL0MvBTVqMEMvzitaKOUkcCFwIUkgrhueEzkYYBnrFQIPAg+0DJECQP2/9NXyF+0t60Ppm+H02WLQTNK6yLrIusikyqTKKb8TwefEusi6yGLQ3tux35vhAe8B79XyqfZA/UAJ7QaNC9sNKRBQEbQM6xUpEAIPtAx3EsUUQAlnCkoG+AX+AvgAOgA7+6n2qfa/9OvwAe8B79Xyv/Sp9jX+Jf34AI0LZwrFFOsVSSDOKzMnQy/1LGow3zPOK98zkTHfMwU1ajAcLoEpDCaXIr4jlyIjHyMfIx+HGjkYUBF3EgIPcAUV/Kn2Letv5YXj3ts21I7MYtDnxCm/P70/vT+9l7U/vVW7Kb/9wqTKYtAg1t7bheND6VnnF+3r8Hz6S/xs/kQEnAFEBBkDZwpACS8GAg8pEFARjQtACY0LiwDHAmcKJAfZ/nz6uPyS+AHvqfa/9JL4kvh8+nAAkvj//U8DjQvFFK4bcCG+IyMfMyczJ/UsajBDL1M3LDZ6OLgy3zMFNbgyQy8FNRwupypaKPwd5SRwIUkg1Rw5GIcaxRS0DDD8kvi/9Ovw6/CF48jdNtQ21I7M0cY/vRPB/cLnxLrI/cL9wim/usjRxnjOYtA21N7bm+GF41nnWefr8Kn2qfZKAZwBLwZACSkQ6xV3Ep4ThxpgGcUUjQsCDykEhgNPA5L4gvzV8qn2v/Tr8NXyAe8B75L41fKS+Ev8kQJEBEAJnhPbDWAZ6xX8HZciviMzJzMnQy8zJ4EpajD1LPUsgSmXIt8z5SQzJ/UscCH8HSMfHC45GHAhORgpEOsVAg/bDUb/bP4g++vwQ+mx3wrY3tv02d7bTNI21EzS0cZM0njOjsy6yI7MINZi0EzSjsw21EzS3tux38jdheNv5an2v/R8+qL+RARACWcKKRCNC7QMQAm0DEAJtwZACToAVQWGA5ECv/S/9JL4v/SY+tXykvgE+6n2qfZs/pL4fPo1/q39ZwplBp4TtAwpEOsVnhPlJOsVYBnlJIEpSSCBKRwuQy+4Ms4r3zMzJzMn5SRqMHAhhxozJ2AZDCZ3EusVUBGNCwMFtwFaB+vwjQvHAqn24gLV8pL4kvgX7evwAe/r8IXjsd9Z5yDWINYg1oXj9Nli0MjdYtA21MjdCtix32/lWefr8IXj6/AX7QHvqfbV8gT71fLdAJL4qfbr8Kn2v/S/9Kn2qfaS+BftGQgt66n2v/QB73z/1fKNC+vwKQRACSD7xRSS+NsN2w2C/J4TZwqNC40LhxqeE4ca/B2uGzkYrhtaKK4b9SyuGyw2pyqXIs4rMye+IxIXviMpEEkgYBm0DGAZKRDFFJ4TSgYMJrcBs/+HGtXyGQhACan2xwfV8jv7VQVZ59XyMPzV8kPpUf6F4y3r6/Bv5b/03tst62/lyN2F4wrYm+He22/lhePI3bHfTNKb4UzSWec21N7bLeti0BftpMq/9Mjd3ttPAwrYIPsX7ZL9v/RD6bEEfPr0/pL4dxIvAZL4GQhwBdsNnAGHGgwmkQLlJEkgUBGBKVooWihwIacqlyIzJ+UkxRSBKXAhxRQcLhIXviP8HXAF9Sz8HSkQ6xXFFPwdGQjrFZcidxJnCuIH/B3k/fT+KRAE+8IFkvjV8rQM6/Bh/77+LeuS+C3rkvjV8lnnfPoX7evw1fJv5S3rWecX7fTZ6/Bv5d7b3tsK2Bft0cZZ55vhusix3/TZ3tsK2N7bWeeF4wrYAe9v5QHvF+0t69XyLeuS+G/lJf0B76wC6/BVBY0L+ACNCwIP6xXtBjMnUBFgGUoGDCYCD1ARDCZ3EhIXYBnFFHo4ZwqeE6tQw/tDL40LORgcLr/0BTWeE/MDIx8CD7QMQAmHGo0LYBlaB54TDgSeEwr9d/05GNXyKRAX7esVv/SNC6n2Ag9nCoXj5SRv5TX+qfanAJL93tup9un6b+VD6YsAQ+kX7evwqfbV8kPpLeui/m/lQ+lQEaTKkvgB72/lYf+6yHz/Weeb4b/03tup9pvh1fLD+5vh2AOS+C3rZwrV8hftGQiz+jQDtAxs/ncS6/DbDa4bsd+eEwIP7QbzA7cBcCG8A639Ehf8HQHvTwNaKJL4nhNnCusVjQvdAK4bwgBnCuT9dxJ3Eir/qfaXIlnnGQjFFMjd9SzI3Ub/hxpD6Y0L1fLT/HAhF+2/9HcSJf1Z59sNSgbV8j8CkvjFFFnnGQgvBkPpEheF4+sVkviF4yMfINa0DNXyAe+C/N77+vtv5R4FkvjtAUPpZwrk/QHvS/wpEN7bSgGhA8jdxRTI3UAJv/Tr8LEEAe///dXyZwrV8pL4UBG/9JL4JAJ7BGcKiwWp9mAZkQK/9HAhqfbV8r4jwgCS+DkYb+WeE3YCqfZgGZL4Pwe0DBr+sQRgGaj7Ag8CDyMfgAYZCOsVEwYCD6YF2w3iB/gAdxKRAlnndxJlBtXyjQup9t77Ag9Z5xIXv/QB754TSgFZ50AJfPqN+40Lm+E5GBftWecZCDoAsd9gGUPp6/BgGWLQZwrV8gHv6/Aq/+vwLetnCt7bjQut/ZvhdxJ8+t7bPwdVBS3r2AOp9ncSAe98+r7+XP2p9rEE0gYt6zkYLeu0DDoA7QaN+ykQPwJ8+oca1fIjH7/0hxoZCGb8cCEw/HAhGQNEBCkQcAVACZ4T1fLVHLQMQ+m+I5vhUBG0DAHvlyKS+MIAhxot68UUawPV8p4TLeuH/uvw2AMX7S3rwgUB78IAhePO+u/8Ctjv/PgAb+Wp9jX+b+WX/7/0F+0V/OvwfPqS+JL4F+3bDUPpF+2ABpvhQAm/9FnnZwow/BftiwW/9DoApgUX7SQHQAnNBJL4UBGp9vwdKRC/9AIPHgVQEawC6xUB7zMnvAPD+yMf1fKuGxkDAg/bDY0LJAemBSkQXP2+I5L4UBFQEcIAjQvNBCkQXP2eE1UA/B2S+Lj8/B2p9of+ZwroBOvw0gEg+3z6+vup9qn2s/ol/QHvFAGp9r/0fPqp9uT9LesX7R4F6/Cb4Xz6F+2Y+kPpheOGAxftF+36+xftkvjV8gHvawND6WUG4gIX7ZL4jQu/9DoFSgap9kAJkvgCD7/0QAlwBZL4YBlD6SkQJAKS+GAZBPucBncSAg8CDwgHxRSuGzX+/B1PAz8HtAxACWcKqfbbDVUAgQFVBbcB2APYA40LkQd8+oYDGQg/Aj8CrAeC/On/wgBKBiX9qfYkB9gDnAEt6wIPkviS+AkCkvio+7j8dgKp9ikEAe9QEZL4v/SmBU8DkvjO/2cKkvgCD9Xy2w3tASX9Nf6WBNsN1fJKAbj8+AWcBqn2+vuRB7/0w/vp+gT7yP3r8FH+kvh8+scCF+0a/pL9fPqhA9Xy+ADzA5L4QAnp/87/4gfp+vMDvv4g+5L4QP2xBDD8yP2S+AMApwAOBJL4AwDNBGAE2AOsApwGfPqNC5L4twGd/AMAS/yp9mUBqPuS+Hz6xwKp9mcKkvisAoAGkvhaAnz6ZwrSAdIBGQiX/3z/+vtnCosAfPqhAwMFSgF7BKwCnfwZCFb7QAlL/LP62w3CAB4Fw/vSBikQRv+ABnz/hgPNBCD72ANx+5L4QP18+lb72f6/9Pr7rf0V/BX8iwBL/Cr/AwAE+9IBXP18+lH+fPoUAeT9O/t7BHz6+ADO/77+OgD4BYL8WgJwAFUAjQuo+zoFpwCsByQCfP+BAfgFdQfZ/lUFPwKNC/4CjQviB+0BtAysBxkIZQECD4AGwgWNCykEZwp2AmUGkQLzA9n+awO8A8j9NAMkAj8C7/wZCGb8VQAeBdIBLwGz//gFOgBlBlz9ewSo+z8CbP6p9rj8qfbzAwHvbP5L/AHvRASp9lb7qfaS+GH/O/sUAb/0s/+S+JL4MPzr8Jj6v/Sp9tXyfPqS+L/0LwHV8q39zvqS+NIBkviz/7cBl/8P/9IGHwC3AU8DyP1lASQCGQiH/nUHgAacBmcKSgEpEJwBKQRnCmAEGQgeBY0LZQaxBNsNjQtVBdsNHgVnCiQHgQEZCED9RATYAxQBcfu3Bt0Ah/4vAQMA2AON+9IG0/x3/b7+uPx8+pL4kvip9v/91fIE+5L4qfZ3/b/0kviS+Jj6kviS+Fb7qfaS+K39v/S/9HH7qfY7+6n2fPqS+O/8Jf2o+y8BKv80AwkC/gLYA4YD+AUkAvMDpgWWBC8G7QEeBVUF7QHHAoEB+ADdBYYD3QATBgkCVQXzA2UBGQgZA/4HYASWBHUHrAfoBGsD/gf4ADoFzv+3AfT+l//tATv7HwCi/mH/0/xR/gMAuPxKAUoBKv9A/WUBOgAa/u/8fPoq/7/06fqS+Kn2IPup9pj6fPqo+6n2fPqp9lb76fqS+OT9fPpA/UD9Jf1m/BX8cfvI/Tv7vv46AL7+HgW+/t0FDgSi/i8GVQCxBMcCkQLdBUQEpgW3BrcGGQhACZwGjQvYA+gELwYOBPgFNAPzA6cADgTCAN0A8wNKAT8CDgR2Av4CGQOsArEE0gHSAYf+AwA6AKL+cAAa/gMA3QAq/0oBAwDO/9gDFAHdADoA9P4JAir///2i/lz9fP/T/Gb8h/7k/TX+bP6nAOn/FAHtASkE4gLiAscCtwEvBun/hgMeBR8AGQMvAVUAYf+S/WH/2f7T/Cr/3QB3/en/Yf+S/XYCXP2X/5wBOgDSAawCrALSAeICLwG3AfT+pwC+/g//bP7T/JL9s/r//ZL4qPsw/JL4Jf2Y+mb8Jf3k/Xf9Gv7I/Y37+vup9pL4kvip9pL4qfaS+Hz6kviS+JL4kviS+LP6BPtx+4L87/yt/b7+d/3//b7+Ffwa/un/bP5aApwBnAF2AnYCxwK3AaEDZQE0A+0B7QF2ApEClgToBC8GwgU/B1UFGQgTBhMGLwY6BcIFrAKsAosAnAHZ/t0A2f4DAKcAfP8JAlUAZQFh/0b/S/yS/Qr9Cv2t/TD8bP7T/Gb87/yd/ED9MPyt/a39XP2+/mb8h/6S/e/8yP2d/DD8nfwV/J38rf2d/FH+ov6LAPgAwgBKAZEC7QEkAqEDJAJwBfMDVQUeBbwDsQTYA6EDnAE0A4EB0gGhAykE4gI/AnYCgQFlAcIA3QD4AN0AJAL+Au0BoQOGAxkDkQKRAloC0gFKASr/OgDI/YL8Cv0V/Kj7fPoE+5j6fPrp+tP8uPy4/L7+d/0l/Vb7fPrO+pL4kviS+Kn2kviS+JL4kviS+JL4kviS+JL4fPp8+lb7S/wg+yD7w/uo+437Vvud/CX9gvzk/Zf/zv+LAC8BWgLSAdIB7QHSAf4CCQI0AxkDKQQDBQMFtwacBu0GSgasB5EHSgaRBwMFKQRgBJECtwEkAu0BcAD4AMIA0gG3AUoB7QFwAKcAcADp/w//fP+i/mz+h/7k/b7+//2t/eT9d/0q/2H/bP6z/9n+h/5R/qL+Yf93/a39XP1A/eT9nfzI/a39d/0P/0b/HwDCAN0ACQJlAccC8wPYAw4EHgXzAxkDcAU/ArwDWgJ2AjQDSgF2Aj8C7QGLAIEB2f6z/9n+Uf46AFH+pwDp/4sAAwBwAGUBHwAvAQMA6f/0/nz/2f53/a39uPxL/MP7zvp8+nz6mPpW+/r7Ffzv/ED9d/3I/a390/zD+8P7IPtW+7P6fPpW++n6fPp8+nz6fPp8+lb7+vtL/BX80/zT/ED9gvxc/a39Jf3//Xf9ov6+/rP/fP+LAOn/SgEJAun/cAAP/2H/s//O//T+AwDdABQBPwL+AjQDTwNgBGAERARPA08DNAPtAWUBHwD0/ir/9P4DAHz/D/+X/87/pwBVAHAA2f4P/6L+bP6X/8j9Uf6S/Uv87/zv/Br+h/5R/sj9h/6i/of+Yf8P/2H/D/8a/r7+Gv70/g//XP30/of+Rv/O/3AA3QAfAC8BgQFaAmsD6ATCBUoGtwaABj8H7QZwBc0EsQSWBM0EAwUeBToFsQS8A08DTwOsAj8CkQKBAYEBJAJlAXYCTwOsAuIC4gKsAu0BnAFKAcIAwgCz/4f+Nf4V/Dv7fPp8+pj6fPrp+jv7MPyC/CX9rf0K/e/8jfvp+un6zvp8+nz6fPqS+JL4kviS+JL4kviS+JL4fPp8+nz6fPrp+qj7MPy4/MP7nfzv/K39Gv58//gApwA6APgA+ABKASQCtwFKAQkCCQKcAQkCtwEJAk8DDgToBFUFiwW3BiQHPwe3BoAGOgW8A/4C4gJaApwBkQLSAVoCkQKcASQC7QEUAWUBWgK3AacAHwCz/2H/Gv6t/Vz9uPwK/ZL9rf3v/Hf95P1s/vT+AwCnAJf/fP/Z/of+5P1c/Xf9rf3I/TX+yP2S/dn+vv6i/qL+Yf8q/+n/gQE/ArwD2ANgBJYEKQQpBIYDawNrAykEKQREBJYEawMZA+ICCQJaAscCgQEkAtIBZQGsAhkDDgQOBGAERAQDBR4FlgQeBZYEawM/ApwBZQE6APT+//24/Lj8nfzv/P/9vv6X/x8AwgAP/4f+fP++/vT+h/7T/MP7Vvt8+nz6mPp8+pL4fPqz+nz6fPp8+sP7O/tL/J38Ffxm/DD8nfxc/dP8kv2+/kb/3QDdAC8BtwFaAnYCJAIJApwBZQEUAe0BkQKsAnYChgMOBJYEwgVKBtIGWgcIB5wGSgb4BR4F2AOhA08DkQKBAZwBSgGcAWUBtwEJAkoBLwFwADoAHwDO/3z/zv9G/4f+D/9s/v/9h/41/hr+Gv6+/gMAHwDdAMIAcABVAA//Rv+t/SX9Cv0K/cj9QP1c/Z38XP2S/eT9XP0a/ir/l/9lAXYCNAP+AscC4gIZA8cCdgJ2AhkDxwJPA/4CJAJaAtIBgQFVAM7/s/+z/2H/VQD4AJwBSgFKAQkCnAF2ApECTwMZA5ECrAIJAhQBiwBG/+T97/y4/Gb8gvwK/SX9Nf7k/TX+Nf5s/g//s/+z/yr/Yf93/ZL9rf0K/SX9ZvxL/I37Ffww/Kj70/wl/dP87/wl/Vz90/zT/K39d/2t/eT92f6LAPgAtwGRAhkD/gL+AtgDoQNrA/MD2APYA2sDGQPYA7wDewToBDoFSgZ1B+IH4gcZCOIHdQfSBi8GpgVEBNgD8wMZA08DkQLHAv4CCQKcAZwBCQJlAWUBFAEvAcIAiwCLALP/D////eT97/xA/dP8QP2t/TX+vv4P/5f/Yf8q/+/8s//V8r/0ZQFR/g//MPx8+hr+PwIq/6j7s/8/AmUBZQGz/x8ANANEBFUFnAGcAS8GwgXtBtIGtwYZCGcKGQhwBeICzv+xBCkECQJlAXAAFAFaAu0BRv+z/xQBJAIDAFUAWgIOBJYEWgJaAh8AKv9s/tP8Gv5A/aL+d/2N+7j87/z//eT9bP41/ir/9P6+/mz+bP46AED9S/zD+zv7fPqS+JL4kvh8+p38zvp8+pL4kvgg+1b7kvip9pL4kviz+i3rqfbp/5L4SgH6+1UA6f8DAJ38kvgq/7P/wgBlBkoBSgH0/hr+FAGLAEAJCAckB3sE0gFACRkIjQucBsIFtwG3ASQH6f80A0QEQAlACYAGGQhEBAkCpgW3AaEDnAEV/CQCAwXdBcIAiwCcAQkCRv+S+Kn2BPuN+77+AwDI/VUAPwIUAQMA9P6t/Uv8zvpA/e/8kvgg++n/CQK3Ac76BPuH/uT97/zT/Mj9twYZCNIBFAGz/9IBov5A/SX9s/oJAj8HQAkCDwMF3QCS+Kn2SgGz+un6Cv0a/vT+zvp7BOIH2ANKAc76kviS+N0ArAIZCFARtAxACdgDJf3k/Xz6qfaY+kb/gAZgBIEBvv6S/VH+mPp8+oL8h/7O/x8AuPyt/Xz6fPqN+9XyqfaS+Kj7AwB8/4f+FAGC/N77Vvup9sj96fo7+5L4kvhL/JL90gFwALwDNAOmBcIFdgJG/4L8HwDoBEAJRAQUAYEBvv4UAdgDOgUvBsIFtwaLBXYCcAWABmUGZwqNC0AJGQjYAxr+2f63AZYE2APCBQgHjQtACXAFoQNACUAJ6f+t/an2MPxc/XAAWgfSAXz/jfvT/Jf/fPqp9nz65P0JAvgAzv9A/cj9yP18+lH+VQBrA3AAkvi/9JL4fPpm/EQECQJlAVH+fPqS+Kn2kvg7++0B/gL0/j8CEwZnChkIkQdACSQCRv98+nz6Uf6GA7EEWgLtAeIC+vup9sP77/zYAyQCl////ZL46fo6APgAzQTHAloCHwCH/sIAnfyi/ir/kv2N+5L9cADzAxr+w/uS+Kn2qfap9tP8HwDSAVoC0gH4AA//kvh8+pL4uPzO+u/8Zvwa/koGVQCz/3z6BPuS+NXymPqt/Q//SgF8+r/01fKS+J38/gI/B4EBUf58+pL4kvgV/GH/LwGLAMj9Zvx8+nz67/zO/0oB5P3D+6j7QP2S/fgA2AMUAccCUf6o+8767/xgBCQHQAn+B0AJtAwCD54TKRACD7QMjQu0DAIPUBGeE2AZxRRQEbQMQAn4Bc0EGQhACbQMUBFQESkQ2w20DIsFpwCS/b7+7QF8/80EYAQ/As7/cfup9tXyLeub4d7b9Nn02fTZsd9Z5wHv6/AB7y3rWedZ5y3rLesX7QHv6/CS+MP79P4eBZEHQAkZCKYF8wNEBKEDAwU6BUAJjQtACUAJJAcZCBkIGQjSBiQHZwq0DNsNdxKeE3cSnhN3EikQUBHrFRIXORgSFzkY6xV3ElAR2w1ACUAJQAk6BfMDDgQOBGAENANrA+ICJAJ3/evwQ+ne2zbUeM6kymLQTNL02d7byN2F42/lheND6S3rF+0X7QHv1fK/9JL43vuX/7EEWgdnCmcKQAlnCrQM2w2NC0AJ+AU0A1oCtwFaAgkC2AMkB0AJZwrbDQIPdxLrFesVxRRQEQIPtAxACUAJjQvbDSkQxRRgGYca1RwjH0kg1RxgGesVUBGNC0AJtwaLBRMGHgWsB4AGCQJ8+uvwWecK2I7M/cIpv/3Cjswg1t7bb+UX7b/0fPoP/1UArf18+r/01fLr8Ovw1fKS+K39vANACSkQEhdgGYcaEheeEykQZwoZCBkIZwoZCD8HsQRs/sj9Kv9KAXAFGQiNC40LtAwCDwIPnhPFFOsVnhMCD2cKxwdACdsNKRBQEVAR2w2NC4sFtwF8+qn2qfap9qn2s/oDAJf/fPoB77Hfjsz9wj+9P71Vu1W7P739wqTKINax3xftfPpgBBkICAesB40LUBFQEQIPGQg6AHH75P3NBNsN6xWuG/wdrhvFFI0LLwYOBDQDkQJVAO0BtwbbDcUUYBnVHEkgSSBJIEkgSSAjH/wdYBmeE7QMQAmRB0AJZwp1BykEJAIZA5wG2w2eExIX6xUpEEAJrAJ2ArwDKv/r8Mjd58TDsV6kiqB0ojKow7Epv47M3ttD6b/0ZQFACdsN2w0CD3cSORj8HdUcORgCD08DBPup9qn2fPpwAHsECAeNCykQYBlwIb4jIx/rFbQMJAcZCAIPORgjH+UkpypaKHAhYBmeEykQ2w3bDbQMjQvbDcUUORg5GJ4TAg+0DCkQ6xVgGa4b1RyuG2AZnhMCD2cKoQPr8DbUgbegniWTJZPMmkim2a9Vu9HGNtRv5b/0zQRQERIXORjFFNsNGQhlBoAGawNR/qj7kvip9pL4fPp3/WH/2f5c/VUAsQRnCgIPAg+0DBkInAbSBo0LUBHFFDkYrhtJIL4jDCYMJgwm5SQjHxIXUBECDykQxRRgGa4bhxrrFSkQtAxACUAJZwoCD54TEhdgGesVZwq/9ArYa7lepOKYJZMPlbacBqwpvzbUhePr8Jj6twEIB5EH4gKH/jD8wgBnCncSYBkSF40Ls/+p9qn2fPqcAVoHQAlACRkIQAlACccHcACS+Kn23vvzA9sNEhf8HXAh5SSBKRwuQy+nKpcirhsSF8UU6xUSFzkYORjrFQIPQAmWBO0BhgNACVARORj8HZci5SS+I4ca0gYt62LQa7lepPmWUY9Rj/mWSKZVuzbUF+2+/o0LdxLrFesVxRQpEI0L0ga3BscHQAmABu/8v/Tr8JL4VQCsApL9qfa/9JL4l//zA+0GCAecBs0EOgVaB40LKRASF9UcviOBKc4rMyfVHAIPRAQDAOICOgUZCI0LAg/FFOsVnhMpECkQUBHFFGAZ1RwjH74jWijOK+UkKRDr8HjOw7HMmqmHAYC/hQ+V2a+kypvh1fLoBFAREhdgGWAZORg5GJ4TKRACD9sNZwp2ApL4Ae/V8gr93QU/B2sDhgNACZ4TORieE40LHgUDBZEHZwrbDesV1RxwIb4jMycMJpcirhueEykQdxJgGYcaORjrFcUU6xVgGTkYYBnrFTkYrhsjHyMf1RyHGq4b1RwSFx4FWefRxgaszJpnjX2LUY/Mmgas58T02RftS/xACcUUYBk5GJ4TtAwOBKj7qfap9qn26fqz+pL4qfZ8+mz+AwADAN0AlgSNC3cSEhdQEaYFRv8l/bP/OgAvAbwDQAnFFPwdcCFJIPwd1Rw5GFARZwoDBawChgO0DMUUYBmHGtUchxrFFFARKRB3EsUUhxr8Ha4bjQvr8CDWVbt0ojuRk4l9i/mW8K39wgrYLevD++IH2w0CDykQUBHbDbcGLwHNBEAJtAy0DIAGhgMJAjoAyP1s/u0BZwopEFAR2w2NC0AJWgJ8+r/0qfat/UAJnhM5GK4bcCEzJ84rgSkzJ74jSSCuG+sVdxIpECkQUBFQESkQAg8pECkQUBHFFDkY/B2+I74jKRDV8grY0caXtUimzJolk+KYXqSBt9HGINax3y3rqfZEBNsNnhMpELQMZwpnCkAJLwaABhkIjQu0DNsNZwq0DLQM2w3bDbQMQAkTBv4CRv9c/cj9VQDHAkAJ2w13EsUUrhtwITMnzitDL0Mvziu+I64bnhO0DFoHlgQTBo0LnhM5GK4bORg5GDkY/B2uG3cSQP1Z50zS/cKts0imtpz5lsyaSKaXtf3CeM4K2G/l1fJrA2cKtAwZCBkIxwehAwkCrAIZCI0L2w3bDdsNjQsZCOICKQQZCLQMjQtACZwGLwb4BeICnAHHAmcKKRASF64bcCEzJ84rQy+RMWowWigjH4caORgSF3cSUBESF0kgMyflJHAhSSD8HSMf/B0SF1oHqfZZ5wrY58StsxyqXqSKoHSi2a8TwXjONtT02YXjAe/T/LEEGQiNC9sN2w2NC7QMtAwZCLwD2APzA1oCO/uS+N77vAMZCBMG2AM/AgkCfP98+r/0v/TI/WcKdxJgGdUcSSCXIgwmDCa+I0kg/B38HfwdSSDVHGAZ6xU5GNUcIx/8HSMfIx/VHIcanhNnChX8F+3e27rIa7nDsQasMqgcqpe1E8GOzEzSNtQK2LHfQ+nr8JL4jft8/wkCTwPSAXz/Cv07+876Nf4DANn+BPsK/d0ATwNPAxQBnAFlAVUAFfyS+Hz6fP8eBWcK2w13EusVEhfrFRIXhxrVHEkgcCGXIkkgIx9gGesV6xU5GGAZrhv8HSMfhxrrFcUUKRAZCNP81fIX7Vnnsd8K2EzSYtA21PTZ3tub4ZvhheND6QHv1fK/9Kn2qfaS+JL4v/Tr8BftAe/V8qn2s/pG/5ECrALiAoYDRAQZCI0LAg8CDwIPAg+0DGcKQAlnCmcKtAwpEHcSnhOeE54TEhc5GBIX6xXrFRIX6xV3ElARdxISF64b1RyuGxIXdxK0DMcHvANaAi8BWgJwBd0FnAHe+5L4qfa/9NXyv/Sp9pL4fPqS+Kn2kviS+Kn21fLr8BftQ+mF44XjheOb4YXjQ+kt6xftF+0B7+vwv/S/9L/0kvio+977kvi/9Ovw6/DV8r/0kvhm/MIA0gFPA+gEOgXNBPgFQAmNCykQ2w3bDSkQnhPFFJ4TdxJQESkQKRCNCxkItwbHB2cKjQu0DI0LZwpACZEH7Qb+B0AJjQvbDbQMZwrSBrwDFAHk/fr7O/v6+/r7gvx8+r/01fLV8qn2Vvut/RX8BPsK/bj8BPup9r/01fLV8uvwF+0t6y3rF+0t6xftF+3r8NXy1fLr8AHv1fKp9o37FAHdBUAJQAlaB0oGiwUpBFoCzQRnCrQMjQtnCo0LtAy0DGcKjQvbDSkQUBEpECkQUBF3Ep4TnhN3ElARAg+0DEAJtwYOBGAEHgWcBugEkQKz/+T9d/01/gMAwgChA8IFgAahAw//kvip9qn2qfa/9L/0qfa/9NXyAe8X7RftF+0B7wHvF+0B7wHvAe/r8Ovw6/Dr8NXy6/Dr8BftF+0B79Xykvio+1H+l//p/0b/ov6+/gMAoQMZCLQMtAy0DI0LjQtACccH4gdnCrQMtAyNC0AJ7QYDBegEtwZACUAJZwpnCkAJQAntBiQHxwcZCLcG2AOLAL7+Nf6d/MP7ZvzI/Sr/Kv8w/JL4kviS+Kj7ov4/AnAFgAZaBy8GrAJs/mb8BPt8+pL4kviS+Kn2kvip9r/0qfaS+Dv7Zvww/Mj9vv7dALEEcAUkBxkIGQgZCHUHVQW8A4sFJAdACWcKQAmRB/gFiwVEBFoC/gLoBBkIZwpACSQHewSsAmUBZQEUAfgACQJaApwBzv/T/LP66fpL/Ar96fp8+oL8yP0q/3AAtwG8AzoF2APCAFz96fqS+JL4fPoV/Mj9l/8P/4f+uPx8+rP60/xh/0oBGQNPAz8Czv+C/JL4qfap9qn2kviS+Kn2v/Sp9qn2kvh8+sP7yP2i/of+Nf4a/kb/4gJ7BJYEKQRPAz8Cs/9A/SX9//2LAGsDRATHApf/d/0g+/r7bP6LAA4EgAZACWcKxwd7BJECFAHCAOn/Kv/O/5f/VQAfANn+Yf9lAT8CkQJ2AvgA+AAJAs0EGQhnCo0LtAy0DI0LWgf+Au0B0gGBAYEBiwADAA//rf07+6n2qfap9nz6gvzv/K39nfz6+0v8qPuz+lb7MPzk/fT+h/6S/ZL9zv8UAT8C/gJPA/MDNAOsAscC2ANVBZEHQAlACR4FSgH0/r7+zv8DAFoCoQPNBLEE4gK3AXAAAwDdAO0BRASsBxkIQAkZCOIH4gc/B6wHkQdaB2AEdgJKAVH+MPz6+538cfvp+pL4qfap9qn2fPqo++T9ZvyS+Kn21fIX7Vnnb+Vv5VnnQ+kt6y3rLest6xftAe/r8L/0kvi4/Jf/rAK8A2sDewQvBosFDgT+AoYDKQTHArcBawMTBkAJQAlACUAJ4ge3BggHQAlnCrQMUBGeE3cSKRC0DGcKQAlnCmcKZwqNC7QMjQtACawH0ga3BkAJZwpACRMGxwKBAYf+fPqS+JL4kviS+Kn2v/Tr8AHvF+0t6y3rQ+lZ52/lWedZ51nnLevr8L/0O/th//gALwHp/6L+0/z//dIBiwXtBkAJZwpnCmcKZwpnCmcKZwpnCrQMAg8pEAIP2w3bDSkQAg+NCxkISgYeBc0EewSABmcK2w0pEFARUBECDwIPKRB3Ep4TxRQ5GBIXdxJnCnYCMPy/9AHvLest6y3rQ+lZ51nnb+Wb4Zvhm+Gb4bHfsd+x32/lQ+kB79Xyv/SS+Hz6fPqS+On6Zvz0/i8BnAaNC40LZwoZCBkIGQgZCEAJ2w1QEXcSdxKeE1ARtAxACT8HLwYvBosFpgW3BhMG0gYZCI0LAg9QEXcSxRRgGa4brhvVHCMfcCFJIK4bnhNACSr/kvjr8EPpheOb4YXjsd/e2/TZCtgK2CDWCtj02fTZ3tvI3bHfb+VD6Rft1fLp+lUAKQQ6BRkItAwCDwIPKRDFFOsVxRR3EncSnhN3EikQKRApEAIPjQtACT8H+AVVBcIFQAmNC40LjQvbDQIPUBF3EhIX1RyXIjMnpyrOK6cqDCaXIkkgrhsCD0oBqfYB71nn3ts21DbUNtQ21GLQYtB4zo7MpMq6yHjOTNIK2Mjdb+Ut6xft6/DV8pL4Cv0kAhkItAwpECkQAg9QEcUUORgSF+sVxRR3EikQjQsZCN0F8wPNBGUGwgUpBLcBcADSAWsDpgVACdsNdxI5GIca/B2XIjMnziu4Miw2BTVqMKcqcCEpEHf96/At65vhCthM0kzSeM66yNHGusi6yOfE0ca6yKTKeM421LHfF+2/9JL4rf1lAUQE6ATHB7QMnhPFFMUU6xUSFxIXnhMpEAIP2w2NCxkI0gY6BcIAuPwV/On/oQMDBS8GQAmNC7QM2w0pEMUUhxpwIVooHC64MgU1BTUFNZExQy+BKSMfAg98/9XyQ+mx3yDWTNI21GLQjsy6yOfE/cIpvxPB0cZ4ziDWsd9D6evwv/SS+IL86f+GA3UHtAx3Ep4TdxIpEAIPUBF3EncSUBEpENsNZwrHB4sF/gK3AXAAiwCLAFUAKv/p/w4EQAnbDVAREheuG9UcIx++I1ooQy/fMyw2UzcsNpExMyfFFFUFfPrr8G/l3tsK2DbUeM66yOfEE8E/vVW7P70pvxPB0cZ4zvTZb+UB76n2S/ycAVoCWgKxBBkIAg93EncSUBFQESkQtAwZCBMGSgbdBUoGQAlnChkIpgXiAnYCDgSmBRkIjQvbDZ4T6xU5GIca/B2+I1oo9SyRMSw2UzffM7gykTEcLuUkxRQIBxr+1fJZ57HfyN3I3d7bCtgg1kzSpMr9wufE0ca6yI7MCtiF40PpF+3r8Kn2mPqd/Jf/Lwa0DCkQAg+0DI0LjQuNC40LjQtnChkICAdACY0LZwpnCo0LjQuNCxkIiwXYA7EEZQZACbQMUBHFFBIXYBmuG9UcSSAMJqcqpyrOK/UspyqXIp4TxwesAtP81fJD6Vnnb+Wx3/TZCtgg1kzSeM54znjOjsyOzEzS3ttv5UPpAe+/9JL4fPqS+I37iwCLBXUH/gdACWcKQAnSBkoGiwXHArcBOgVACRkIewQJAscCewSxBPMDVQV1Bz8HGQhACWcKZwqNCwIPnhPrFRIXYBmHGq4bhxquG9Uc/B2HGncSQAm3AQr9kvjV8gHvAe8X7UPpb+Wb4d7bCtgK2PTZ3tvI3bHfb+VD6UPpLesB79Xyv/Sp9t77l/+BAfgAGQPSBkAJtAwCDykQKRApECkQAg8pEAIPKRBQEQIPtAxnCqwHZQYIB6wHGQhACUAJGQi3Bi8GCAcZCGcKtAwCD3cS6xXFFFARUBF3EikQjQtnCtIGPwJL/JL4v/QB7xftF+0X7UPpWedZ52/lWedv5VnnLesB7wHv6/Dr8OvwAe/r8NXyv/Sp9qn2kviS+Hz6ZvyLANgDJAdnCo0LjQu0DLQMQAnHB6wHGQhnCmcKjQtnCloHwgWLBYsFlgShA/4CTwM/Aj8CGQMOBLEEzQSLBXAFiwXHAosAvv58/x8ANf7Z/t0AnAGt/ZL4qfap9pL4qfaS+Fb7ZvxW+5j66fqN++n6IPsw/I37fPqS+Kn2qfap9r/0qfaS+AT7fPp8+rj8LwF2AnsEPwdnCo0LtAxnCggH6ATiAoYDZQasB4AGcAWxBNgDSgFwAFoCewSABhkIZwq0DLQMjQuNC2cKZwpnCmcKQAkZCMcHHgU0AxkDawNrA8cCdgJ2ApwB+AD4AD8CRARKBkAJZwpACQgH3QXoBPMDvAO8A3sEDgSLALj8fPqS+Kn2v/Sp9pL4kviS+JL4kvh8+pL4kvh8+lb7w/uz+nz6kvip9qn2qfap9r/0v/S/9NXy1fK/9L/0kvgE+//9Gv5m/N77BPtx++n6cfsK/bP/ZQEkAnYCJAKLAC8B/gJEBGUG4gdACUAJGQjSBpEH/gcZCEAJGQgZCD8HkQftBosF3QXdBd0F8wOsAhQB2f4q/+n/VQDO/7cB4gIkAnz/yP2C/HH7mPpW++/80/y4/Jj6kviS+Kn2v/S/9Kn2kviS+JL4Vvvv/Gz+vv5s/r7+zv8q/1z9nfxx+zD8ZvzT/Mj9Kv/Z/vT+LwEkArEE0gZnCtsNKRBQEXcSdxJ3EikQKRApEFARUBEpENsNjQtACeIHLwaLBVUF6ASGA6wC/gIJAosAOgADAGH/s/9s/rj8VvvD+8P7qPv6+8P76fqS+Kn2v/TV8tXy1fK/9L/0qfap9r/0qfa/9L/0qfap9pL4fPqz+nH7fPp8+pL4kvh8+nz6fPqo+1z9Nf7p/5wB4gLoBMIFEwYTBi8GpgXCBd0F+AWsBxkIQAlACRkIGQisB3UHPwcZCBkI4gdACeIHSgbNBMcCLwEDAKL+QP36+437BPt8+pL4qfa/9L/0v/Sp9qn2qfap9qn2qfap9qn2qfap9qn2qfaS+JL4fPp8+nz6fPp8+jv73vtm/Ar9bP4q/6cArALzA3AF0gbHB0AJZwqNC7QM2w3bDdsNtAxnCkAJ/gesB7cGiwUDBQMFwgVlBkoGtwYZCBkIQAlnCmcKZwpnCmcKQAkZCLcGSgZEBMcCWgIUAXAAs/+X/4f+Gv7v/N77jfvO+nz6kvh8+rP66fpx+0v8qPuN+/r77/yC/I373vvD+zv7mPqY+s76fPqS+Hz6fPp8+nz6fPpW+4L8Cv0a/r7+fP/4AHYCGQNrA/MDoQPNBHsE6ATNBIYD6ASxBMIFZQZKBmUGLwZVBSkEhgNaAmUBVQCLAIEBWgKsAk8DawNPA2sDoQMpBAMFHgUTBjoFNAPiAtIB+ADO/9n+rf1c/Qr9qPt8+nz6fPp8+gT7BPtx+9P87/zv/Ar9XP3k/cj9bP41/lH+kv1x+7P6fPqz+nz6fPp8+nz6zvoV/Ev8cfv6+1z9Uf6z/xQBJAJgBDoFpgXtBv4H4gd1B5wGpgVwBc0EvAP+AloCLwFlAS8BLwGBAccC8wPNBN0FwgWABuIHQAlACUAJQAkZCBkIJAeABsIFYATiAgkCgQGnAA//Gv6t/Wb8ZvzD+wT7fPp8+pL4kviS+JL4kvh8+nz6fPp8+nz6kviS+JL4kviS+JL4kviS+JL4kvip9qn2qfap9qn2kviS+Hz6cfs7+0v8XP1s/v/9Uf7Z/tn+l//O/+0BgQHHAoYDzQTCBd0F7QYvBi8GAwVVBfMDdgKsAmsDvAPYAykEDgR7BLEEcAX4BT8HCAdlBt0FAwWWBOICgQGX/639Zvx8+pL4kvip9qn2v/S/9L/0v/Sp9qn2qfap9pL4fPp8+nz6IPsE+wT7fPp8+nz6kvh8+pj6Ffz6+4L8yP1R/un/+ABKAZwBGQNEBNIGQAlnCrQM2w3bDQIPAg8CDwIPAg8CD9sNtAy0DI0LZwqNC40LjQtnCo0LZwpnCo0LjQuNC40LZwpACRkICAcvBs0ExwKnACr/d/2d/N77fPqS+JL4qfa/9L/0v/TV8tXy1fLV8uvw6/Dr8AHv6/Dr8NXy1fK/9Kn2kviS+Hz6qPsw/JL9vv5h/4sAwgDSATQD2AOWBAMFpgW3BhkIQAmNC9sN2w0CDykQUBFQEVARUBGeE54TdxKeE54TdxJ3ElARAg+0DGcKGQiLBf4CpwBh/yD7fPqS+L/0v/TV8tXy6/AB7wHvAe8X7S3rLetD6Vnnb+WF45vhm+Gb4ZvhheOF42/lWect6xftAe/V8qn2kvh3/bP/0gEOBGUGQAlACWcKtAzbDdsN2w0CDykQdxKeE54TxRQSFzkYORg5GDkYORg5GDkYEhcSF8UUxRRQEQIPtAxACRkIWgexBBQBCv2S+L/01fIB7wHvF+0X7S3rLetZ51nnWedZ50PpLest6y3rF+0X7RftAe/r8Kn2kvh8+p38Uf6LAJECoQNwBf4HjQvbDdsNAg8CD9sNtAy0DLQM2w0pEFARdxKeE3cSdxJ3Ep4TxRTrFesVEhfFFMUUnhNQEQIPtAxACXUHgAaWBE8DCQLHAu0Bh/58+pL4v/Tr8AHvF+0t60PpQ+lZ54XjheOF44XjheOF45vhheNv5VnnWect6xft6/DV8tXyqfY7+5f/GQPNBAgHQAmNC7QMAg8pEAIPAg+0DI0LtAy0DLQMtAzbDQIPAg/bDdsN2w0CDykQUBGeE8UUnhOeE3cSUBECD2cK7QZwBc0EhgOz/1z93vuS+L/06/AB7xftF+0t61nnheOb4cjdyN3I3cjdyN3I3bHfm+Gb4YXjWect6wHv6/C/9JL4jftR/un/8wPtBkAJjQvbDVARnhMSFxIX6xUSFxIXEhc5GGAZYBk5GBIXEhc5GDkYORgSF+sVEhcSFxIX6xXFFJ4TUBEpELQMQAlwBfMDVQU0A0b/7/z6+6j7kvjV8uvwAe8X7S3rWeeF45vhyN3e2/TZCtgK2ArYCtj02d7byN2x34XjWect6xft1fLV8tXyqfZR/oAGtAwpEJ4TORjVHPwd/B0jH3AhlyLlJL4jSSAjH0kgcCEjH4caEheeE54TnhPrFRIX6xXFFFARAg8CDykQ2w3+B0b/kviz+gr9zvq/9NXyAe9Z55vhsd/I3QrYNtQ21DbUYtCkyrrIpMp4zkzSNtQ21DbU9Nmx32/lF+2p9lUACAe0DJ4TEhdgGdUcviNaKFooMyczJ+UkcCFJIHAhlyL8HWAZdxICDwIP2w2NCxkILwbNBJECKv9G/90ALwa0DFARdxJ3EusVhxquG54TCAfNBAIPxRTbDdIBIPup9hftWedv5Zvh3tsK2CDWpMoTwT+958SOzI7MjsyOzHjONtTe21nnv/QfAEAJjQu0DHcSSSD1LGowajBqMEMvpyozJ+UkSSAjHyMf/B0SF7QM7QFs/qcAOgUZCFUFQP2p9pL49P4ZCAIPnhMSF2AZrhvVHNUcORhQEdsNnhMSFykQdgKS+L/06/BZ57HfCthM0qTKpMq6yBPBgbeBtxPBusiOzI7MpMpM0sjdb+UB7639jQvbDQIPxRTVHL4jzivfMyw2Qy8zJwwmWigzJ+Uk/B0SF3cS2w0vAan2qfaS+Jj6fPp8+r/0v/Te+0oGtAwpEMUUYBn8HWAZjQviArQMrhuHGtsNGQMq/3z6v/TV8uvwLevI3SDWNtR4ztHG/cKkynjOeM6OzI7MNtTI3S3rqfbdAN0FGQgCDxIXviMcLhwuzitDLyw2LDZqMKcqWiiBKYEpviMSF40LSgYIBxkIJAKS+NXyv/SS+Hz6qPs6ANIGZwqNCykQEhdgGXcSZwrbDesVnhMZCDoAD/+C/NXyF+1Z57HfCtg21EzSeM66yOfEE8H9wufEushM0vTZyN3I3Vnnv/TSAUAJ2w3FFNUc5SRaKDMnMydDL6E5LDbOK3Ah/B0jH74jlyISF9sNZwqNC5wGAwBA/Vz99P6BAbcBAwBrA2cK2w13Eq4bIx9QEWH/5P3bDesV2w3iAmb8v/Qt6xftAe9v5SDWINYg1tHGVbs/vbrIusgTwRPB0cZ4zjbUyN1Z5+vw5P3zA5wGZwrFFL4jHC71LAwmMyeRMaE5ejhDL4EpWihaKDMn/B3FFJ4T6xUpEHAFLwHiAnYCrAJ1B2cKQAlnCikQEhdgGa4b1RzrFbQMjQvrFTkYUBFACS8G3vu/9JL4v/Rv5QrYCtg21LrI/cLRxv3CgbdrudHGpMrRxqTK3ttv5UPp1fK+/nsEtAyuGwwmlyIjHwwm3zNTN2owgSnlJDMnpyr1LL4jEheeExIXxRRnChMGQAlnCnUHRAQ6Be0G2w0SFzkY6xXrFWAZdxJnCikQrhtgGWcKFAG+/nz6v/Sp9uvwb+UK2CDWNtSkyufEpMqOzCm/rbNruefEusikymLQCtjI3UPp1fKS+Dv7PwdgGdUc6xU5GOUkkTGRMRwuWii+I74jpyocLnAhxRSeExIXUBFACRkIZwo/B2AEAwUZCEAJAg93ElARAg/rFYcanhNACWcK6xU5GFARpgVG/2z+ZQHO/7/0Weex397b9Nk21I7M0cYTwT+9/cK6yLrI0cZ4ziDW3ttv5QHvqfZ8+rcBjQueE+sV1RwzJ2owHC5aKFoozitDLxwuziuXItUcrhv8HTkY2w1nCrQMjQspBLP/8wONCwIPKRACDykQ6xVwISMfdxJnCncShxrFFNsNnAZEBLP///3p+gHvWeeb4cjdNtSOzHjOpMoTwT+9/cLRxufE0caOzEzSCtiF4wHv6/Cp9pEC2w13Ep4TrhvlJPUspyqBKQwmDCYcLrgykTG+I9UcSSAMJr4jYBl3EgIP2w1ACRkIGQhACbQMtAz+B/gF2w3rFcUUAg9nCloHtAzFFHcS0gaH/h8A9P6/9AHvLeuF4wrYTNI21I7MKb9ruT+9E8E/vT+9P70TwbrIYtAK2PTZhePr8JL4kv01/v4HEheXIqcqWigMJr4j9Sx6OO87BTWBKQwmWijOKzMn5ST8HRIXUBFQEZ4TnhNQEXcS2w20DNsNxRQ5GJ4TxRQCD7QM2w3FFJ4TZwovBnAFJAIE+6n21fJD6d7b9NkK2EzS0cY/vT+9Vbs/vT+9Kb8pv/3CpMpi0ArYyN1D6evw1fKp9mUBtAzrFfwdcCFwIUkgMydqMCw2uDJDL6cqpyr1LBwu9SzlJEkgrhs5GBIXxRQSF54TUBG0DNsNxRQSF54TAg9QERIX6xUCD2cKtAwpEI0L/gdVBXYCCv2S+NXyLeuF47Hfsd821LrIE8H9wufE58Qpv2u5VbsTwdHGushM0vTZsd9v5UPpAe/p+kAJdxIpEAIPxRTVHAwmpyrOK5cilyKnKmowzisMJpci/B3VHPwd1RzrFSkQAg8pELQMZwq0DNsNtAzbDdsN2w0pECkQUBGNC7QMtAy0DEAJCQIvAWH/gvy/9AHvF+1v5bHfyN302WLQ0caOzGLQ0cYTwefEpMrRxo7MTNIK2PTZheMX7Rft6/Bm/GcK2w0CDwIPxRT8HQwmziuXIvwdlyJDL2owDCZwIeUkWii+IyMfhxrVHBIXnhNQEQIPjQtnCrQMGQgvBlUFQAkZCP4HdQdEBOICJAe0DBkId/3D+z8CSgGS+Kn21fIX7UPpLest67HfCtje27HfCtg21DbUTNJM0iDWCtgK2PTZsd9v5S3r6/DV8pL4Jf00A2UG2w1QEcUUEheHGq4bhxr8HXAhSSD8HYca/B2uG9UcrhsSF3cSdxI5GMUUtAxgBLcGGQhnCt0F6f8l/b7+WgLYA5f/Vvvk/YsAnfyd/M7/O/up9pL4+vup9qn21fK/9OvwAe/V8uvwAe8t6wHvAe8X7RftAe8B7xftAe/r8AHv1fK/9JL4kvh8+p38CQKLBaYFCAdnCtsNjQu0DFARdxLbDSkQnhN3EikQdxLrFXcSKRApECkQAg/bDdsNZwoZCEAJkQftAaL+wgCz//T+rf0l/Ub/iwBG/x8A7QGLAOT9l/86AEv8S/y4/JL4qfY7+xr+S/yp9qn2kvgg++n6d/0a/nz6kvio++0Bs/+H/of+FAEfAPgAlgToBEQElgRACUAJwgUIB0AJnAaGAz8HZwqGA+0BxwdnCpYETwPNBOIClgQ/AhQBpwCH/kD9gvzD+3z6gvyS+NXyv/S/9Kn2v/TV8gHv1fK/9Kn2kvip9tXy6/B8+v/9mPqS+Hz6IPt8+jv7d/1W+5L4//2cAToA5P3SAeICov7CAKEDKQRlAXYC3QC3AYsFnAa3Bv4CRARKBkAJGQjHBxkI+AVACY0LZwqxBE8DJAdACawHLwb+AkQECAecBgMFrAJ2AqwCCQJVAIEBkQJh/77+l/9h/5f/OgDSAVH+kv3dAPgA+AAvAQMAl/8kAv4C9P4w/IL8yP1G/yr/6f9wAHz/LwFPA4YDAwVEBFUFrAJPA1UFAwVaAoEB/gIfAKcANf58/9n+Gv5A/Y37MPy4/Gb8fPpL/NP8fPoV/JL9cfs7+538S/zv/PgApwB3/TD8wgBVAJ38d/1h//T+yP30/jX+3QCLAJwBgQH0/oEBSgZKBh4FwgXtBkAJQAkZCEAJQAmsBxkIdQfSBggHSgasBxMGHgXHBxkIZQYJAk8D6AQ0AwkCkQI1/iD7nfyt/Xz6kviS+Kn2qfap9qn2v/S/9NXy1fLV8r/01fIB79Xyv/S/9NXyv/S/9L/0kvh8+nz6kvh8+u/8Vvtc/Yf+Nf6S/Q//CQIkAiQC4gKxBM0EAwUTBpEHGQgZCBkIQAlnCmcKZwqNC2cKtAy0DLQMtAxnCrQMtAzbDbQM2w20DI0LZwpnCkAJnAboBP4CHwCX/zoARv9c/UD95P13/UD9nfxA/Vb7fPpL/JL9BPuS+Hz6Vvt8+pL4kviS+JL4fPqz+pL4kvhx+yD7zvpW+2b8uPz0/qL+Jf0DABQBWgIkAugELwYIB0AJGQgZCIAGxwcZCEAJCAeRBxkIdQesB0AJGQiABuIHQAlnCnUHGQhACVoHsQQvBrcGkQKcAbcBD/8V/Mj9Jf2Y+rP6fPp8+nz6kviS+JL4kviS+JL4qfap9qn2qfap9pL4v/Sp9pL4qfaS+Hz6fPp8+sP7mPoV/Lj80/xA/VH+rf0a/qcA6f/dAO0BkQKsAs0E6ARKBscHnAYkByQHrAeABiQHtwYvBi8GAwXdBQMFYATYA8cCPwIvAWUBAwA1/r7+5P1A/Wb8Cv2d/Hz6fPp8+nz6fPqz+iD7zvr6+zD8qPuN+3H7zvp8+pL4kviS+JL4kviS+Hz6fPp8+o37uPyd/JL9Rv9wAJwBgQGcAVoCrAL+AvMDewREBA4E8wPoBAMF6ARwBYsFVQWLBfgFwgUeBR4F3QWmBUoG7QaABu0G0gbSBpwGiwXCBS8GpgXNBCkEDgT+Au0BgQEUAXAAiwAfAJf/Rv81/v/9Nf4fAFUAHwAfAFUAHwCH/hr+yP3//e/8ZvyC/Ev8yP13/Xf9ov41/r7+Yf98/0b/s//0/qL+bP41/tn+5P2H/qL+D/9G/w//6f/CACQCgQGBAe0BCQK3AYEBJALSAd0ASgE/ApEC4gL+ArwD8wOWBKEDawN7BBkDhgNrA9gDoQPYA2AE8wMOBHsERARPA/MDhgN2AkoBSgE/Au0BwgAUAR8As/9VALP/AwDp/3z/Yf9wAIsA0gEkAoEBJAJlAWUBcACX///9kv3v/I37gvxW+6j7jfuo+538d/3//f/9vv70/ir/Kv/dAIsAcABwAJf/l/+i/tn+Gv41/lH+//2i/mH/9P6+/lH+Uf6S/SX9Nf7//QMA3QBlAQkCkQKGA2sDNANPA7wDNAOGA9gD8wPYA/MDTwOhA0QEawPHAj8CPwKsAk8DoQP+AmsDRAS8A2sDGQPtAUoB7QE6APT+bP7//Vz9uPz6+7j8uPww/Hf9Jf1c/YL87/wK/ZL9Jf0w/IL8+vtx+wT7+vsV/NP80/xc/cj9kv2t/aL+2f70/kb/OgDZ/qn2qfbdAMcHiwW3AaL+XP3O//4CHgVPA3YCWgLSASQCawMDBccCgQGX/wr9wgDzA0QE7QEP/yr/twF7BJwB+vs7+x8A7QFVAMj9MPwE++/8pwD4AB8Ah/5R/mH/twHtAfgAwgC+/gr9Gv70/nz6v/Sp9pj6yP3tAWUBD/9s/gMAOgDp/3YCkQK3ARQBNAPCBWUG+AW8A5EC7QEJApECPwLSAawCoQMpBFUAgvyS/f4CnAa8A87/S/wfADQDkQJlBkAJEwb4ALP/ov5R/msD0gY0A0D9+vts/iQCJAdVBVb7qfYE+yQCsQQpBLcBh/5s/i8BlgQkAi8BfP8a/p382f5G/3z6fPqS/ToAD/8P/87/AwCBAZECxwIvAT8CdgLSAVoCl/93/VUAawMeBc7/kvip9un6nAGBAacArAKABrwDkv36+2b8FAE6BVUF+ACS/e0B4gcZCHAFTwPCACQC+AWWBIsAzv/iAsIFsQQfANn+SgEDAPgAfP++/qL+//0fAPT+iwCnAB8Al//CAK39nfyBAQ//rf2i/vgA4gJwBe0G/gKz/8cCEwYUAVz9OgXoBIf+Uf4P/7j8kvjI/RQBov7k/XAAxwKnAK39fPrv/GsDWgcZCJwBkvip9un/WgeLBVUAjft8+un/ZQaRAhX8kvj//XYCCQIV/JL4ZvyRAtgDPwLp/3z65P0/AvgFRATp/1z9rf3O/0oBrAI0A/4C7/yz+g//WgJwANIBZQEq/w//GQOcAd0AnAbYA5wB7/y+/h8As/+z/4L8mPrO+nz/Cv0V/O/80/z0/hQBzv+S+AT7dgKX/437+vuo+3z66fpG/4L8fPp8+uT9zv/6+437IPuN+zX+zv/I/cP7kvjD+xX8nfz0/h8Aov4K/YsAHwBwAJf/SgFlAYEBFAGLAN0AGQM6BdIGewR8/9IBnAGGA6wC2ANKAQMA7QHCAM0EJAKS/Tv7vv7HAmH/fP8P/6L+FAGmBf4HcAXYAxQB3QBVBUAJWgdVAL7+XP1W+yQCawOX/wT7cfud/OT9kQKBAZL9QP0DADX+4gL4BXYCvv7k/YsAnAEvAWUBZQHCAGsDl////ccCPwKd/Hf9AwD//SX9SgGX/7j8WgLiAi8BOgDYA5wBbP7NBO0GWgJlAR4FHgVPA0QE8wNaAvgAtwFrA3YCewRrA0oBkQJrAzoFOgXCBd0FOgBVAE8D/gKcAWH/h/6H/s7/PwL+AtIBPwJ8/+/8gvxA/fr7kvh8+qj7kvi/9JL4VvuS+Hz6kv1L/If+6f9h/w//Rv/dAL7+kv1R/gMAgQF2Anz/jfs7+9777/z//c7/S/x8+nz6yP1G/+n/OgVEBFUFQAkZCDQD7QHzA9IB+AADBWUGVQWBAWAE/gJR/rcBkQK8A6cAcAAUAQMAcAAUAeT9Cv17BNIGYATSAQ//HwCnANn+zv/CAPgAcADYA/MD//18+sP7Uf4K/RX8QP1R/kb/D/8w/Pr7fP92ApECRv9R/un/bP70/rP/Yf9x+yD7LwEkAhQBUf58+r/0qfYE+zX+HwCBARkD6f81/vT+fP8kAun/LwHoBM0EOgVaAun/bP7T/Kj75P2S/XH7D/81/rP6w/sUAZYEVQUZCI0LQAmhA80EGQgZCBMGwgV2Avr7s/rD+6n21fK/9L/0qfa4/P4CGv6N+77+nAFKAdIB8wPO/2z+fP/p/77+kv3Z/iX9O/uz+pL4v/S/9JL4kvh8+tn+KQTzA/4CkQJlARQBsQSGA4EBYAT4BR4FoQNh/5L4v/SS+IL8w/s6AIsF2ANKAR4FZwpnCmcK2w20DMIFJAeNCxkINANgBIEBuPyt/YsAd/2/9L/0fPqt/XAA+AW3Bs0EpgUZA3AAAwCnANgDZwq0DEAJ3QW3BjQDbP7O+qn2fPpVAMIAXP1R/pf/kv0l/YsARv+C/MIAvAOcAf/9HwBrAxMGQAnHB0oB2f4P/5L9Kv+i/nAAHwDSAdgDNAP//an2fPp8+iX9TwPNBKwH/gexBKEDdgI6AA//ZQE0A2UGEwahAy8GQAn+B/MDrAL4ALcBhgNwAHH7cfvZ/vT+//3Z/mb8qfa/9L/0kviS+BX8TwMZCI0LjQviBz8CZQE/AhQB0gHSAUoBYf8P/87/+vuS+JL4fPrI/QkC8wMZAw4EPwcIBwgHQAmNC2cKjQtnCpwGtwZACbQMrAehAxQBS/yp9uvwAe8X7S3rAe+/9NXyAe8t6y3rWeeF44XjWecX7RftAe8X7S3rQ+lZ52/lb+Vv5UPpF+0B79Xykvj//VoCdQeNC9sNKRBQEVARdxLFFGAZrhuuG9UchxpgGWAZEheeE54TrhuXIuUklyJJIK4brhuuG2AZORiHGq4bYBk5GMUU2w0ZCBkIGQgTBmsDZQE6AEb/pwA/Anz/kvjr8AHv6/AX7W/lsd+x35vhsd/e2/TZCtgK2CDWYtCkyqTKNtSb4VnnWedv5VnnQ+kB79Xyv/SS+EoBZwqNC1oHWgeNCwIP2w1ACWcKZwq0DAIPKRApECkQ6xVgGYcaYBmHGq4bYBmHGjkYEhc5GIcaEheeE7QM4gfdBbcGZwrbDXcSdxJ3ElARKRBACaYFQAm0DNsNAg8pELQMQAlrA1b71fLV8tXyF+1v5cjdsd+b4YXjheOb4bHfsd+b4bHfCtj02ZvhWedZ52/lWedD6QHvAe8X7RftAe/p+osFZwpACWcKUBHrFRIXEhdgGfwdviPlJJci/B1JIJciSSCuGxIXnhNQESkQAg+NCxkIQAmNC7QMZwo6BQ4EtwYvBjQDdgLHB40LZwpnCmAEKv+Y+nz6kv3CAHAF6ATNBBQBIPuS+JL4qfa/9Ovw6/AB7y3rF+0t6y3rQ+kt6y3rWedZ50PpF+0X7S3rAe+/9Kn2fPp3/Sr/s/+hA0AJtAy0DCkQORj8HdUchxo5GJ4TxRQSF64b/B3VHNUchxo5GMUUdxJ3EncSUBECD2cK3QUOBC8BD//O+qn2v/Tr8BftQ+kt6xftAe/V8qn2QP2S/en6fPqS+JL4kvh3/YYDD/+Y+r/01fIB71nnb+Vv5VnnQ+lZ51nnb+Vv5UPpQ+kt6wHv1fKp9r/01fLV8r/0fPo1/nf9fPqS+Mj94gLYA7wDAwVnCikQdxJ3EncSxRQSFzkYYBlgGWAZ1Ry+I+UkIx85GOsVnhPbDUAJQAlACawHGQgZCA4Eov53/acASgEfAOn/2f4V/Gb8h/5s/gMAiwDYAx8AIPt8+pL4fPpL/HAFGQgOBFUA7/yz+r/0v/SS+On6kv2d/Jj6v/QX7S3rQ+kt6xftAe8B7xftF+0X7RftAe/V8r/0qfap9qn2fPrD+//9kQL4BeIHQAlACUAJ3QVlBkAJjQu0DCkQ6xVgGWAZEhfFFJ4TnhPFFBIXEhdgGYcaORjrFXcSAg9nChkIJAf4BWsD9P5h//T+5P13/f/9zv+sAmsDiwCd/Pr7zv/4AAMA9P6i/jD8qfbV8hftQ+kt6+vw1fLr8OvwAe8X7Vnnb+Vv5VnnLesX7S3rWeeF44XjheOF45vhheNZ5y3rAe/r8L/0qfbD+6cAOgUkB0AJtAwpEFARUBHFFIcalyK+I74jcCH8HWAZORg5GDkYhxquG64bhxrrFVARAg8CDwIPAg8CD9sNjQtnCt0FFAHT/NP8Nf7//ZL9cfuN+977d/30/s7/3QBwABQBl/+t/Zj6kvh8+pj6fPp8+pL4v/QB70PpheOb4YXjWect60PpWedZ52/lheOb4W/lQ+kX7evwv/Sp9pL4fPrT/K39D//iAnsESgYZCGcKjQu0DFAREheHGocahxpgGRIX6xXrFRIXEhcSFzkYxRRQEWcKkQd7BMcCoQMkAtIBAwCi/nz6kvip9pL4kvgV/KcAwgAfADoAs//I/fr7uPxA/Qr9Jf0g+5L4v/TV8r/0qfaS+Kn2kvip9r/06/AB7+vw1fKp9qn21fIX7S3rWedv5W/lWect6+vw1fK/9Kn2v/SS+I372f6LAPMDQAmNC9sN2w3bDQIPnhMSFzkYEhcSFxIXxRTFFJ4TnhOeE54TdxLbDWcKkQd1B0AJGQh1BwgHpgXYA9n+kvjV8uvw1fKp9pL4kvjD+4L87/yo+1b7Vvsa/oEBOgUZCCQH3QWxBE8D+AAP/yr/Rv/k/RX8kvip9qn2qfaS+Hz6fPqS+L/06/AB7wHv6/Dr8NXyv/S/9NXy6/Dr8Ovw1fKp9nz65P0fAO0BJALiAsIFQAm0DAIPdxKeE8UUxRTFFJ4TdxJ3EncSdxIpEI0LQAl1B5wGgAamBWUGHgW8A2UBS/x8+nz6FfzI/c7/FAEP/6L+Cv0E+5L4qfaS+JL43vvT/JL9Yf/dAGUBiwD//SX9//3p//gAVQAq/3z/Kv+H/un6qfa/9OvwAe8t60PpWedD6S3rF+0t60PpQ+lD6S3rF+3r8L/0fPol/VH+VvuY+un6jfsfAGAEGQiNC9sNAg8CDykQKRApEHcSnhOeE54TnhOeE54TdxJQESkQAg+0DMcHawPCADoAs/9wAFoCJALSAS8BYf9R/iX95P2nAOICAwXdBd0FvAMZA6EDtwFKAXAAVQDZ/mb8w/t8+gT7Cv13/eT9bP6C/Hz6kvip9r/01fLV8uvwAe8t60PpWedv5YXjheOF41nnF+3r8NXy1fLV8r/0kvj6+0oBYATHB40LtAyNC2cKZwqNC7QM2w3bDdsN2w0pECkQ2w0CD9sNAg/bDY0LjQtACRkIQAlnCmcKQAl1B5YEVQCd/Hz6kviS+MP7d/3v/Gb87/y4/N77MPw1/rcBVQVACY0LZwoIB6YF8wN2AloCxwLtAcIAAwA1/un6kviS+Kn2v/TV8uvwAe8B7xftF+0X7S3rF+0t60PpWedv5W/lWect6wHv1fKp9pL4cftW+7j8rf1wALEE4gdnCo0LtAwCDwIPAg/bDdsNAg8CD7QMQAntBqYFgAasBxkIQAlnCkAJQAllBjoFYAScBhkIQAkZCHAFsQRPAxQBUf4a/mH/nAG8A2sD/gIkAnYCRATiB2cKjQvbDQIPKRACD7QMQAmsB2UGxwI1/pj6kvi/9OvwAe8X7RftF+0X7S3rQ+lZ52/lWedD6S3rAe/r8NXy1fLr8AHvF+3r8L/0qfZ8+jD8QP1R/g//AwD4AA4EtwZnCo0LtAzbDdsN2w3bDbQMtAyNC2cKQAkIBw4E4gLYA2AEhgOxBGsD0gGBAQMARv86AP4CgAYZCP4HdQdVBTQDLwHSASQCxwIvBiQHGQgZCO0GkQcZCEAJQAlnCkAJZwpnCkAJgAa8AxQBl//v/JL4v/Tr8BftLetD6S3rLest6xftF+0t60PpQ+kt6xftAe/V8tXyv/S/9NXy6/DV8tXyv/SS+M76+vuo+0v8Jf06AP4CEwZnCtsNKRApECkQKRApEFARKRDbDdsNjQtnCqwHAwWWBLEEEwb4BUoGsQQJAu0BvAM6BS8GZwrbDQIPAg/bDY0LQAlACRkIQAlACUAJQAkZCBkIJAdlBkoGWgdACUAJGQg/By8GVQUeBUQEwgBh/3f9zvqp9tXyAe8B7y3rLetD6UPpWedZ52/lheNv5W/lQ+kt6wHvAe8B7xftF+0X7QHvAe/r8Kn2qfaS+JL4kviz+gr9Gv46APgATwN7BN0FPwfHB0AJjQu0DLQMjQtACawHtwbdBToFCAdACWcKjQuNC2cKQAlACY0LtAwCD1ARdxJ3ElARAg+0DGcKjQuNC2cKZwpACSQHZQaLBfgFkQcZCI0LtAy0DI0LQAlACRkIJAfoBHYCcABc/Xz6v/Tr8AHvF+0X7S3rQ+lZ54XjheOb4Zvhm+Fv5UPpLest60PpQ+lD6UPpQ+lD6S3rF+0X7QHvAe8B7+vw1fKp9nz6w/tc/Xz/SgGhAwgHZwrbDVARdxJ3ElARUBECD9sNtAy0DLQM2w0CD7QMjQtnCkAJtAwpEFARUBFQEXcSKRDbDY0LtAxACUAJtAxACXUHPwdlBsIF3QXNBPgF3QWWBHAFawNaAk8DpgXCBdIGsQTSAWH/nfyz+qn2qfap9pL4kvip9qn21fLr8AHvF+0X7RftAe/r8AHvAe8X7S3rLest6y3rLest6y3rQ+kt6y3rLesB7+vw1fLV8r/0kviz+iX9Yf8JAvMD6ARlBugEJALdAO0BdgJgBEoGLwYkB7cG+AUOBA4ElgQZCI0L2w0pEFARdxJ3ElARKRACD7QMtAy0DI0LQAntBnUHdQftBhkI4geRB+0GZQbtBrcGGQiNCwIPKRApENsNjQsZCB4F8wPzA7wD/gKRAi8Bs/+C/JL4kvh8+pL4kviS+JL4qfap9tXy1fK/9Kn2qfap9r/01fLr8OvwAe8B7wHv6/Dr8OvwAe8X7QHv1fK/9Kn2fPqN+yD7fPqS+Kn2v/Sp9pL4kvh8+nz6fPqz+t77MPyC/Nn+FAHHAugEsQREBDoFiwVVBcIFgAbHB+0GtwamBSkEAwUIB0AJZwq0DLQMtAy0DLQM2w3bDSkQUBFQESkQ2w1nCkAJGQhACUAJGQgZCD8HEwb+AgMAov5R/mH/HwBlAcIALwGcAen/ov5A/aj7fPp8+pL4kvip9r/0v/S/9L/0v/S/9NXy1fLV8uvw1fK/9Kn2fPrv/ED9nfw7+yD7fPqS+Hz6BPu4/CD7fPqS+Kn2qfap9qn2kvh8+oL8uPyN+7j8Gv6X/8IAWgKsAoEBSgFlAXAAAwCLAN0AxwIZA+ICCQKLAO0BNAM6BQgHQAmNC40LZwoIB1UFKQTzA4sFCAcZCEAJGQhlBt0F8wP+AnYC8wOWBHsETwMJAiQC/gKWBM0EcAXdBYsFkQKLAEb///3I/aL+Nf6H/ir/bP7k/e/8kv2d/NP8fP/HArwDwgD0/mz+MPx8+s76fPqN++n6fPqp9qn2v/S/9L/0v/SS+JL4fPqY+iD7BPtW+437S/yC/Jj6fPqS+Kn2qfap9qn2kviC/Lj8cft8+pL4kvjp+pL9zv8ZA1UFnAbtBoAGHgVVBc0ESgZaB+0GrAf4BToFsQTYA6wC8wOWBB4FiwWWBOgEOgW3BqwHZwqNC2cKZwpnChkItwaxBA4EewSmBR4FawOBAXz/9P53/ZL9HwDSAaEDKQQJAjoA6f+X/xr+Jf2t/f/9kv24/N77mPqS+JL4kvh8+nz6kviS+JL4fPp8+sP7+vsV/ED9fPqS+Kn2v/S/9Kn2kvh8+oL8Jf3k/UD9Zvxx+4L8//06AAkCJAIJApwBgQEvAUoBCQIZA0QEewRPA5ECSgGBARQBdgKhA2sD6ARVBd0FpgXSBhkIZwpnCmcKQAnHB6YF2ANaAsIAnAH+AuIC7QEUAUb/XP3v/CX9Nf4DACQC8wOmBVUFoQPdAB8AD/+H/hr+FfzD+3z6kvip9qn2qfap9uvwF+2p9pL4qPuS+JL4wgCH/lUALwFKAeICNf7k/ZL4kv0P/2z+4gJx++T9jfu/9CD7v/R8+lz9MPyhA3z6fPqS+Pr7TwPT/Eb/iwCsAtIBiwB8/wkCOgVaAjoFGQMZCB8AhgPNBIsAtAz4BbQMZwoZCP4HGQhKAVUFHgXCAPgFQAnSBoYDEwZs/nUHkv11B9IGiwW0DMcCtAwZA7wDrAcK/bQMCQKd/HUHAe+3AXz6rf00A9XyfP+/9IAGkvh2AoYDZQG0DJL4ewSS+FUAhgMP/7P6fPq/9B8AgQF8+kAJ6/BVAKn2v/SS+JL47QE6AI0LfPqNC3z6PwceBb7+jQuz+o0Lv/Tk/Q4E1fIZCC8BmPrCBevw5P2S+Hz6kvhVANsND/+NC3z6Ag/4BWH/kQJh/9sNkvhA/an21fKp9r/0vv6S+CQCrALYA7QMTwMZCI0LGQNQEf4CGQiRB6EDZwq/9NsNkvjCAKEDAe9EBP4Cqfbk/ZL4pgWS+O0BkviS+I0LAe93EhftAwWS+AHvtAzV8gMFoQO/9Ev8O/vV8r/0nfz4ALP6sQS/9KcAawPp+joFQP2LBR4FfPrV8lz9kvh8+ugEmPrYA2z+jftACXz6kvhQEb/0tAzbDS3rORjZ/r/0Ag+t/bwDWgfp+osFuPxA/UQE+vuH/g4EZQEDBbQMPwICD7wDUBECD+T9dxIvBrQM/gLCAEoBGQjzA4sFl//SAbEEkvh3Eqn2kvhKBsIFqfZACUoGkQd3EuvwxRR8+jv7Ag9W+ykQ1fL6+0AJLev6+3z/1fJwBdXycABm/BftRATV8ir/fPr0/j8HZwpZ5wIPqfbV8lAR9NmuG1nnF+1QEW/lqfaS+LP6CQIB73AFkvhKBlUALespEC3rlgQg+6n2gAbV8kAJzv+/9J38WgL+B6n2RAQ6BSX92w3I/SkE2w0B79sNrAeLABX8ZvzCALwDZwrr8MUUqfbbDZL4kvjFFNXyjQvNBBkIkvhACZ4T1fJACan20gF3Em/l6xV8+hfttAwX7WcKv/RA/Y0LmPol/cj96xV8+nz/ORgfAOIHzQRL/GcKfPr4BevwGQiz+qn2ORj02Yca1fKt/RkIWecSF9Xy6xWnAAIPGQh8+mcKHwBACWsD1fJACacAqfYCD7HfYBl8/8P7tAyS+JL4ZwqNCwHv6xUg+9sNLwb0/i8Grf2xBEAJfP+S+KEDkvgeBYEB6/CxBD8CAe93EpL4qfYpENXyEhfV8pL4dxLV8o0Lqfa/9OIHkvip9qwCmPqp9hr+FfyS+Kn2v/TO/9P8Pwep9nz6/B2b4cUUkv1D6fwdCtj+AikQWecpBGUB6/D4BSQC1fLHAhkIvv5nCj8H2f6sB5L4GQj0/nz6Ag/CBRfttAzzA2/lUBG/9P4ClgQ/Anz6qfZnCr/0iwWNC2z+TwNQEen6QAka/rQMD/+S+HcS6/B3Eqn21fIUAXf9jfuS+B4FbP6NC1UFfPoeBdsN+ADbDWb8kvgjH7/0v/SHGuvwdgKNC9XyWgIa/kAJF+2S+LQMFfx3/dIBQAlA/YAGewSNCxkIKv+t/RkICAez+mUBfPoTBr/0gQHT/Fz9Zwqp9tsNfPovAXz/5P3bDZL4NANnCpL4YASLBb/0PwfZ/vT+gAZh/7/02f4V/DX+0gEB70AJfPqS+AkCAe9gBKn26/AJApL40/x8+pL4qfbp+o37Ae87+5f/v/SGA/MDqfb0/nz6d/3CANXy2w2S+Gz+cAWS+CQCfPqLBXAACQLp+vgFv/Q/AsIA6f9VBc761Ry/9LQMtAzr8AIPpgVh/0QEiwD//QkCCQK4/DX+gQGp9t0FhgO+/oAGoQN3Ej8C8wNQEe/8GQhQEY37QAlwAJL46ASS+M7/v/SnAEb/v/TiB6n26/BA/ZL9cAUDAL/0gAZACd0AqPuGA0AJ9P4OBEAJ6ASS+McCyP0/AhQBqfbHAkQE6fp8+mcKAe8TBlARUf4ZCCD7zQQeBen6OgW3BrP6cABrA4f+Nf58+iQCQAmC/KL+cAXSBmcKawNnCoEBOgCcBscCGQNKAY0LUf5VALQMmPqsAqED6f/tBkD9RAQg+/4CFAEZA0AJkvhgBKn20gG3Aan2nfzSAfT+qPuBAb/0gvxs/msD0/yS+JL9qfZVAM7/3QCBAZL9LwF8+nz6v/Sp9nYCBPsq/5L46/CS+Hf9D/+p9tIBDgRR/pL9rf1ACdIBGQiNC90A6ATtAdn+dgJEBKYFVQVwBZj6v/Rc/TD8GQOhA+/8MPyS/cj9YAQvBqED2w0/AloCCAesB7wDVQDiB5EH+AB8+sIAJf36+2AEAwXI/Xz66f+LAGH/Jf1lBsIF3vsOBOn/oQNrA0oG/gcOBNgDd/0DBS8BCQJ2AtP83QCX/zoApwB8+tP8fP++/vgAOgCo+8cCQAkZAxkIGQOH/lUAVvs6AEoBbP5wAB8Azv98+pL4rf3SATX+fPoUAZL46fp8+mz+l/9h/9gDkvg7++/8rf1L/KcAvAO4/Pr7zvpW+0b/Kv8/AkD9/gIa/pL4S/zO+scHfPow/JECXP3v/DX+NAMP/1UANAP+B4YDdgJgBGsDQAndBWcKjQtrA40LGQhnCggHvAONC0AJQAmhA/T+awPNBNIGQAlKAYsAawPtAbwDJAecBqYFrf2d/Nn+v/SS+JL4qfap9uvwLetZ5wHvv/Qt60Ppb+Ut60PpF+3r8Ovw6/DV8pL46/CS+Hz6Yf80Awr9ov41/lb7OgXbDdIBEwaNC8cHjQtnCgIPUBFQETkYnhMpEIcaORieE64b1Rw5GFARnhNQEcUUORg5GDkYQAm0DNsNrAcCD9sNZwpACUAJjQvtAZECjQtACdIGvAOBASkE+AD4AKn2Levr8OvwLeux35vhb+VD6YXjCtje25vhm+Gb4Vnnb+VZ50PpAe/r8C3r1fJc/UoBGv6p9j8CjQtQEdsNtwbbDY0LKRBnCkAJQAlACcUUtAzSAbcBQAlQEVAR2w3bDdsN2w2eE3cSnhPrFYca6xVQERIXUBESF2AZxRRQEdsNtAwpELQMQAlnCscHOgVG/977v/Sp9pL41fIt6wHvWeeb4ZvhQ+lZ597b3tve297bsd9v5VnnheOb4S3rAe9Z5xftHwBaAs7/d/2X/7wD4geeE8UUKRDbDdsNdxK0DEAJZwpQEVARZwpACQ4EPwe0DJ4TAg+NC9sNdxKeE1AR6xUSF9UcYBkSF1ARUBGeE+sVxRQpENsNQAkTBlUFZwroBIYDKv98+r/01fK/9AHvLeuF45vhyN302fTZ3tub4fTZCtgg1iDWINax3y3rm+GF4xft6/AX7QHvw/ucBkAJLwbSBhkIZwrFFK4bORjFFMUUEhd3Ep4TnhMSF2AZEhfFFNsNAg93EhIXhxoSF9sNtAyeE54TKRB3EsUU6xXFFCkQtAwCD+sVnhN3EmcKQAlnCmcKCAecAbwDAwA1/r/0qfYB72/lm+HI3cjdYtBi0GLQYtB4zqTKYtB4znjONtTI3ZvhyN1v5RftAe/r8NXyfPoUAZwGQAlACWcKjQs5GCMfYBlQEcUUcCH8HRIX6xU5GBIXYBnVHGAZ6xWeE4caIx/VHOsVxRQ5GGAZEheHGocaYBmHGvwdYBmeE64brhuuG3cS2w2NC7QMtAztBqYFwgB3/an2v/QX7bHfyN2x3wrYYtCkyrrIusikyrrI0ca6yNHGeM421N7b9Nmb4VnnQ+kB76n2fP8q//MDGQiNCykQxRSHGtUchxpgGdUc/B2HGjkYORjFFJ4TYBkSFykQKRASF64bYBkSFzkYYBmuG3Ah5SRwIfwdcCG+I3AhIx9JINUchxo5GGAZxRQCD9sN2w3tBlUFrALV8lnnyN2b4cjdINZ4zqTKusj9whPBKb8TwefEusjRxtHGTNIK2N7byN1Z5xft6/CS+Mj9vAM6BdsNnhMSF+sVYBnVHPwd1RyuG9UcEhc5GOsVnhN3EhIX6xV3EgIPUBE5GIcaORjrFTkYrhv8HSMfcCHVHEkgviPlJCMf/B3VHPwdrhuHGncSAg9QEY0LrAK/9AHvWeeb4fTZNtR4zufEE8EpvxPBa7lruf3CE8H9wrrIeM5M0vTZm+GF42/lLeuS+MP7wgBEBI0L2w1nClAREhcjH64brhvVHDkYORjVHK4bEhfFFIca/B2uGzkYORj8HUkgcCFJIEkglyKXIr4j5SQMJgwmcCFwIXAh5STlJL4j/B05GGAZORjrFSkQQAkK/QHvQ+lD6bHfCth4zrrIKb8/vRPBKb9ruZe1E8HnxP3CE8G6yEzS9NnI3bHfsd9Z57/0d/2z/wr9nAFVBWcKAg8SFzkYEhdgGWAZEheeExIX/B2uGxIXnhMSF64b1RzVHK4b/B1JIEkgcCEjH3Ah5SRaKFoocCFJIEkgDCZaKL4j/B2HGocaORjrFVARQAnD++vwF+1D6Zvh3tsg1kzS0cbRxtHG/cL9wufE58T9wrrIeM5M0kzS9Nmx38jdyN1D6dXyv/S/9Fz9WgKz/1UFUBESF1ARnhOHGocaEhc5GIca/B0jH0kg/B1gGa4bcCG+I3Ah1RwjH+Uk5SSXInAhviMMJuUkcCFwIUkg5SQMJr4jrhsSF4ca/B0SF0AJQP2S+I37v/Qt68jdyN0K2GLQjsyOzHjOusjRxufE0ca6yGLQINYg1iDW3tub4cjdyN0t66n2fPqz+pL4fPqt/bQMEheeE7QM2w0SF2AZxRTrFa4b/B2uG2AZEhfrFdUc5SSXIjkYxRT8HZcicCHVHK4b/B3VHK4b6xXrFTkY/B2uG8UUtAzbDXcSnhNQEZYEkvjr8NXy6/At64Xj3tsK2DbUTNJ4znjOjsyOzLrI0ca6yKTKjsxM0grYCtg21CDWheND6UPp6/CS+Cr/gvynAGcKUBGeE54TxRTFFBIXhxquG64brhv8HSMfrhuuGyMfcCEjH3AhSSAjH/wdcCHlJEkgIx/8HUkg1RyHGocarhtgGcUUdxIpECkQ2w3bDToFuPyp9qn2qfYB71nnsd/I3d7b9Nn02TbUYtB4zmLQYtB4zkzSNtQ21DbUINb02d7bm+FD6Rft6/Dr8Kn26fp2AtsNUBEpEI0LdxKHGiMf/B2HGkkglyKXIkkgIx++I+UkWii+IyMfIx+XIgwmIx/8HfwdIx+uGxIXORg5GMUUEhfFFAIP2w0CDykQjQuNC2cK3QWS/Xz6d/2S+OvwQ+lD6VnnheOb4fTZINY21DbUNtRM0kzSeM5i0DbUINY21EzSCtjI3Zvhm+GF40Pp6/CS+N77nfxR/pwBQAmNC7QMAg8pEMUUEheHGocarhv8HUkglyJwIdUc/B1JIHAh1RyHGtUc1Rw5GJ4T6xXrFcUUnhN3EikQUBF3EncSKRApECkQAg/bDY0LjQviBz8HkQKt/ZL4qfa/9AHvF+1Z55vhsd+x397bINYg1grYINZM0mLQNtQg1grY9Nne2wrY9NmF4xftAe8B7+vwv/RW+6cA+AWWBBkI2w13ElARKRCeE2AZIx8jH/wdhxquGyMflyJwIZciSSAjH/wd/B3VHK4b1RyuG64bEhfrFesVEhc5GOsVnhN3EncSUBHbDdsNtAxnCt0FcACN+6n2v/TV8uvwQ+lv5ZvhyN302fTZCtg21GLQeM6kyqTKeM5i0HjOpMp4zkzSNtQK2MjdheNZ5xft6/C/9JL4rf3+AosFGQiNCykQUBGeEzkYYBnVHK4b/B0jHyMfSSC+I+UkviO+I+UkDCblJL4j5SQMJpciSSAjH0kgIx/8HdUcrhs5GOsV6xWeE1AR2w2NC0AJ6ARs/gT7kvi/9OvwF+1D6W/lheOb4bHf9Nkg1iDWNtR4zo7MpMqOzI7MjsyOzI7MeM5M0grY3tvI3ZvhWecX7evwqfbp+nz/oQMZCGcK2w1QEesVYBmuG/wdSSC+IwwmWiiBKYEpzivOK84rgSmBKTMnMyczJzMnDCa+I+UklyJwISMfIx/8Ha4bORjrFZ4TKRC0DEAJnAZ7BHAA6fqp9tXyAe8X7VnnheOx3/TZCtg21GLQjsykyqTK0cbRxtHG0cbRxrrIpMqOzI7MYtAg1grY3tub4VnnF+3r8Kn2Ffy3Ad0FZwoCD3cSORjVHEkgviMzJ6cq9SwcLmowkTHfM98zuDKRMUMvQy/1LM4rgSkzJwwmviNwISMf/B3VHIcaORjFFFARAg/bDY0LPwd7BNIBfP8V/JL41fIB7xftQ+lv5bHf3tv02QrYTNJ4zo7MpMqkyqTKusi6yKTKeM5i0EzSTNI21CDW3tux35vhWecX7b/0kvh8/wkCkQe0DFAR6xU5GPwdlyIzJ6cq9Sz1LEMvkTG4MrgykTG4Mt8z3zORMRwuHC7OK6cqMye+I5ciSSAjH4caEhfrFcUUKRC0DGcKWgdKBjQDiwBc/RX8kvi/9OvwF+1D6W/lm+HI3d7bCtgg1iDWNtRi0I7MpMqkyrrIusi6yKTKjsx4zmLQTNIg1vTZyN2b4VnnLevr8Kn2gvzSAR4FjQsCD3cS6xVgGdUccCG+IwwmWiinKvUsQy9DL0MvajBqMJExQy8cLs4rpyozJwwmcCH8Ha4bYBnrFZ4TKRDbDY0LQAk/B4YD0gEP/wr9fPqS+L/0v/TV8uvwF+0t60Ppb+Wb4bHfyN3e2/TZCtg21EzSYtBi0HjOeM54zkzSTNIg1grY9Nne27Hfb+VZ5y3rAe+/9JL4gvzCAHsEQAm0DFARxRQ5GK4bIx9JIHAhviMzJ4Epziv1LBwuHC4cLkMvHC71LM4rgSkzJ+UkcCEjH/wd1RxgGesVnhNQEdsNZwrHBwMFPwIP/1z96fqS+Kn2v/TV8tXy6/AX7S3rQ+lZ52/lheOb4cjd3tv02fTZCtgK2ArYCtgK2ArY9Nn02d7byN2x37Hfm+Fv5UPpLesX7dXyqfbO+nz/2AMZCI0LUBHFFOsVORiHGvwdIx9wIb4jviMMJjMnWiiBKYEpgSlaKFooDCblJJciSSBJICMfrhs5GBIXnhNQEdsNjQtACRMG/gIDADX+cft8+qn2qfa/9NXy1fLV8uvwAe8X7RftLest60PpQ+lZ52/lb+Vv5YXjheOF44Xjm+Gb4YXjheOF42/lb+VZ50PpLesX7evw1fKp9nz6Nf4ZA8IFxwdACbQMUBF3EusVEheHGtUc/B38HUkgcCFwIZciviO+I5civiO+I0kg/B38Ha4bORjFFFARAg+0DEAJWgfoBJECVQA1/iX9fPqS+Kn2v/TV8uvw6/AB7wHvAe8B7xftAe8B7wHvAe8B7xftF+0t6y3rQ+lD6VnnWedZ50PpQ+lD6S3rLesX7S3rF+0B7wHvAe/r8NXy1fK/9JL4fPpc/d0A8wOABkAJtAwpEHcSnhPrFRIXORg5GIcarhvVHNUc1RzVHK4bhxqHGocaORjrFcUUnhN3EikQjQtACawHAwWsAun///3D+3z6kvi/9L/01fLV8uvw6/AB7+vw1fLV8uvw6/Dr8L/0qfaS+Kn2qfap9pL4kviS+JL4qfZ8+pL4kvi/9L/0v/S/9L/01fLr8Ovwv/S/9L/0qfap9pL4fPp8+nz6jfui/loCoQNPA2UGZwq0DNsNAg8CDykQdxLFFOsVxRTrFesVEhcSFxIX6xXFFJ4TUBECD7QMZwoZCN0FTwNVAMj9Jf07+5L4v/S/9L/0v/TV8tXyv/TV8tXy1fLV8qn2qfaS+Dv7gvyt/Yf+7QEpBKED2APYA/MDvAOxBC8GcAU0A2AEOgVEBCQCdgKhA/gA7/ze+437kvip9qn2qfbV8uvwv/Sp9r/01fLV8pL4kvip9pL4gvyi/ir/AwDdAIsAPwIvBiQHAwUOBOIHQAlACUAJZwpnCo0LtAxnCkoGgAZACZwGCQJh/2H/vv6t/XH7fPqS+JL4kviS+Kn2qfaS+JL4kvh8+oL8Uf5VAFoCRARwBT8HQAm0DCkQKRBQEZ4TdxIpEAIPdxJQEWcKGQiNC2cK+AXzA6wHLwYP/wT7fPqS+L/0v/S/9BftWedD6RftLetZ50PpF+0X7RftAe/r8NXyqfaY+mb8kvh8+pf/PwKsApwBVQUIBxMGkQdACWcKZwqNC40LGQiABkAJZwrSBmAEgAaRB8cCFAFaAhkDcACLAKwCpwBG/yQC+AUOBEoBxwJKBpwGZQZACbQMjQuNC40LAg8pEHcSnhOeE54TAg8pECkQAg+NC+0G+AVEBC8Bh/7I/e/8qfbV8uvwF+0t60PpQ+mF47Hfsd+b4bHfyN2x37HfyN2b4VnnWedZ5y3r6/DV8tXyv/TT/Hz/Rv9h/w4EnAZACWcKZwpnCmcKZwqNC40LQAkZCGcKjQtnCiQHEwZnCo0LxwecBggHZQb4BccHZwoZCHAFZQZnCmcKGQhnCmcKjQvbDQIP2w2NC40LUBGeEwIPjQspEMUUxRRQEdsNjQtnCrQMQAnzA6L+s//0/nz6v/Tr8AHvF+0t61nnm+HI3Zvhm+HI3d7bsd+x37Hfm+Gb4W/lWecX7evwAe/r8JL4h/7Z/lz9FAF7BPgFGQiNC7QM2w20DCkQUBEpECkQUBFQESkQUBF3Ep4TUBECD9sN2w3bDbQMjQtnCkAJGQhACWcKkQcvBggHxwdACUAJGQhnCmcKjQu0DLQMjQuNC1ARdxJQEQIPKRCeE+sV6xV3Eo0LdQdnChkInAFx+437mPq/9AHvLetD6Vnnb+WF48jdCtj02d7b3tv02fTZ3tve297bsd+b4VnnF+0B7wHv1fKY+lH+9P6BAWsDewQZCLQMUBEpEFARnhOeE1ARdxLFFHcS2w20DCkQKRACD9sNjQsZCI0LtAxnCkQEAwUTBikECQLtAdIBHwDSAWAErAdACawH/gdnCmcKZwqRB6wHxwcZCEAJjQsCDykQUBEpEFARdxLFFAIPZQasAkQEDgRs/nH7fPq/9Ovw6/C/9L/0Ae8t61nnheOx38jdyN302QrYCtgK2PTZ9NnI3cjdsd+F40PpF+0X7dXynfycAXYClgQkB0AJtAzrFa4b1RxgGRIXxRR3EncSUBECD40LZwq0DLQMQAkIB4AG2ANVAJwB8wOhA5EC3QDp/0b/cABPA/4CNAOLBY0LKRACD7QMQAmNC9sNtAxnCrQMKRBQEXcSdxJQESkQKRCeE+sVxRTrFWAZORgpELQMtAy0DBkIAwX+AlUA5P18+qn2Ae9Z57Hf9Nkg1kzSYtB4znjOYtBi0HjOeM5M0iDWCtix31nnF+0B7wHvv/R8+lH+GQOLBWcK2w0pEJ4TnhN3ElARKRACD9sN2w0CDwIP2w20DCkQ2w1ACRMG6ARKBnAF4gIq/5j6kvip9pL4Vvvk/YEB3QWNCykQdxLFFMUUnhN3Ep4TEheuG64bhxpgGTkY6xXFFJ4T2w20DHcSYBlgGTkYEhcSFxIXxRSeEykQjQtnCkAJQAn4Ba391fJD6Zvh9Nli0I7Mjsykyv3CKb8pvym//cK6yHjONtQg1iDWINbe21nn6/Cp9nz6MPyz/7EEtAxQESkQAg+0DI0LtAx3EhIXORjrFcUUnhMpEI0LQAlnCrQMKRBQESkQZwokB2AE2APHAi8BD/9c/T8CGQgCD54TxRR3EikQUBF3EncSnhPrFesVxRTrFRIX6xXFFMUUEhcSF8UUUBEpEJ4T6xXrFZ4TxRQSFzkYrhtJIHAhhxq0DN0AqfbV8uvwLeub4SDWusg/vZe1rbOts9mv2a/DsZe1gbc/vefEjsxM0vTZyN2b4Vnn1fIq/2cKnhMSF8UUKRDbDdsNKRB3EncSAg+NC0AJQAlnCtsNKRB3EncSdxJQEVARdxKeE3cSxRQSFzkY6xXFFOsVEhc5GDkYnhMCD7QMjQvbDQIPdxJ3EikQ2w3bDSkQUBHrFWAZ/B38HSMfIx+HGhIXEhc5GGAZrhvVHCMfcCFwIZciSSCHGncSZwplBgkCJf3V8kPpyN0K2EzSjsy6yP3CP72Bt5e1l7WXtZe1l7VruT+9/cKkymLQINbe24XjLevr8Kn2qfap9pL4vv6hAx4FvAOBAen/FAGsAjoFLwZACbQMKRDFFOsVdxLbDdsNUBHFFK4blyLlJL4jSSAjH9UcORieEwIP2w20DI0LZwpACWcKZwrbDVARUBF3Ep4TEheHGtUcIx9JICMf/B1JIJciDCZaKFooWigMJpcilyJJINUcYBk5GMUUKRBnCugENf58+u/8vv5A/an26/BZ58jdNtRi0KTK0cbnxP3C/cL9wufE0cakyo7MeM54zmLQTNI21ArY3tuF41nnQ+lZ50PpLesB79XyqfbT/Jf/iwAJAjQDpgVACY0LtAwCD8UUEheHGiMfSSAjH/wd/B2uG2AZ6xXrFcUUdxLbDUAJZwqNC7QM2w3FFDkYYBkSF8UUxRTrFWAZ/B0MJs4rkTFDLxwuziuBKeUkSSD8Ha4bORjFFCkQjQtACYAGWgKX/xQB/gLiApECewQpBC8BUf64/Hz6qfa/9L/06/At65vh9NlM0o7MpMq6yLrI58T9wj+9gbeXtYG3Vbv9wqTKYtA21CDW9Nne27Hfm+GF40PpF+3r8Kn2kv12Av4HjQvbDSkQUBFQEXcSdxKeE8UUEhc5GBIXxRTFFMUUxRSeE54TnhN3Ep4TEhdgGYcarhvVHPwdIx+XIjMnzitqMLgyuDKRMfUsWijlJJciIx+HGhIXnhMCD2cKQAlACUAJQAmNC2cKQAn+B4AG3QWmBXUHZwoCD1ARdxJQEbQM0gbdADD8qfbV8hftQ+lv5YXjsd8g1qTKE8E/vWu5P73nxLrIpMq6yOfEE8ETwf3C58SkykzS3tvI3cjdsd+b4YXjWect6+vwv/SS+Hz65P06AFoCDgRwBWcKAg+eE+sVxRTFFCkQtAy0DCkQORj8HeUkzitDL0Mv9SzOK/UsQy+4Miw2oTmhOd8z9SwzJ3Ah1RyHGjkYORhgGTkYxRRQEdsN2w20DLQMAg93EsUUORhgGWAZhxrVHNUcYBkSF54T2w11B6wCZvy/9AHvF+0t61nnWedZ50Ppb+WF45vhyN3I3Zvhb+VD6S3rQ+mb4fTZNtRi0I7MpMqOzKTKusjnxP3CE8Epvym/E8HnxLrIeM421PTZsd9v5VnnLevr8JL4uPwvAUAJAg93ElARdxISFyMfMyfOK/UsHC7OKzMn5SQMJoEp9Sy4MgU1LDbfM2owpyozJzMnWigzJwwm5SS+I5cicCFwIUkg/B38HSMfIx/8Ha4bYBnrFSkQtAxACVoHcAWRAq39kvi/9AHvLetD6Rft6/C/9Kn2v/QX7S3rLesX7evwkvhR/ir/Yf8l/ZL41fIX7UPpb+Wb4bHfsd/e2/TZCtgK2GLQ58Q/vYG3a7k/vf3C0cakyqTKpMq6yKTKeM421Mjdb+Ut6xftF+0t6y3r6/Cp9rP/GQgCD3cSxRTrFWAZ/B2XIoEpkTFTN8g6yDosNmow9SzOK84rajAsNu87Yz+KQBY9ejiRMacqMyczJ84r9SyBKb4j1Rx3Eo0LGQgZCEAJQAlACToF6f+S+OvwF+0B79XykvhA/QkCCQKi/qL+d/1R/joAOgVnCkAJnAZlAZj61fIB7xftLest6wHvAe8X7RftF+0t61nnb+Vv5VnnLevr8Kn2qfap9r/01fLV8tXy1fIB74XjINbRxufE58TnxNHGusiOzKTKusikynjONtT02YXjF+2p9mb8yP06AIAGKRBgGa4bSSC+I+UkDCaBKfUs9SyBKVooWiiBKTMnlyJJICMflyLlJDMnpyqnKlooviMjH64bEhfFFJ4TEhfVHNUcYBmeEwIPZwrSBsIFewQkApf/Gv47+6n26/AB7wHvF+0B79Xy1fIB7xftF+0X7evwv/Sp9nz6Rv9rAykE8wOGA2sDpgVnCtsNtAxnClUFl/98+r/01fIB7y3rLetD6VnnWect6y3rWedv5W/lWedD6Rftv/R8+pL46/BZ57Hfsd+b4Zvhsd/I3d7bINZM0mLQINbe25vhQ+kB77/0qfaS+ED9VQUCDxIX1RxwIb4jviNaKBwukTEcLhwuQy9qMGowzivlJPwdhxoSF54TdxLFFMUUdxIpENsNAg/bDdsNtAwCDykQQAndAHz6kviS+Kn2ZvycAZEC//2S+Kn2qfap9qn2kvi4/P/96fqS+JL4kviS+JL4VvsV/Pr76foE+2b8D/8P/1z9vv6BAYAG/gdACbQM2w20DI0L2w0CD2cKPwexBOn/fPq/9L/06/AX7S3rQ+lD6S3rF+0X7RftAe8B71nn3ttM0jbUyN1Z5wHv1fLV8hftheOx35vhQ+kB77/0S/xc/Zj61fLr8L/0ZvymBdsNxRQ5GMUUUBF3EmAZIx/8HSMfSSBJIGAZUBECDykQAg/bDQIPKRACD40LlgTtAbwDRARaAhQBKQS3Bj8HJAdACRkIDgRR/o37IPuS+Kn2kvid/LP/6f9VANIBkQI/Ai8B8wONC1ARnhN3EncSdxIpEAIPKRB3EncStAxACXAFKQQDBRkIQAkIB5YEVQA1/mz+WgKRB40L2w20DP4HlgS8AwMFoQMvAWz+fPrV8i3rWedZ50PpF+0B7+vwAe+x36TKVbspv47MINbe28jdyN0K2DbUCtiF4xft1fK/9JL4qfbr8BftAe98+pwBKQQJAs7/7/yp9pL4KQR3EmAZdxKNC40LtAy0DBkIQAkCDykQUBEpEFARUBF3EsUUEhdgGRIXKRCNC9sNnhPrFcUUnhOeE1ARtAyNC2cKQAmWBEb/wgDzAxMGvAMTBrQMUBF3EsUUEheHGoca1RwjHyMf/B1gGYcaYBnrFQIP3QWLABQB4gKLBXAFDgSH/r/01fKp9kv8+vuS+JL43vsV/K394gL+B3UHWgIl/ZL4qfbr8C3rb+WF44Xjm+Gx35vhheM21D+92a9ruaTKTNJi0HjOeM6OzHjOCthD6an2nfx8+qn2v/Tr8AHvqfa3BtsNjQuBAZL46/AB75L4tAzVHBIXGQinAJEHUBHFFOsVYBmHGusVUBF3EtUclyIMJoEppyqXIhIXtAwpEK4bDCa+IzkYAg+NC2cKtAzrFdUcYBm0DKEDRv8q//gAOgW0DAIP2w3HB+0GtAzFFGAZIx+XItUcKRBACdsNYBlgGQIPzQR8+r/01fKp9hX8Cv3D+7/0Ae8t6y3r6/DV8qn2v/QB7xft1fJVANIB//18+qn2v/Tr8AHvAe8t60Ppb+WF45vhsd/I3aTKa7mtsxPBjsykytHG/cL9wqTKNtRv5QHv1fKp9qn2fPqS+JL4+vvtBncSnhO0DBkDuPwg+90A2w2uG9UcUBHdBdsN/B3lJEkgrhvVHK4bEhc5GEkgWij1LPUszisMJvwdORhgGZcigSkzJ64bUBHbDSkQdxI5GK4bxRRnCu0BJAIpBJEC/gITBv4HhgN3/SD7rAK0DJ4T6xV3ElARjQviBwIPYBkjHxIXjQucAan26/C/9Fz9kv2/9C3rb+WF45vhheMt6wHvLeux3wrYyN0X7RX86f/v/JL46/AX7S3r1fKp9tXyAe9D6YXjm+Gb4W/lF+1v5XjOVbtVu6TKYtBM0iDW9Nne2/TZsd8B77j8twFPA5YE6AQUAdIBQAk5GNUcEhdACXz/SgGmBdsN6xWuG4caUBEpEDkYSSCXInAhSSD8HRIXnhM5GOUk9SwcLqcqlyJgGesVYBlwIeUkSSDrFQIPKRACD7QMjQsCDykQjQuRApL4fPr//egEJAcOBED9qfap9jX+ZwopELQMQAmNC40LZwpnCgIPnhNQEUAJyP2/9Ovw6/C/9JL4kvjr8FnnyN2b4RftqfbV8kPpb+Vv5S3rv/Qa/hkDl/+o+5L4kviS+Hz6qPuS+L/06/BD6VnnQ+kB7+vw1fLr8FnnNtTRxo7Msd9D6bHfNtQ21PTZyN2F4y3r1fLV8tXy1fK/9LP6s/9ACSkQ2w0DAKn2jfs/B9sNjQsCD+sVYBlQEY0LxRSXIr4jORhQEVARKRB3EiMfziv1LHAhORg5GCMf5SQzJ74jSSCuGzkYEhfrFesVdxLbDY0LGQgDAMP7VvvtAegE/gIK/ZL4kvh8+oEBQAnbDY0LQAkZCAIPnhNQEUAJGQiNC0AJ//2/9NXyAe/r8NXyv/Tr8G/lm+GF41nnWedZ5xft6/Dr8BftAe+S+LEEQAnp/5L4qfZ8+jv7fPp8+nz6v/QB7y3rF+3r8NXy1fKp9qn2kvgB797bNtTe2wHvAe+b4QrY3tuF40PpAe+/9L/01fLV8qn2uPz//WUBewQZCLEErf1G/0AJnhNQEbQMUBHVHIca2w2NCxIXlyL8HRIXnhM5GPwdlyJaKKcqviPVHK4b5SSBKQwmcCFgGYca6xWeEykQAg+0DOgEov7I/Z38fPp8+rP6Uf6S+Kn2kvjiAuIHpgVVBWcKnhNQEdsNtAx3EgIPOgXe+4L89P4E+7/01fLr8BftF+3r8L/0Leub4YXjLesB70PpF+2/9JL4v/Tr8NXykvjT/BX86/AX7RftAe/V8uvw6/At64Xjb+VD6QHvAe/r8NXyv/S/9NXyzvqH/i3rNtRi0IXj6/Bv5d7b3tuF44XjheNZ5y3rAe8X7QHv1fK/9Kn26f/CBUAJiwX4BbQM2w2NC2cKdxKHGq4bxRR3EtUcziunKkkg1RyXIoEpWiiBKc4rHC71LGowuDIcLpci/B2XInAh1RzFFMUUnhMCD4AGtwEUAe0Bd/18+nz6kviS/awCQAnHB2UGOgU/BxkIQAkZCJwGTwMK/ZL41fLV8r/0qfa/9Bftm+HI3ZvhLevV8i3rheOb4UPpF+3r8NXyv/SS+NXyAe8t6y3r1fJW++T9v/Rv5ZvhQ+m/9JL46/At62/lF+2/9Dv7l/8l/XH7fPp8+oL8ZQFACQIPxwJD6cjdLesvAYsALev02d7bm+FD6RftAe8X7UPpQ+nr8LP6QP0a/kb/cAUpBNn+QP3iAtsN6xXrFZ4T6xWHGvwdcCHOKxwugSlJIOUk9SxDL6cqWiiBKb4jSSD8HfwdhxqHGq4brhvrFdsNZwrbDSkQZwqGA+n/ewREBKEDawMpBMIFcAWLBfMDSgF3/ZL4qfaS+Kn2qfbr8BftAe/r8OvwF+0X7evw6/At60PpF+2p9pL4qfaS+JL4qfbV8tXyqfaS+JL4v/QB7y3rLesX7QHv6/AB72/lheMt67/0+vsE+5L4v/Sp9vr7iwCz/wT7fPrI/ZwB7QHdAIsFjQtnCq39Q+mx30PpO/sw/G/lNtQg1m/l1fK/9BftheOx31nn1fKS+L/0Ae+/9Lj8fP9L/OT9CAdQEesVKRApEK4bWiinKjMnWiinKjMncCEjH0kg/B1gGWAZrhuuG2AZ6xV3ElARdxLFFMUUKRC0DAIP6xU5GBIXdxIpEI0LZwqsBzoFXP2p9nz6fPqp9gHvLest6wHvAe8B7xftQ+lZ5xftv/S/9Ovw6/CS+Cr/jfup9pL4yP1KAen/AwAK/ZL4v/SS+JL4v/Tr8AHv6/AX7S3rQ+nV8kv8fP+/9C3r6/B3/QMFpwCS+L/0zvr4BWcKCAdaAk8D+AXHB5wGzQSmBWcKjQtwBQT7Ae8X7an2XP3V8sjdINax3xftAe9v5d7b9NmF4wHv6/AB7wHvv/RVAKwHZQbtAYAGUBFgGcUUAg8pEGAZ/B05GCkQKRDrFYcaYBmeEwIP2w2eE2AZYBnFFHcS6xWHGr4jWigzJ0kg/B0jH0kg1RwSF3cSZwrdBbcBRv+S+NXy6/DV8gHvLest6xft6/At60PpLeu/9Kn21fIB79Xys/p8+r/01fKS+JL4kviS+JL4v/Tr8L/0kvjV8kPpLeu/9Hz6v/Tr8L/0kviS+L/01fKp9s76kvi/9NXykvhwACkE6f98+pL4OgA/B+0GvANKAXYCgAZACe0GNAPzA2UGhgM7++vwLevr8Kn21fKF4/TZm+EX7dXyAe9Z54XjF+07+5ECKv9x+//9+AUCDykQZwr+AhkDZwpQEXcSAg/bDZ4T6xXFFMUUORg5GOsV6xU5GNUcSSAMJloo5SS+IzMnMyczJwwm5SQjH2AZYBkSF3cSQAnNBP4Cov58+r/01fIB7xftAe/r8AHvF+0t6wHvAe8t6y3rF+3r8AHvLesX7dXyv/Tr8Bft6/Dr8C3rF+0X7evwF+0B77/0qfbV8gHvv/Sp9tXy6/C/9Kn2qfap9jv7uPz//acAHwBVAIEBcAUkBzoFPwKRAt0FQAkZCBMGtwEq/y8BWgKBAUD9gvzv/Eb/w/up9uvw6/C/9NXy6/AX7evwkvgK/Qr9kvi/9Kn2ZvxA/ZL46/Dr8L/0s/p8+qn2v/S/9Hz6zv9rA2UBTwOABrQMAg93EjkYhxqHGvwdlyLlJOUk5STlJJci5SS+I74j/B2uG9UcYBnFFHcSUBECD7QMjQu0DGcK7QaABqwH8wN8/77+6f8fAI37O/uY+pL4v/Tr8NXy6/AB70PpWedZ50PpWedZ51nnQ+lD6S3rF+0X7RftLevr8OvwAe8t6+vwv/S/9L/0qfaz+kv8nfw7+2b8Gv6sAjoFlgQOBEQEpgXzA+ICs/98/2UBkQLtAaL+7/wP/4sARv/T/N77d/2S/Yf+XP2N+876Jf1h/xr+S/x8+sP7+vt8+tXyF+0t6y3rF+0t61nnheNv5VnnLetD6VnnLevr8JL4fP8DBUAJ2w13EusVEhc5GGAZ1RxJIJcilyJwISMfIx/8Hfwd/B2uG4carhvVHK4bORg5GDkYORgSF8UUnhMpEAIPAg8pENsNZwrSBosFRARKAYL8kvi/9OvwAe8X7QHvF+0t60PpQ+lD6UPpQ+lZ50PpQ+kt6xftAe8X7S3rAe+/9Kn2qfap9un67/yz/zQDgAYIB0oGgAYIBxMGiwXCBZYENAMvAZf/9P5R/oL8Gv5h/2H/2f41/nz/LwFPAxMGWgdwBaEDJAI6ADD8kvip9r/0v/Tr8BftWeeF45vhm+Gb4cjd3tvI3bHfsd+b4W/lQ+kX7dXykvjT/CQCnAa0DFARdxLFFOsV6xU5GBIXORiHGjkYORjrFesVxRTrFTkYYBnVHNUc1RzVHPwd1RxgGTkYORg5GBIX6xV3EikQ2w3bDbQMZwrdBSQCRv93/Xf9fPqp9tXy1fLr8OvwAe8B7xftLesX7RftF+0X7S3rF+0B7wHvAe8B7wHv6/Dr8L/0qfap9qn2kvhW+3f93vuz+nz6kviS+JL4kvip9qn2qfap9qn2qfap9pL4fPpx+4L8Uf63AaED+AX+B0AJQAkZCCQHRASBAdn+XP1x+5L4v/TV8uvwF+0t60PpWedD6S3rF+0t6xftAe/r8L/0qfaS+JL4//3tAe0GQAmNC9sNKRB3Ep4TxRSeE8UUnhOeE8UUxRSeE3cSxRQSF2AZhxqHGocaYBmHGmAZORgSF+sVEhfFFMUUdxICD7QMZwpnChkItwaxBFoCYf8K/c76kvip9tXy1fLV8tXy1fLr8Ovw6/AB7wHvAe/r8Ovw6/Dr8Ovw6/Dr8NXy1fK/9L/0v/S/9L/0v/S/9NXy1fLV8tXy1fLV8tXy1fK/9L/0v/S/9L/0qfaS+I37XP1R/qcALwE0A6EDlgTCBToFHgXp/zX+IPuS+JL4qfa/9NXy6/Dr8BftF+0X7QHvAe/r8NXyv/TV8qn2kvh8+gT7uPyz/x8AoQNlBkAJjQu0DNsN2w0CDwIPKRBQEVARdxKeE8UU6xU5GDkYhxquG9Uc/B38HSMf/B38Hfwd1RxgGRIX6xWeEwIP2w20DGcKGQgvBnsEZQF8/xr+nfyN++n6mPqS+JL4kvip9qn2v/TV8tXy1fLr8Ovw6/AB7wHvF+0X7RftF+0B7wHvAe8B7wHvAe8B7+vw6/Dr8Ovw6/Dr8NXy6/DV8tXy1fLV8tXyv/S/9Kn2qfaS+JL4kvhL/Mj9Rv98/87/vv6C/Fb7BPuS+JL4qfap9r/01fLV8uvw6/Dr8NXy1fLV8r/0qfaS+M76gvyN+7j89P6nAKwCKQScBkAJjQvbDdsN2w0CDykQdxKeE8UUnhOeE+sVEhc5GDkYORhgGYcarhuHGocahxpgGWAZORjrFXcSUBFQEQIP2w2NC0AJWgf4Bd0FDgT+AlUARv9h/9n+Kv8a/iX97/y4/Pr7mPp8+pL4kviS+JL4kvip9qn2qfap9qn2qfap9qn2qfap9r/0v/S/9NXy1fLr8AHvAe8B7xftF+0X7QHvAe8B7wHv6/Dr8Ovw1fLV8tXy1fK/9L/0v/S/9NXy6/AB7wHvAe8B7wHvF+0t6y3rLest6y3rF+0B7+vw1fLV8r/0kvhL/ED9h/6LAMcChgOmBVoHQAlnCmcKtAy0DAIPKRB3EsUU6xU5GDkYYBlgGa4b/B0jHyMfIx8jH9Uc1RyuG64bhxo5GOsVnhNQESkQAg/bDY0LZwoZCKwHgAZVBbwDoQP+AqcAzv/O//T+2f6H/lH+5P3p+nz6kviS+JL4qfap9qn2qfa/9L/01fK/9L/0v/S/9L/0v/S/9L/0v/TV8tXy1fLr8AHvAe8X7RftF+0X7RftF+0X7RftAe8B7+vw6/Dr8Ovw1fK/9L/0v/S/9L/0v/S/9NXy1fK/9NXyv/S/9L/0qfap9qn2qfap9qn2kviS+Hz6cfuN+9P8d/3Z/joA0gE0A+gECAcZCGcKtAzbDQIPUBF3EsUUxRQSFzkYORg5GGAZYBlgGWAZYBlgGRIXEhcSF+sVxRRQEVARAg/bDdsNtAy0DI0LZwpACccHJAecBlUFNANKAVUAvv7I/UD9uPxL/M76qPt8+nz6fPqS+JL4kviS+Kn2qfap9qn2v/S/9L/0qfap9r/0qfap9r/0qfa/9L/01fLV8uvw6/Dr8Ovw6/Dr8Ovw6/Dr8NXy1fLV8r/0v/TV8tXy1fK/9L/0v/TV8uvw6/Dr8OvwAe8B7+vw6/DV8tXy1fLV8tXy1fK/9Kn2qfaS+JL4fPpm/J38Jf3Z/hQB4gKmBT8HQAm0DAIPUBFQEZ4TxRTrFTkYYBmHGq4b1RzVHNUc1RzVHNUc1RyuG64brhtgGWAZORgSF8UUnhOeE1ARKRACD7QMjQtACUAJxwcIB2UGlgQ0A7cBFAFG///9gvxx+3z6kviS+Kn2qfa/9L/0v/TV8tXy1fLr8OvwAe/r8Ovw6/DV8uvw6/Dr8Ovw6/Dr8Ovw6/Dr8AHvAe8B7wHvAe8X7RftF+0t6y3rLest6y3rF+0X7RftAe/r8NXyv/S/9Kn2kviS+JL4s/px+3H7qPtL/Ar9uPz//Yf+h/5G/5f/VQBG//T+zv+nAFUA+AC3Ad0ASgHSAawCNANPA+gE3QX4BT8HGQhACUAJZwq0DNsNAg8pEFARdxKeE8UU6xXrFesV6xUSFzkYORgSF+sVEhfrFcUUxRTFFJ4TdxJQESkQ2w20DLQMjQtnCkAJrAdKBnsErAJKAQMAvv7//SX9Vvt8+nz6kvip9pL4kviS+JL4kviS+JL4kviS+Kn2qfap9r/01fLV8tXy1fLr8NXy6/Dr8Ovw6/Dr8Ovw6/Dr8Ovw6/AB7+vw6/Dr8Ovw1fLr8OvwAe8B7wHvAe8X7RftF+0X7RftLest6y3rF+0B7+vw6/DV8r/0v/SS+JL4IPsw/K39l/8vAXYCYAQIB+IHZwqNC40L2w0CDykQUBGeE8UU6xUSFzkYYBlgGWAZhxpgGWAZORgSFxIX6xXFFMUUnhNQESkQKRACD9sNtAyNC7QMZwpnChkI7QZ1B2UGiwUeBZYEDgTiArcBwgBh//T+yP1m/MP7fPqS+JL4kvip9qn2qfa/9L/0v/Sp9qn2qfap9qn2qfa/9L/01fLV8uvw6/Dr8Ovw6/AB7wHvAe8B7wHv6/Dr8NXy1fLV8tXyv/S/9Kn2qfap9qn2kviS+Hz6s/re+4L8MPzv/NP8XP0l/bj8uPyC/CX97/xc/UD9XP2t/Rr+Nf5h/87/zv+z/zoA3QBwAO0BJAKsAikELwb+B2cKjQuNC9sNAg8pEFARUBF3Ep4TnhOeE54TnhPFFMUUxRTFFMUU6xXFFMUUxRTFFJ4TdxJ3ElARKRDbDbQMjQtnChkIJAfoBKEDSgGX/yr/0/yC/Kj7IPt8+pL4kviS+JL4kvip9qn2qfa/9Ovw6/Dr8NXyv/S/9L/01fLr8NXy6/DV8uvw6/AB7wHv6/AB7+vw6/Dr8Ovw6/Dr8Ovw6/Dr8Ovw6/Dr8Ovw6/Dr8NXy1fLV8tXy1fK/9L/0qfaS+Hz6O/ud/OT9Gv6i/qL+FAFKAYEBdgJ2AqwCTwPYA+ICvAMOBLEEhgPNBAMFHgVlBj8H4gecBscHQAlnCmcKjQu0DLQMtAzbDdsN2w0CDykQUBECDykQAg8pECkQ2w3bDdsN2w20DLQMtAyNC40LtAyNC40LtAxnCkAJGQhACf4HZQamBXsE/gJ7BHsENAMkAlUAl//Z/nz/ov4K/d77O/t8+nz6IPt8+pL4kvip9r/0v/Sp9qn2v/S/9NXy1fLV8tXy1fLr8OvwF+0t6xftF+1D6VnnWedZ51nnQ+lD6VnnWect6y3rLest6y3rLesX7QHvAe8B79Xyv/S/9Kn2fPo7+1H+JALiAnsESgZACUAJZwq0DNsN2w1QEZ4TdxKeE8UUORg5GDkYORgSF+sVORiHGjkY6xXFFJ4TdxKeE54TdxIpEAIPAg8CD7QMjQu0DEAJQAlACT8HZQbSBiQH6ASGA2AEHgWhA4YDKQSxBA4E/gLHAj8CtwFKAawCLwEP/+/8h/4P/0D9Cv3e+3H7fPo7+876fPp8+nz6fPqp9r/0qfa/9NXy1fIB7wHvAe/r8AHvF+0X7RftF+0B7wHvLest6xftAe8B7+vw6/AB79Xyv/Tr8Ovwv/S/9L/0qfap9r/0v/SS+Hz6kvh8+rP6Vvui/un/6f+LAGAEPwcvBugEYAS3BkAJjQtnCj8HJAdACY0L2w20DGcKQAmNC9sN2w0CDwIPKRApECkQUBFQEXcSdxJQESkQAg8pECkQKRACD9sNtAyNC40LjQtACZEHPwdVBUQEvAOhA8cC0gHSAS8BYf+i/of+Nf53/d77fPqp9qn2qfap9r/01fLr8Ovw1fLr8Ovw6/AX7RftAe/V8uvw6/Dr8AHvAe8B79Xy6/AB79Xy6/AB7wHv6/Dr8NXyv/S/9NXy1fKp9pL4fPoE++n6Vvtc/bP/wgDSAZECRARKBhkIQAlnCrQMAg8CDwIPKRApEAIPUBF3ElARKRApEFARKRApEFARKRDbDQIPAg8CD9sNtAyNC2cKZwpnCj8H7QFwAIsA//1x++n6fPqS+Kn2v/TV8tXy1fLV8tXyAe8B7wHv1fLV8tXy1fK/9L/0v/SS+JL4Ffwa/un/wgD4ANIBTwPYA08DCQKcAdIBNANwBfgFewShA7EElgTSBloHSgZgBKEDawP+ApYENAPdAOn/LwHZ/mz+s/93/e/8Nf7Z/sP7s/p8+qj7+vs7+yD7fPqN+yX9rf1h/zQD+ABR/s7/+AA/AiQCkQIUAToALwHSARQBLwHCAOn/cAAUAXAAYf8JAj8CVQCi/tP8Nf6LAD8CFAGd/Ar96f86APT+Nf6S/UD9Nf70/pf/ov5G/87/VQBlAVUAKv8vAbwDdgLCAO0BxwKBAe0BiwUDBYEBrAJ7BM0EewQvBs0ErALiAgkC+ADCAHYC0gFVAOn/5P3v/B8A3QCi/r7+5P0g+zD8vv5h/1H+Uf53/RX8Jf1R/tn+Uf7O/87/D/9wAC8BD/93/Ub/VQAfAFUA2f5c/Sr/nAFlAacA+AAfAMIAWgJPAyQCiwAJAnYCnAG3AfgAVQCX/zoApwA1/mb8Rv8fAIf+h/7//a39Nf6+/mz+5P2d/Lj8uPxc/RX8IPtm/Mj9d/3e+8P7jfsK/SX9w/uS+Hz6+vuY+nH7nfx8+nz67/z0/of+rf2+/s7/6f9VAAkC7QHdABQBkQKGA3YCZQFPAzoF8wNVBfgFpgWxBIAGGQhaB3UHdQfSBhMGrAfiBxkIPwftBhMG+AV1B6YF3QUTBsIF8wMpBOgEcAWxBKED2ANlAc7/iwDCAAMAtwEfANP8Jf3p/87/kv1h/2H/rf1s/g//7/yd/Ar93vs7+zD83vuS+Hz6qPtW+5L4fPp8+nz6kvh8+pL4fPp8+pL4kvh8+nz6kviS+M76fPp8+sP7S/x8+pL4fPog+3z6O/tW+3z6kviY+t77cfsK/dn+Yf/0/lUAJAKRAuICawPYAwMFhgPtAWsDhgNPA7wDewR7BOIC/gIeBVUFSgYIBxMGwgWmBWUGgAasB8cHCAc6BegE6AQeBcIFvAN7BOgElgT+AnYCSgHdALcBFAEvAR8A6f81/mz+2f4q///9QP0a/v/9//1A/a39XP13/Qr90/ww/Fb7fPog+8P7zvqY+nz6IPtx+zv7w/sw/Ar9Jf24/O/87/w1/jX+h/6i/jX+bP7T/JL9yP3k/Rr+9P7Z/s7/pwDO/2UBpwC3ASQCwgCnAJwBWgK3AbcB0gF2AscCxwJrAykEoQPNBB4FcAVVBc0EcAWLBSQHpgU6BYsF6AShA1UFtwY0AxkD2ANEBE8DGQPzAxkD/gJPA6wC4gIOBGsDWgIpBBMGzQT+AjQDNAPtARQBLwHCAOn/Yf+H/nz/6f++/lH+ov70/mz+vv6+/r7+//0a/qL+rf1c/bj8uPxx+5j66fp8+nz6fPp8+pL4kvh8+rP6fPp8+hX8jfsE+wT7w/tL/Br+2f6H/kb/9P6X/yr/twG3AacAAwAfAFUAwgD4AAMAJALtAWUBgQGcARQBJAKhA08DNAPiAloC/gJrA4YDvAORAtIBCQLtAbcBtwEvAS8BFAGcAe0BdgIUAZwB4gKRAsIAwgAJAkoBSgEvAbcBLwH4ADoApwBVAB8AiwB8/x8ARv+i/mH/fP/p/3z/Yf98/9n+2f7Z/of+Nf7Z/kb/OgAfAKcAVQDO/5wB0gHCAIsA3QDCAMIAFAFVADoA+AA6AHz/l/9VAOn/AwA6ABQBHwDO/1UAs//O/2H/HwDdAGUB+AAvAfgA7QGRAiQCWgI6AB8AfP+X/9n+Uf5s/lH+2f7v/Fz9rf0a/r7+9P7O/wMAwgDdALcBtwHSAe0BtwG3AUoB+ABVAOn/Rv86ADoARv+z/+n/zv/p/1UAHwA6ADoAVQCLAB8AfP98/87/iwD4AN0AAwAfAIsAAwBwAM7/l/8q/9n+2f6+/v/9QP13/cj9ov4l/TX+ov6+/ir/9P4q/77+Yf9G/87/fP8q/1H+Uf7Z/mz+Gv4a/ir/Kv/Z/r7+2f7Z/of+ov7Z/nz/AwAfAKcALwFVAN0AZQH4AN0A3QCnAHAA3QBKAWUBSgFKAS8BgQHdAKcAOgDCAEoBSgFKAUoBJALtAXYC4gL+AhkDrALiAu0BdgLtAS8BWgKcAS8B3QA6AMIAVQCz/zoAFAHtAZwBnAEUAfgASgH4AN0A+ADCAC8BtwGBAT8C0gFKAQkCWgLtAWUB3QBh/77+ov6S/eT9//0a/jX+d/0a/qL+Rv/O/x8AVQAfADoApwCLAAMA6f/O/4sAOgDp/x8AYf8q/87/pwAfAIsAnAG3ASQC/gLHAiQCdgI/Aj8CrALiAscCawNrA/4ChgMZA1oCgQG3Ae0BLwH4ADoAiwBVALP/iwAUAVUAVQCLAAMAcAAUAfgA+ABKAd0AcAB8/wMAzv8P/w//vv5s/v/9Gv6S/Qr9uPwK/eT9XP2S/UD9ov7Z/iX9Nf7I/aL+h/41/lH+Nf6i/mz+//3I/eT9bP4P/0b/OgDO/+n/Yf/0/vT+//2i/qL+vv4P/5f/6f8fAKcAVQDdAGUBgQHtAVoCdgKRAuICPwK3AXYCawMJAloCCQKBAXYCdgJrA/4CtwFlAdIBSgFKAS8BFAHSAS8BLwGBAT8CJAI/AuICrALSAWUBFAFwAAMAKv/Z/jX+7/ww/N77qPvD+9773vvT/OT9Nf6i/kb/9P70/vT+2f4DAGz+rf2t/dP8uPze+wr9S/yC/O/8nfx3/Qr9d/3I/Rr+//0a/ir/9P5G/x8AiwBKAQkCPwIvAZwBLwEvAfgAAwCz/9n+9P4q/6L+9P70/qL+2f5R/jX+ov4P/zoAcABwAHAAl//O/3z/HwAfAEb/AwCz/87/OgBwADoAOgBVAHAAOgA6AMIAVQAvAWUBnAFlAT8CGQP+Av4CJAKcAdIB7QFlAZwBLwFKAXYC8wOhA4YDvAP+AuICJAJKASQCrAIkAscCdgJaAiQCrAL+AloCkQLiAgkCJALiAnYCxwLtARQBSgG3AcIApwBwAAMAwgAfALP/9P5G/9n+bP7Z/v/9ov7//a39rf0a/r7+Uf5G/+n/AwAfAM7/HwBVAA//2f4q//T+ov6H/jX+5P01/sj9ov4P/w//Kv+X/3AALwHSAQkCGQPtAfgAFAHdAJwB+ACLAOn/OgAfAHz/Yf+z/zoAl/9VADoAVQAfAJf/cADCAFUAiwCLAEoB0gHtAS8BpwCcAYEBpwCLAIsAVQADALP/wgDO//T+2f6H/vT+s/98/wMAwgBlAdIBnAGcAacAFAFlAWUBtwFKAZwBtwFVAKcA+ACz/+n/D/+X/w//vv4P/5f/l/9h/zoAHwCLAAMAOgBwAAMAfP/p/0oBnAGRAvMDhgPiAqwCwgDZ/v/90/wV/NP8Cv3T/BX8Ffxm/Ev8XP1s/pf/AwAfAM7/cACnAN0ALwG3AXYCGQMpBJYEZQZlBnAF6AS8A1oCiwCi/of+OgBwAMIAPwLtAYEBLwF8/7P/Rv8a/jX+Jf3v/ED97/x3/a39Uf4DALcBWgJPA9gDkQJlAToANf5m/N77nfyC/Gb87/z6+3H7fPp8+pj6IPtL/Ev80/zk/Xf9QP2H/qL+6f9aArwDZQaRB9IGVQU/AmH/rf1A/Sr/AwCnAO0B+ACLAGH///0l/Wb8Ffwl/aL+Nf6d/CX9QP3I/Zf/wgC8A5wGQAmNC7QMjQtACUoGGQMkAi8BLwE6APT+yP36+5j6kviS+JL4fPr6+1H+bP7//cj9bP4q/wMArAJwBf4HZwq0DLQMZwq3BnYCbP4V/Jj6cfuC/O/8QP0V/MP7+vsV/N77MPzI/bP/VQCnAMIAs/81/pL9d/0K/Rr+OgB2Ag4EAwXoBGAEoQORAhkDzQRlBggH+AXoBBkDJAKBAYEBSgFG/xr+Ffx8+pL4v/TV8tXyv/Sp9pL4Gv5PA0AJ2w0CD9sNjQtACYAGkQcZCEAJQAlVBYEBFfyp9r/01fLV8tXyv/Sp9pL4fPp8+lb7MPxc/aL+s/+RAh4FrAdnCrQMtAxACUoGGQNwABr+Jf07+3z6kvi/9NXy1fK/9Kn2fPqo+2z+bP5A/cj9bP46AHYCAwU/B0AJZwpnCkAJSgb+Akb/QP1x+zv7nfxc/dn+fP+X/2H/rf2d/O/8d/2X/5wBCQJKAZf///1W+5L4kvh8+vr72f63AUQEcAXCBXAF6AQDBQMFYATzAxkD+AAUARQBHwCz/w//bP53/dP8nfxW+7P6kviS+JL4kvg7+2H/DgQZCI0LtAy0DI0LQAkZCEAJQAlACRkIZQaGA6L+MPyS+Kn2v/S/9Kn2qfaS+Hz6qPvI/b7+vv4UAdgDZQaNCykQnhOeE54TUBG0DEAJsQScAen/XP3p+pL4qfa/9L/0qfap9pL4zvp8+pj6fPp8+nH7gvxG/yQCzQRaB2cKjQuNC40LQAntBgMFdgKLAHz/Uf4l/SX93vt8+pL4qfap9pL4w/v//R8AVQD0/kv8mPqS+JL4fPqd/Hz/4gJKBhkIQAlACUAJQAmsB0QEWgLdAO0B3QBh/7P/d/0E+5L4fPqS+JL4fPqS+Kn2qfap9pL4s/pR/jQDGQiNC7QMjQuNC2cKjQuNC2cKQAntBtgDcACt/Xz6qfa/9NXyv/S/9Kn2kvh8+qj7Cv2o+6j7Jf2X/5YEGQjbDXcSxRSeEykQtAxnChMG8wOnAED9fPqS+Kn2qfa/9Kn2kvgg+zD8Nf4fAIEBGQOWBN0F7QZaBxkIQAlnCo0LtAyNC0AJEwa8Ay8Bvv41/uT9yP0V/Hz6kvi/9L/0qfbD+2H/hgOmBd0FewQkArP/Uf4K/YL8QP2H/joAgQH+AtgD8wM0A5wBHwAq/8j9bP6X/6cApwCi/nf93vt8+nz6fPqz+lb7fPqS+JL4qfap9pL4MPy+/pwB2AMDBYAGQAlnCmcKZwpnCkAJZQbzA87/d/3D+6n2v/S/9L/0v/Sp9nz6qPtL/Dv7kviS+JL4IPsDAKYFZwrbDSkQAg+0DGcKGQjSBqEDs/9A/bP6kvi/9NXy1fK/9L/0v/S/9Kn2fPqd/M7/7QE0Aw4EKQRgBBMGGQhnCo0LZwoZCKwHDgTHAnYC0gEJAnAAD/9L/Hz6kviS+N77h/7CADQDDgSGAxkD0gFG/1z97/zI/dn+iwChA+IHZwpnCmcKQAkZCGUG+AWRB6wHQAkZCGUGAwUvAcj9+vtW+876fPqY+nz6qfap9qn2qfaS+Dv7//2nAGsDSgZACY0L2w0CDwIPtAxnCqwHlgTdAED9kvip9tXy6/Dr8NXyv/SS+M76BPt8+pL4fPp8+jX+4gIkB40LAg8CD9sN2w2NC0AJcAX+Apf/7/wE+5L4kvip9r/0v/S/9L/0v/Sp9o37Gv5VAO0BLwGnADoA+ADHAg4EVQX4BZYEWgIJAi8BVQDCADoAHwC+/oL8zvp8+pL4fPr6+wr9D/98/wMAVQCX/+T9O/uS+Kn2qfap9nz6Nf7HApwGxwcZCOIHdQdKBu0GWgdACUAJGQjSBv4CwgCi/oL86frp+nz6kvh8+nz6fPrO+jv7nfyS/Wz+0gFVBeIHZwrbDVARUBEpEAIP2w2NC1oHHgUvAXf9fPqp9r/0v/Sp9pL4s/r6+0v8+vvO+s76gvxh//4C7QZnCrQM2w20DLQMjQtACR4FdgK3Aen/2f4a/lz9gvx8+qn2v/S/9L/0kvgg+8j9h/5s/q39S/zp+lb7d/0P/4EBJAI/AjQDoQOWBFUFHgXzA6wCZQEP/0D9nfzv/Lj83vud/O/8d/3T/JL9Nf5m/Dv7fPqS+JL4fPo1/loCiwVACWcKZwpACUAJZwpnCo0LjQtACawHAwUkAkb/Zvx8+pL4qfap9qn2kviS+Hz6mPp8+nz6cfsa/vgAVQVnCtsNAg8pECkQ2w2NC0AJGQiLBccCD/8g+6n2v/TV8tXyv/S/9Kn2qfap9pL4kvh8+tP8//3tARMGQAlnCo0LjQtACVoHYf+p9r/09P5KBmsDzv8vAdIB+vu/9L/0fPpR/vT+WgJVBawCFfyS+J38D/98/2UBewTCBUQEawOLBWcKjQsZCAMF3QWRB/MDGv6o+1H+HwDO/4f+vv6N+9XyF+2/9PgAVQU6BSQHZwqcBun/h/4JAosFCAdnCrQMZwpgBEoBZQE0A5wGQAlnCnUHSgFL/JL4qfaS+JL4qfbV8r/0qfbV8i3rQ+kB79Xy1fK/9Hz69P4JAlUFGQhaB5YE2AMDBaEDzv81/q39fPq/9Ovw6/DV8r/0kviS+L/0v/SS+DD8QP1s/k8DnAb+B40LAg9QEQIPKRB3ElARQAk6BUAJ2w2NC6wHEwbNBEb/kv1h/5ECkQIUAc0EGQgkB6EDwgUZCOIHewQUAd0ANANACdsN2w1nCmcKtAwCD2cKLwZ7BBMGxwcZCJwG3QCS+L/0Ae+x32LQYtBZ56n2qfaS+DX+d/3r8C3r1fIg+wMAkQKLBRkD6fq/9Kn2//1aAoAGZwpnCjoF6f8V/Hz6qPsq/1UA5P0DAFoCAwB8+r/0qfaY+nf9gQEZCNsNAg9QEXcSUBHbDdsNKRC0DHAFKQRVBSr/qfap9pL4qfbr8AHv1fK/9L/0kviBAaYF6ASWBOgEiwUZCCkQxRTrFXcSUBECDxkIrAJwBdsNdxJQEbQMVQUw/JL43QAZCJEH+AVnCgIPtAxACUAJQAlaB5wGCAftAXz6rf0q/y3rYtB4zpvhWeex32/lqfaS+BftQ+nr8L/06/Cp9pECOgAX7YXjWedD6Zvhm+Et67/01fLV8qn2fPpwABkI2w20DJ4TYBk5GCkQKRCeEykQQAmcBo0LQAm3AYf+2f58+r/0kvgq/3z6Ae8X7b/0h/7tAYYDGQhQEWAZYBnFFMUUORiHGjkYxRQCDx4FAwBPA0AJtAy0DNsN2w3bDY0LGQhnCp4T1RwjHzkYdxIpENsNAg/FFEkgSSDVHGAZxRS0DIsFrAcTBqL+kviS+NXyLetZ5wrYa7lIppe1jsxM0jbUb+UB72/lCtgK2LHfheND6b/0S/y/9JvhyN1v5S3rQ+kX7Xz6FAGC/Kn2Cv20DJ4TUBECD1ARAg9nCrQMZwrYA9n+CQIZA7j8qfaS+O0B+AWmBcIFtAx3EhIXhxpJIEkgIx/8HWAZdxKNCxkIrAJx+7/0qfaz+nAApgVACccH+ACnAP4HKRApEFARrhvlJJciEheeE+sVYBn8HZci1RwCD4AGkQe0DLQMZwokB90FvAOt/Xz6qPuX//T+5P07+7/0F+0B73z63QAl/b/0Les21Je18K0pv2LQINbe2y3rF+2x3zbU3tuF42/lAe8a/lH+Q+n02cjdb+WF40PpkvjzAwMAfPqS/bEE2w3rFdUcIx+XInAhEhfbDdsNKRACD3cSEhdgGTkYORhgGZ4TjQuNCykQKRC0DLQMtAxaB90FQAnHB3YClgTbDVARKRB3EsUUUBFQEesV/B2HGikQJAcpBMcHZwoZCFoHQAmNC4sFUf6z/1UFQAnbDZ4TKRCNC40LEhf8HdUcrhvVHGAZZwre+3z6uPyp9uvw6/AX7YXjheP02YG3Z41njfCt/cLRxmLQsd/I3UzSTNLe27Hfb+Wp9scCkvib4d7bsd9v5Vnn6/CS+Hz6qfa/9Kn2ov7bDdUcIx85GIcaSSD8HesVdxLFFCkQtAyNC3cSYBkjH/wdORhgGa4bhxqeE3cSEhf8HSMfrhs5GCkQZwq0DAIPZwpVAHz6JAJACdsNjQtnCkoGWgKX/80EKRDFFDkYhxqXIiMf6xUpEK4b9SyRMTMnORgpEJEHjQsSF74jIx9QERkIXP0X7ZvhAe+p9qn21fIB78jdTNKb4evwyN2Bt/CtP739wlW7/cJM0grYINYK2PTZTNJ4zvTZLetZ5wrYTNLe25vhm+GF4xftkvh8+pL9fP/dBdsNhxoMJuUkIx9JIDMnlyKHGjkYrhsSF8UUxRRgGWAZEhfFFBIXORh3EtsNQAm0DGcKZwpnChkI2APSAUAJ2w20DBkIZwoCD3cSxRQ5GBIXAg+0DJ4TYBmeE9sNUBHrFXcSjQs/B80EJAcCD+sVnhONCxkIGQhACbQMUBGeE+sVxRQCDykE4gIeBT8Ckvi/9OvwWefI3bHfyN3nxDKodKLDsZe1rbM/vY7MusgTwbrITNIg1t7b6/Bx+5L4Ae8t6xft6/C/9Hz6nfy4/Cr/D/8fALwDAg/rFesVEhc5GBIXxRSHGnAhMycMJr4jIx+HGkkgDCaXIocahxpwIUkgxRS0DAIP6xU5GOsVdxLbDdsNUBHFFAIPZwqNC54TxRRQEdsNZwpwBRkDDgQIBx4FpgXbDXcSUBFnCkAJtAx3EhIXhxrVHDkYxRSeE8UU6xXrFZ4TAg/oBJL4Ae8t6y3rWeex38jdyN0K2KTKE8E/va2zBqyts+fEusi6yI7MINYK2DbUNtQg1rHfb+Vv5Zvhsd/e28jdm+FZ51nnLevr8L/0qfZ8+hMGdxKHGtUcSSBaKM4rMyczJ/UsajBDLxwuHC5aKL4jWihaKEkgEhcSF+sVKRCNC9sNUBFQEXcSxRQpEHAF4gJnCgIPQAkTBrQMdxJ3EncSUBEpENsNKRCeE3cSUBF3Ep4TnhN3EgIPZwpnCtsNUBHbDWcKwgVaArwDxwdnCv4HawPYAz8CfPrV8r/0fPqS+NXyAe8X7UPpm+Eg1v3CVbtruWu5rbOXtT+9P71ruVW7E8Epvym/usg21PTZ3tub4VnnLevr8M76xwIZCGcKUBGeExIXORiHGocaYBnVHCMfrhsSF4caSSAjH4ca/B1wIb4jDCaBKYEpviO+Iwwm5SSuGzkY1RyXIkkgEhdQEQIPAg/bDbQM2AOBAQkCFAFc/Xf9fP++/s7/xwKsB+0GnAamBc0ElgSRB0AJCAcZCCkQEhfFFHcSUBF3ElARxRQSF54TKRBQEZ4TjQsZA90AkQLk/an21fIB70PpWedD6YXj3ts21EzSeM6OzI7Mjsykyo7MeM6kytHG58SkyqTKusjnxNHG58QTwRPB58S6yI7MNtTe25vhb+UX7b/0FfwvAawHdxKuGwwmQy96OBY9Fj0WPWM/sUGxQdhCJkVNRv9DPT5TN5ExQy9qMEMvzitaKAwmviNJIPwdrhuHGmAZhxqHGjkYxRR3EgIP2w0CD40LCAfCBbcGdgLT/I37fPq/9Ovwv/Sp9r/0qfbI/Vz9fPp8+qj7O/uS+Hz6O/uY+pL4kvip9tXy6/AX7UPpb+WF47Hf9Nk21EzSeM7nxBPBE8ETwVW7l7Wts5e1l7WXtYG3Vbs/vf3CpMp4zjbU3ttD6evwmPrYA40LnhOuG+UkgSkcLmow3zMFNd8zBTV6OKE5oTlTN1M3BTWRMZExkTEcLqcqpyqnKlooMydaKKcqpyqBKQwmlyL8Ha4bEhdQEdsNjQs/B2UBgvx8+pL4kvip9r/0v/S/9Kn2kvjD++T9OgDO/yr/D/8UAZYEZQZACWcKtAyNC2cKZwqRB6wC0/yS+NXyF+1D6W/lsd/e2wrYINZi0KTK0cb9wj+9VbuBt5e1rbOts4G3Vbspv+fE0caOzDbU9Nmb4Vnn6/CS+Mj9PwJKBmcKtAwCD1ARxRRgGfwdcCG+IwwmDCZaKFoogSmnKvUsajC4Miw2ejh6OHo4oTmhOXo4UzcFNWowHC5aKL4jIx+HGhIXxRR3EgIPtAyNC0AJWgcTBqYFcAUvBkAJjQvbDdsN2w20DGcKZwpnCmcKQAkZCFUFLwFm/JL4v/Tr8C3rb+Wx397b9Nkg1jbUTNJ4zqTK58QTwVW7VbtVu1W7a7lruWu5a7lruVW7Kb8TwefEusiOzGLQINbe22/lF+2/9Hz6ov6sAi8GjQsCD54TEheHGkkglyIMJs4rHC5qMJEx3zMFNQU1UzfIOu87yDqhOXo4BTW4MpExQy8cLhwupypaKOUklyJwIUkg/B2uG4cahxquG64brhvVHEkgcCFwIXAhSSD8HYcaEhd3ErQM/gemBVoC5P1x+5L4qfbr8BftF+1D6W/lsd/02SDWNtRM0mLQjsyOzLrI58Qpv1W7gbeBt4G3rbOts9mv8K3wrdmv2a/DsYG3P739wqTKTNL02YXjLevV8qn2fPrk/XsEZwopEBIXhxojH5cigSmnKs4rHC5qMGowQy9qMGowkTHfMyw2BTWRMZExkTFDLxwuziv1LPUszivOK1ooWihaKKcqpyqnKoEpgSmBKacqpyqBKVooDCaXIkkg1Rw5GJ4TKRC0DFoHGQMfAAr9fPqp9r/0Ae8t60PpQ+lZ52/lheOx38jd9NkK2EzSeM6kytHGE8FVu5e1w7EGrAasHKoyqF6kSKYyqByqBqzDsWu5Kb/RxmLQCtix30Pp1fKN+3AAVQW0DFAR6xWHGvwdSSCXIuUkMycMJjMnMydaKFoogSmnKs4r9SwcLkMvHC71LM4rziv1LEMvajC4Mt8zBTXfM7gyuDKRMbgyajBDL/Usziv1LM4rgSkzJzMnviNJIPwd1RyHGhIXnhMpEI0LxwcTBugEoQPiAu0B2f7e+3z6kvip9tXyF+1Z57Hf9NlM0qTK58Q/vWu5rbPwrUimXqSKoKCeoJ62nMyatpygnnSiSKbwrZe1Kb/RxnjOINbI3W/lF+2/9JL4uPwUAU8D/geNC9sNUBGeEzkYrhv8HUkgviMzJ4Epziv1LEMvkTHfMyw2UzdTN1M3Uzd6OKE5oTmhOXo4ejgsNt8zajAcLkMvHC5DLxwu9SwcLvUsHC6nKlooDCa+I5cicCFwIUkg/B3VHGAZEheeE3cSKRC0DGcKEwahA5f/qPuS+L/0Ae9Z58jdCthM0o7M0cYTwVW7l7XZrxyqdKKKoIqgdKKKoHSidKJepByq2a+Bt1W7E8HRxo7MYtA21PTZm+FZ5y3rAe/V8pL47/z4AOgEQAm0DCkQ6xWuG0kgDCanKkMvuDIFNSw2UzehOaE5yDqhOXo4LDa4MrgykTFqMEMvHC7OK6cqgSmBKYEpzivOK84rziunKqcqziv1LM4r9Sz1LM4rpyqnKgwm5SRwIfwdORieEwIPjQtnCnUHvAM6ACX9fPqS+NXyAe9Z57HfCthi0KTK0cb9wim/a7mXtdmvBqwyqEimSKZIpkimSKZIpjKoMqgGrPCtw7GXtWu5Kb/nxKTKTNL02bHfb+Ut6+vwkviz/3AFjQt3EmAZIx/lJKcqajDfM1M3oTl6OFM3LDZTN1M3LDYFNd8zkTGRMZExkTFqMGowajBDL2owajC4MgU1LDZ6OHo4ejh6OHo4UzcFNd8zajD1LIEpMye+I0kg/B2HGsUUKRC0DGcKQAlACRkI0gbSAcj9mPqS+L/0Ae8t62/lm+H02SDWYtCkytHGE8FVu62z8K0cqjKoSKZ0ol6kdKJ0ol6kMqgyqByq2a+ts4G3P73nxKTKTNL02ZvhWecX7b/06foJAhkIAg+eE2AZIx++IzMnWijOKxwuHC4cLhwuQy9qMGowajBDLxwu9SxDL0MvajCRMd8zUzehOcg6Fj1jP2M/ikBjPxY9oTlTNyw23zORMRwupyozJ+UkcCEjH/wdYBkSF54TKRDbDbQMtAxnCkAJdQfCBbwDGQNVALP6v/QX7VnnyN0g1mLQusj9wj+9gbfZrzKoXqR0ooqgoJ6gnqCeoJ6KoHSiXqRIpgasw7GBtz+958SkyjbU3tuF40PpAe/V8pL4Gv7YA0AJtAx3EsUUYBmuGyMflyIMJloogSmBKacqzivOK0MvajDfMwU1LDZTN3o4oTnIOhY9PT5jPz0+PT7vO8g6ejgsNgU1kTFDLxwuziunKlooDCa+I5ciSSAjH9UcrhuHGocaYBk5GBIXEhfrFXcSAg+NC8IFkQLT/L/0F+2F497bNtRi0KTK58Qpv2u5w7EGrDKoXqRepF6kXqRepF6kSKYyqByqBqzZr62za7kpv/3CpMpi0CDWCtje27HfheND6evwqfY1/ikEGQi0DAIPnhPrFYcaIx+XIgwmWiinKs4rHC5DL2owkTG4MmowkTGRMd8z3zMFNSw2LDYsNiw2BTXfM98zuDK4MmowHC4cLhwu9SzOK84rpyqnKoEpgSmBKYEppyqnKloo5SRwISMfrhs5GOsVUBG0DMcHTwOo+9XyLeuF48jdINZi0I7M58QTwVW7l7XDsfCt8K0GrPCt8K3Zr9mvBqwGrAasBqzwrdmvl7WBtz+9/cK6yI7MYtA21PTZsd9Z5wHvqfbI/U8DQAnbDZ4TYBn8HZciWijOK0MvajBqMJExQy9DLxwuHC4cLhwuQy9qMJExkTGRMZExkTGRMZExajCRMZExkTG4Mt8z3zMFNQU1LDYFNbgykTEcLvUsziunKlooDCa+I3Ah/B2HGhIXnhN3EgIPZwqLBS8Bh/6S+OvwQ+mb4d7bCtg21EzSYtCOzNHGKb9rua2zw7HwrQasHKoyqEimdKKKoKCeoJ6KoF6kHKrwra2za7kpv+fEpMpM0grYsd8t69XyFfy8A2cKKRCeExIXYBmuG0kglyIMJjMnWigzJzMnDCYMJgwmDCZaKKcqziscLmowkTG4MgU1UzdTN3o4ejihOaE5oTmhOaE5ejhTNwU1uDJDL/UspypaKFooWigzJwwmviNwIfwdrhs5GOsVnhNQEQIPtAxACeIHiwW8A6L+kvgB70PphePI3d7bCtgg1njO0cY/vZe1w7HwrQasMqhIpl6kdKKgnraczJq2nKCedKIyqPCtl7U/vdHGeM421PTZm+FZ5+vwkvgq/xMGQAnbDQIPKRCeExIXrhv8HSMfcCGXIpcicCG+IwwmgSnOKxwukTEFNVM3oTnvOxY9PT4WPe87yDrIOqE5ejgsNt8zkTFqMBwupyqBKTMnDCblJJcilyKXInAhcCEjH/wdrhuuG4caYBlgGRIXEheeEykQ2w1nCosF3QBm/L/0Ae9Z55vh3tsK2CDWYtCkyv3CVbuts/CtBqwGrDKoMqgyqDKoXqR0ol6kSKYcqtmvl7U/vf3Cush4zjbUCtje27Hfb+Ut69Xykvg1/qwCZQZACdsNdxLrFWAZ/B2+I1oozitDL5ExBTVTN3o4yDrvO+877zvvO+877zuhOSw2BTXfM5ExajD1LKcqpyqBKYEpWihaKDMnMyczJzMnMycMJgwmDCYMJuUkcCHVHGAZ6xXFFCkQ2w1nCmUG/gJG/0D9fPqS+L/01fLr8C3rheOx397bCtgg1jbUeM7RxhPBVbuXtcOx2a8GrByqMqhIpl6kdKJ0onSiXqQyqPCtw7GBtym/58SOzEzSINbe25vhQ+nr8JL49P4DBY0LAg/FFGAZ/B2+I1oo9SxqMN8zLDYsNiw2UzehOaE5ejhTN1M3UzdTN1M3UzcsNgU13zO4MpExajBqMJExuDLfM98z3zO4MmowQy/OK4EpMye+I3AhIx/VHK4bEhd3EgIPjQsZCLcGRARrA6wCCQJwACr/Gv4V/Hz6qfbV8hftWedv5ZvhyN302SDWeM7nxD+9l7XZrwasMqhIpl6kXqR0onSiiqB0ol6kMqjwra2za7kTwbrIeM4g1t7bsd9v5Rft1fKS+LP/HgVnCgIPnhNgGdUcIx9wIQwmgSn1LGowkTG4Mt8zBTUsNiw2Uzd6OHo4yDrIOsg6oTmhOcg6yDp6OFM3LDa4MpExkTFqMEMvzitaKAwmviNwIdUcrhtgGRIXxRRQESkQtAxnCkAJQAlACRkIkQdlBsIFOgUOBEoBNf7D+7/0Ae9D6Zvh3tsK2DbUYtCkyufEP72Bt8Ox2a/wrQasBqwGrAasBqwGrPCt8K3wra2zgbdVuxPB0cZ4zjbUCtjI3ZvhheND6evwqfZc/Q4EQAkCD8UUrhtJIOUkgSkcLrgyLDZ6OMg67zsWPT0+Fj3vO8g6ejihOaE5oTl6OHo4ejhTN1M3LDYFNbgykTFqMEMvQy/1LM4rgSkzJwwmlyIjH9UcYBk5GOsVnhNQEdsNjQtnChkIWgeLBSkELwG+/gr9zvqS+Kn21fIB71nnm+He2wrYNtRM0mLQpMrRxim/VbuXtcOx2a/wrfCt8K3wrRyqHKocqhyqHKrwrcOxl7VVuxPB0caOzDbUCtjI3YXjF+2/9BX82AONC54TORj8HZciDCanKvUskTG4MgU1ejhTN1M3LDYsNiw2BTUFNQU1LDYsNiw2LDYsNiw2LDYsNgU13zORMWowQy8cLhwu9SyBKTMn5SRwIfwdhxpgGRIXxRSeEykQtAxnCkAJCAfdBbEEoQORAun/Rv+t/UD93vuS+L/0F+1Z55vhyN3e297b9Nk21HjOusgTwVW7gbets8Ox2a/Zr/CtBqwcqhyqHKoGrPCtw7GXtT+958SOzDbU9Nmx32/lLevr8Kn2bP6mBbQMdxLrFa4bSSCXIgwmWiinKvUsHC5DL2owuDK4MgU1BTUsNgU1BTUFNQU1LDZTN1M3UzcsNgU1BTW4MpExHC7OK4EpWigzJ+UkcCEjH9UchxoSF8UUnhN3EncSdxJ3EikQAg/bDY0LZwpACbcGHgU0AyQC3QAq/1z9kvjr8EPpb+Wx397bCtgg1jbUjszRxv3Ca7nDsfCtBqwcqhyqBqwyqDKoMqgcqhyqHKrwrcOxa7kTwY7MINbI3W/lLevV8nz6Rv9PAxkIKRASF64b/B1JIL4jDCYzJ4Ep9SwcLhwuQy+4MgU1BTXfM98zBTVTN98zuDK4MpExajBDL2owQy8cLqcqWigzJ74jIx/8HUkgSSD8HdUc/B0jH0kgSSBwIb4jDCYMJgwmDCblJOUkviPlJL4j/B05GHcSKRBACQkCS/zD+5L49Nmts4qgSKbwrTKoXqRIpkimiqDimOKYtpwcqmu50cZi0KTKKb9Vu9HG9NnI3cjdb+Ut62/lyN2x3y3rqfaN+8767/wfAOn/fPow/O0GtAwCD1ARYBmuGzkY/B2+IzMnDCYMJjMnviNwISMfcCG+I0kg1RwSFxIX6xUCDwIPnhOHGocarhsjHyMfSSBwITMnzitqMCw2LDbfM98zBTWRMRwuHC6RMQU13zP1LHAhYBk5GK4b1RxgGcUUKRBnCpECMPyp9r/01fIB71nnyN302cjdTNLZryWTUY/MmqCe+Zb5lvmWD5X5luKYdKLZrxPBpMp4zo7MusiOzLHf1fKp9uvw1fJ8+r/0Ae+/9JwG6xU5GAIPiwBA/QMFAg/rFfwdcCE5GLQM2w1QEYcapyoFNbgyWii+I5ciIx+XIs4rBTUFNRwu5SSuG2AZSSAzJ6cqWijVHMUUnhP8HTMngSlaKFooMyczJ6cqHC5qMGowLDYFNTMn6xV3Eoca5SQMJjkYLwad/On/SgZACQgHawOz/yD71fJD6W/lWefV8tXyb+Vi0OfETNKF48jdgbcPlX2LD5W2nMya4pi2nKCeSKZIpjKo2a8pv/TZb+Vv5d7b9NlZ57/0+vuC/J38fP/Z/un6qfZ8+scHxRQ5GI0LZQFwBZ4TlyLlJJci1RzVHL4jpyocLkMvBTXIOsg6BTWnKuUkgSm4Mno4ajAzJ9Uc1RyXIuUkSSBgGYcahxqHGusVEhdgGTkYYBk5GMUUnhPFFK4bYBk5GGAZdxICD2UG8wMIB9sNdxJnCs7/kvh8+u0BkQdnCugEYf87+7P6kvi/9Kn2zvoV/AHv9Nli0PTZLevV8vTZrbM7kVGPXqTDsfCtdKJ0ol6kHKpIpvCtP70g1m/lm+Eg1mLQ3tsB7/T+SgFx+5L4Uf4fAIL8//2NC/wdcCHrFeICzQSHGpExoTkcLr4j/B0MJmowLDZ6OKE5Yz+xQaE5HC5aKJExejhTN84rrhvrFcUUhxqHGsUU2w2cBqwCD/+t/ccCnAYZCPgFcAB8+pL43QUpEJ4TtAxACY0LQAkvBikEGQgCD54TKRBgBKn2v/TCAHcSEhdnCu/8S/xrA7wDvv7D+08D/gKS+Fnn3tvI3VnnqfbV8qTKtpyTiaCea7lVuxyqoJ50okimHKoGrD+9INaF45vh9Nn02YXjv/T+BwIPxwckAuIHAg/bDdsNYBmBKRwuIx8pECkQDCahOcg6uDIMJpcicCHOK6E5Fj3vO98zuDIFNUMv9SxDL1M3uDKXIhIXnhMSF2AZ6xVQEUAJwgCp9r/0cfunAFUFFAF8+gHvF+3V8t0AtAyNC7EEd/2BAT8H4gfNBOIH2w0pEI0LvAON+wT7DgRQEcUUjQvCALP/wgUIB7cGOgAJAs7/kvgX7YXjWecX7an2kvj02dmv4phepP3C58Sts4qgiqAGrNmvl7Upv3jO9Nmx397bCtiF45L4tAx3Ej8HZvxPA+sVIx/rFesVviP1LL4jUBECD/wduDKhORwuORhQEesVviNDLxwuWiiXIuUkWigzJ5ciMyfOK1ooORjbDSkQ6xUSF1ARGQhs/nz6v/Tr8AHv1fKS+JL4F+2F44Xj6/Dp+hQBRv87+3z6AwAZCGcK/gfSBo0LUBGeEwIPZwqNC1ARnhOeE54TUBECD9sNtAxACbwD7QFACVUFkvhZ5y3rkvjtAan2YtCXtcOx/cKOzNHGVbsGrAasa7kTwf3C0cYg1sjd3tsK2ArYLesZA9sNvAOp9uT92w1gGa4bEhcSF0kgWihwISkQnhMMJt8z9SyuGykQKRDVHJciviNJICMf1Rw5GK4bcCG+I74jSSA5GHcSUBHFFBIXdxJnCloCbP58+qn26/AB7wHv6/DV8lnnm+Fv5evwkvhx++/8fPr6+3AFtAyNCwgHtAyeEzkYORh3EgIP2w0SF64bhxoSF8UUdxIpECkQKRD+B/4HQAm8A7/0WefV8ikExwLI3Wu52a/9wnjOushVu62zw7HDsYG3P72OzCDWCtgg1jbUCthv5YL8tAwpBJL4kvhACcUUORhgGTkY1Rz8HYcaEhcSF5cipyozJ3Ah6xXFFBIX1Ry+I0kgcCGuG8UUxRT8HTMnSSA5GOsVdxKeE54TUBG0DEAJQAlKAan21fK/9Kn2v/TV8gHvQ+kt6xftAe8B76n27/wE+5L4kvihA2cKjQtACY0L6xWHGjkYdxKeE4caviPlJCMfYBkSF+sVUBGeE1ARQAmxBKcA0/zr8NXyqfax39HGgbcTwbrI/cJVu8Oxw7FVuz+9a7kpvzbUyN0K2ArY9Nlv5evwvANACeT96fqmBcUU6xV3EhIXlyK+IzkYAg85GDMnpyojH1ARKRDrFTkY6xWeE+sVYBmHGmAZxRR3Eoca5SSXIsUU2w3FFPwd1Rx3Ej8HSgZACToFZvy/9NXy1fK/9Kn2Ae9D6S3r1fK/9JL4BPt8+mH/GQhACfMDtwaeE9Uc/B38HWAZ6xU5GJcigSkzJ5cirhuHGmAZ6xVQEVAR6xVnCu/8v/S/9FnnTNKkynjOjsxVu9mv2a9Vu2u5gbfDsVW70ca6yHjOINaF42/lWefr8CD7Rv9VBY0LnhMpENsN2w2HGoEpcCGeE9sNhxpwIa4bxRQpELQMUBF3ElARAg93EmAZORiuG2AZxRQ5GOUkMydgGSkQYBn8HYcanhPbDRkIewTdBZwBs/qp9qn2v/S/9L/01fIt6xftqfZ8+pL4kvgq/+0BKQQ/B40LKRASFyMfIx8SF3cSORiXIqcqgSkjH+sVnhOeE54TAg8CDwIPGQiS+PTZE8H9wvTZm+G6yDKozJpepIG3/cJVu9mvrbMTwdHGpMoK2JvhQ+nr8OvwAe+S+J4TrhspEHUHjQtgGXAhlyLFFNsNYBn8HcUUWgc6BWcKtAy0DCQHCQIeBbQMnhPrFRIX6xXFFNUclyK+I5civiMMJpci/B3VHCMf1RzFFNsNZwqNC7QMpgWLAPr7gvw7+5L4fPq4/Hz/Nf7//SkEGQgZCEAJKRD8HUkgSSA5GHcSORgMJvUs5SSHGncSUBF3EusVdxKNC2UGCQJD6f3Cl7WkypvhINbZr+KY+ZZIpmu5P71rudmv8K2XtefECtix38jdb+Xr8L/01fLNBCMfcCGeE9IGxRQMJoEpIx/rFTkYYBl3EmcK6AQpBGUGGQhgBEb/ZvztAWcKUBEpEI0LtAzFFIca1RxwIQwm5SRJIHAhWijOKwwm/B1gGYcahxrrFSkQUBFnCh8A6fpR/kQEFAHO+qn2jfuLBWUGNf4DAGcKxRQSFzkYdxKNC54TcCEMJkkgYBnrFZ4TdxKeEwIPjQspEDoACtg/vSm/INb02brIHKo7kfmWBqyBt8OxBqzwra2zgbcTwXjOm+FD6RftF+0t68j9dxKXItUcKRApENUcgSmnKnAhhxqHGmAZnhMZCIsFDgSWBIEBZvze+5L4fPpwAIAGJAfYAyQHtAwpEOsV1RyXInAh1RyXIoEp9SynKjMnDCblJOUkcCEjH/wdhxopEGcK2w0pEEAJVQD6+/4CkQdACdgDzv8ZCFAREhdQERkIrAcpECMf5SSHGlARtAx3EsUUnhMpEAIP0/wK2BPB58QK2PTZpMoGrA+VJZN0otmvrbMGrHSioJ4cqim/ushM0grYWedD6S3rv/TbDb4jviOuG2AZviMcLkMvzivOKzMnviMSF3cSAg+0DBkIFAEg+6n2qfa/9Kn2kviS+JL4ZQGhA0oBiwB3EiMf1Rw5GIcaWihDL7gyQy+BKacqajBqMBwuWiiXImAZORgjH0kgxRRnCo0LAg+0DAgHQAm0DFARnhNQEUAJHgWNCxIX1RyHGncSjQtnCtsNxRR3EikQUBGo+wrYE8G6yMjdyN2kygas+Zb5lnSi2a8GrF6ktpzimIqg2a8pv7rIpMo21N7bm+FD6WUBYBlgGVARnhMMJrgyajBqMGowQy+nKvwdYBnFFBIXAg8kAnz6Ffx3/b/0Ae/r8NXy1fKS+Fb7kvi/9GUGUBHFFJ4T6xVJIDMnHC71LPUsajAsNlM3LDaRMRwuWiinKs4rWigjH8UUEhdgGWAZUBFACY0LUBHFFJ4TjQumBegE2w0SFzkYdxJACSkEWgeNCykQKRACDyX99NnnxLrI3tux32LQl7Wgng+VtpxIpvCtMqiKoPmW4phIpsOxE8G6yDbUNtT02ZvhqfaNC1ARnhNgGb4jWigzJ84rUzd6ON8zDCYjH4caYBlgGZ4TQAl7BMIAfPq/9NXy1fLr8Kn2fPqp9uvwBPu3BtsNAg93EhIXhxqXIoEpziscLt8zejh6OAU1kTFDL7gyLDbfM1oo/B3VHHAhIx8SF54TUBFQEXcS6xUCD08DiwCNCxIXORhQEUAJGQP+AmcKtAyNC7QMPwKF4+fE/cIg1rHf9NnRxtmvoJ7imEim2a/ZrzKoiqCgnqCeMqits2u5/cJi0CDWCtib4b/0awMZCMUUlyKBKeUkviP1LAU17zuhObgyDCb8HYcaxRTbDdsNjQtwAL/06/DV8gHv1fKp9qn2v/TO+j8CEwZACQIP6xVwIQwmviPlJDMnajDfMwU1Qy8MJuUkpyocLhwugSkMJuUkDCZaKJcirhtgGYca/B38HWAZ2w00Ax4FtAwCD0AJPwL6+6n2qfYa/pwGZwp1B7/09NmOzGLQyN2b4fTZpMqBtwasMqgcqjKo8K3wrRyqoJ6KoEimHKqts/3CCtix31nnF+2p9oL8GQhgGQwmziv1LM4rziu4MgU1uDKBKb4jIx/rFbQMQAnbDccHs//6+yD7O/t8+nz6fPqS+A//TwPHB7QM2w0CD3cSEhc5GDkYORjVHHAhMyflJL4j5SSBKRwuHC64MmowziszJwwmDCZJIPwd1RyHGq4bYBnbDZwBMPwJAtIBxwKnAGb8kvip9hr+cADNBC8GO/tv5UzSeM421CDWCthi0OfEVbvZrzKooJ6KoF6kHKoGrNmvrbPwrQasgbe6yArYheMB73z6BPv//RkI6xVwIeUkpypDL0MvHC4zJ3Ah1RxwIfwd6xU5GK4bORgpEGcKGQhACRMGiwWBAen/ZQF2AhMGiwWLBYsFQAl3EsUUEhc5GIcacCEMJoEppyocLlM3UzdTN3o4uDJqMBwu3zPfM0Mv9SwMJkkgrhs5GFARgAaWBCQH+AVEBA4EDgTp/wT7AwDCAIsAQP2p9lnnCtgK2ArYTNJ4zqTK58Qpv4G3w7FIpqCetpygnl6kMqjDsYG3P70pv+fEpMqOzN7bQ+mp9h8AjQvrFTkYEheHGiMfcCGXIpciviOXInAh/B1gGTkYhxoSF9sNJAesB+IHrAdACUAJ0gYkAnYCvANVBdgDDgQZCI0LAg8pEFAR6xWuG74jgSnOKxwukTHfMyw2ejh6OFM33zPfM0MvpyozJ0kgrhs5GOsVAg/SBkQEvAPCBegENAMUAbP6BPts/g//3QCsAlH+1fKF48jdCthi0KTK58TnxBPBVbuts/CtSKZ0onSiXqRepByq2a+tsz+90cZM0grYm+EX7b/06fqz/7QMxRSHGvwdlyIMJjMn5SS+I74jlyJJIIcahxpgGa4bYBkSFzkY6xWeE7QMZwpKBh4FxwcZCI0LjQvbDSkQKRDFFBIXhxquG0kglyLlJOUkWigcLpEx3zO4MpExziuBKTMnDCaXIkkg1RyHGjkYEhdQEY0LZwpACUAJYARPA90AOgCBAYYD8wNaAkoBfPoB77HfINZ4zufEP71ruYG3l7WXta2zrbPDsfCt8K0cqhyqBqyts1W7/cJi0ArYm+FZ5wHvv/SS+Ev8LwEvBscHjQtQETkYrhsjH5civiOXIiMf/B3VHPwdIx9JIPwd1RyHGmAZEhfFFFARKRACD7QMjQtACWcKjQvbDQIPKRB3Ep4Thxr8Hb4jMyfOK2owajBqMEMvHC7OK4EpWijlJJcicCFJICMfrhvVHDkYUBG0DGcKGQjdBWAEOgW8A2sDLwG+/hX8qfap9gHvWefe2wrYYtCkyv3CE8Epvz+9P71Vu1W7a7lVuz+9Kb/9wufE58T9wufEusikyo7MNtTe27HfWecB7wT70gEIB9sNdxLrFesVEhdgGfwdcCEMJloo9Sz1LM4rgSkMJr4j/B05GFARjQt1B+gEWgIZA4AGGQhnCrQMKRCeE+sVhxojH5cilyJwIZcilyLlJL4j5SQMJgwmDCblJL4jcCEjH/wdYBkSF3cS2w0ZCNIG7QZACUAJQAlACRkIlgTtAacAcfup9uvw6/At61nnsd/I3d7bCthM0qTK0cYTwSm/Kb8/vT+9P71Vu1W7Vbs/vVW7VbspvxPB58TRxo7MTNL02ZvhLeu/9Mj9YASNC54Trhu+I4Ep9SwcLhwu9SyBKTMnlyJJIK4bYBk5GDkYEhc5GGAZhxquGzkYEhfrFZ4TxRQSF4carhvVHEkglyKXInAhlyK+I5cicCFJIPwd/B3VHNUcrhtgGWAZ6xXFFFARnhPFFBIX6xXrFcUUKRC0DEAJCAfzA2H/fPqS+L/06/AB7wHvF+0X7S3rWeeb4cjd3tv02QrYTNJi0KTK0cYTwT+9a7mXtZe1l7WXtYG3a7kpv+fEjsxM0iDW3tvI3YXjQ+nr8Hz6l/8vBrQMdxISF64bIx9wIeUkDCYzJwwm5SQMJuUkDCblJL4jcCEjH/wdIx9wIb4j5SQMJlooMyflJJcilyJJIK4bORjrFXcSUBEpEFARdxKeE54TdxJ3EncSnhPrFRIXhxqHGtUcrhs5GMUUUBEpEEAJcAWcAeT9kvip9qn2qfa/9L/0v/Tr8BftF+0X7RftF+0X7RftWeeF47Hf3tsg1kzSeM6kytHG/cITwSm/E8Epv/3CE8H9wv3C58S6yHjONtT02bHfheMt6wHvv/R8+v/9rAIvBkAJtAx3EjkY/B2+I4Ep9Sz1LBwuHC5DL5ExkTG4MpExQy/1LIEpDCa+I0kg/B1gGRIXxRR3EncSdxLFFMUUxRR3EikQKRApEFARdxLFFBIXORgSFxIXxRSeEykQ2w1nCqYFtwEa/q39+vt8+pL4kvi/9Ovw6/Dr8Ovw6/C/9Kn2kviz+qj7kviS+Kn2qfbV8hftWedv5bHf3tsK2DbUTNKkyrrI/cITwRPBE8HnxOfEusikyo7MYtBM0iDWCtje25vhheND6QHvqfad/AkCGQiNCwIPnhMSF64bIx8MJqcqHC5qMLgyBTUFNSw2BTW4MhwupyozJ74jlyJwIXAhSSD8HdUchxpgGRIXORg5GDkYYBk5GBIXxRSeE1ARAg/bDUAJ3QU0AxQBzv9h/5f///13/en6mPqS+Hz60/zI/VUA4gITBgMFawP+AiQCHwB3/Xz6qfbV8uvwAe8B7xftAe8X7S3rQ+lv5W/lm+Gb4bHfyN3I3d7b9NkK2DbUNtRM0mLQeM6OzI7MpMp4zkzSINYK2N7bsd+F41nnF+2/9Ev8vAONC1AREheuG0kg5SQzJ6cq9Sz1LBwuQy+RMbgy3zMFNd8zajAcLqcqWigMJgwmviOXIkkg1RyHGjkY6xVQEdsNjQusBzoF0gH4AIEB0gHHAi8BpwB8/1H+yP2t/Sr/Kv8UAUoBpwCz//T+ov5W+3z6qfa/9OvwF+0X7RftAe8B7wHvAe8X7RftF+0X7evw1fKp9pL4fPqS+Kn2qfbV8gHvLetv5bHf9NkK2DbUTNJi0HjOjsykyqTKpMp4zmLQINbe27HfWect6+vwv/RL/CQCEwZACbQMUBHFFIcaIx+XIgwmMyczJ1oogSmnKs4r9SxDL2owajBDL0MvHC6nKgwmviNJIIcaEheeE3cSKRACD7QMZwoIB9gDCQIDAHz/OgAUAT8CgQHHAj8CtwH4AOn/Yf9A/Xz6qfap9r/0v/S/9L/0v/S/9NXyv/S/9L/0qfZ8+vr7cfvv/P/9//1A/Vz9S/x8+qn21fLV8uvw6/AB7wHvF+1D6Vnnb+Wb4bHfsd+x37Hfsd+x37Hfsd+x37Hfsd+x38jd3tvI3bHfheNZ5xft1fKp9rP6Yf8OBGcKKRASF9UccCEMJqcq9SwcLkMvQy9DL/UspyqBKVooMyflJL4jcCH8HYcaEhd3EikQ2w3bDbQMZwpACRkIxwemBUQE7QGLAAr9fPqS+JL4kviS+AT7fPrO+gT7IPuS+JL4kvh8+qj73vvI/Q//bP53/a39Jf3e+3z6kvip9r/0qfap9pL4kvh8+nz6fPrO+nz6Jf1A/Wz+wgA6AOn/h/5m/JL4v/Tr8C3rb+Wx3/TZCtg21CDWNtQ21DbUNtQ21CDW3tux32/lLevV8o373QCsBwIPnhMSF2AZhxquG9Uc/B1JIHAhcCFwIXAhIx/8HdUc1Rz8HSMf/B38Hfwd/B3VHIcaYBnrFXcSAg9nCkoGTwMJAkoBfP/k/Uv8mPqS+Kn2kviS+JL4fPrp+hX8kv0P/4f+9P4a/mb8fPqS+Kn2qfap9pL4kviS+JL4kviS+JL4fPqN+0D9Nf7dAAkCTwMpBNgDpgXNBGsDgQEDAJ38fPqS+Kn2v/QB7xftWeeF47Hf3tv02fTZCtgK2ArY9Nn02d7byN2x35vhb+VZ51nnLesB77/0fPoq/7EEGQiNC9sNdxISF2AZ1RxwIb4jMydaKM4r9Sz1LM4rgSkzJ3Ah/B2uGzkYxRR3EtsNQAkDBd0AyP1L/Hz6fPrp+iD7O/tm/Gz+AwDtATQD/gLHAoEBRv9h/zX+h/5R/of+Uf4w/On6fPoE+/r77/zZ/gkCPwLiAt0FPwdaB5EHWgf4BWAEPwIZA1oCTwMeBcIFxwcTBuIHnAYvBnAFkQK3Afr7kvjV8hftQ+mF48jdCthM0njOusikyrrIpMp4zkzSINYK2LHfheND6evwqfZc/aEDZwopEMUUrhsjH74j5SQMJjMnDCYzJ+Uk5STlJJciSSCuGzkYxRQpEGcK0gYOBNIBl/++/lH+Yf8P/2UBkQI/AjQDnAE/AuICPwL+ApECSgFs/nH7kvi/9L/0v/Sp9pL4d/3HAmUGQAm0DAIPAg+0DGcKCAc6BWsD4gLNBOgE3QVaBxkIZwqNC9sNAg8pEFARUBEpENsNjQtwBawCgvy/9Bftb+XI3SDWYtCkyrrI58T9whPB/cLRxrrIjsxM0grYsd9v5Rft1fKS+B8AKQRACbQMKRCeExIXrhtJIL4jMydaKIEpWigMJr4jSSDVHGAZxRR3EikQtAxnCkAJQAkvBs0EWgLSAd0AAwC3AToAHwBh/6397/zp+jv7Ffzv/AMAgQEeBZEHZwrbDVARdxJQEXcSKRDbDWcKGQiRBzoFHgWGA/4CGQPHAoYD2APdBRkIZwq0DAIPAg+eE3cSKRCNC0QEGv7V8kPpyN0g1mLQusjnxBPBP70pvz+9E8HnxNHGpMpi0DbU9Nmx34XjLesB77/0BPuLAD8HAg/rFfwd5STOK0MvajBqMEMvziszJ3AhrhsSF1ARAg+NCxkIGQhlBmUGAwUJAnAA//1A/Uv8zvp8+pL4kvh8+rP6Jf1KAXsEtAx3EjkYIx+XIgwmMycMJr4j/B05GFARtAwZCJwGsQR7BC8GtwZACUAJZwpACY0LZwpnChkIQAlACYsFtwF8+qn2F+1v5fTZTNKOzNHG/cITwRPBKb8pvxPBE8H9wufEush4zmLQ9NnI3Vnn6/DO+ugEtAw5GEkgDCaBKfUsuDK4MkMvpyrlJEkg6xUpEBkIHgVaAof+Kv+H/joAOgCz/8j9jft8+r/01fLr8NXyv/SS+GH/VQW0DHcSORj8HXAhviPlJL4jviNwIUkgIx/8Hfwd/B3VHPwd1RzVHNUcrhuuGzkY6xUpEI0LGQj4BdgDQAmmBeICqfa/9AHvheMK2LrI/cJVu62z2a/Zr8Oxgbdruf3C0cakyo7Mjsxi0DbU9Nne22/lF+2d/BkI6xW+I0MvBTV6OCw2BTX1LOUk/B3rFXcSWgemBdn+pwAq/3z/l/98+nH7qfa/9NXy6/Dr8AHv1fKS+BX8kQJwBY0LdxLrFWAZORjrFesVnhOeE3cSnhPrFYca/B2XIgwmWij1LPUsQy8cLqcqgSkzJwwmMyczJ4EppypwIRIXTwN8+kPpCti6yFW7P72Btz+9E8HnxKTKpMqOzKTK0cYTwT+9P739wrrINtTI3RftfPrCBbQMKRDFFFARtAxVBT8HnAZACY0LKRDrFesV6xVQEdsNkQfCAJL4v/QB7+vw6/C/9Hz6fP+WBKYFQAkZCGUGVQUkAscC/gKRAosFGQi0DNsNKRBQEQIPAg9nCkAJtwZnCikQxRQjH+UkzitqMAU1oTnvO+87PT5TN/Us6xVnCrcBv/Qt68jdm+Gx34Xjm+Gx397bCtg21GLQeM6OzGLQINax3y3rkvgl/fgApgUvBi8BmPqS+JL4v/Tr8NXykvjp+iD7jfvk/an26/BD6W/lWedZ5wHvv/S8A40LnhPrFcUUxRS0DNIGvv5h/2b8XP0K/VoCkQd1BwMFh/6S+NXyAe8t6y3rAe+/9DD83QUCDxIXrhuXIloogSnlJJcilyJaKM4rLDaRMQwmKRAOBJ38Q+nI3XjOINbe24XjAe+/9Kn21fLr8AHvLetZ5y3rAe+p9loHKRDrFZ4TxRSeE6YF//2p9qn21fK/9CD77QEOBP/9Uf58+tXyWefI3d7byN1v5QHvfPqcBtsNnhNQEbQMkQet/aj7fPp2AhMGZwoCDwIP2w2sAgT7F+2b4fTZ9Nmb4UPp6/B8+tgDjQsCDwIPAg9QEYca/B0zJ84rejg9Pk1G6EqhOfwdqfZD6fTZeM4TwefENtSx3wHvqfaS+AHvWedZ50PpF+2p9rwDxRTlJLgykTEcLnAhYBlnCnH7fPqS+Br+fPrp/wgHSgad/BftWedv5bHf3tuF4+vwRv8kB54ThxoSF1ARZwpACWsDHwB3/d0AGQjbDWcKawP0/r/0Leux37Hf3tux32/l6/AE+639AwBm/Eb/3QCLBRkI2w3VHOUkWijlJAwmMycMJvwdZwot60zSeM6kyqTKusg21JvhQ+kB7xftAe8t6wHvv/Sd/IsFAg8SFyMf5SRwIa4bKRC0DAgHvAPp/9gDQAlACSQCs/qLAM7/v/QX7QHvkvh8+qn2w/vNBGcKGQhnCgIPKRBnCiQHQAkCD2cKSgaABhkInAaz/2b8fPqS+L/06/Dr8L/0v/TV8r/0Jf3p/3f9s//tBlAR6xWuG+Uk9SynKr4jIx9wIb4jdxKp9grYeM7nxIG32a9ruY7MCtib4Rftv/QB7xftqfY/B40LtAwpENUcWiiXIusVGQimBawCqfa/9JL46fp8+tXykvjO+pL9qfa/9Ev8cAW0DNsN6xXrFTkY6xWHGhIXdxJQEVARdxK0DBkIiwBA/Xz6kvgB7wHvAe/V8gHvAe+p9pL4BPuo+1UFGQgCD9sNKRB3EmAZcCFwIQwmgSmnKvwdnhPFFHcSwgCb4efEVbuXta2zrbMTwSDWb+XV8nz6+ABm/Cr/rALbDTkYxRR3EtsNnhPbDYsA6/AX7S3rb+Wb4S3rkvip9gHv6/Bs/r7+Jf1c/UAJ2w3bDVAR6xVgGXcSAg8CD8UUAg9ACaYFZwqNC+ICKQQJAv4Czvqp9lb7D//tAXf9cftVAPgFawNc/eT9+AW0DCkQdxISF64bcCHlJIEpziuBKb4jIx/rFZL4eM5Vu2u5rbNIpsOxYtBv5QHvv/Sd/LP6kvgV/GcKdxISF2AZ1Rz8HQIPwgC/9L/06/At60Pp6/AP/1oCfPrV8qn2O/t8+nz6sQS0DI0LgAZnCikQ2w3iBzoFQAlnCmcKZwqxBPgACv2S/Vb7kvip9r/0v/Sp9t77kvg7+8j9//3e+zX+QAnbDbQMZwp3EmAZ/B0jH0kgDCZaKKcq5SRgGdP8INYpv1W7P73ZrwasE8GF43z6Kv9wAM0EjQspEMUU1Ry+I+UkviP8HdsNkvhD6YXjb+Wb4Zvhb+Xr8Jj6Gv6S+NXyfPpVBdsNUBE5GNUc/B0SF3cSAg+0DGcKGQiNC0AJpgVc/Tv7kvjr8C3rQ+nr8NXyqfaS+O/8h/6S/TQDJAftBosFQAl3EjkYYBnFFMUUhxqXIiMfORgSF4cadxIB79HGrbOts5e1w7E/vWLQQ+nO+v4HAg8CD54TYBkzJzMnDCa+IzMncCECD7P6b+WF42/lF+0X7evwfPr+B40LCQKt/YYDjQvbDVARORiuGxIX6xXFFI0LRARaB3cSAg9aBykEs/+S+Ovw6/DV8uvw1fL6+4sFtwF8+t77HwBVAKj7Uf40A2cKtAwCDykQ2w20DEAJKRBQEdsNewR8+rHfKb/Zr/Ctl7VruaTKm+HV8nz6fP/HAi8BnAbFFHAhIx+HGjkYxRS3BpL4F+2b4bHfb+W/9CX9zQRnCgIPZwqWBMIFdQdACY0LYBlwISMfEhd3Ep4TUBECDykQORhgGZ4T2w0TBsIAfPq/9Ovwkvgq/2UBkQIeBY0LGQjdAMj9rAJnCtsNUBGeE2AZhxrFFLQMtwZACVoHv/Q21FW7rbPwrV6kSKZVu0zSheMB75L43vuX/40LORgjH+UkpyrOK3Ah6xUIB5L4Q+lZ51nnWefr8O0B2w0ZCIEBs/oq/wkCYAQTBmcKnhM5GNUcORjFFJ4TORjVHPwdSSDVHOsVtAycBnH7v/S/9Hz6uPx8+u/8RAS3Bnz61fI1/o0LAg+eE/wdgSmBKSMfKRC0DNsNO/s21D+9E8FVu16k4pjZr47MINbe21nn6/DV8jX+tAxgGYcalyIzJwwm1Ry0DHz6F+3r8OvwQ+mb4dXyAg+eE1UF0/xlBkAJ7QH4AGcK2w0CD2AZIx9gGVARYBmXIuUk1Rw5GGAZORhQEdIBkvh8+ir/Gv6z+vT+EwYDBVUA6AQCDykQnhNJIJExBTX1LEkgnhPbDdn+3tuts16kHKoGrHSiXqSBt6TKNtTe21nnF+2p9rEExRT8Hb4jDCblJPwdAg98/5L4qfap9qn2qfap9qwCjQt1B977fPq3Bo0L+AVrA7QMUBECD9sNdxI5GDkYcCH1LBwu5STVHNUcORi0DJECiwB2AmAECQJ3/Qr9+AAZA4YDQAmeEyMfMyeBKTMnviP8HVARMPz02VW7BqwGrDKoiqAyqFW7ush4ziDWsd9v5evwrf1ACSkQEheHGhIX2w0kAqn2Q+lD6evwqfap9kv86AToBDX+IPunAOgEwgUvBrQMxRSeE40LCAe0DJ4TORj8HeUk9Sz1LL4jYBmeEykQkQe8A2cKjQuRAlz9+AWNCx4FnAZgGYEpzivOK2owajDlJOsVD//02Wu5w7HDsQas8K1Vu+fE0cZ4ziDWINb02UPpBPtG//MDAg93EkAJhgN8/5L4Ae/r8JL4kvio+xkIUBGcBnz6Zvx1BxkI7QFgBI0LUBEpEFARAg+0DCkQYBlJIEkgDCZaKFoocCGHGmAZORg5GGAZhxo5GOsVnhOeE+sVhxojHwwmajCRMQwmrhueE1b7TNJruSm/58SXta2zeM6b4SDWpMpM0t7bsd+F49XypwAvBo0LKRCNC3f91fLr8L/01fLr8OvwqfZgBEAJ2f7V8r/0hgOcBnf9QP0ZCLQMxweABkAJGQj4BQIPrhsjH64b1RyXIkkgORgCDykQhxr8HesVjQsCDxIX6xWNC1ARlyKnKuUkIx++I/wdiwAK2NHGjszRxtmvBqy6yMjdCthi0ArY3tvI3YXjAe+/9Hz6GQNACWcKcADr8FnnF+3V8hftWefr8MIAJAJL/JL4kvh8+h8AsQS8A4sFQAlnCkAJZwpACe0GAg+uG0kgYBkSFyMfviOHGikQxRQjH74jhxqeE2AZ1RxgGTkY/B2+I+UkDCanKgwmdxJ8+oXjINZ4zrrI/cLnxDbUm+FZ57Hf9NkK2JvhLevr8Ovwv/Tp/5wGgQG/9Bft6/Cp9r/0Ae/V8pL94gfSBhX8v/SS+O0BHgXSAbP/4gJACUAJ2AOS/Xz/cAXbDZ4TnhMpEFARYBmHGikQjQsSF0kgcCHVHGAZrhv8HSMfIx9JIHAhviMzJ+UknhN8+lnnyN021BPBKb9i0PTZ9Nne24Xjm+E21EzS3ttv5S3r6/B8+pYErAcUAan26/C/9Kn21fLV8nz6xwI6BVUAqfbV8qn2O/uS+Kn2jfu8A7EEov6H/pYEKQQ/AuIHKRApEI0L2w2eE+sVnhPrFfwdlyKXIpcilyJJIGAZYBn8HdUcORg5GEkgIx8CD8j9kviS+C3ryN3I3UPpLeub4cjdb+Vv5fTZNtQK2LHfsd+x31nnAe+p9pL4fPqp9pL46fpc/d77QP1rA6wH3QVKAXAFjQsCD0AJGQi0DLQMPwckAikEAwVrAw4E7QZwBXYCzQQZCLcGkQIkB1AREhcSF4caviMMJnAh/B2XIjMncCGHGkkgWihJINsNvAOGA5L4m+EK2LHfb+Xe20zSINax3wrYjsyOzCDW9Nk21ArYheMt6+vwv/SS+Hz60/x8/yQCawN7BBkI2w1QESkQUBHrFcUUAg+NC2cKkQd7BGsDwgAw/Hf9PwJVAHz6fPqi/vr7kvg1/kAJtAzbDesVSSC+I0kgSSBaKBwupyqXIgwmzivlJHcS4gc6Ben6Q+mx37Hf9NlM0mLQNtR4zrrI0ca6yKTKpMpi0PTZm+FD6QHvv/R8+lUAsQTHB0AJAg+eE54TxRQ5GDkYdxJ3EsUUnhONCx4F+AWWBEoBkv0g+3z63vut/c76fPqt/QkCOgBR/mUGAg8pEFARYBm+I74jSSDlJKcqgSnlJAwmWihJIJ4TjQsOBKn2Q+lv5YXj3ttM0mLQYtB4zrrI58TnxKTKYtBM0jbUsd8B79XyqfbI/RMGGQgZCNsNxRQSFxIX1RwjH2AZnhOeE8UUKRBACQgH3QVVAO/8Yf81/pL4fPr4ACQC2f7CAJwGGQhlBkAJdxLrFcUUORhJIJciIx9JIAwmDCZwIUkg/B05GAIPZwp2Ar/0LetZ52/lsd/02SDWNtRM0mLQusgTwbrIYtB4zo7M9NlD6S3rQ+m/9N0A0gHtAWcKdxJ3EsUUrhsjH2AZEheHGhIXKRDbDbQM4gc0A7EEVQWBAQ//cACcAQ//l//NBC8GsQTHBwIPdxJ3EusV/B1wISMf/B1JIHAhSSD8HYcaORjrFQIPZQZs/pL41fIX7Vnnm+He2wrYCthM0o7MusikynjOjsyOzGLQCtix32/lWecB76n2nfxaAggHjQueE9UcSSAjHyMfviMMJiMfrhtgGesVAg+0DEAJNAOz/4sApwDp+pL4S/w1/kv8kv1PA+0GQAm0DJ4TEhcSF64bcCGXIpcilyLlJHAhrhvFFFARZwqcAZL46/AB7y3rb+Xe2/TZ9Nk21I7M0cakyo7MpMqkynjOCtjI3Zvhb+UX7b/0fPq+/ugEtAx3EhIXrhtJIJciSSAjH0kgIx85GFARUBF3EtsNKQT4AD8Cs/98+pL4kviS+Hz6qPsfAAMFJAe0DJ4TORg5GGAZ/B1wIZciSSBwIZcilyKuG3cSjQsDBSX96/BD6Vnnb+XI3QrY9Nn02TbUYtBi0GLQeM54zjbUCtje25vhQ+kB7+vwqfbe+xr+LwFACQIPUBHFFK4bSSDVHIca/B38HTkYdxJQESkQjQtnCmcKxwfNBLEEiwUDAN779P7zA7wDnAGLBdsNnhPFFOsVYBnVHEkg1RyHGvwdSSDVHOsVUBHbDYsFcfvV8hftQ+lv5bHfyN302QrYINY21EzSeM5i0DbUNtQg1vTZm+FZ5y3rAe/V8qn2fPpG/6EDgAaNC1AR6xUSF2AZrhuuG9UcrhtgGcUUnhPFFJ4TtAxnCtsN2w1ACXsE2AMOBLwDRARwBToFQAnbDQIPAg8pEMUUEhcSF4ca1RyuG2AZhxqHGp4TZwrtBikE+vvr8BftF+1Z57HfyN3I3QrYNtRM0kzSTNJM0iDW9Nne27Hfb+Ut6wHv1fKp9nz6d/1aAtIGjQspEMUUORgSF2AZhxquGzkYnhPFFJ4TKRC0DLQMjQtACe0GlgQ0A4EBFAFwAAMAxwLCBWUGQAnbDSkQAg8CD54TxRSeE54TEheHGmAZ6xXFFFARjQvtBnAAkvjV8gHvLetv5Zvhm+Gb4cjd9Nn02fTZCtgK2Mjdsd+b4W/lF+0B7+vwv/Sp9pL4fPoP/7cBtwGWBI0LUBFQESkQUBFQEVARAg9nCmcKZwqNC2cKrAeRB2cKZwq3BvMDKQQDBSQC3QBPA1UFnAb4BUAJZwoZCGcKtAy0DNsNAg9QESkQKRB3EikQ2w3iB3AFxwLe+7/06/AB7xftLetD6W/lb+Vv5YXjsd/I3bHfm+GF45vhheNZ5xft6/Dr8Ovwv/SS+JL4kvjI/awCl//O+g4EUBF3EikQxRQSF8UUKRDbDbQMjQsCDykQAg+NC40LQAnCBXYC3QCLALcB2APdBWUGEwZnCo0LjQtnCkAJ2w1QEesVYBlgGYca/B0jH2AZAg8ZCLwDw/vr8EPpb+WF45vhm+Gx38jdyN3I3fTZCtj02ZvhWedD6QHvfPoq/3z/TwMDBf4CJAJ7BO0GQAkCD3cSdxIpEAIPjQtVBYsA9P6t/d77w/ut/bj8IPt3/d0AcABR/qcA2AMeBYYD3QW0DHcSxRTFFMUU6xU5GK4bIx9JIHAhviO+I3AhIx/8HTkYGQiS+AHvhePe2zbUTNJM0jbUNtQg1grYINYg1t7bm+FZ5wHvqfZh/90FJAfdBXsE2APzAw//MPyX/7wDsQShA1UA5P3e+3z6kvi/9NXyqfYa/osAUf5lAc0E7QZnCrQM2w20DFAREhfFFFARdxI5GDkY6xUSF+sVxRTrFRIXYBmuGyMflyJJIPwdYBnbDen6F+1v5QrYpMqkyjbUINY21ArYsd/e2/TZsd9D6S3rv/S8A9sNAg/bDdsNZwplAcP7fPqS+L/0fPrtAUoBcfuS+Hz6qfbr8L/0kviS+JL4TwP+B9IBFAETBmcKZwrbDVARxRTrFesVnhMpEFARxRSeEykQKRApEHcSdxKeE4ca/B1wIb4j5STlJK4b/ge/9EPpsd9M0rrIjswg1grYINYK2ArYCtj02bHfWefr8BX8nAYCDwIPZwqLBe0Bh/4E+3z6fPqS/ZEC6ATI/dXy6/Cp9r/06/DV8kv8Kv/v/If+l/9W+977DgRnCo0LKRASF9UcrhueE1ARxRQ5GDkYxRSeE8UUnhN3EncSnhNgGXAhDCa+I74j5STrFZL4m+Gx3wrYusi6yDbU9NkK2PTZINZ4zmLQyN1v5S3rkvhnCncSUBECD2cKawP0/koB3QDe+zv7oQMZCEb/6/AX7dXyqfa/9L/0fPrk/Ub/AwAl/Xz6kv0ZCNsNKRDFFGAZ1RyHGhIXnhN3EmAZcCFJIBIXnhMSF54TZwpnCikQEhf8HeUklyLVHPwdYBmcAVnnm+GF4wrYYtD02bHfNtRi0CDWNtR4ziDWQ+nr8OvwIPtlBnUH0gFPAx4FRv+N++T9HwB8+qn2+vuH/qn26/Cp9hr++vuS+Gb89P6o+7P6fP+H/lz9ewQCD3cSKRDFFDkYEhd3Ep4TEheHGiMfSSCuG8UUUBFQEY0LnAbbDWAZIx8jH9UcrhuHGjkYQAm/9C3rLetv5fTZ9NnI3fTZNtRM0jbUNtQ21LHfF+3r8OvwqfZs/qcAGv46AKwC+ACcAXsERv+/9JL4HgUvBnz6kviABo0LiwDv/O0BHwCS+DX+cAX0/sP7GQh3Eo0LEwYCD+sVUBECDzkYrhuHGtUcIx85GFARnhMSF3cSdxKHGiMf1RyuG64bEhcSF3cSawPr8EPpb+XI3QrYCtje2/TZNtRi0DbUINYK2IXj6/Dr8Bftv/SX/zX+VvtlAQgHrAf4BQ4E3vup9r7+nAYP/6n2rf0/B9gDkviS+Fb7kvip9sj95P2S+CX9xwdnChMGdQcCD54TKRB3EjkYhxquG9UcrhsSF8UUEhcSF3cSKRCeE+sV6xXFFJ4TAg+0DNsNZwqS+Fnnb+VD6YXjyN2x38jdCtj02bHf9Nkg1pvhAe8B71nnF+3V8r/0qfZW+3z6kvjv/OICKv+S+N77HgVlBtIBWgJaB2cKxwfoBNgDvv64/GUBGQOt/cP7YARACccHGQi0DI0LjQueExIXdxJQETkYrhvrFZ4TEhcSF8UU6xUSF8UUdxISF+sVAg+0DHcSEhdACZL41fK/9AHvWedZ54XjyN3e27Hf3tsg1t7bheOb4W/lLest61nn6/D6+5L4v/Qa/vgFHwCH/pEHjQsZCEAJtAwCDykQAg+NCz8HGQjiB5YE6f+t/UD9s/9lAToAOgCxBEAJEwYIB9sNUBF3EhIXYBnFFMUUORhgGRIXORg5GOsVORhgGZ4TtAwCD3cSAg/4BeIHQAl8+i3rAe+/9C3rheNv5Vnnm+Gb4bHf9Nn02ZvhWedv5YXjb+VZ5wHv1fIB7wHvqfbI/TX+l/+d/CD7rAJnCmUGAwDNBGcKpgWX/1oCTwMfAGUBGQMK/en6+AA6BRMGZQYvBh4FjQvFFFARZwq0DBIXEhdQEQIPnhPrFXcSUBECD2cKQAnbDVARAg9ACUAJ2w2NCw4EhgMTBjoAfPqS+JL41fIX7QHvF+1D6Vnnb+WF45vhb+Vv5W/lb+VZ51nnWedD6Rftv/SS+Kn2v/R8+nf9Kv+8AxkIgAbiAkoGGQgZA3YCwgWmBWsDKQTYAxQBawMTBlUFNAPdBWcKQAnHB2cK2w0CDykQUBFQEQIP2w0pEJ4TKRC0DLQMAg9QEdsNQAlnCtsNjQsOBNIBYASRAh8ARv/v/Dv76fqp9uvw1fKp9r/06/Dr8AHvF+3r8Kn21fLr8L/0kvip9tXyqfYg+/r76fo7+5L4fPrI/UD96fqS+Kj7+vs7+5j6mPoV/OT9OgCLAKL+XP06AHsEGQjdBQ4EGQiNC2cK/gdACWcKZwq0DI0LrAfHB2cKZwqABggHQAk/B3sEnAboBFUAAwCGA+ICPwKGA1oCfP/T/Ev8IPuS/Z38jfvp+sP7fPqp9pL4+vvO+qn2fPrp+nz6kvgw/Cr///3k/Yf+zv/SAccChgOhAwMFlgQ/AscCrAI0A1oChgO8A+0BFAGRArwDVQA6AO0BTwPtAQkCnAEDAAkCJAI6ADoA8wNrA5ECdgJrA4YD6AQTBscCxwJgBHAFkQL+AoYDZQHZ/joAfP98+pj6qPt8+qn2kvip9tXy6/C/9L/06/DV8qn2qfap9qn2qfaS+Hz6fPp8+hX8XP0l/Rr+Kv9R/sj99P7O/1H+s/9lAYsAHwAvAe0BLwHiAvMD2AOGAxMG0gYkB0AJjQtnCkAJZwqNC2cKQAmNC0AJGQgZCBkIxwcZCEAJnAaLBR4FHgXiAloCWgKRAgkCkQL4AMj9h/7O/2H/S/xm/Hz6kviS+Hz6kviS+JL4kvip9qn2qfap9pL4kvip9qn2kvip9pL4kvip9qn2qfaS+Kn2kvh8+nz6fPpx+xr+gvyd/JL9Yf8UAZwBxwJaAoYDHgWxBNgDcAU6BbwD2ANEBP4CNAM0A+IChgPzA7EETwNgBHsEpgXtBloHPwfHB0AJQAkZCC8G7QZ1B9IGVQXNBLwDkQK3AYEBAwCH/of+rf24/AT7mPqS+Hz6cfsg+3z6fPrp+nz6fPqY+iD7zvp8+iD7O/t8+pL4O/v6+zv7fPqS+K39MPzO+kD9Zvzk/TX+//1R/of+zv++/pf/LwFG/zoAnAG3AcIAVQAvAccC/gLiAmsDRAR7BOgEwgXoBHsEYASWBLwDGQMkAtIBZQFlAYsAzv+X/3z/6f+z//gAFAGLAIsA7QEUAfgA0gEJAj8CWgJaAosA6f/O/w//Nf7T/Hf9nfx8+un6mPp8+s76+vut/TX+cAAUAd0AcACcAUoB6f8DAKL+ov6X/zoA9P4P/0b/l/+z/7P/AwAvAZwBGQPtAQMAVQADAA4ETwNEBMIFVQVVBbEETwNKARQBLwH4AIf+3vuN+3f90/x3/bP/iwAZA0QEPwKX/0D9+vvv/Hf95P1R/hr+//3//Qr9O/t8+pL4fPr6+3H7kviS+LP6IPvD+2b82f7dAEoBYf+C/Pr7fPrp+nz6fPrT/Cr/3QAvAQMA2f4l/eT93QDSAbcBpwAUAcIAiwC+/nf9s/+sAsIFAwWGA5ECFAGX//gAnAH+AsIFWgcZCAMFJALp/9n+s/9VAOn/fP9h/87/2f5x+7P67/xVAOICoQPiAsIAYf///en6fPo7+wr9Kv9wAPT+BPuS+Hz6fPqo+/r7Zvy+/gMAVQCS/YL8s/92ArwD/gJVAJL9fPqS+Hz6mPpc/XAATwPoBBkDHwCH/mH/LwFKAd0AnAEZA7wDWgL0/hr+iwBEBP4HZwpnCkAJ/gcDBWsDJALSAawCewQvBqYFvAPtAbcBgQHCACr/2f70/mH/Cv2S+Kn2v/SS+JL4kviS+Hz6jfuC/If+iwBaAsIFGQhnCkAJNAOS/bj8XP3I/fT+h/7Z/lH+kvip9tXyv/Sp9pL4zvqS+Kn2kvip9pL4zvrk/TQD4gdACUAJWgf4BZwGGQhACbcGxwLdANn+jfuS+JL4kviY+iX9QP24/BX83vsw/Fb76fo1/rcBgAZACWcKZwpACUAJZwpnChkI7QZaB7cGOgUfAJL4qfap9pL4O/sK/TX+kv1c/TD8IPt3/WUB3QU/BxMG/gKnAFUAnAH+AscC8wM6BegEDgTp/977s/qH/pwBwgA1/qj7kvip9qn2qfZ8+sj9nAHYA3YCcACH/qL+vv7//eT9vv5lAUoBKv/v/M76O/sa/loCKQTHApYEZQYvBvMDfP/v/BX89P6cAS8BJf18+pL4qfa/9L/0qfaS+Dv7fPqS+Kn2kvid/PgApgUZCGcK2w0CD9sNQAniB40LAg8CD40LOgUa/nz6qfa/9Ovw6/Dr8AHvLetZ51nnQ+kX7dXyqfZ8+mz++ACcAc7/5P3O/wMFtAwpEAIPtAyNC7QMjQtACWUGOgWABhkIGQj4BTQDnAFlARQB+ACBAVoC6AShAxQBl/8P/4EBLwZACVoHVQU/B40LjQtACXUHGQhnCmcKgAbp/5L41fLV8r/0v/Sp9qn2qfa/9OvwAe8B79Xykvii/pwBNAOLBRkIGQgIB/gFQAkCDykQ2w2NCxkIrAckB90F0gHv/JL4v/Tr8AHvF+0t6wHv1fKp9pL4fPrp+uT9Uf4l/Xf9AwADBT8HZQa8A/4C6ARlBkAJZwq0DCkQdxKeEwIPQAnYA5YEJAf+Bz8HpgXYA1oCZQF8/xr+ov7tATQDdgJ8/9P8uPyt/e/80/xh/wkChgPHAnz/fPqS+Dv7Rv8fAAr9fPqp9qn2qfa/9L/0qfaS+AT7Jf2d/Gb8//1wAGUBvAPCBVoHGQh1B4YDVQDp/3YC+AUTBikE7QHCAOn/5P2S+Kn2v/SS+M76jfsE+5L4qfap9pL4fPrv/LP/awPzA8IA//3T/Br+3QDHAnsEWgeNCwIP2w20DI0L2w1QEVAR2w2RBxkDzv+H/h8AtwFaAmsD2APHAmH/fPp8+t77Nf5s/vT+Nf4l/QT7qfa/9NXyqfaS+Ev80/zp+nz6fPp8+nz6kviS+M76FfyH/lH+S/wE+2z+0gHiAscCawNEBPMDCQIvAYEBSgG3AT8Cs//T/Hz6kviS+JL4fPpR/hkDcAV7BKn2Ae/r8Dv7Zwp3EmcKHwDCAKEDgQGS+NXyS/xnCncSdxLbDWcKjQspEAIPQAlACQIPnhOeE+IHqPv+AncS6xUpED8HwgBs/sIAs/98+s76SgGmBWUBGv5s/jX+jfuS+L/06/DV8un6bP5x+6n2v/S/9JL4qfbr8L/0fPpG/2UB6f++/iX9nfyi/rcB4gJVAKL+O/t8+kD9XP2d/HAAZQF8+nz6iwCS/an2v/S/9Kn2iwBACUAJQAnO/yD7qfaS+OIHjQtVAJL4AwA0A87/ov4fABQBNAOLAAr9gvwq/4sFZwrbDY0LtAzrFRIXnhPbDT8HQAm0DCkQUBFnCvgFjQtnCjD8v/St/bwDGQi3BuT9fPqp9qn2kvip9tXyv/SY+pL4v/S/9NXy6/Cp9qn2v/SS+Kj7mPrO+pL4Zvy3AWUG2w1QEVoHJf3T/IYDPweLBYYDLwGz/5ECDgTI/an21fKp9jv7fPp8+o37BPvv/Eb/OgCi/nf9twH+By8G6ARnCrQMhgO+/k8DtwaRAsIFAwVW+w//SgETBmcKtAwZCKwC2AM6AN0AtwE6AC8GtAzbDY0LGQi0DI0LGQgIB9IGjQuNC7QMdQdA/ZL4qfa/9NXy6/Dr8OvwAe8X7VnnLesB7wHv6/C/9Hz6fPrp+pL4fPoq/7EEZwqNCwIPtAxnChkIZwqNC5wGRASWBAMAfPqp9tXyv/S/9AHvAe/r8NXykviS+Ovw6/CS+Kn2cfuLBaED5P2+/rwDOgXHB7QMAg/bDY0Lxwe8AwMAs/9h/4f+KQRrA5wBSgZACZwBnfz//e/86AQZCCQHRARVBQMFCQKBAWAEAg8pELQMQAkZCEAJ3QUZA7wDkQIeBVoCkvjV8tXyv/TV8r/06/Dr8NXyv/S/9AHvF+2S+JwBpgX4ANP82f6GA+gENAMZCDoFLwZnCo0L2w20DI0LQAmN+7/0kviS+I37kvjr8BftqfYg+5L4v/S/9JL4IPuS/XH7fPow/KcAHwAZAxkIZwriB5ECFAFgBEAJjQtQEQIPQAlEBHAFQAkkB5wBgQEeBVoCxwKxBDoFSgHD+4f+8wORB2cKjQtaBwkC0gHiAun/gQFrAz8C+ABG/zX+qfbV8qn2fPqS+L/01fLV8uvwF+0B79XyfPps/gr90/y+/s7/wgADAN77mPqBAZEH/gIkArwDvAOnAIsAiwDiAscHpgWz/5L4v/Sp9nz6fPqS+BX86f+Y+tXyAe98+i8BGQP+Ahr+//36+1oC7QYUAdgD2AN2AkAJUBGeE+sVEhe0DI0LKRApECkQnhPbDZwBfPp8+mH/Gv5KAbcBfPq/9Hz6Kv/p/5YENAN8+jv7ov6+/gr9kvi/9L/02f6GA5ECLwGmBSQC1fLr8Kn2v/S/9JL4v/TV8r/0qfa/9L/0fPp8+o37FfxW+/T+2AORAnH7kv1lAVb7fPrtAe0ByP0P/y8B7/x8+osAjQtACf/9fPqS+Kn2kvgJAscHEwao++vw1fKY+of+TwORB2cKWgcJAsIFAg8pEI0LtAzbDY0LQAmNC3cSYBk5GI0LqPsl/SQHtAxACSQCkvi/9Hz6v/Sp9un/awOLAO/8kvgB7wHvqfasApYEkvgB77P6yP3V8r/0fPr6+3YCnAaRAoL8Rv+S/VH+D/+d/JL9fPp8+tP8kvip9lH+kvgB75L4AwC/9Kn2fPqp9qn2fP+nAK39zv+xBHUHGQjSBs0EPwemBRkIQAlACbcGcABc/Q//ov6S+N77pgUJAnf93QUZCIEBawONCwIPKRCNC0AJtAxnCjoFZwpQEQIPnhPFFFoHHgV1B0AJjQu3Bof+kvip9nz6fP+S+NXyv/Sp9qn2fPqS+L/0kviS+NXy6/Dr8L/0ZvynAFUAfPqS+IEBtAy0DI0LjQviBxkDnAGBAen/LwHO/437qfbV8tXyqfZ8+pL41fIB79Xy7/xaAhkIQAmS+AHvv/SS+CQCQAmNC2cKtwZgBKwC7QZnChkIGQjdBeT9ov6GA0oBYf/YA3AFVQC+/iQCGQhnCjQDJALoBO0Bd/2z/7wDCAfNBAkCxwIZA7EEdQeNC1oHHgW+/r/0Ae/V8pL4Ffx8+r/0v/Tr8C3rAe+/9L/0cfsfAJL4v/SN+9n+Rv8eBccHQAkZCBkIQAlKBs0EZwoCD2cKGQjiB08DBPuS+Hz6cfuS+NXyv/S/9AHvAe+/9L/0Ae8X7evwqfaS+Fz99P6S+Kn2IPvZ/jQDGQiNC9IG+ABKASQC9P6i/hMGQAmsBw4E+AA6APgA/gKWBEAJ4gcUAR8AGQOGA0oBPwJlBj8H7QZnCgIPxRTFFFARUBEpEGcKQAlnCloHZwpnCpECrf2o+5j6fPqo+639s//dAOn/Jf2H/s0E6AQDBUAJQAllBhkI2w13EtsNEwYZCGcKdQcvAan26/AB7+vwAe/r8BfthePI3Zvhb+XI3SDW3ttZ52/lb+UB7xftAe+S+Hz61fKp9qL+zvqS+B8AlgTSATQDAg/FFJ4T6xXrFQIPUBGeE9sNAg8SF54TtAwpEI0L7QZnCikQdxISF4caORgSF54TdxK0DBkItAx3EncSAg8pEGcK//0K/dgD0gGX/3YCFAGN+7/06/AB77/0XP3iApf/fPrV8uvw1fK/9DD8wgAV/NXy1fKp9tXy6/AX7QHvv/SS+Kn21fK/9NXyLeuF45vhWecX7RftWedv5UPpF+3r8L/0kvip9r/0kvhaAkQEdgI6BY0L2w1QERIXYBnVHPwdEhfrFYca1RyHGjkYnhMpECkQjQtACbQMtAxnCrQMQAkkAgMAWgJVBUoGkQdaB0AJ/gfSAf/9twHdBWAEZQFVALcBVQB8+qn2qfaS+LP/NAN8/yD7qfYt62/lF+0B7y3rLevV8pL9Kv9x+9XyF+0X7S3rAe/r8NXyv/TV8gHvAe/V8tXyqfZc/e0Bov6S+NXy1fK/9JL4fPp8/3AFOgXZ/jD8D/+cAcIFZwqNC40LtAyNC7QMKRBQEZ4T6xVgGa4bhxrrFcUUxRSeEykQtAxnCmcKGQhwBQ4EGQPCBegErAK3Af4CJAKH/uT9JAKsAqcAWgJrA6YFgAbdBdIGQAkZCBMGCQKS/ZL4v/TV8uvwv/SS+I37IPup9tXy1fLr8NXykvip9uvw6/AX7UPpF+2p9nz61fIX7QHv6/DV8r/0s/qcAegE8wOsAhkDawOGAwMFgAZaAun6O/sK/Vb79P4OBKEDkQfbDbQMVQX+AoAGQAm0DNsNUBF3ElARUBFQEVARAg/bDSkQUBF3Ep4T2w1ACUAJZwqNC7QMGQjYA5YERARVBegEDgTHApwGGQh7BBQBkvgX7VnnF+3r8AHvAe/V8qn2v/TV8pL4cftA/e/8fPq/9Ovw1fLV8r/01fKp9tXyAe8B7xftWedv5S3rAe/r8L/0fPp8+pL4qfaS+M7/gAbHB2cKtAyNCwgHhgNPA2AEYARlBhkIZwqNC4AG6f/I/acALwHtAf4CPwfbDQIPtAwZCHUHGQgZCGcKAg+eE1ARjQtnCtsNAg93EhIX1RzVHDkYdxIpEFARKRDbDY0LZwplAan2Ae8t61nnQ+nr8Kn2kvip9tXyAe8B7wHv6/DV8r/0kvio+3z6fPqS+Kn2qfap9jD8w/u/9AHv6/AB7xft6/C/9Hz6qfbr8OvwqfaS+JL4fPrT/Eb/0gGGA0QEVQUDBaYFpgUZCGcKQAl1BxMGQAlnCmUG6ASABqYFOgXNBBMG4gdnCmcKQAlaB0AJZwq0DFARnhNQESkQUBF3Ep4TnhM5GIcarhvVHCMf/B0SFwIP4gfCAJL4v/Tr8AHvAe/r8BftLest6xftLetD6UPpF+0X7RftQ+lZ5y3rLest6y3r6/Cp9un6qPv//Qr9nfyS+Kn2kviC/Hz/pwBVAHz/d/2S+L/0qfaS+Kj70gETBqwHPwcZA1H+6f8JAqEDRAQZCLQMjQtACRkIQAlnCtsNUBHFFMUUxRR3EtsNZwp1BxkIGQhACUAJQAnbDQIPtAy0DAIPUBESF4ca1RyuGzkYORjFFI0L+AB8+qn2qfap9qn2qfbV8gHvAe8X7W/lm+Gb4YXjWedv5W/lsd/e28jdsd+b4W/lQ+kX7QHv1fKp9nz6qfaS+NP8xwLiB7QMAg/bDf4HtwEq/2b8XP2BAd0FQAmNC0AJDgQq/yX9Nf6S/cIAiwUZCHUHoQO3AQkC/gK8A0AJKRDFFBIXEhcSF8UUKRCNC40LKRCeE3cSKRBQEQIPtAyNCwIPxRRgGfwdIx+uG+sVUBGNC87/1fIB7xftF+0t6xft6/C/9JL4kvi/9OvwAe8B7xftF+0X7UPphePI3d7b3tve27HfheNZ50PpAe+/9JL4qfa/9JL4ZvxlAc0EJAdnCo0LZwpnChMGAwWcBuIHtAwCDwIPjQsZCDoFkQJwAHAAPwLYAx8Aw/tW+4L8Zvw1/uICgAZACY0LtAwCDwIPtAyNC9sNdxJ3ElARnhNgGWAZEhfFFBIXrhsjH0kg/B38HdUcYBnrFQIPgQHV8i3rWeeF44Xjb+UX7an26fpW+7/0Ae8B7wHvQ+lD6QHv6/AX7W/lheOx3/TZ9NnI3W/lLevV8pj65P2S+NXyv/SS+Gb8gQEDBVoHQAkZCA4EGv7D++n/nAa0DAIPUBECD0AJwgV7BJECzv9lAVUFwgXSAb7+5P1m/ED9OgBKAdgDQAnbDQIPAg+0DGcKZwpnCrQMtAzbDXcSEhc5GGAZ/B2+IzMnpyqnKlooviNwIXAhYBk6BdXyQ+mb4fTZCtix3y3rqfZR/tP81fJD6W/lhePI3cjdm+GF44XjheOb4cjd3tux31nnLest69XymPpA/ZL4qfZ8+joATwOWBAMFewTHApf/Jf3D+3H7XP3YA0AJZwqNCwgHxwKsAsIFAwWGAyQHtAy0DEAJ7QZEBCQCrAKmBZEHQAlACWcKQAmcBnAFDgT4BY0LKRApEAIP2w0pECkQKRDFFNUcDCYcLkMvzitaKIEp9SzOK1ooSSB3Er7+Q+n02UzSTNL02VnnF+3r8Ovw6/AB71nnsd+x38jdyN3I3fTZINZM0iDW3tux35vhheMt69XyqfaS+Hz6nfwJAggH4gdgBMIFQAkZCIEBnfx3/acA/gIDBZEHCAe3BhkIZwpACcIF2AOxBOgE+AUOBJECtwaNCwIPtAyNC7QM2w20DLQM2w0CD1ARUBECD40LQAkZCEAJtAwpEJ4TORiuG/wdcCFJICMfIx9JIL4jMyenKkMv9Sz8Hd0F6/CF4wrYNtQ21LHfF+3V8tXy1fIX7Vnnsd/02SDWTNJM0jbUNtQg1grY3tvI3YXjheOx34XjAe+S+L7+iwCWBGcKtAxnCqYFsQQ/B2cKGQh7BE8D8wPiApwBSgGhA0QERARKBpEHZQZ8/538wgDNBCQCLwHtBrQM2w1nCkAJjQtQEcUU6xXFFJ4TUBHbDY0LQAkZCEAJtAxQEZ4TnhN3EusVYBkjH5cilyK+I74jDCblJOUkDCYMJloo5SQ5GL7+Wef02WLQ0cbnxDbUWee/9JL41fJZ58jdINaOzNHGpMpM0t7bsd/I3cjd3tve297b3tve25vhF+18+rP/uPx3/aYFAg+0DB4FzQS0DCkQAg9nCo0L2w1QEQIPjQu0DGcK7QbzA3AF+AVgBNIBvAPdBdIGJAdACbQMAg8pEFARxRTFFMUUnhOeE54TxRQpENsNKRB3EncSxRRgGYcahxpgGdUcIx9wIZciviPlJOUkDCa+I3AhSSBwIZci1RwpEJL4WefI3SDWpMr9wqTK3tuF41nnQ+lD6W/lyN021KTKpMqOzHjONtT02cjdsd/e2/TZCtgK2PTZheMB76n2fPqC/PMDjQu0DGcKtAx3EncSKRC0DI0LQAlACUAJZwqNC7QMtAxnCkoGKQQ0A5wBgQFlBo0LAg8pEAIPtAwCD1ARKRCeExIXYBk5GBIXxRRQEQIPKRCeE+sVEheuG9UcYBk5GK4bIx+XIgwmMyflJOUk5SS+I9Uchxr8HXAhIx/FFA4E1fKF4wrYjsz9wufEINZv5S3rF+0X7UPphePe22LQusiOzCDWCtg21DbUyN2x397bNtRi0CDWyN1Z5xft1fLD+3UHtAy0DEAJZwrbDSkQdxIpEAIPAg8pEAIPjQsZCI0L2w3bDY0LGQj+B90FkQIvAUQEQAlnChkI/gdACY0LZwpACdsNxRSHGq4bYBnrFZ4TUBFQEXcS6xX8Hb4jviP8HYcahxqHGocarhuuGyMfDCYMJiMfYBlgGdUchxrFFGcKfPpD6Zvh9NmOzOfEeM6x3y3rF+0X7S3rWeeb4SDWusjnxI7MNtRM0o7MYtAg1jbUTNJi0CDW3ttZ5wHv1fKp9tP8dQe0DGcKQAkCD54TxRQCD9sNAg93Ep4TdxIpECkQUBECD2cKGQhACXUHKQS3AccClgTNBLEESgZACY0LtAyNC40LAg93EjkYhxoSFxIXhxrVHIcaEheHGnAh5SQjH4cahxpJIJci/B2HGiMfMyenKjMnSSBJIL4jlyJgGQIPnAG/9C3rheMK2I7MpMo21LHfheNv5W/lb+WF497bjsz9wv3Cusi6yKTKjsw21ArYCtg21DbUCtiF4wHvv/Sp9qj7GQNKBuIHpgUkB7QM6xVgGesVxRTrFTkY6xWeE1ARUBFQEQIPGQgJAh8A2f58+qn2S/xlAe0BCQLiAjoFGQhnCo0L2w2eE4ca1RyuG2AZORhgGWAZORiHGkkg5SRwIa4brhvVHNUc/B0jH9UccCEzJ/UsgSnlJKcqHC6nKiMfdxKH/hftWeex32LQushi0Mjdsd/e2/TZ9Nkg1iDWeM7nxP3CpMqOzNHG58SOzDbUINZM0mLQINbe22/lF+2/9Hz6PwJACbQMrAfoBGcKdxLrFXcSxRRgGa4bEhdQEbQMtAy0DGcK8wNlAXsEoQOS/an2kviN+/r7Jf1G/6cAkQK3BpEHgAZACSkQEhdgGTkYnhN3EusVORjFFJ4T1RyXItUcYBmHGtUcSSBJICMfcCEzJxwuHC5aKKcqajCRMc4rviP8HdUcnhNx+5vhTNKOzP3CKb+kyjbU3tub4bHfCthi0GLQeM66yNHGjsxi0EzSNtQg1kzSNtQK2PTZ9NnI3S3rkvgkAmUGtAyeEzkYxRQpEAIPUBFQEQIPdxJ3EncSxRSeE40LkQeABqYFHwCLACQCwgDp/6wCGQNm/Br+cAV1BzoAHwDzA90FGQjbDVARdxLrFRIXnhPbDZ4TORg5GDkY/B2XIkkg/B38HSMfIx9JIPwd1RxJIL4jMydaKDMnMyczJ74jIx9gGTkYnhO+/pvhYtCkyv3CP70pv47M9Nmx38jdINZM0kzSTNKkyo7MNtT02d7b3tux37Hfsd+b4YXjheOF40Pp1fJ3/ZEC3QXHB9sNUBHbDeIHQAnbDbQMQAk/B40LKRApELQMjQtnCkAJSgZlATv7kvio+yr/2f7k/S8B0gZnChkI+AUeBWcK2w20DNsNnhOHGq4bORg5GIca1RzVHK4bcCEzJzMnSSCuG/wd/B05GFARdxLFFJ4TdxJ3EncSxRQ5GIcahxqHGq4bhxrrFZ4TtAxc/UPp9NlM0njO0cb9wrrIINbI3cjdyN2x35vhheOb4cjdm+FD6RftQ+lD6RftF+0t61nnWedZ50Pp6/CS+Lj8d/34AAMFZQY/Atn+Nf7CAGsD+AVKBhkItAzbDWcKHgWxBKEDfP98+un6Uf74AN0ApgVnCo0LZwpnCo0LjQvbDXcS6xU5GIca1RwjH9UchxrFFCkQdxKeE3cSAg8pEJ4TUBFnChMGZwq0DEAJawNrAyQHZwpnCmcKjQvbDXcSKRA/B87/VQBVAGz+gvxW+8j9nAGABvgFrALdAKL+6/Cx3yDWCtj02SDWCtiF4y3rF+0t60Ppb+Vv5W/lb+WF42/lQ+kt6y3rLetD6W/lheNv5W/lWect69Xykvip9r/0v/R8+t77kvip9iX9oQNlBkQErAI/B1ARYBlgGWAZ/B0MJjMnlyIjH0kglyK+I3AhYBkSFzkYYBl3EtsNUBHrFcUUKRDbDQIPKRACD7QMQAlnCrQMtAxACUAJ/ge3BpYEZQEOBC8GWgdEBMcCWgK3Ac7/yP36+7j8fP86AJ38kviS+Hz6fPq/9L/0v/TV8tXyqfZ8+pL4kvgK/en/7/yS+L/0qfap9r/01fLV8r/0qfbV8hftQ+kt6xftQ+lD6S3r6/DV8tXyv/Sp9nz6fPp8+nz6+vuz/2UBZQF2AmAElgRaAtIBFAGH/lb7fPqS+Kn2kvh8+jv7kvh8+u/89P6X/+n/GQPHB9sNAg8pEFARKRApEHcSxRTrFWAZ/B1JIEkgcCGXIkkgIx9JICMfrhuuG4ca6xVQESkQ2w20DI0LQAlwBZEC+AD0/pL9Vvt8+un6fPp8+pL4qfbV8tXyv/S/9NXy1fLV8uvwAe8X7S3rQ+lD6UPpQ+lZ51nnQ+lD6VnnQ+kt6xftAe/V8tXyv/SS+LP6w/v//RQBrAKhAw4EzQQOBDoF+AXiB0AJZwq0DLQMjQtnCkAJwgWWBLwDpgUvBqwHCAexBGsD2APHAmz+d/2H/tIBCQJ2AiQCxwI6BdIGHgUkAi8BJAKnAMj9l/8JAs0EYAT+Ai8B2f4l/Wb8rf0q/wkCRAT4BQgHZQbdBXAFLwasB0AJZwpnCmcKQAlACSQHAwUZAyQCJAKBAd0AAwA6AFH+ZvzD+4L8Cv36+xX8gvyC/On66fqd/K39Nf6S/Uv8fPqS+JL4v/S/9Kn2fPqS+JL4kviS+JL4qfaS+JL4qPvI/VH+Cv2C/L7+2f4a/r7+Kv86AEoB7QGsAqwCDgSABnUH4gdACWcKjQuNC2cKZwq0DAIPAg+0DNsN2w2NC0AJGQgZCEAJZwpACUAJGQiABlUFvAO3AUoB4gIJAhQB6f8q///9FfyY+nz6kviS+JL4qfap9r/0v/Sp9qn2qfap9qn2v/S/9NXy1fLr8NXyv/Sp9qn2v/S/9NXy1fLr8NXy1fLV8r/0qfap9qn2fPq4/If+3QBEBPgFWgdACWcKZwpnCmcKjQuNC40L2w0pEFARUBGeE+sVEhc5GGAZhxqHGmAZhxquG64b1Rz8Hfwd1RxgGcUUKRC0DGcKQAlACeIHzQSLAEv8qfbV8gHvF+0t6y3rQ+lZ52/lheOF45vhsd+b4bHfm+Gb4YXjb+VD6Rft6/C/9Kn2fPoV/DX+l/8/AlUFxwdACWcKZwpnCmcKQAlACeIHGQhACRkIQAk/B80EkQIkAmUBtwHHAqEDRAQOBAMFYAR2AkoBVQAq//T+Nf5c/dP8Zvy4/Fz92f4DAB8As/+z/9n+yP3k/en/FAFrA0QEzQQ6BUQE2AOhA3sELwZACbQM2w3bDQIPAg8CDwIP2w3bDQIP2w2NC2cKQAkkB90FzQS8A5wBLwHO/yX9S/yN+yD7Vvv6+538Cv0K/Wb8+vtm/JL9Kv8q/1UAVQD0/tP8fPqS+Kn21fLr8OvwAe8X7S3rQ+lD6VnnWedD6UPpLesX7QHvAe/r8L/0qfaS+CD7QP3I/SX9ov46ACQCVQVACY0LtAzbDbQMtAy0DNsN2w0pEJ4TnhOeE3cSdxJQESkQAg8pEFARUBGeE3cSUBEpEAIPAg/bDbQMjQtnChkIxwceBXYCVQBh/xr+gvx8+pL4qfap9qn2v/Sp9pL4kvh8+pL4kviS+Hz6MPxG/wkChgOxBN0FiwVgBNgDvANrA2sDxwJKAXz/yP0w/Dv7fPqz+s76O/sE+5j6mPp8+nz6fPp8+gT7fPqY+s76fPp8+nz6qPv//QMAFAGBAdIBPwKRAuICxwJPA/MD3QUTBosFYAQkAhQBAwDO/3z/VQDdABQBFAEUAVUAHwAJAoYDDgTzA7EERASGA4YD4gJ2AloCawNrA2UB9P7T/HH7fPrO+nz6fPog+1b7BPvp+s763vvI/QMAPwJrA+gE0gbtBu0GPwc/BxkIJAftBrEECQIUAen///2N+3z6qfap9qn2v/S/9L/0qfap9qn2qfap9qn2qfap9r/0v/Sp9nz6ZvyH/h8ALwHCABQBZQHtAWsDAwUvBuIHGQhaB5wGEwYTBu0GWgecBloH4gdACUAJQAlnCo0LtAyNC7QMjQtnCo0LjQuNC40LjQtnCloHpgXHAi8BYf8a/lH+XP0w/M76fPqS+JL4kviS+JL4kvh8+vr7QP1A/fT+bP6+/g//bP4a/v/9//1A/Wb8w/uo+zv7fPqS+JL4fPp8+nz6fPrO+o37uPyS/eT9Gv53/Wb8w/u4/OT9D/8vAYYDYARgBCkE6ATCBfgFPwcZCGcKjQtnCkAJQAlACRkIWgcTBt0FsQShA2sDawOGA2sDxwKRAqwC0gHCAKcAiwAvAUoB3QCLAAMAbP6S+L/0kvhh/9IGQAntBhkDUf58+pL4kvhW+1z9bP5s/lz9QP1A/eT9Yf+LAN0Al//Z/r7+yP0K/f/9fP/O/8j9s/rD+3f9Uf5G/4L8Vvs1/of+s//tAeIC0gGz/zv7kvh8+pL4fPog+zX+3vuC/AMAl/+cAWH/wgCLAOn/7QGcAVUFDgRgBLcGawMUAXAA7QEP/4sAs/+sAqEDrf2t/bP/JAI6AGH/GQMZCA4EZQHSAT8CgAZnCpEHHwDdAJECCQI1/hr+TwMZAzQDRv+o+5L4kvjT/EoBawPp/77+awMZCBMGHgXiB0AJGQiLBdIB6f9gBLEECQK4/MP70gGt/ZL4qfa/9JL4jft8+pL4kvip9p38fPqS+Kn2fPqo+8P7gvzO/wMAGv5PA0oBWgKLANgDzQSRArcGlgQkB2UGlgQkB1oHsQR2AnYCSgY/B5YEzQSsAloCiwW8A4sAZQFPA4sA+ACRAloCoQMOBMcCnfxx+437kv01/lz9IPuS+AT7+vvZ/p38O/v//Q//Rv+N+3H7wgCRAqEDZQHCAGsDrALoBLwD+ACRApwBwgAP/3f9zv8DAHf9VvsE+2b8D//dAEoBvv7v/GsDkQI6AGUBs//0/r7+//30/u0BAwCLAN0A0gFaAlUAdgIUARQB0ga3Bt0F8wOABuIHWgfYA/MDsQQ/AosFSgHNBDoF0gFs/sIADgTiAkoBFAEvAd0AdgKz/x8ApwBlAVUA+ACRAtn+Gv53/en6Nf6S/Zf/cfuS+Hz6fPpx+6n2kvh8+o37zvqH/nz/s/9KAQ//fP9G/2z+bP4vAdn+//0q//r7fPp8+nz6nfyS+JL4kvgB79Xys/oE++/83vup9iD7uPz0/o37Cv1PA6EDzQTCBbwDDgQOBKYFwgVgBHUHWgfHB1UFoQPHAtgDFAH0/gr9cfsvAZwB2f41/pL9Rv8a/qL+fP/HAnUHHgV7BPgF+AXdBccH/gdKBhkDvAN2Ar7+VQAJAsIA6f9m/IL8Jf1VAKL+cfu4/Mj93QDp//gA9P5PAzQD3QAJAmUB3QBG/538fP/+AjoA//1W+5L4kviS+JL4nfyS/Xz6qfZ8+oL82f7p+jD8//3I/f/9fPqz+qL+wgX+AtIBZQEeBWAEewQDBawHjQsZCEAJZwq0DGcKxwexBLEEEwbtBhkILwaGA6YFsQRgBOgELwYvAbP/pwDHAmUBVQDtAVH+oQM/As7/9P7p/wr9Nf6nAHf9AwCz/2H/6f///fr77/w7+/r7fP9lAbwD6f+H/iQC+AWxBPT+h/6z/8IAOgDp/77+XP0a/nz/uPy4/Mj93vt8+pL4MPw6AHAA7/ww/Hf9uPyN+3f92f7//aj7kv0DADX+2f7HAlUA9P7CAIsAGQOLAM0EGQimBRkItwYpBE8DiwU/B7wDhgPO/+0BHgUDBbEEpwBKAcj9zv8OBA4EKQQkArEENANaAikELwHCAM7/iwD4ACr/s//dACX9Gv5R/q39nfzp+hX8s/qN+5389P5R/s7/zv/dAN0A6f9VAKcAzQTCAIYDlgTZ/jv7kvgV/Fb7IPuY+pL4fPp8+qn2mPrT/JL4zvo1/t77kviS+DD8IPsE+zD8Rv9h/zX+h/53/XAAJAJKAcIAPwIvBi8GRAREBJwG+AWsApYETwPiAqEDlgRrA7wD3QUpBC8BHwAJAu0BrAJPA+0BnAGsAhkDlgRPA3sENAOX//T+Ffwl/WH/AwBs/vT+XP18+jv7FfyS/SX9XP1m/N0AwgAvAZEC5P2BAbcB3QAq/9IBzv8fADoAVQD+Amz+w/uS+JL4qfap9pL4cftL/Fb7fPpA/UD9Jf0V/Hz6IPuo+437fPre+4f+AwB8/x8AXP30/i8BtwHzA7wDKQSRB/4HPwceBdIBawNKAZECHgVEBDoFoQN2ApwBdgJrAxQBiwAUAS8BLwEpBDQDYASABikEVQDdACkEPwKcAZf/JAKi/pL4qPvdAIEBpwDtAZwBSgGBAXz/LwG3Aen/+AV1B2UGhgOGA+gEiwVrA8IFPwdaArP/rf1s/mb8nfzD+3z6kviS+Ar9yP1m/On6s/px+4L8gvw1/r7+Nf5R/gr9vv63AQkCOgCsAlUFhgM6BQ4EOgX+By8GtwasB0AJWge3BggHoQMpBDoFsQQOBIYDlgSRAvgAvAOsAu0BtwGBAbwD7QE0A7wD3QUTBhkDFAF8/9IBKQQZA/gAJAJ8/2H/yP0K/Xf9yP0K/SD7Uf6C/Mj93QAkAi8B9P53/Yf+WgK3AfT+RARrAxr+Kv+X/1H+uPx8+qn2kvh8+nz6fPp8+pL4kviS+JL4kviS+JL4qfaS+Hz6MPx8+pL4fPrp+lz9qPt8+tP87/ze+6EDewQDBaEDvAMTBs7/lgSRAnz/Jf3tARkDHwCGAzX+Cv2+/uICOgBlAdIBDgQ0AzoFWgfNBHsENf6hA2AEhgNgBC8BfP/+ApYEiwCi/hQB6f+C/GH/D/9A/a39w/sw/JL96f97BFoCTwMeBXYCHgUZCAMFoQMpBGsD4gLiArj8fPp8+pL47/zZ/uT9Yf9c/cP7Nf7p+nz6s/ps/mz+nfxs/gT7Zvyt/QMAd/1W+2H/FAEvAXz/vAN7BLwDPwcDBe0G+AUvBmUGiwVlBlUFcAUvAUoBcACBAfMDl/9KAXsED/8q/1oCRAQvBi8GrALtAUQErAKLANIBJAIZA80ExwKBAZEC7QEV/Fz9vv4fANP8yP1wAHH7twGRAkb/fP9EBGsDFAHdANIBoQMP/w//cAChAyr/qPvD+8P7yP1W+5L4qfZ8+nz6Gv5G/876fPoE+8P7cfuY+hr+Rv98+u/8SgFG/538+vuH/nH7Kv/+AtgD3QUpBLwDsQTSBuIC2APoBKEDvAO3BnAF2ANwBdgDWgKnAJwB+AAOBJYEDgS3AawCcAUOBNIB+ACxBOgEoQORAnsEpgU0A+n/VQDO/2H/9P4P/wMACv18+kv8Gv7p/90ARv++/t0A+ABA/b7+kv23AbcBzv9lAbcBcACS+Hz6IPuS+JL4fPofAP/9kvh8+pL4fPqS+Kn2zvog+1b7MPxW+5L4Vvt8+pL4kvjO+mb8mPrZ/mz+VQBrAx8A3QVnCsIFPwLHArcGLwboBIsFgAY6BQkChgNwAJwGCQK+/j8ChgN7BP/9PwLdBUoGlgQJAmAE7QbiAoYDewSRAikEdQehA1UAnAEUAfT+fPrv/EoB+AA1/mH/wgBVAFoCRv/O/4YDAwBlAdIBSgG3Aen/cAB8/y8B+AAfAKL+nfxx+3z6fPog+4375P0E+5L4//36+3z6+vt3/Yf+yP1R/q39h/4q/0D9IPu4/Mj9s/rdALcBcAAJAkQEZQY6BRkD0gFVBQMFAwVwBfgF+AWsB90FWgL+ApwBvANlAVUAKQT+Ag4ERAREBGsD0gHtASQCewQeBXYCcAAUAd0AVQCLALcB2AORAs7/Nf41/mz+Rv8UAT8CoQNlARQBov6Y+tn+LwEfADQD+AUDBbcBcAAq//r7nfxW+wT7O/sw/Pr7QP24/N77d/07+3z6fPqC/DD8Nf4P/4f+QP18+kv8Kv8DAED9gvyLAD8C9P6BAeICzQTNBGUBewTCBRkIlgT+At0FPweWBPgAoQMDBaEDiwCLAD8CkQLdAFH+PwIDBVoCdgKRAikEawMDAJf/3QBrA6EDNANrA90Azv9R/t77qPt3/Qr9w/ut/bP/FAF3/Z38kv2t/dn+d/2t/dIBKQQpBEQERATtATX+rf0V/Fb7mPow/Eb/Cv2t/Vz9fPqz+un6IPtx+876fPrp+qj76fq4/Lj86fp8+kv80/x3/e0BdgLNBBkIxwdlBhkIQAlEBKcAzv+LALP/OgBVAPT+CQL+Ag4E8wMkAikEpwCLAKwCKQTSBi8GVQWcBhkI0gZlBloHCAcpBIYDvAN2AjQDZQH0/kv8kvh8+kD9Uf6sAnsEJAd1B/4Cov53/Q//s/8DANIBtwEJAuICSgEa/s76+vuC/J38OgBs/pL4kviN+0v8+vvT/KL+9P7O/3f9Vvt8+pL4qfap9qn2kvgw/Nn+vv6H/rj8vv7Z/s7/RARwBd0FWgfdBYEBzv/p/3AACQLYA08DCQIkAoEBwgDO/77+NAMkB0AJQAm3BugEhgPiAuICTwORAk8DtwH+AkQExwJlAUQEGQgZCKwHlgQ0A2UBh/5W+yD79P4/Ak8DlgShA1oCCQLCAKwC0gasBxMGQAlnChkIxwKBAZEC8wN2Akb/w/uS+BX8fPq/9Kn2v/TV8uvwAe9D6YXjb+Vv5UPpF+0X7QHv6/DV8uvwF+3r8Kn2kvh8+kD9//1m/Hf92f5s/rP/TwNaB0AJQAlACbcGdQdnCrQMZwpACWcKQAnCBWsDWgIOBEAJ2w0pECkQUBEpEAIPtAy0DNsNAg9QEcUUxRR3EtsNtAy0DI0LjQtnCmcKjQvbDUAJwgWLBXUHQAm0DNsNZwpnCmcK3QWcAS8B+AC+/pj6qfYt64XjyN3e297byN3e297byN2x397bCtje27Hfsd+b4W/lWedD6S3rF+0X7QHvv/Rx+3AAoQNwBYAGLwamBRkIQAmsB5EHZwr+B5YEcAV1B2cKtAxQEZ4TnhN3EncSdxJ3Ep4TnhMSFzkYYBkSFykQtAyNC0AJrAcZCBkI/gdaB3AFtwGnAP4CewSGAzQDhgP+At0FGQgZCC8G4gcCD8UUORg5GMUUUBF3EncSxRQ5GIcaORjrFcUUKRBACZEHQAlACZEH8wOS+FnnCth4ztHG58SkykzSCtj02fTZCtgK2CDWNtQg1vTZyN2b4W/lb+Vv5S3r1fK/9Kn2kvhW+87/AwWLBTQD+AVnCrQMjQt1B1UF6AToBMIFGQhnCrQM2w0CDwIPtAyNC7QMtAy0DNsNKRApEAIPtAxACd0FsQQZCGcKQAlACY0LtAy0DGcKxwfSBmcKAg93ElARKRApEJ4TYBmuG9Uc1RyuGzkYxRSeE3cSnhMSF/wdviMMJpci/B2HGjkYnhN3Ep4TZwqp9oXjNtTRxj+9VbspvxPB/cKkymLQeM6OzKTKeM5M0vTZm+GF42/lF+2/9NXy6/DV8qn2fPp8+pL4fPp8+pL4qfaS+JL4fPo1/scCTwNwACr/6f8pBGcKUBESFxIXORhgGRIXnhN3Ep4TdxIpENsNjQuNC0AJnAZVBaYFQAlACc0E3QAq/1H+kQJACdsNAg+NC0AJZwq0DAIPKRBQEcUU6xVgGWAZEhfFFBIXhxrVHEkgDCYzJwwmlyJJIIcadxICD2cKAwXe++vwm+Eg1o7M/cI/vT+958SkymLQTNI21CDWCtgK2N7bb+Ut6xftAe/V8r/0v/SS+Dv7jftW+xX8Zvze+3z6v/S/9LP6LwFPAzQDAwD//UD9Yf9rAxkItAwpEJ4T6xXrFXcSdxJQEVARxRQSFzkY6xXFFHcSUBGeE54TUBGNCx4FgQHtAeICVQXHB5wGLwYZCLQM2w1ACRkIjQt3EhIXYBlgGYcaORjrFcUU6xUSF+sVORiHGtUc1RzVHDkYKRCNC6wHZQZlBqYF7QGS+EPp3ts21GLQjszRxtHGusi6yI7MeM54zo7MYtA21ArY3tux35vhheMt69XykvhW+7P6qfbV8uvwv/R8+rP/SgE6AMIATwOhAxQBUf41/i8BTwMIB2cKtAyNC7QMUBESF9UcSSCXIr4jlyJwIfwdrhs5GHcSAg/bDbQMZwqcBoYDKv81/joAvANgBC8G/gckB8cHQAlnCmcKjQspEOsV6xXFFHcSdxKeE+sVEhcSFxIXnhMpELQMjQuNCwIPKRApEGcKpgVwAEv8kviS+NXyQ+mb4bHf3ttM0qTKusikynjOINYK2ArYNtQg1grY9Nne28jd3tv02d7byN2F44Xjb+WF42/lQ+nr8Kn2fPp8+pL43vvtAe0GxwfiB0AJKRB3Ep4TEhc5GIca/B2XIuUkcCGuG2AZ6xV3EikQdxISF2AZORh3EgIPtAxnCtsN2w20DLQMAg8CD7QMjQtnCrQMAg93EsUUxRTFFJ4TxRTFFJ4TnhOeE54TAg9ACfgFVQV7BMIFEwY/B0AJjQu0DI0L/gckBxkIjQu0DEAJRATO/+n6v/Tr8C3rWedZ50PpWedv5bHfCthM0o7MpMqkyo7MjsykyqTKusjRxo7MNtQK2PTZyN2F41nnLesX7evwv/TI/fMDGQgZCBkIxweNCykQdxLrFTkYYBnrFesVEhcSFxIXhxr8HdUchxpgGYcaYBkSF8UUEhfVHCMfSSDVHGAZEhc5GGAZhxquG9Uc/B3VHK4bORjrFSkQtAxACUAJxwdEBBkDLwG4/Hz6S/wUAZYE2APtAeICAwX+B0AJGQgZCGcK2w0pEAIPtAxACYAGTwPHAt0Ajfu/9BftWeex3/TZINY21GLQjszRxv3CE8Epvz+9VbtVuym//cLnxOfE/cLnxI7MINbI3YXjWecB77/0kvhc/XAANAPHB40LKRB3EusVORiHGoca1RxwIQwmgSmBKacqpyrOKxwuajCRMWowQy9qMGowHC5aKOUk5SQzJ4EpgSnlJPwdEhdQEbQMZwoZCD8HtwZgBMIArf1x+876IPtx+6j77/zZ/sIAYf98+pL40/z+AuIHQAlnCkAJQAlACdIGYASz//r7kviS+L/06/At61nnm+H02TbUYtB4zrrI/cI/vVW7VbspvxPBKb8/vSm//cLRxqTKYtAK2MjdWecB77/01fLV8qn26fps/tIBdQfbDVARnhPrFTkY1RxwIQwmgSmnKhwukTG4MkMvQy9qMJExkTGRMWowziuBKacqziscLs4rMyflJEkghxqeEwIP2w0pECkQKRACD7QMQAn4BVoCl/+BAXAFPwc6BZYE2ANPA2sDcAUkB8IFkQeNC1ARUBHbDUAJoQNG//r7fPqp9r/0Ae9Z55vh3ts21HjOpMq6yP3CE8Epvym/VbtVuz+9Kb8Twf3C58T9wtHGeM702YXjQ+kX7evw6/DV8r/0kviC/GUBCAdnCtsNdxLFFDkYhxquGyMflyIMJjMnDCblJL4jDCZaKKcqpyqBKacqzivOK4EpWigMJuUkviOXInAh/B05GMUUdxJ3EncSdxJ3ElARtAxACRkIWgckB6wHQAkZCEAJjQuNC2cKQAlnCrQMKRBQESkQtAxACXYCZvyp9uvwF+0t60PphePI3SDWYtC6yOfE/cL9wim/P71Vu4G3l7WXtWu5Vbs/vT+9E8HRxo7MINbe25vhWecX7evw1fK/9JL4MPwUAS8GjQspEJ4TxRTrFWAZrhv8HUkglyLlJAwmMyeBKacqpyqnKs4rQy+RMd8zuDJDL6cqDCa+I+Uk5STlJJciIx+HGhIXxRR3ElARUBGeE54TUBEpECkQAg8CDykQnhPFFOsVxRRQESkQUBGeE54TnhNQEdsNQAmcBj8Czvrr8C3rWedv5W/lhePI3SDWTNKOzNHG/cITwT+9a7mBt5e1l7WXtYG3Vbs/vRPB0cakyo7MYtA21N7bheND6S3rF+0B79XyqfbO+lUANANACQIPnhM5GIca1Rz8HUkg5SSBKfUsQy9qMEMvQy/1LEMvuDLfM5ExHC6nKjMn5SSXInAhIx8jHyMf/B1gGcUUnhN3EsUUORjVHPwdrhtgGTkYEhfrFesVORgSF+sVxRTFFMUUdxIpELQMjQtnCmcKGQjzA87/kvi/9AHvLetv5Zvhsd+x38jdCtg21I7MusjnxBPBE8Epvz+9VbtVu1W7Kb/9wufE58TnxP3C/cLRxnjONtQK2LHfb+VD6S3rF+3r8L/0fPplARkI2w13EhIXhxr8HXAh5SQzJ6cqzivOKxwuQy9qMJExkTFDL/UsziunKjMnSSDVHCMfcCGXIpcicCH8HdUcrhuuG64brhv8HfwdIx/VHGAZ6xWeE3cSdxLFFBIXYBlgGesVUBG0DI0LjQtACToFPwLCAFUA2f58+r/0Ae8t60PpWedZ54XjyN302SDWNtR4zo7MusjnxBPBKb8/vT+9P70pvz+9VbtVuz+9P70/vSm/ush4ziDWyN2b4YXjb+Ut69Xykvj0/nAFjQtQEesVYBn8HXAh5SQMJloopyocLpExkTFDLxwuHC5DL2owQy/OK1oo5SS+I5civiOXIpci5SQMJpci/B2uG2AZYBmHGtUc/B3VHK4bhxpgGTkYhxrVHNUc1Rw5GMUUdxIpELQMZwoZCEAJZwpACe0GdgKz/538mPqS+NXy6/AB7wHvLetD6YXjyN0K2EzSjsy6yNHG/cITwT+9a7lruWu5a7mBt5e1rbOts4G3Kb/nxLrIeM421PTZsd+F40PpAe+p9vT+SgZnCtsNUBHFFDkY1RyXIoEpajC4MrgyuDK4MrgyajAcLhwuzivOK6cqWii+IyMfIx8jH3AhcCGXIiMf/B3VHNUc1RzVHPwdSSBJIPwd1RzVHPwd1RyHGmAZYBk5GOsVdxICD40LQAmNC40LZwqRBy8G3QWxBJwBS/yS+L/0v/TV8uvwF+1D6YXjyN0K2EzSYtCOzLrI58QTwT+9a7lruYG3gbets8OxrbOts62zgbc/vdHGeM4g1vTZ3tux32/lLevr8JL4gQEkB40LUBESF/wdlyJaKPUsajCRMbgykTFqMBwupyqBKacq9SynKjMn5SSXIkkgSSBJIHAhcCGXIr4jlyIjH/wd1RzVHCMfcCHlJL4jviNwISMfrhuuG/wdIx/VHIcaORjFFHcSKRDbDY0LZwpACUAJQAnSBrcBS/yS+JL4v/TV8uvwF+1D6YXjsd/e2wrYNtRi0I7Musj9wim/a7mXta2zrbOts8Oxw7HDscOxl7VVu+fEpMpi0PTZyN2F41nnAe+/9MP7WgJACSkQEhfVHHAh5SQzJ1oogSmnKoEpMyflJL4jviPlJOUkviOXInAhcCFJIK4bhxquGyMfcCG+IwwmDCaXIiMfIx9JIL4j5SRaKFooWigzJ74jlyJJIPwd1RyuG4caORjFFAIPZwqNC40LjQuNC40LQAnSBg4El//p+pL4v/TV8tXy6/AX7UPpb+Wx3wrYNtRM0njO0cYTwVW7rbPDsdmv2a/wrfCt2a/Dsa2za7kTwefEjsw21N7bheNZ5y3rAe+/9MP7oQNACQIPnhPrFTkYhxrVHPwdSSBwIXAhcCFwIUkg/B2uG4carhvVHPwdIx/8HdUcrhv8HXAhviPlJOUk5STlJOUk5SQMJloopyqnKvUszitaKOUklyJwIfwd1RyuG2AZEhd3EikQAg8CD9sNtAzbDQIP2w20DEoGLwGC/JL4kviS+Hz6qfbV8i3rheP02UzSjszRxv3CP72Bt62z2a/wrQasBqzwrdmvrbOXtWu5P739wrrITNL02bHfheNv5S3r6/Cp9kD9GQNACSkQxRQ5GIcahxqHGq4b/B0jH3AhlyJwISMf/B38Hfwd/B0jH0kgSSBwIZci5STlJOUkDCZaKKcq9Sz1LKcqziv1LEMvQy9DL0Mv9SxaKOUklyKXInAhSSBJICMf/B2uG4caORjFFHcSdxJ3ElARAg9nCnsEh/6z+pL4v/TV8gHvQ+mb4d7bTNKkyufEKb8/vWu5l7Wts8Ox8K0cqgasHKrwrcOxl7VruVW7Kb/Rxo7MTNL02bHfWecX7dXyqfao+/gAEwbbDZ4TYBmuG64brhuuG64brhvVHNUcrhvVHNUcrhvVHK4bhxrVHCMfcCGXInAhSSAjH/wdcCG+I+UkDCYzJ1ooMyczJwwm5SS+I+Uk5SS+I5cicCFJIPwd/B38HSMfSSBJIPwd1RyHGhIXnhNQEdsNZwpaB3sEzv98+r/06/AX7W/lsd8K2EzSusj9wj+9gbeXta2zrbPZrwasHKoyqByq8K2ts2u5Kb/nxI7MTNIg1vTZyN2F4y3r1fKS+L7+/gIZCLQMUBESF4ca1RzVHPwd1RzVHNUcrhvVHCMfSSBwIUkg/B2HGmAZrhsjHyMfIx/8Hfwd/B3VHNUc1RwjH5ciDCYzJ1ooMye+I74jviMzJzMnWiinKqcqgSlaKAwm5STlJOUkviMjH64bEhfFFCkQ2w20DLQMQAm8A0b/kvjr8EPphePI3SDWTNKOzNHGKb9rucOx8K0cqhyqHKoyqAas8K3Zr62zl7VVu/3CjsxM0grY9NnI3YXjLevV8nz6s/8TBrQMUBGeE+sVYBmHGtUcIx9JICMf1RyHGjkYYBmHGocahxpgGTkYORgSFxIX6xXrFRIXYBmuG9UcIx8jHyMfcCHlJAwmWihaKIEppyrOK84rziv1LBwuHC71LPUszitaKAwmcCHVHIcahxqHGq4bYBmeE7QMcAXtAY37v/QB70Ppm+EK2EzSpMrRxhPBKb9Vu4G3rbPZrwasBqzZr62zl7VruT+9E8ETwdHGeM421PTZyN1v5S3rAe+/9JL4Yf+xBI0LdxI5GIcaEhfrFRIXORhgGTkYORhgGa4bYBkSF+sVnhNQEVARUBGeE+sVEhcSFxIX6xUSF2AZrhv8HUkglyIMJoEpQy+RMSw2yDo9Pj0+Fj3IOno4LDanKjkYQAlVAKn2WefI3d7byN2b4VnnAe8B7y3rWedZ52/lsd/I3cjdm+Et69Xyv/S/9L/0v/TV8gHvAe8X7UPpb+Vv5UPpWeeF42/lb+WF47Hf9Nn02d7bsd9Z5xftv/SS/f4CzQQpBO0Bzv/k/dP8Uf41/uT9h/5c/ZL4v/QB7xftLetD6UPpF+3r8NXyqfZR/iQHKRA5GNUccCG+Iwwm5SQzJxwuLDYWPSZFwUkPTOhKwUnoSnRH/0M9Pj0+ejjlJGcKv/RD6cjdNtSOzGLQ9NlZ59XyfPqC/Hz6kviS+Kn26/At61nnLesB77/0qfbV8uvwF+1Z54Xjsd/I3d7b3tub4S3rAe8t6y3rF+0B7xftF+3r8L/0kvit/XAA7QEkAkQE8wMvAWb8qfbr8EPpb+WF44Xjb+Ut6wHv6/Dr8NXy1fLV8qn2Jf1gBEAJtAwCD+sVYBn8HXAh5SSBKfUs9SwcLrgyejgWPYpAJkV0R5tIwUmbSCZFFj31LMUUUf7r8IXjCthM0grYsd9Z5y3r6/Cp9r/0v/TV8gHvQ+mF44XjQ+kX7RftF+0X7RftF+1Z54Xjb+VD6QHv6/Dr8NXy6/At6xft1fK/9AHvF+2/9Hz6XP3Z/loCkQdACWcKxwdKAZL4v/Tr8AHv6/AB7wHv6/C/9Kn2v/TV8tXyqfb6+77+ewSNCwIPUBGeE2AZEhfrFcUUhxojH74jDCaBKRwukTEFNd8zQy+nKjMnMyeXIp4TAwC/9BfthePI3d7bsd9v5evwkvjI/cP7fPqz/3z/mPq/9NXy1fKp9pL46fq/9AHvQ+lD6S3rLesB7+vwqfZ8+nf9rf1KAWsD8wOmBUAJZwo/B3sEPwdnCo0LQAlACUAJvAM1/qn26/BD6W/lm+Gx35vhm+Gb4W/lQ+lZ51nnLevr8Kn2vv5lBrQMUBHFFMUUxRQSF64b/B0jH74j5SSXIkkgviNaKFooDCYMJvwdjQu/9Fnnm+EK2GLQNtSF4wHvqfbO/90FGQixBE8DCQJG/3z6+vui/oEBnAHHAmH/7/yp9hftWedv5Rft6/Cp9pL4VQA6BfgFQAniB+gEawNnClAR6xU5GPwdSSDlJJcicCE5GCkQdQcfAJL46/AB7xftF+0t6xftLetD6VnnheOx37HfWefr8Kn2yP0vBkAJtAy0DAIPAg+eE9UcDCbOK1oolyJJIEkglyKeE3z6sd8g1jbU0cYTwf3CINaF47/0iwApBIf+s/o6AKcAkvi/9Ev8ZwrFFJ4TnhMCD7QM3QUw/NXyF+0B7+vwv/SS+Hf9ov6LAPgFdQc0A2z+TwPiBxkIZwqeE/wdSSBJIJci1RyeE0AJGQg0A3z6O/s1/msDLwE/Ag//s/q/9L/0v/QB7wHv6/CS+JL4yP2LAEAJAg93ElARnhPrFcUUdxIpEHcSEheuG7QM1fIK2EzSpMopv1W7/cIg1m/l1fLZ/v4CNf6S/YEBvAOS+NXyv/Q0A9sNdxKeE3cSUBECDwMFkvjV8uvw6/Dr8M76RATbDQIPKRApENsNQAk6BfMDnAa0DMUU1RwjH/wdYBkSF9sNLwaS/ZL41fLr8NXy1fKS+LP6VQAw/AT7fPqS+Kn2qfb//RkIdxJgGdUccCEzJ4EpDCa+I+UkviNgGesVnhM6BUPpYtDRxj+92a9Ippe1E8GOzPTZLeup9pL4yP0DBYAGrALYA3AFGQhnCsUUhxo5GHcSKRBACdn+qfa/9OvwWedZ5+vwMPx8+pL46fpR/pL9uPzSAf4HGQi0DMUU/B1wIfwdYBk5GK4bnhNACQkCkv0a/t77Yf+X/6L+IPu/9NXyAe8B7xft1fIV/AMF2w3FFPwd5STOK0MvuDIFNWowQy8MJncSqfZZ54XjTNITwYG3E8GkyjbUCtib4YXjWecX7b/0kvi/9JL4D/9nCtsNUBF3Eocarhs5GAIPQAniB+gErALv/Cr/bP4q/2b8rf2o+3z6kvjO+kb/rAL4BXUHtAxQEcUUnhMSF3cS2w2cBhMGSgbHAir/Nf6hA2sDAwDp+pL4kvjV8uvwv/Qg+8IACQLoBNsNYBnVHNUc/B2+IzMnDCY5GNgDAe9v5bHfTNLRxhPB0cZ4zvTZm+GF44Xjb+Xr8Kn21fK/9Hz6DgRACdsNAg9QERIXrhsSF9sNnAZlBvgFOgBVAPgAVQXSAWsDlgQP/3z6qfbO+nz6bP4vBmcKAg93EhIXhxoSF+sVUBEpELQMtAy0DLQMtAzbDbQMLwYvAd77kvgB7xftAe+p9pL40/zNBI0LUBHFFBIXhxpwIcUUxwIX7UPpm+FM0qTKYtD02fTZheMt6wHvWedD6QHvAe8t6wHvkvjtAUAJAg8pELQMAg9QEZ4T2w1nCrQMQAniB0AJAg/bDWcKtAwCD7QMDgTCANIBxwJwBRkI2w0pECkQAg+NC40LZwoIB8cC8wOsB9IGkQL+Ao0LQAmGA4EBsQRgBJL9qPuz//4CrAdACSkQdxLrFesVEhc5GBkIv/TI3fTZeM79wmu5Kb+6yHjONtTe24XjheOF42/lQ+lD6S3r6/BwAI0LdxLFFDkYYBnFFFARKRB3EikQ2w2NCykQAg/bDYAGHgWcBj8HlgRVAAMAh/5PA1UFjQspEOsV6xXrFcUUnhNQEdsNAg9QERIXEhfVHGAZORh3EikQtAyRAkD9fPr//Ub/0gEDBUoGZwpACdsNZwqC/C3r3tsK2I7M/cIpv7rINtT02ZvhWedD6UPpWect6y3rF+3V8pL4ZQGcBkAJtAzbDVARjQuNC0AJZwpnCnAFdQcZCCkQtAwCD2cKGQgZA1UAgQFPAxkItAxQEcUUrhvVHK4bxRTFFHcSKRCNC7QMKRApEFARnhM5GMUUtAzHBwgHewR3/Uv8NANACQIPdxKHGmAZrhvFFC8BAe+F47HfeM7nxOfEjsxi0HjONtQg1jbUINbe27HfyN2F4xftqfbtAY0LUBHFFGAZ1RzrFQIP2w2eEzkYORiuG9UcIx+uGzkYxRRnCkoBs/p8+nz6kviS+Kj7CQJaB2cK2w3bDVoHRAR2AmUG+AVACSkQORj8HYcahxo5GMUUjQtlBt0FkQdACY0LdxJQEXcStAxVABft9Nl4zv3Cl7XZr62za7kpv7rITNJi0GLQTNIK2CDWCtix3xftkvhwBcUU/B1wIXAhlyIjHzkYnhNgGdUc/B3VHJciDCa+I0kghxrFFBkIzv/e++/8kv2nAEAJUBHFFBIXEhcSF8UUUBECDykQEhfVHHAhcCEMJgwmcCGHGsUUKRBACQMFHgVACY0LjQvbDdIGfPpD6d7bTNITwYG3w7GBt1W7/cKOzDbUNtRM0jbUTNJM0kzS9Nlv5dXyJf3CBY0LnhMSF+sVUBEpEOsVORiHGq4bviPOK6cqziuBKeUkYBmNCzoFHwDCAJf/KQS0DJ4TEhfrFesVnhNQEbQMtAwCD54T6xWHGnAhDCYzJwwmviP8HYca6xXFFJ4TKRCeE54TtAyd/NXyQ+ne26TKKb9Vu2u5Vbs/vRPBE8H9wv3CE8E/vSm/E8HnxGLQyN1D6evwcfvHAo0LtAwpEHcSxRQSF2AZcCEzJ4Ep9Sz1LPUs5SSHGp4TQAkeBWH/hgMkB0AJZwpnCrQMjQtACS8GJAe0DAIPUBHrFa4b5SS+IzMnMyfOK6cqviO+I+UkWii+I64bnhNnCuIC1fKF4/TZTNKkyufE/cITwVW7VbtVu1W7a7lruVW7Kb+kyjbUyN1v5QHvkviH/kQEZwqeE64bIx++I1ooHC6RMWowQy/1LDMnSSBgGSkQLwbp/8j9vv7Z/gMAOgDCACr/2f7Z/joAawM/B2cKKRA5GNUc/B1JIFoo9SxDL0MvkTFDL2ow9SzlJBIXQAk/Aqn2Wefe2wrYTNKOzNHG/cIpv4G3l7Wts8Ox8K3DsWu50cZ4zvTZb+UB75L4Ffx8/y8GAg8SF/wd5ST1LLgyLDaRMfUsMye+I/wd6xUpEI0LGQgDBUQEsQTiAgMA2f4K/e/86fqC/C8B7QaNCykQYBkjH5cilyIzJ84rHC6RMd8zuDKRMacqSSCeE0AJFAHV8lnnsd+x3wrYeM7RxhPBP72Bt62z2a/Zr8Oxgbc/vdHGeM4K2LHfQ+nV8r/0zvpwAJEHAg/rFfwd5SSnKhwupypaKOUkcCHVHDkYORh3EikQKRDbDbQMZwqNC2cKrAecBhkItAyNC7QMKRDFFIcarhvVHPwdlyLlJAwmgSn1LBwuHC4zJ/wdnhO0DJECqfYB70PpWeeb4d7bNtR4ztHGE8FVu2u5gbdruT+9/cKkynjOYtAg1t7bsd9Z5xftqfbZ/kAJUBE5GEkg5SQzJ74jviNJINUcYBk5GDkYEhcSF8UUdxICD40LrAdgBMcCKQShA1UF3QWABpwGZwoCD1AR6xWHGkkg5SRaKM4rHC5qMGowWigjHzkYxRRnCjoAfPqS+L/0F+1v5cjdINaOzOfEP71ruVW7Vbs/vRPB58S6yKTKeM4g1sjdheMt66n26f/SBtsNxRSHGpci5SQMJgwmDCblJEkg/B3VHIcaEhfFFHcStAwvBnAAgvwg+8P7S/z//VUA/gKWBO0GjQsCD54TYBkjH74jMyeBKRwuajC4MpExWigjH4caxRRnCj8CS/yp9gHvWeex3yDWeM66yP3CKb8/vSm/E8HnxLrIpMpi0DbU9Nmx31nnF+2p9un/GQgCDykQ6xXVHCMf1RyuG9Uc/B1gGZ4T2w20DGcKQAndBccCLwFR/gT7fPoE+7j8Kv+z/2sDGQiNCwIPUBGeE2AZrhtJIL4jDCaBKYEpgSkMJuUk/B3rFdsN0gZKAbP6v/QX7UPphePI3QrYTNKOzLrIusi6yLrIusiOzGLQNtQg1vTZyN2F40PpAe+S+A//lgRnCikQnhM5GGAZYBlgGYcarhs5GOsVnhN3EgIPtAyNC0AJkQeLBegEOgXCBUAJQAlACUAJjQvbDQIPUBHrFWAZ1RyXIr4jlyIjH9UchxqHGocaYBlgGesVtAxKBu0BJf2/9C3rQ+lZ51nnm+HI3fTZ9NkK2CDWINYg1iDWCtj02d7bsd+b4VnnLesB7+vwv/Qw/PgAOgWcBkAJAg93Ep4TdxKeE3cSdxICD7QMtAwCDykQAg/bDY0LjQu0DNsNtAy0DLQMAg8pEFARAg9QEcUUEhdgGWAZEhcSFzkYYBk5GBIXEhc5GBIXdxIpEGcK/gKC/Fb7fPrr8BftQ+kt65vh3tv02QrYCtgg1iDWINYg1grY9NkK2ArY3ttv5S3rAe/V8qn2kvio+w//0gEOBJEHtAxQESkQjQuNC2cKjQtnCo0LtAzbDdsNZwpACUAJQAmNCykQKRACDwIPUBEpENsNjQvbDXcS6xXrFRIXORg5GGAZYBlgGWAZYBk5GOsVdxIpENsN2w3HB6wCUf6S+L/06/AX7Vnnb+WF45vhsd+x38jdyN2b4Zvhsd+b4YXjWedD6UPpLesB77/0qfap9nz6gvxlAVoCSgFG/1oCWgcZCC8GLwZVBegEKQRrA6EDYARACY0LjQtnChkILwZnCtsNjQuNCykQdxJQESkQnhPFFHcSORhgGesVdxJ3EncSnhPbDWcKQAkZCJEHwgVh/+T9SgHZ/rj8v/Tr8AHv6/Dr8AHvAe8t6y3rQ+lD6W/lb+VD6RftQ+lD6UPpLest6y3rF+0X7evw1fKp9qn2v/Sp9t777/wfAFoCDgTHAosFdQfzAxQB+AVnCkAJtAyNC0AJZwrbDbQMAg93EsUUnhMCD54TxRR3EikQ6xVgGVARAg/bDQIPZwoZCI0L2w1nCnAFZwpACVUAJf3SAYEBzv9m/HH7fP98+tXyAe/V8qn21fIB7wHvAe9D6UPpQ+lZ5xftv/QB7+vwkvip9hftF+2p9pL4kvhW+639vv5wAHf9yP2H/pECWgdaAkQEPwfzAy8GiwUeBWcKZwqcBloCtAzbDccC3QUpECkQ4gJPA9sNxRQCD1ARnhPbDUAJ2w0CD8IFAg+0DO0G2w20DGb8AwBnCj8CVvup9qn2qfap9pL4qfZv5RftkvjV8hftQ+mp9rP6F+1Z55L4Yf/V8r/0TwP4AOvwAe8V/Fz9qfap9qcAtAyN+6n2l/9EBMj9iwCNCy8G+AUvAVARKRCz+rQMrhsSF80EZwo5GGcKyP1QEfwdZwqNC2cKAg9nCnsEGQhQEQIPfPpACcIFh/6RAo0Lw/s1/ggHqfa/9Eb/SgZ8+r/0qfYl/QHvAe+H/scCqfYt69XyAe8t65L4kviS+Ovw6/Bx+xftLev6+87/Ae+S+JL41fKp9rj8h/6o+yQHlgSz/9P8ZwpgBKn2QAkZCE8DWgIpEGsDNAMSF/4CVvuRBzkYtwaN+wIPZwqX/9sN6xVACdgDUBECD8j9ZQFnCtIBzQSNC5ECgvyLBUAJkviS+FUFyP0X7bj8wgCp9nz6kviS+NXyAe8B79Xyv/RD6UPpfPrr8L/0kvip9r/0Leu/9AMF1fIX7d0AjQvV8hftUBFW+yD7ORgvBlnnTwN3Ei3rgQHbDcj9v/RW+1ARv/RnCmAZewShAzkYjQup9mAZEwaRAusVZwpACWcKjQu0DOIHWgI5GGAZ1fLI/TkYfPq/9FARnhOp9qn2UBGS+NXyAg/D+wHvZwqS+BftGQh8/wHvzQQCD1nnqfbCBUPpF+1R/nz6v/S8A0b/1fLk/a39LeunAOgEQ+mS+AIPheMt654TqfZ8+nYCiwXV8pL4QAkB7wIPtAxD6WUGxRSS+NgDhxp8+t0A6xU6ADv7tAwpENn+cABQEVUA2f7CBZL4QAmeE9XybP7lJAHvqfYjH2sDv/TiB2cKWecq/wIPF+2/9NsNVQC/9E8DBPuS+I0LhgMw/GcKiwAB74AGtAyS+L/06xVKAYXjxwJACen6nAGp9pwBawMX7ccCUBGp9oXj1RyNCy3rbP6NC3z/qfaNCz8C3vsDAHz60gFnCgr9cAAZCNsN1fJs/sUUqfa/9MUUtAwt60AJGQiS+Hz6qfZaB2cKFfx8+ikQ1fIX7WAZnAEB7ykQQAkt60AJjQvr8P4HGQMX7TkYxwIt6wkCxwK+/kPpLwbbDS3r1fIpEL/06/AOBFAR6/BD6TMnQ+mp9nAhLes0A/4CjfuNC77+qfYpBBIXAe9gBMUU1fLrFQ4Ev/QpEBkIv/SS+IcatAwg1ocaxRSx3+0BEhfT/G/lhxrbDS3r1fIpEFH+6/A/B7QMvv7iAr7+1fKeExkI1fLCAKcAS/yp9sIFFfwg+z8HqfahAwHv6/CcBqj7Wec6BRkIWecDBWb8YARVAKn26xWp9nz62w2p9pL4UBFKAUPpGQhnCtXyfPqeEyX9Gv7tBrEEv/RQEZYEF+2HGun/vAM0A8UUZwrr8J4TJAd8+lARfPqGA2AZv/T4BSkQ1fIvASkQw/uGA80ED/+mBan29P4pBAHvxRQg+y3rYBnr8L/0MPxnCi3rXP1ACbHf6xUB77/0jQsB7+gE4gLr8IL8dgIB79779P4X7QMFGQgX7WcKtwEX7WAZqfa/9BIXYf/r8LQMwgBW+wIPCQLv/K39UBGcAZL4xRTT/Kn2dxJ8+hMGPwez+tsNlgQB72AZ2w0X7QIPUBF8/5L4KRAE+9gDv/TbDQgHAe/FFOIH1fJEBOIHb+VgGToA6/DVHOvwwgCt/bj8UBFv5YAG2w2b4dsNS/zr8DkYWefNBEAJ6/DI/ccCnAHr8AIPMPyz+ikQLeuLBSQHqfZ3EpL41fISFy3rYASeEwrYdxJ3Em/ls/8pENXyKRBnCi3rzist65L4Wije2zkYQAkt64caUf7r8NUcfPq/9GAZF+1nCkAJv/RnCt0Fv/R1B1AR6/AvAdsNv/SnAHcSO/uS+Hz6twEZCG/ljQv6+9XytAwX7UAJLwbV8kAJwgDV8o0LF+3SBgIPm+FnCkAJF+20DDv7Q+kTBmUBw/twBZL97/ycBkAJF+2d/K4bm+EZCK4bqfbSBoL8YASS+EPpDCZZ57/0KRDr8CX9ZvzNBNXydxK/9NXyUBFA/W/ljQv+B0v8NAONC3H7l//O+gHv/B0B71oCfPog+5EHv/ShA0b/l/8P/0AJ6f9nCuvwAwX4BdXyhxoX7WUGZQap9joFiwCS+Hz6QAkX7aj7wgC/9McHkviBAQgHewSsAr/06xVD6cUUnAHr8DkYQ+mhA6wHIPts/pwGF+1ACWsDv/R3EpL4qfbFFCX9kQIpEN0AtAyp9hIXv/Ql/dsNAe/FFC3rLwY0A7/0pgWxBNn+fP+uGy3rQAkDBdXyviPV8v4HtAyNC6n2kQeeE4XjwgVPAyD7IPs5GBft4gIpENXyAg+S+GcK2w0B78UUQAmp9usVQAlc/QkCxRR8+pL4nhMX7cIFiwWS+BIX1fJACY0LkvjNBEAJAe+0DAIPWee0DKn22w0q/6n2rhup9mH/GQid/NXyZwrzA7/0jQuS+GsD6fqS+FUFcAUX7Q//jQsX7dIGkviC/BkIAe+4/N0ALeuLBUb/6/DdABkI6/CS/cUUWec0A7QMF+2S+NsNkvhv5TkYqfbV8hkIqfbrFS3rEwai/hftjQt8+s7/qfbrFRft2w2eE1nn6xWt/RftEhcl/Sr/Ag/O+kAJqfZc/an2jQup9pj6jQvr8JwBNAPr8FUAS/yS+FARQ+nCBVH+6/ATBqn2fPqmBZL4fPrbDb/0qPvT/IYD7QEg+5L9JAe/9Hz6Zwot6wMFl/87+2cK1fLV8mz++AXV8rwDGQgX7QIPv/T6+z8HMPzNBE8DQAl8+iQHF+2eE6wCAe+eE7/0tAyp9lAR1fK/9HcS1fJEBOICKv8V/NsNO/ucBmUBQAlACRr+7QZnCvr7kvjFFL/0qfZ3Eof+qfaNC3f96/DbDXz6Gv5nCtXyCQKp9joAs/8V/M76KRCS+OvwlyKb4ZL4nhO+/tIBFAFACdXyZwqS+Jf/CQI/B6YFbP4CDwHvdQcJAj8C/gKo+0AJOgCS+FAR6fr6+yQHGQiN+9XyjQup9kAJLwahA6EDZwokAoL86xUB71oHjQsB7zkY1fKLBbP/bP5QEdXyUBGp9qwCkQfD+0AJD/8g+1AR+AWS+DkY+vvr8HAhkvgB7+sVCAcB77QMZwoB71ARqfZACVUAF+05GNXy6f9nCgHvGQj//aL++ACi/pYE6/CRB4sAzvp8+osFnhMX7dsN4gep9mAEtwbT/BkID/+p9hIX6/Cp9p4Tv/Rh/40Lv/QDBe0BAe+0DFUA6/DFFOvwKQSY+pL4tAzr8GcKkvh1BzD86/ApEHz6dgJL/DoFPwLV8ikQs/p8/1UFCv20DDD85P1nClH+nfxgBLQM6/C0DHAFv/RnCmb8fP/Z/qwH1fJACUb/6/CNC6n2vAOS+CD7SgbV8ikEv/TNBHf9v/RnCqn2fPq8A6n2kQKcAb/0dgLoBNXyFfyNC7/0Yf9wBYYDqfbYA6wCkvj+B3z6sQQq/6n28wMa/tXytAzV8nz6GQgB78IF//1s/kD96f/NBKn2Jf2NC5L4FfwkB3z6jQup9hr+QAnr8C8G0gap9hMGuPze+zQDAwChA437QAlVAJL4nhNW+wr9ZwrO/80EbP7+B5L9OgVs/tn+Wgd3/awCDgSLAOn/0gGBATX+gQF8/wT7YASS+EoGQP0E+xMGQP24/JECiwB8+u0GfPpaAmAE0/zCBbEE6f+cBq39Cv1nCpL4rAIOBIYDqfZnCqL+v/RACan2/ge/9KwHSgEK/SkErALSAXAFGQje+wIPoQNEBB4F2w3I/WcKkQJ7BLQMqfYSF8IA+ABACccHwgCNC2cKKv8pEKYFzQQZCI0LKv8pEDoFawO0DLwDxwe8A2sDGQiLAMIFTwMeBRMGfPoZCDD82AN8+qYFO/ve+6wHqfbHB5L4bP7tBqn2ov5wBfr7awPe+xkINf7v/FoHfPoTBpL9yP2nAFUAZvzCAFH+YAQa/u/87QaC/Gb8pwCRAnz/SgbbDRkDQAnrFVb72w0IB7P62AN8+tn+ov6i/jv7jfsl/Q//s/prA876/gcV/Fz9VQWo+7cBhgNACan2Ag+cBgkCjQu0DDQD+AWcBnz6sQTk/ZL4v/TiAtn+dgJACbQM9P4JAkb/v/R8/wHvvv6p9qn2kviS+JL41fJL/JL4Nf5aApwGZQaNC7EE3QUTBkoGrAKmBRX86fqnAAHvGQPV8uvwnfzr8Hz6Cv0E+7cBfPpc/fr7fPpaAq39Zwqo+40LGQiS+EAJ+vseBXUHSgbbDbP/0gGS+NXys/qp9un/LwZ2AsIFoQOi/rP/l/9R/qwCoQN8+mcKSgH0/oEB7QFVBUAJKRDHB3cSnAFnCrcGjQtaAqYFVQXV8kAJ6/A6AHz/kviC/MIAqfZG/8IAfPrHAuvw5P2S+DoFgvynAAMFQP1KBun/iwVaAmcKVQW0DNsNgAaz/5L4kvi/9L/0kvh8+qn2kvip9gHvv/R8+nz6+ABc/f/9zv/tAZf/nAEkAnAFZwoZCFARjQvoBMcCQAkZCGcKGQOS/fgAv/SS+Kn2v/SS+JL4qfaS+L/0kviN+5L43vut/e0BGQjbDUAJtAxnCuIHtAzbDesV2w1ACZ4TjQsZCFoCIPvV8tXykvjV8mb8v/SS+L/06/Cp9qn2twGGAxkIdgIZCO0GZQZACWcKZwrSBgIP2w2NC3UHWgIpBP4HZwqABlUAcADV8qn2v/SS+FH+mPprA4sAUf6S/acA6f8/AiQC2ANgBPMDhgNwABr+fPr4ABkIZwpnCtsNGQgpENsNZwpACSkEzQR8/2cKxwJEBLcB7/xA/ZL40/zp+g//kvh8+pL41fIV/MP70/zHAmH/+AVnCmcKGQgZCGcKAg8SF54TnhP4Ben/kv07+xX8fPoK/ZL4kvjV8gHv1fLr8NXykvh8+qj76fp3/YL8qfZ8+nz6LwZnCmcKQAndBcIFewQZCFoCZvx8+pL4kvip9r/01fLV8tXy1fKp9nz6kviS+CD7qfap9pL4fP/oBMIAPwJR/rEEQAkvBkoGKQQZCI0LjQtACcIAnfx8+iD7Yf8fAA4EPwLCAIf+MPwK/TD8VQADBXUHVQWsArcGiwWLAEb/wgA6BRkIjQsZCAkCDgRwBbcG/gcpBEoBrf2N+3z6kviS+O/8qPt8/7EEAwAfAP/9s/9A/RX8h/52AnsETwNG/977ov7dAPMDVQUDBWAEQAlACRkIrALD+3z6kvj//WUBWgIUASr/HwCz/x8Aov4fADoFcABVAAMA5P1G/4f+7/w1/nYCgAZACQgHawOsAg4EQAkpEGcKGQhrA//9rf0V/IL8Ffx3/TX+pwBA/Xz6+vtW+3H70/y+/scCTwPHAmH/qfYa/k8DCQJ1B40LiwWABkAJGQixBNn+fP/p+gT72f70/iX9fPpW+8j9S/zV8nf9GQid/LP/cAUl/Ub/iwV8/+n/AwWRAvMDOgWcAQMAFAHiB40LQAlACdIBfPrp+t77Ffyz/1UACQI/Amb8fPoK/ZL4fPqnAGH/dgLYA9gDiwCt/bP/CQJgBBkIQAnCBYAGQAm3Bu0GnAaBAbcBrf0DAIEB7/yS+Kn2IPsg+4376f/p/yX90/yC/Hz6Zvw/AjX+xwKsAnz/pgXHAgkCJAIvBo0LtAwpENsNkQIV/JL4Jf3k/Ub/Kv8l/YsAzvo7+3z6fPp8+jv7h/5R/v/9rf0K/an2gvxG//gAEwZACawHDgRVBaYFdQe0DEAJ0gGLAHz/bP7O+gT76fqS+DD8w/sg+8j9fPqp9qj7Cv2S/VUFRAScBhkI6ASxBGUGQAkZCGcKjQuNCwIP2w2LBQ//kvh8+rcBfPp8+joAkvjV8pL4kvip9q39fP+z/8IFzv8l/cIANf4DAJEHZQZwBY0LPwcpBFoHQAniBwIPZwqGAw4EfPpW+5L4qfaS+DD8O/sV/PT+v/TV8tXyAe8B71H+nAE6APgAJAf4BYsAAg91B+gEZwq0DLQMEwa0DBkIpgXdAKn2RATzA876zv+/9NXyqfap9s76kvhx+3z/rf2+/h4FQP3+AnsEcfuNC0AJNAMeBXz6LwboBLwDAg9QEY0L0/ziAv/9qfbD+1z9l/98+nz6Vvt8+nz6kviS+Hz6Cv1ACf4Ckvid/JL9nAE0A7cGGQMZCLQMZQGNC1oCHwACD2UGFfz//XYCfPpL/Jf/6/DV8kD9kvh8+qn21fKp9nz6kvh8+p38Nf5nChkIEwYCDy8GZQFnCrQM2w1QEcUUUBGNCzQDAwCLAOn/nAHYA5L4fPqsApj6Ffx8+nz6Rv9L/LEEGQhm/Fz9OgWhA08DjQtACWcKZwoZCLQMAg8pEBkIKRC0DKYFTwNL/N77jfvr8NXypwC/9JL4NAPr8EPpkvip9hX8MPyp9vgAiwXHAjoAkQJPA7cB4gdnCmcKjQviB4EB6f+S+L/0s/8E+6cAkvgX7an21fLr8Kn2v/S/9Dv77/w1/un/uPyBAVUFawMZCEAJ+AVACbQM8wOcBo0LZwqNC9sN0gYq/zQDov6S+Hz6qfaS+OT9kvgE+6n26/Bc/d777/ziAsIAvv7O+i8BrAJ8/7EETwPtBgIPQAlACY0LoQNEBFUAS/wK/eICMPyp9pL41fK/9Kn2qfbV8mb8fPqp9kv8yP30/pL4Kv/tBo0LZwokAhkIOgWcAXUH0ga0DGcKSgaLBU8DgvwE+zoAFfyS+Hz6kvi+/q39qfbV8pL4+vt8+gMFFAEK/XsEYf9G/6wCpwCLAHsE7QZACdsNZwqNC2cKgAb4BbP/awMOBM7/kvip9nz6fPrCAHH71fKz+iX9kvhc/Z38S/xs/qj7NANaB6L+ov7+AnYClgSNC7QMZwqNC+gEPwKBAXz6JAKxBHz/bP7T/O/8kviY+tXy1fJs/mb8bP4/AuT9fPoq/xr+9P6LBZEChgOcASQHQAnzA0AJtAxnCkAJZwoIB8cCSgGz/zv7mPqz/9P8nfy+/iD7kvgw/Jf/2f7k/Ub/VQBVBWcKkQKS/bwDQAlnCtsNxRSeE1ARdxLbDeIHzQREBDQDh/58+pL4v/TV8gHvWedZ50PpWedD6RftQ+lv5UPpv/SS+JL4gvyH/osA9P68A0AJGQi0DFARnhMpENsNKRC0DGcKZwq0DI0LtAy0DEAJYAS3AdIBxwJACUAJ+AVnCrQMjQu0DGcKGQgZCLQMxRTrFesVhxquGxIXxRQpEEAJQAkUAan2qfbV8uvw6/DV8lnn9NlM0kzSjszRxrrIjswg1sjdWedD6W/lWedD6evww/t2AmcKnhPFFFARAg+0DEAJLwYZCLQMtAxnCrQMjQtaAnz66frD+7/01fK/9L/0Ae/r8L/0IPvZ/lUA7QbbDSkQKRDFFDkYYBkSFzkYhxpgGXcStAxACSkEgQHSASQCZQHO/2z+Kv+X//gAHwBwAE8DQAmNC7QMAg8CD1AREheHGtUclyKnKjMnIx9gGWAZYBlQEY0LLwHV8lnn3tti0BPBVbtruf3CpMqkyo7MeM5M0grYm+FZ5y3rv/Rs/ugEkQdnCrQMtAzbDY0LtAzbDbQMQAlKBrEE3QCS/Wz+ZvyS+Kn2qfa/9Ovwv/S/9Kn2cfvHAqwHZwrbDQIP2w20DFARnhPrFWAZdxICDwIPjQskB9gDRv98+qn2qfap9tXyv/Sp9nz6bP5lAfMDEwbHB2cK2w1QERIX1Rz8Ha4brhsjH3AhviNaKAwmcCFJICMfrhsSF3cSKRCeE64b1RyuGxIXKRCNCxMG/gKnAP4CAwAB7yDW/cJrudmvHKocqq2zE8FM0lnn6/AB7wHvv/R8+r7+FAGnAEoBCAdwBen/zvqp9tXy1fLV8tXy1fKp9qn21fLV8r/0v/Sp9nz6kvjr8OvwkvhKAUAJUBFgGUkgcCGXIkkghxoSF8UUUBECDwIPjQsZCCQHnAZ7BHYCpwAq/2b8S/xR/tIBGQi0DAIPUBHFFGAZ/B38HdUc/B0jH0kgIx9gGZ4T2w1nCkAJEwaxBLwDGQjbDSkQtAz+BxkD6f+t/eT9nAHiAmAEJAftBkoBCv0JAnUHZwoZCKwCrf3e+5L4Wee6yAasiqDimA+V4piKoNmv/cL02S3rkviC/Ev8IPuN+5L4kvhW+7P/8wNgBGAE4gJ2AgMAfPqp9pL4s/9wBT8HGQi0DLQMQAlACY0LQAkkB0AJjQspEMUUhxojH+UkWigMJnAhrhs5GJ4TAg/bDSkQ6xVgGfwdlyLVHMUUKRACD9sNQAmRB40LUBFQESkQZwpACWcKQAnSBugE6AQDBQkC//3p+sP7zv8vAYEBzv86APgFtAxQEcUU6xXrFRIXxRRnCs7/6fqp9r/0v/S/9NXy1fLV8gHvQ+lv5YXjheOF41nnF+0t6wrYa7lepLactpzMml6ka7lM0hftZQY5GNUchxrrFdsNQAniAkD9fPpx+9IBQAlnCo0LQAk6AJL4v/R8+un/JAKsB8UUSSDlJHAh1RzVHK4bORjrFcUUEheuG0kg5SQzJwwmIx9gGXcSZwpaAt77fPqH/vgFjQt3EhIXnhNACWsDGQPSAVH+jfsa/gMFtAwpEHcSAg+NC40LjQu0DCkQUBFnCmAEiwXtBnYCd/1L/Dv7fPrT/B8A3QC3AeICoQPYA5ECBPsB70Ppb+Wx38jdm+Et67/0uPwq/yX9VvuS+NXyAe8B7+vwAe8X7QHv6/CF49HGw7Ecql6kXqTwrf3CCtgB70AJ/B2nKs4rDCaHGp4TUBFnCnYC2AONC1AR6xVgGWAZnhNnCk8D0gH+AnYCLwHYA40LxRSHGocaEhd3EikQtAxACZEHewQZA7cGKRCuG0kg/B05GHcSAg+NC2cKjQtnCrQMxRRgGesV2w1KBs7/O/ve+8P7qfbV8r/0qfap9pj6AwCRAj8CVQUZCJwG/gIDAOT9s/+cBkAJ+AXzA4sF+AV7BBMGGQicBvMDPwL4AA//qfZD6YXjb+VZ52/lb+UX7an2MPy+/t0Azv8a/nf9bP6z/x8As/+4/FUAGQh3EncSs/+F447M0cZVu62zl7X9wiDW6/DbDXAhMyeXIq4b6xUCD2sDqfZD6YXjQ+nV8u/8zQRACY0L2w0CD1AR2w0kB4EB0gZ3EmAZ/B38HTkYAg9ACawCVvvV8uvw6/C/9Gz+QAm0DGcK2w1QEVARtAy0DLQMQAk/B7QMxRTrFXcSKRApEI0LewTI/ZL4s/qS/Sr/lgSNCwIPZwqmBegE2AM/Akv8kviY+kv8IPuo+yr/PwLSBrQMdxLFFMUUnhN3ErQMJAdEBN0AVvup9r/0F+1D6UPpF+3V8pL4zvo7+yD7kvip9r/06/At6y3rAe/V8qn2l//+Ar/0yN1i0KTK58Q/vVW758Q21Fnnov53EtUcIx+HGp4TGQiS+FnnINZM0grYb+XV8hr+CAdnChkIxweNC40LGQiLBSQHAg/rFWAZIx+XInAh1RwSF3cStAxrA8P7QP3+AmcKAg8pEJ4TnhMpEI0LZwqNC2cKZwrbDZ4T6xV3EikQUBHbDWcKZwqNC40LjQuNC40LKRDFFOsVnhOeE3cS2w34Bdn+kvjV8tXyqfaz+v/9twF7BJEHQAkZCAgHtwaRB6YFawOz/1b7kvip9uvwF+0B7+vw1fK/9JL4kvip9qn2qfa/9Ovwb+XI3d7b3tvI3YXjQ+kB77/0qfa4/Hz6WedM0qTKusjRxtHGjsz02S3rvv53Er4jWii+I4caAg+LBaj7Ae9v5W/lF+2p9qcAtAyeE54TKRB3EhIXEhcCD40LKRA5GPwdIx+XIpcilyJJICMfrhvrFbQMKQTYA40LAg+0DHcSYBmHGusVnhPFFJ4TAg+NC9sNKRBnCnYCLwFaAjoFCAdnCtsNnhNQESkQUBF3ElARjQviB3UHZQaH/r/0F+0B7wHvAe8B7+vwAe/r8JL4QP2X/yr/Cv2S+L/06/At64Xjsd+b4W/lQ+kX7an2qPv0/kD9cfuS+Kn21fIX7S3rWeeF44Xjb+Vv5UPp6/Bc/e/8F+3e22LQpMoTwT+9/cIg1kPprf1QEb4jziv1LKcq5SQjHykQFAG/9NXy1fKp9rj8GQhQEesVORiHGoca6xUpEHUHQAnbDVARKRCeE+sVORiHGocarhuHGmAZ6xU5GIcaORh3EncSnhPFFFAR2w20DGcKLwaRAt0FAwWsAiQCJAdnCuIHGQO+/qcAawMpBDQDtwZACY0LQAlnCrQM2w1nCpYEPwIq/538qfbV8uvw1fLV8r/0kviS+Kn26/Dr8NXyv/TV8hftb+Vv5Zvh3tsK2N7bsd+F40Pp6/Cp9pL4kviS+Hz6nfwK/an2Leve20zSjsznxBPBE8G6yCDWWeeS+FoHKRCeEzkYYBkSFykQQAn4AO/8Ffwq/6EDZwpQETkYSSDlJAwmcCH8HTkY6xXrFcUUxRTrFesVdxKeE8UUEhfFFCkQjQtnCnsE6f+d/Hz6l/9ACZ4TYBmXIjMnWigMJr4jSSA5GNsNxwfoBAMA7/xW+6L+oQOcBoAG/gdnCmcKZQY/Av4C8wORAgr9BPt8+nz6qfa/9L/0qfaS+Gz+kQfbDVARAg9nCosFh/6/9Bftb+Wx397b9Nkg1iDWyN2F40PpLevr8AHvLetv5YXjm+Gx34XjWecB77/0Zvz4ALEEl/+/9C3rb+XI3UzSusi6yCDWheO/9OgExRSuG0kgSSBJIGAZ2w0DAJL4qfap9qn2kvjdAGcK6xUjHwwmgSmnKjMnSSDVHIcaEheeE1ARxRQ5GOsV6xUSF54TKRAZCE8DCQK+/qn2v/Sp9mb8rAKRBwIPhxqXIpcilyL8HesVAg/tBv4C3QBR/nz63vvp/08DzQRACY0L2w0CD2cK7QYZA2H/kvi/9Kn2kvjV8uvwAe/V8uvw6/CS+PT+zQQZCBkIQAlaB1UAkvjr8BfthePe2/TZ9Nmx35vhheNZ5xft6/Dr8Ovw1fLr8C3rQ+kX7evwAe9D6W/lm+GF47Hf3tux35vhQ+nr8K39jQtQEesVYBn8HSMfhxp3EmcK+ACp9r/01fK/9Hz6fP9wBVARORiuG4caORhgGfwd1RyHGocahxpgGTkYYBmHGjkYnhNQEVARtAxlBgMAS/x8+gT7zv8vBmcK2w13EusVrhuuGxIX2w0ZCM0E3QDe+5L4fPre+7P/rAcpEMUUORjrFcUUnhMpEEAJwgBm/Hz6kvi/9NXy6/AB7+vwqfZL/Cr/nfwg+0v8kv24/JL4v/S/9L/06/AB7wHvF+0t6xft6/DV8tXyAe8X7RftAe8X7RftLest6y3rLesX7QHvF+1Z54Xjm+HI3fTZINY21ArYm+EX7Xz6LwZ3EmAZIx+XIpci/B2eE0AJiwVrA4EB+AC3AYAGjQspEOsVhxqHGq4bhxquG4ca6xVQEQIPUBF3EsUU6xVgGYca/B0jH0kg1RwSF3cSGQhVAJL4qfbV8pL47/xVBdsNUBHFFMUUxRQpELQMNAOz+tXyLetD6UPpF+3V8pL4wgBnClARxRSeE8UUKRCNC7EEl/+z+r/06/DV8r/0qfap9r/0qfaS+I37mPrO+nz66fqp9tXyAe9D6ZvhyN2x37Hfm+Gb4YXjQ+nV8qn2s/r//ZL9IPt8+t77kvi/9BfthePI3fTZCtg21DbUCtib4S3rv/SS/YAGtAzFFIca1RyHGjkYdxICD7QMjQuNC2cKjQvbDXcSxRQSFzkYYBkSF+sVxRR3EikQtAzbDQIPKRBQEcUUxRTFFOsVEhcSF1AR2w2NC2cK2AP0/iD7kvjO+oEBGQjbDesVhxpwIb4jviMjH+sVZwovAZL41fIB7xftAe+/9BX8nAFwBRkIZwpACRkIGQicBvT+kvi/9L/0kviS+Kn2qfap9pL4kvhW+7j8BPuS+Kn2v/Tr8EPpheOx38jdyN3I3d7b3tve27Hfb+Ut6+vw1fKp9qn2kvjV8hftb+Wx3/TZCtgK2ArYsd9Z5+vwO/uxBI0L2w3bDdsN2w1nCrEEl//v/CD7w/uS/RQBLwZnCikQ6xVgGa4bhxqHGmAZYBkSF8UUnhOeE8UUEhdgGWAZEhfFFJ4T2w1ACbwDpwBs/rP63vut/bP6qfZ8+koBJAeNCwIPUBHrFWAZhxpgGcUUKRCNC2UGtwEa/nz6qfaS+Ar9l/8JAqwCYARVBQgH3QVrA9IBMPyp9r/0qfaS+N77uPzp/8cCYAQDBWAEkQIq/8P7qfaS+L/06/AX7evw1fLr8BftLetD6VnnWedv5UPpQ+kt6y3rWeex3/TZINY21GLQeM5i0CDWm+Et65L48wMCDzkY/B3VHDkYnhONCy8GGv6S+L/01fK/9Ev8PwLiB9sNxRQSFxIX6xWeE54TAg/bDdsNAg9QEcUUORgjH5civiPlJOUklyLVHDkYUBHbDWcKOgWcAdIBSgFG/1H+s/+hAzQDPwI0A2AEAwXHB0AJZwq0DLQMtAy0DLQMZwpaB6wHQAkZCD8HsQS3BkAJ/gfiBz8HAwWz/876kvh8+pL4kviY+kb/nAHdAMj9s/rO+pL4v/Tr8AHv6/DV8r/0qfbp+t77fPqS+Kn21fIB70PpWedZ50PpWedD6W/l3tsg1grYINaOzNHGushi0PTZb+Xr8M7/QAmeE9UccCEjHxIXKRCNCyQHs/+S+Kn2uPyhA2cK2w3rFYcaYBkSFxIX6xVQEY0LGQhnCo0LjQtACdsNnhNgGYcarhv8HdUchxrrFRIX6xV3EmcKQAmNC2cKHgVlAUoByP2Y+pL4zvpx+77+LwFACSkQdxJQEQIPAg+NCxkIFAH//en6fPqS+LP6bP4JApYECAdnCo0LZwpACUAJGQgvBu0BRv+4/Hz6qfa/9L/0v/TV8uvwAe8t6xftF+0X7RftAe8B7wHv6/Dr8AHvAe/r8NXyAe9v5cjd9Nn02UzSjsyOzDbU9Nmx30Pp6/B8+loCZwoCD1ARtAxACbEErAI6AM76kvhc/bEEQAm0DJ4T1RwjHyMfIx8jH9UcORjrFcUUnhNQESkQKRB3ElARnhPrFWAZhxpgGRIXUBECD40LnAasAnYCs//k/Rr+RAQZCOIHQAmNC9sN2w20DI0LtAxnChkItwYZCBMGawPdAD8CcAWLBYYDwgBVANn+yP1m/N77kviS+JL4d/2H/vT+FAEOBCQHJAcTBh4F4gIP/xr+uPyS+Ovw6/Dr8OvwF+0t6y3rF+0X7S3rQ+lZ52/lb+VD6S3rb+X02UzSTNJi0LrI58S6yEzS3ttZ57/0nAFnCp4TrhtJINUcnhNACeICh/6S+NXy1fKS+Lj8h/5aAmcKUBF3EgIPUBHFFHcStAyNCwIPdxJ3EncS6xWHGq4b1RwjHyMf/B05GMUUdxLbDccHRAS8A7wDPwKH/mb8yP18/wr9w/tA/VoCLwb+B2cKUBHrFRIXYBlgGWAZxRRQESkQKRDbDUAJPwcZCJEHpgX4ACr/iwAvAd0ASgFaAtIBHwDp/wMAAwCS/ZL4qfaS+Fb7kvip9r/0fPpx+3z6qfa/9NXy6/AX7UPpQ+mF45vh3tsg1o7M0cbnxD+9a7lVu+fEjsw21LHfAe+S+NIBjQtQEXcSKRACD7QMQAnNBN0AKv+LAGAE0gYZCI0LUBF3EtsNZwqNC40LQAmRB6wHQAlACUAJjQtQEZ4TxRQSF2AZrhuuG4caORiHGjkYdxLbDdsN2w1ACegEZQZACeIHZQYZCEAJQAlnCo0LAg8pELQMQAkZCEAJQAlACRkIQAmNC40LtAzbDQIPtAyNC7QMjQv+B2AETwNgBE8DpwAfAFUAkv18+qn2kvip9tXy6/AB7y3rWedZ51nnWeeF44XjheNv5YXjb+Vv5Zvh9NlM0mLQpMrnxBPB/cK6yDbUsd9D6evwfPr+AkAJtAyNCxkIGQP4AIsAKv8w/Lj8fP/iAmUGQAm0DCkQdxICDykQKRApELQMZwrbDXcSdxIpEHcS6xUSF54TnhOeE54TdxJ3ElAR2w1ACd0FAwUDBf4C9P5h/5ECHgWRB2cKAg93Ep4TnhPFFOsVxRRQESkQUBFQEQIPtAyNC7QMtAyNC7QM2w20DEAJPwcTBlUFWgLO/3z/3QBaApwBGQPCBSQHlgRPA4YDrAK4/Kn2v/TV8uvwLetD6UPpb+Wb4ZvhheOF4/TZeM66yOfEE8GBt5e1VbvnxI7MINZv5evwkvhlAY0LUBECD0AJdQdACWcK6ATtAXAFjQu0DGcKtAwCDwIPjQtnCmcKGQhPAzX+OgApBB4FoQO3Bo0L2w0pEHcSEhc5GDkYEhfrFesV6xVQEbQM2w0pELQMxwdACWcKGQjoBPgFQAlACUoGgAZACWcKQAkZCGcKtAzbDbQMAg93EusVxRTFFOsVEhfrFZ4TdxJQESkQKRDbDbQMQAkeBT8CLwFwAA//yP2o+3z6kvip9uvwF+1D6UPpWedv5W/lWect6y3rb+XI3SDWTNKOzNHG/cLnxKTKYtAK2LHfQ+kB77/0fPrk/Qr9Vvt8+nz6fPqS+JL4d/0ZAzoF4geNCwIPKRACD7QMjQtnCuIHwgVKBggHpgUkB0AJ2w0CD7QMjQvbDQIPtAxnCmcKtAyNC2cKZwq0DLQMjQtnCtsN2w20DI0LtAwCDwIPtAzbDVARUBEpECkQdxKeE54TnhOeE3cSKRDbDdsNAg+0DI0LZwpnCkAJGQisBxkIGQjiByQHJAdlBsIFVQUZA08DGQNaAt0Akv1x+3z6qfap9qn21fIB7xftAe8B7wHvF+1v5bHf3tsK2EzSjsykynjOYtAg1t7bheNZ5xft1fKS+On6IPt8+nz63vt3/b7+vv4kAvgFGQhACUAJZwpnChkI7QaABhMGlgShA2sD6AQIB3UHGQhACbQMAg8CDykQKRBQEVARUBFQEVARUBF3EsUUxRSeE1ARKRApENsNtAy0DI0LQAkIB1oHtwaWBE8DdgI0A7wDHgW3BpEHjQu0DNsN2w3bDQIP2w2NC2cKZwpnChkInAZVBQ4EoQOBAQ////1s/nH7kvip9r/01fIB7xftF+0B7xftF+0B79Xy1fK/9Kn2qfap9qn2qfap9pL4qfbV8gHvAe8t62/lheOb4YXjheOF42/lLest6xft6/C/9L/01fLr8NXyqfap9qn2kvii/iQCsQTtBmcKjQuNC40LtAzbDbQMZwpnCo0LtAxACUAJQAlACUAJrAdACWcKjQtnCkAJjQuNC40L2w0CD1ARdxLFFMUU6xUSF8UUnhOeE3cSKRDbDY0LZwqRBxMGAwWWBNgDhgORAj8ChgMOBPMDTwOsArcB0gGBAbP/OgAUAWUBdgLSAQ4EzQTzAwkCNAPoBOICs////TX+6fqp9r/0qfap9qn21fK/9NXyv/S/9NXy1fLr8Ovw6/DV8r/0qfap9nz6fPqp9r/0v/TV8gHvF+0B7wHvAe8B7wHvAe/r8NXy1fLr8OvwAe8B7wHvAe8B7wHv6/C/9Hz6mPqS/YEBlgQTBnUHQAlACUAJrAeNCwIPAg/bDdsN2w20DI0LZwpnCmcKZwoZCEAJQAlnCmcKZwq0DI0LZwpnCrQM2w20DI0LjQvbDdsNtAy0DI0LjQu0DLQMtAzbDbQMQAkZCEAJtwYZA6wCdgKsAh8Aov7tAZwBrf3v/Nn+9P4K/d77Kv9h/77+HwAJAj8CXP1c/WH/Nf58+pL4fPp8+pL4qfap9qn2qfa/9L/01fLr8Ovw6/Dr8Ovw1fK/9Kn2qfaS+JL4qfa/9L/0v/Tr8AHvAe/r8Ovw1fKp9pL4qfaS+JL4fPqp9r/01fLr8AHv6/Dr8NXyv/Sp9pL4O/sK/WH/ZQEvATQDSgZ1B8cHQAmNC7QM2w0CDykQUBEpECkQAg/bDQIPAg8CDwIP2w0CDwIP2w3bDdsNtAyNC40LjQuNC40LtAzbDdsN2w3bDQIP2w20DNsNjQuNC7QMtAyNC2cKQAntBkQENAPSAen/D////SX9jfuS+JL4kvip9r/0v/Sp9r/0v/S/9L/0v/S/9NXy1fK/9NXyv/Sp9pL4qfa/9Kn2v/TV8uvw6/DV8uvw6/AB7+vw6/Dr8NXy1fK/9NXy1fK/9L/0v/Sp9pL4kviS+JL4kvh8+tP8Nf7Z/s7/zv/CAO/8QP3T/CD7O/uS+JL4fPpW+0D96f/tAf4CTwNEBCkEOgW3BnAFWgdnCtsN2w0CD1ARKRB3Ep4TxRTFFJ4TnhOeE3cSdxJQEVARUBHbDY0LjQuNC2cKZwpnChkIdQd1BwgHZQZlBpEHGQhACWcKZwqsB9IGkQc/B8IFVQUvBg4ESgGi/mb8QP0E+5L4v/S/9L/01fK/9NXy6/Dr8Ovw6/Dr8AHv6/DV8r/0qfa/9Kn2v/SS+JL4qfap9nz63vtW+5L4qfaS+JL4kviS+JL4qfaS+Kn2kvip9r/01fKp9qn2qfap9qn2kviY+vr7Nf4fANIBWgKcAWAEOgXtBt0FwgVKBrEEDgQ/AqwC4gL+ArcB/gJaAhkD+AUeBc0EZQacBnAF7QYZCGcKZwqNCwIPKRDbDbQM2w0CDwIPKRACD9sNAg8CDwIPtAxACUAJQAntBnsErAKABqwHiwX+Ar7+h/5aAj8CnAGz/xQBdgI6BYAGWgLSAe0BOgUZAyQCcAAUAen/gvyY+qn2kviS+Kn21fK/9Ovw1fLV8tXyAe/r8L/01fLr8Ovw6/Dr8NXy1fKp9qn2qfbp+oL8BPud/Fz9BPt8+nz6kviS+JL4kviS+JL4kviS+Kn2v/Sp9pL4cftW+8P70/ww/ED9VvtA/VUAs/+nAO0BoQOxBAgHWgdKBi8GnAY/B+0G/gcIBz8HSgaLBfMDxwKhA7EE+AUIB0AJJAf4Bf4H7QZEBJwGQAmNC7QMtAxACY0L2w20DAIPAg8pECkQAg/bDY0LQAlnCu0GsQQOBEQEZQZwBS8Bzv8JAiQCLwFKAen/Uf5G/+n/VQBm/Br++AAq//T+Yf9s/hr+//13/TD8kviS+Kn2qfa/9NXyv/S/9NXy1fLr8Ovw6/Dr8OvwAe8B7+vwv/S/9Kn2qfaS+JL4kvje+yD7fPp8+nH7Ffy+/mz+9P4JAir/Vvt8+un6mPoV/M76nfyi/lH+rf0l/dP8BPuC/L7+l/9wAKEDiwX+B0AJZwpACWcKjQtACRkIGQhaBxkIQAniB+IH0gbNBKEDvAMpBDoFhgNaAoYDawOxBPMDoQPNBCkESgbHBxMGwgUZCGcKZwpnCmcKjQtACXUHrAe3BloHVQUeBWAEvAPoBBkDLwHdAOT9nAE6AN77fPp8+nf9kviC/OT9uPw1/ir/pwAg+5L4qPvZ/tP8w/vp+nz6kviS+Kj7O/uS+JL4qfap9qn2v/S/9Ovw1fLV8uvwv/Sp9qn2qfa/9Hz6kv0w/BX8BPud/DD8S/zD+yr/3QAkAj8CtwGsAtn+d/1G/3z/+ACsAscCnAEvAWsDcABh/wr9Rv8P/wr9nAGX/yQC4gJVBe0GEwYkB1oHxwckBz8H4gdACWcKGQiABggH3QW3BqYFpgVgBNIBdgKxBHsEcADp/xkD2f5W+//9AwCRAgkCtwZ2Au0BTwPCAIEB0gEZCKYF/geLBToAVQAP/w4EKv+S+Hz6zvpx+8j9Uf6d/Hf9fPqp9r/0v/Sp9qn2fPre+5L4kvip9r/0kviY+lH+VQAP///9jfuS+LP6kvi/9Kn2kvip9pL4kvjr8Ovw1fK/9L/0v/S/9Kn2v/R8+jv7kvi/9JL4fPp8+osAYf9wBe0G0gbtBgMFRATYA7cGSgaWBGAErAKGA3AFewRPA/MD8wPoBHAFvAPNBOgEgQGGA3sEpgUIBykECAdnCmcKLwZACUAJnAY/B+0GLwYZCJEHxwcZCHAFRAQJAk8DcAAP/2z+Rv8DABQBSgGz/0oBzv/dAM7/0/x8+hX8Kv++/sIAoQPiAt0FHgVPA2sDD/8l/fr7fPqS+Kn2IPvp+qn2kvip9qn2qfap9qn2qfap9nz6XP0E+5L4kvh8+nz6qfZ8+nz6cfuRAvMD7QEP/7P/FAFs/pL9//2N+3z6kviS+On6QP1m/BQBZQEE++/8cfsDAK39ov6WBMIFewQZA6YFxwcUAT8ClgQDBRkIQAm0DGcKjQsZCD8HLwZKBg4EvAPHAtIBrAJPAzQDKQQ/B2UGiwXYA7EEkQJ1ByQHAwWABh4FzQS3BqYFKQRACUAJQAkZCNgDKQSnAKL+h/7I/en/zvqp9rP6mPqS+JL4Jf3e+6n2fPp8+u/8w/uS+KL+VQAq/0b/s/9h/2z+Nf4K/XH7fPqS+CQCD/8w/MP7fPp8+pL4kvi/9Hz6qfaS+L/0qfa/9M76gQFR/hr+Yf8UATX+fPp8+uT9fPriApwGRAQZA/T+LwHp/xX8D/+S/c76fP/k/aj7Gv4P/+/8uPxs/hr+5P2o+/r7JAKxBMIF7QFlAVoHewR2AkoGVQUeBXsEewTHB2sDwgBgBGUGgQEkApYE7QbzA2H/zQSLAPgASgEa/lz9d/2cAe0B4gLiAgMFDgScAc7/yP3dADoAawMpBHAFGQMTBpwGsQSLBc7/gQEkAqcAkvjk/ZwBpwAq/3z/kv0g+7j8IPsvAQMAh/4E+8P7+vu4/MIAov5wANIBTwMpBPgFnAHO+mUBZQGi/r7+kviS/ccCawM6Bf/9//1h/3f9w/uS+JL4nfxaApf/Kv+nAMj9OgBwADD8w/ui/q39Gv5G/5wB0gEfAIEBfP/D+3f9vv5VACD7s/plAXYCKv+4/FH+jftc/dP8Jf18+gr9D/+i/qEDDgRPAw4ENAMJAmUBWgK3BjQDZQaWBE8DTwPO/7P///2H/g//ZQGo+4f+KQR8/zX+Uf5wAFoCNf6N+5f/fP/O+s7/RASi/jX+cAADBVUFAwDNBNgDsQQ6BXAAD//T/LP/QP0K/Sr/Nf4q/9n+kviS+I373vuS+Kn2BPup9pL4fPqH/t0As/9aAhr+6f8vARr+oQNwBU8DVQC+/u0BfP93/QT7qPtc/ZL4fPqS+Jj6AwCnAAr9Jf1h/6n2FfwP//r7w/tlAUAJQAkeBRkIQAnoBEAJGQNlAaEDhgNVBfMDxwJPA+n/rf3I/Xz60/xx+x8AOgBc/ToAl/86AJwBlgRrA3f9bP5VAHYC+AXHB2cKtwY/B0AJGQgkB0AJCAdwBbEEyP36+8IALwEP/639cAADAJL4kvhx+4f+fPp3/Zf/fPqd/Dv7d/2GAyQCcAXSAQkCcAU6ACkEJf3CAEQErf2H/gT75P0vAcj9fPqS+Hz6v/Sp9nz6fPqS+JL4S/yH/iD7fPp8+pL4fPrk/d77yP3CBYYDHgVnCmcK3QXv/JL4fPqp9nz6SgH4AHz/VQCLALP6rf0V/LP6cfuS+Nn+d/0V/KwCiwDNBHAF6f+BAf4CcAUUAQMFQAk/B+0BsQQTBjQDpwDSAXf9BPuS+Hz60gGS+KcABPuN+0oBVQBPAz8CrAKGA4sFHwDiAuICzv9rAxkIYAQ6BS8GGv6X/3AAyP3k/ccC3QBx+yX9rf2C/Gz+zvq/9JL4kvip9q395P1c/dn++ABc/YL80/wK/QkCOgCS/U8DcAAJAnYCkQKLBVUA9P63AdgDmPpc/aEDs/+C/Kn2v/SS+Hz6kvip9pL4ZvxVAP4CxwKGA3YCCAe3AXz6gvwvAcIAgQGcBkAJrALzA5wG6AQq/5L4Uf5L/IEB+vuS+Ar9jfvI/cj93vvO+t77ov7T/N77gQG+/rcBrAJVBbEEiwXHB9IBYf98+hr+OgUZA4EBHwDiAhkDQP18/5L9MPxs/iD7IPud/JL9fP/k/RkDawNwAK39MPwDAMj9rf1lAaED3QBEBPMDJAKxBCkE6f98/0b/mPpx+5L4VvvSAcj9//36+3z6Rv+S+M76vv4fAAr9MPwvAWsDpwCcAVUFtwGLAHf9/gLYA8cCcAXCBTQDFAFKAZf/jftVAP4Czv///e/8kvh8+v/99P5VAOn/Kv+d/IsA+vu4/Pr7Cv1wAIsA4gIkAg4EkQdVBacAWgKRAr7+h/5VADQD4gIa/nAAh/6BAY37fPoK/b7+/gKH/rcBXP2S+CX9HwBKAaEDawMpBPMDCAdKAWz+VQVrAwMFHwAw/KL+FAGnAHf9S/yLAC8BqPud/Gz+Ffxx+4sAlgTdAGz+Nf5L/DX+7/ww/P/9LwE/AscCTwOxBMIFWgKBAQkCs/8K/b7+AwC+/hX8Cv0vAR8Agvw7+3z65P2d/Kj7fPp8+hX8cft8+lz93QBc/bP///3CALwD8wPSAd0FtwZwBS8GvANPA6j7kviY+gr9MPx8+lz9h/6i/rP/Jf2o+6j7Jf0w/Pr7S/zHAuICGQOLBdIB+ABR/gMAfP/tAdIB7QZ7BGsD/gKX/9n+6f+nAFb7rf2p9s76nfyd/HAASgEeBT8CiwDk/Xz6kvjO+of+d/1m/PMDcAUJAsIAVQCX/zX+dgKxBKcAFAEJArcBLwGC/Gz+6f+3Ad77kvhA/Vz9vv7k/SX9qPuH/joAw/u+/sj9Kv9G/yX9iwDNBIsFgAaBAc7/6AQP/4sACQLHAiQC6f8fAED9QP0K/Uv8/gJEBEb/Cv1c/WH/ov4a/u/8qPtR/r7+Kv+LAGH/Nf7CAOIH4ge3Bk8DawM0A5f/uPxR/uT9VQDdAGb86f98+pL46fqS+AT76fqS+Jj6ov70/g//Cv3//fgAzv+t/WH/8wMpBMIFiwWWBPgFdgKLABkDOgCd/GH/fP+d/If+jfuo+9n+SgHzA5f/FAHO/4EBZvx8+pwBbP74ACQCWgIq/yQC6AQZA2sDD//0/nYCdgIOBFoC6f9aAnAAl/93/TX+Kv++/uT9Gv4g+6j7bP7dACQC3QBlAQMAtwEDAAMAnfwa/r7+OgApBFoCYARwBXsEvAPCAEoBwgB8+nz6fPrT/Lj8Vvuo+3z6zvre++T9zv8a/gT7XP3I/Vz9ov74ACkEYAQ/As7/OgBrA/MDVQCt/S8BZQHSAe0BgQGH/nz/3QB3/Zj6qfZ8+jv7FAEZAykE7QGH/uT9D/8UAbP/twGsAvMDwgAJAtgDPwKsAuICHwBh/0b/zv8/AhQBZQH0/jD8fPqS+Hz6mPpVAJf/Uf6H/gr9Vvs7++ICdgKLBe0GdgJrA2UBZQFG/zoAkQI/AkQEPwJPA+0BGv7+AgkC//1c/ZL9XP2i/iD7fPp3/e/8s/+H/sP7ZvwDAA4EvANG/zD83vtL/KL+WgL4AJf/JAIvAR8Ah/6i/tgDsQS3AWH/nfzZ/tn+LwGnAED9Yf8P/2z+Uf6N+1b7fPqN+z8CSgFVABQBdgKGA7EEWgK3Ae0BOgDO/+n/nAEvAZECRARlAUv8QP1A/ZL4fPqC/Br+AwB8/3z/h/5R/jX+qPvD+8j9FAFVAB8Avv5R/vMD8wOGA7EEl////TX+yP01/vr70/zk/S8BNf4V/Mj9kvhW+/r7fPp8+pL4qPsP/7P/yP2nAKcAAwDO/+T9Ffxm/If+FAHzA8IF8wORAk8DFAGS/eT9Nf6t/fr7Vvsa/hr+Gv4l/Xf9Kv8a/t77yP0UASkEcAUDALcBNAM6APgA//06AGAEZQGLAFUA0/zD+1z9iwBs/r7+PwLdABQBl//D+zX+FAHiAlUAjftR/pL9bP7p/6L+zv+3ATQDZQGX/6YFEwYDBQMFawPCAHz6jfsV/P/9Yf+nAAMAyP3I/Vz9Uf5A/Wz+2f7v/Fz9vv5L/M76d/30/mb8VvuH/s7/twGmBT8H3QWRBwgHnAH6+3f9l//v/KL+s/8fAFUAHwA1/oL8Vvsl/TX+Nf5G/2z+Vvsl/VUAiwDZ/mb8cADdAEoBnAHCAIEB7QHHAjQDdgKRAqcAVQAkAhr+fPqS+Eb/TwOX/1UAcAAkAun/fPqS+JL4mPp8+lb7AwBlAXYCD/8kAoEBh/5A/Sr/2APYA6YF0gEJAgkCD/+z/87/Yf8DAL7+Vvvv/PT+S/x8+oL8//0l/Wz+iwCsAnYC4gKGA5f/+ADYA5YEgAY/B+0GpgW8AxQBAwAvAacAoQOsAhQBJAKLALj8Cv2BAS8BwgAP/wr9yP2t/YL86f/tAawCOgAw/MP7//1VAGH/Kv8DAPT+2f4UAS8Bl/9wAEoBiwD0/kD9IPt8+q39nfxA/dP8Nf5G/0v8//2X/zX+Nf7v/MP73QBh//T+VQAa/lH+VQD4AA//Gv4DAFUALwFs/p38Rv+H/gMAHwAq/w//zv/I/bj8Jf1L/Nn+NANrAx8A2f6t/WH/bP5A/Z38d/3//c7/AwC4/GH/7/zp+qj72f4JAuICiwCcAXAFsQRaB4AG+AVKBscHxwcvBoAGSgYeBRkD7QEvAXYCtwE6AHAAWgLtAS8BiwADAN0AKv/Z/h8As/+i/tn+yP18+qn2qfap9qn2qfa/9L/0kvh8+nz6fPog+5383vsl/SX9Cv2+/oEBOgC+/pwBWgLSASkEgAZwBVoHQAlACY0LQAkZCEoG8wOLBR8A7/wa/t77fPqS+JL4kviS+Kn2qfZ8+mb80/xL/N775P1R/oL8vv6cAXYCvAMvBugE3QUIB90FQAlACUAJQAlnCrQMtAxnCmcKjQu0DEAJQAlnCpEHzQQJAgMAfP/p//T+jfuz+rP6kvh8+iD7BPuS+Jj6XP30/pf/QP0g+5L4qfap9tXyv/Sp9r/01fLV8tXyqfaS+Hz6jfsa/lUANAP+AscCDgSGAwMFsQQvBiQHjQtACRMGHgVaAiQC+AC3Aa39qPvp+nz6mPqS+JL4fPp8+pL4fPpx++T9nfz6+9P8mPqS+Ar9+vsE+9P8FfxG/2UBawNEBA4EOgV7BMIFkQdACWcKQAnNBDQD8wNVBaYFiwU/B0AJGQhgBFoCcAD//ZL9FfxW+538nfzT/NP8w/uS+Kn2v/S/9JL4kvhx+1b7+vvv/Hz6qfa/9L/0v/S/9L/0v/Sp9nz6Vvui/pf/pwC3AU8DcAXtBpwGgAZACRkIQAn+BwgHJAecBrcGlgRaAhQBzv/k/WH/ZQHtAToA2f6i/u/8ZvyN+437fPp8+lb7BPt8+pL4qfap9pL4fPrp+gr96f8JAqED3QUkB5wG7QZACWcKGQjHB6wHQAlACe0GCAecBh4F2AMpBPMDoQPNBFUFYAS8AykEGQORAosAvv7//e/8IPt8+pL4qfa/9L/0qfap9pL4kvg7+0D97/y4/CX9Zvx8+gT7fPpL/DX+D/+S/YL8Kv+z/90AcAAJAuICawPCBVoHJAd1BxkIWgfSBpYEzQTYA6cARv9A/c76fPp8+pL4kviS+JL4qfap9qn2qfaS+Hz6kvip9pL4cfsw/Hf9kv01/rP/VQCBAYEBrAK8A8IFdQfHB1oHOgXzAykE2AOGA2AEzQSLBXsECQKnAGUBZQHp/+n/6f86AC8BpwAP/xr+Cv18+qn2v/Sp9pL4kviS+JL4kvh8+nz6cfvv/ED9XP3T/MP7zvp8+rP6kvh8+pL4fPrD+zv7Jf0q/8IAnAF7BO0GGQhACWcKZwpnCkAJZQa8A4sAbP4w/CD7fPqS+Kn2v/S/9NXyv/SS+Hz6VvtA/Wz+9P7O/wMAYf9KAYEBpwAkAuIC6AR7BA4ETwOBAdIBGQMDBd0FrAdACWcKtAy0DLQMjQtnCkAJQAlACccHtwZVBTQDgQFh/5L9BPsE+876Vvvp+vr75P2t/Qr9cfuz+nz66foE+wT7mPqS+JL4kviS+JL4kvip9pL4kviS+Hz6jfsw/J38kv3T/L7+9P5G/90AnAEJAiQCTwNgBNgDGQPiAhQBUf64/Fb7fPqS+JL4fPqS+JL4fPoE+3z6kvh8+nz6jfuC/JL92f4P/1UALwFlAT8CtwG3AWsDewSxBD8HGQhnCmcKZwpnCmcKtAy0DLQM2w3bDdsNtAxnChkIewQUAb7+5P2H/q39kv30/vT+d/3k/ZL9nfww/NP8yP1A/Xf92f7I/aj7mPqS+JL4qfap9r/01fK/9Kn2kviS+Hz6Vvsl/VH+zv/SAZEC2AORAv4CxwJPA/MDRASWBOICSgFwAAMAl/9h/4f+5P3//f/9d/3T/Lj8uPyo+5j6fPrp+sP7mPp8+nz6fPqS+JL4kvjD+1H+fP8UAaEDpgWABhMGwgUeBcIFiwUTBtIGCAftBt0FpgWxBE8D4gL+AiQC7QGcAZECawMkAj8CFAHO/+n/s//O/0b/Kv9G/3f9nfzD+876fPqS+JL4kvh8+lb7Vvs7+6j7fPqS+Hz6fPp8+s76cfsg+0v8XP0q/zX+ov6LAN0AdgIZAzQDoQMpBJYEpgUTBsIF8wPHAi8BfP81/pL9bP4K/dP8MPwV/Fz97/zD++n6kviS+JL4kvh8+gT73vt3/Wz+D//p/6cA0gFPA9gDlgSABpEHrAcZCIAGewShA/MDRARwBRMGiwXSBoAGOgWxBGAEhgM/Aj8CTwN7BCkEoQM0AwkCzv81/rj8zvp8+pL4kviS+Hz6mPqz+jv7O/vD+4L80/wl/a39//2t/ZL9ZvwK/UD9nfy4/Gb8+vuo+zX+Kv/CAKwCsQScBhkIZwpACWcKGQg/B9IGAwV2AvgAvv4l/Vb7kviS+JL4kviS+JL4Vvs7+yX9//3//Xf9gvy4/OT96f+nAIEBLwHSAWUBLwGnAAMApwCLAIEBrAJEBOgEZQacBrcGWgecBtIGEwb4BYsFzQSWBKED/gIJAqcA2f4a/mz+vv4q//T+Nf53/Xf9kv3v/Ev8uPyt/cj9Cv0K/bj8w/sg+3z6fPqS+JL4fPp8+nz6kvjp+hX8Jf0K/eT9zv9h/x8ALwHHAoYDHgXCBYAG7QacBu0G6ASGAy8Bvv5A/RX8O/sE+3z6kvh8+nz6kviS+Hz6fPp8+nH7kv1G/8IAcACX/5f/l/98/3z/pwAkAkoBSgGsAjQDDgRgBA4ElgTCBeIHQAlnCmcKZwpACVoH6ARPA3YCpwDO/2z+Uf6H/mz+vv7//Qr9XP2S/ZL9Kv9h/w//s//O//T+Uf4a/rj8mPqS+Kn2qfap9r/0v/S/9Kn2qfaS+HH7S/wl/Wz+//2+/nAAPwL+AkQEDgTzA7EEDgSGA8cCdgJlARQBZQEDAB8AHwAq/9n+//2S/cj9Nf6H/uT95P01/kD90/zT/Kj7IPve+538Uf46AIEB7QEJAuICNAOGAw4E8wO8Aw4EzQQeBQMFVQVVBfMDGQMOBGsDNAPiAj8C4gJaAiQCcADO/3z/2f70/lH+5P3I/ZL97/w7+3z6fPoE+/r7qPs7+876fPp8+pL4kviS+JL4kvip9pL4kvh8+nz6fPoE+1b7Zvyt/Yf+vv4q/2H/VQCcASQCxwIpBA4ETwP+Au0BSgHCAJf/Gv4a/tn+fP+z/2H/fP+i/nf90/zD+3z6mPp8+pL4fPrp+sP7S/yC/CX9h/7O/5wBvANKBi8G+AXdBR4FsQREBLwD2AMpBCkEVQUeBVUFewTYA08DewRwBbEEAwWmBS8GiwVwBegEvANaAt0Avv5c/Z38+vs7+3z6fPqz+lb7jfve+538S/z6+zD8IPtW+3H7cfv6+zv7IPsE+5j63vuN+wT73vtL/KL+wgDHAikEpgUkB5wGgAbCBegEewTzAyQCgQHdAEb/d/07+3z6kviS+JL4kvh8+nz6fPp8+nz6fPog+3H7Ffwl/Rr+9P7p/6cA6f+z/3AAFAEUAWUBWgJ2Ak8DKQQOBEQEOgWmBYsFsQQOBHsEsQSWBNgDTwM/AhQB3QBlAdIBFAEUAR8ARv++/sj9XP3v/CX9nfxc/Xf9Zvze+xX8MPxW+xX8+vvD+zD8IPvO+nz6fPp8+s766foE+3H7MPxc/VH+Rv+z/xQBWgJVBT8HGQhACUAJGQgvBikEJALCAA//kv2C/I37jfuY+nz6fPqS+JL4fPp8+gT73vut/Rr+Gv5s/qL+2f5h/w//D/8DAB8ASgHtAYEB7QEkAj8CrAK8A6YFdQdACUAJZwpACUAJGQgkB7cGwgVwBaEDxwKsAnYC3QDO/zoAAwCLAAMAAwD0/lH+vv5R/hr+Gv7k/bj8Ffz6+6j7s/p8+pL4kviS+JL4kviS+Hz6fPog+7P63vsw/BX8Cv01/kb/+ACRAoYDawPiAv4CJAIJArcBZQGX//T+QP1m/MP7fPo7+3z6fPrp+nH7w/uC/Kj7BPuo+zv7S/zk/Wz+ov6H/qL+D/98/2H/s/8fAN0AgQF2AmsD2ANgBCkEKQQeBZwGCAfHBxkIQAkZCFoHtwYeBdgDdgIkArcBnAEkAmUBnAGBAacAs/9h/3z/s/+LAGUBSgH4AMIAzv8q/8j9Zvxx+5j6fPp8+nz6fPqS+JL4fPp8+lb7QP3//WH/OgD4AHYC/gLYAw4EAwX4BcIFwgXoBCkErAJKAen/Uf41/v/9QP3v/Pr73vve+437IPt8+nz6mPog+5j6fPqS+JL4fPp8+nz6BPtc/aL+fP9wAMIAwgAUAfgA0gHHAhkDKQQDBcIFiwV7BA4EKQQDBWsDdgLHAj8CGQM/Aj8CnAFlAdIBFAH4AEoBFAEDACr/Rv9R/rj8S/ze+437w/sw/N77cfsE+3z6fPp8+nz6kvh8+nz6BPtW+977ZvzD+0v8MPzk/aL+Rv9KAVoChgNgBIsFEwbNBM0EYAS8A7wDJAIJAqcAl/9s/v/9bP7k/Wz+Nf5R/sj9Jf1m/MP7w/ve+5387/xA/f/9h/6+/g//Kv86APgAdgLYA5YEAwU6BfgFLwaLBQMFzQSWBFUF6AQeBToFYATYA/4CWgLSAQkCNAMZA6EDlgQpBHsENAPtAacAYf8a/uT9Gv7k/ZL9gvze+3H73vtL/IL8Zvz6+zD8qPt8+pj6fPp8+nz6fPqY+nz6fPp8+nz6fPo7++/82f46ANIBTwNwBd0FcAUeBbEE2AMJAhQBYf++/jX+7/yN+3z6kviS+JL4fPqY+nz6BPvT/Hf9d/3I/cj9vv5s/ir/fP+nAPgA+ADCAAMAOgCX/1UALwHSAeICYAToBHAFpgX4BRMGAwXCBaYFYAQ6Bc0EhgPtAZwB0gGBAdIBFAHdAIsAAwDO/2H/Yf8q/77+ov5s/nz/9P4q/2z+kv2C/On6mPp8+rP6fPp8+rP6qPuz+s76s/p8+s76cfvT/KL+l//dAFoC/gJgBHsEewSWBDoFKQSsAu0BOgBs/mb8BPt8+nz6fPqS+Hz6fPp8+nz6fPqS+Hz6w/uC/Hf9Nf4q/77+h/7Z/mz+D/9h/4sAZQEJAoEBtwGcAe0BawMpBAMFZQZaB5EHGQgZCJEHEwZwBbwDWgLtAbcBSgFVAB8AHwBh/77+9P6+/r7+ov5s/g//9P70/vT+ov5A/bj8Cv3v/NP8Vvt8+pL4qfap9qn2qfaS+JL4fPrp+iD73vvT/Mj9h/6z//gAkQLzA2AE8wMOBBkDWgJKARQBHwD0/of+//2t/e/8Jf3T/N773vve+8P7nfz6+6j73vuN+zv7fPqY+s76s/pm/Mj92f7p/3AApwCnAIsAVQDdAO0B/gJrA0QElgTYA0QEewSxBFUFzQQ6BToFzQTNBPMDKQRPA8cCawPYA0QEoQP+ApEC3QBwAB8AYf9h/xr+ov5R/hr+Gv6t/Uv8fPp8+pL4kvh8+nz6fPp8+nz6BPuo+zv7MPww/IL8yP1G/x8AiwAkAgkCJAKhA7wD8wPNBHsEGQOBAcIAl/8a/mz+rf2t/VH+rf13/bj8qPvp+nz6fPqz+nz6zvrD+977Ffww/Ar97/w1/ir/zv8UAe0BNANrA2sDxwLtAYEBPwKRAoYD2APzA9gDawNPAwkC7QEkAloCawPYAw4EDgS8A/4C0gHdAB8AAwB8/77+Uf7v/Ar90/yd/Ar9nfxm/Ev8Jf1A/SX90/wV/Dv7zvp8+nz66fqN+6j7qPtW+5j6BPtm/Ev8QP1G/1UAPwIpBFUFOgUDBZYEDgRPA8cCtwGnAB8AD/+S/RX83vt8+nz6fPqS+Hz6fPrO+sP7jfuN+xX8+vsK/Xf9Uf7Z/g//l/98/yr/Yf8fAJf/iwCcAe0B/gJrAxkD8wPNBLEEVQWxBKYFpgU6BbEEewSxBP4CxwJrA/MDvANPA/4CxwI/AvgA6f+LADoAs/8vAen/HwA6ACr/Kv8a/kD9S/yN+8P7IPvp+jv7BPt8+pL4fPp8+lb7ZvwV/Fz9Uf70/sIAZQHtAccCKQR7BHsEAwWxBPMDkQI6AKL+XP0V/Lj8uPzD+7j8+vsE+876jftx+1b7Cv0l/f/9vv6X//T+h/5R/v/9D/+X/87/AwCLAN0AFAEfAC8BxwKsAk8DiwVKBkoGWgckB0oGcAUDBaYFsQSGA/4ChgOsAoEBSgGnAKcAFAFaAqcAcADdAOn/VQDp/0b/2f4q/6L+5P13/TD8cfsg+3z6kviS+JL4kviS+Hz66fpx+xX8gvwV/Ev8QP2+/s7/gQF2AuIChgPYA0QE2ANrAxkDJAKBAfgAOgAfADX+Jf3v/Ev8jfuN+3H7mPo7+5j6mPqz+pj6fPrp+lb7qPud/ED9Nf5R/mz+9P7p/wMAiwBwAAkCNAMZAw4E2ANgBEQEsQTNBDoF3QUTBmUGwgWxBDQDoQNrA2sD8wO8A9gD8wMZA6wC7QEUAVUAHwBwAB8AAwCX/1UAfP8P/zX+kv2d/Pr7MPwE+6j7zvp8+nz6kviS+Hz6fPrp+lb73vvT/JL9XP3//fT+s//CAPgAgQG3AVoCkQLCAM7/Uf53/Qr9MPyo+/r73vtx+3z6kviS+JL4kviS+JL4kviS+JL4fPp8+gT7S/y4/Hf9ov5G/+n/iwDCAPgA+ABKAd0ALwFlAe0BrAIZAxkDawOhA4YDawMZA08DawOGA/MDKQTYA+ICWgKsAgkCSgGnAC8BpwB8/2H/ov4a/g//fP8DABQBcAADAHz/ov6t/Wb8gvze+437+vs7+zv7BPvp+un6fPp8+nH7uPwa/h8A+AA/AmsD2ANEBA4EDgTiAloCFAEfAL7+Uf7k/Z38ZvxW+9773vv6+7j8Zvyo+8P7jfv6+8P7O/sV/DD8QP3k/fT+AwAq/3z/HwAfABQBLwGBAQkCJALHAqwC4gJPAzQDvAMpBJYEzQRgBCkEawPHAuICkQKsAuIC2APzAxkDdgLtAe0BtwGBAd0AwgCLAHAAwgCnAN0AHwD0/jX+5P1A/Qr9Zvyo+437BPuz+nz6fPp8+rP66frO+t77uPyt/b7+Yf9wALcBPwKhAwMF3QVwBZYEoQNaAmUBOgBh/5L97/yS/UD9MPzD++n6fPrp+gT7cfsV/DD8gvxL/Lj87/x3/Xf9QP2+/r7+vv5h/w//bP6H/kb/fP+LAIEB7QGsAuICawOhA/MDoQPzA2sDxwIZA6wCPwKBAYEBpwCnAFUApwAvAUoBFAFlAWUBOgBwABQBwgDp/+n/l/+X//T+bP4a/kD9ZvzD+876s/o7+wT7qPsg+437jft8+nz6fPrD+7j8rf0P/wMAHwCLAO0BWgLHAhkDTwNaAt0AVQBG/yr/2f4a/kD9FfzT/J38+vtL/Kj7FfxL/Fb76foE+0v8nfzT/P/9bP7I/b7+Rv+i/gMAl//p/6cAwgDCAN0A0gG3AQkCWgIOBAMFwgUeBSkEAwXzAykEoQPHAoYDGQNrA2sDGQPzA9gD/gLSAbcBJAJ2Aj8CdgKcAUoBnAEfAM7/vv7Z/vT+5P0K/Wb8MPyo+1b7s/qz+s76jfv6+5380/wV/IL87/yS/ZL9vv4DABQB7QFaAuICWgKsAkoBHwB8/77+ov7I/a390/y4/IL8cft8+iD7s/p8+nz6zvoE+1b76fp8+sP7+vvk/TX+Uf70/ir/HwAfAKcA3QAkAi8BgQEJAvgAkQKsAqED2ANrA0QE2AMpBPMDoQOWBGAEKQQpBKEDhgOsAhkD4gJ2AloCgQEUAYsAiwDp/+n/OgA6AMIAiwBVAFUAYf///bj8+vuo+1b7O/sg+7P6fPp8+nz6fPqS+Hz6BPvD+2b8yP0P/2H/wgC3AVoCNAOGA4YD7QHSAYEBVQDO/4f+Gv6t/a39QP3v/Fz9nfyC/Gb8w/tL/N77ZvyS/UD9yP1R/ir/l//p/87/l//CAC8BSgGsAgkCJAIkArcBkQJ2AjQDRAQeBXAFiwUDBR4F8wNrA/4CkQIOBA4EsQQOBHsE8wNPAzQD7QEUAToASgH4ADoAOgA6AB8Al/8q/3z/Kv8a/of+//0l/Uv8+vve+1b7fPqS+Hz6fPqS+Hz6fPqz+o37FfxA/a39fP+LAD8C/gL+ApECPwJlAR8A6f/Z/vT+h/7I/TD8cfuN+1b7qPve+8P7S/zv/Lj8Jf3v/Gb8QP1s/v/9QP0a/g//D/++/r7+ov4q/wMA6f9wAJwBPwLiAk8DYAQDBR4FwgWLBR4FHgVVBc0EsQSxBGAEYAREBJYEDgRgBGAEGQMZA8cCkQKRArcBnAHSAe0B0gGBAbcB3QCX//T+h/4a/u/8S/zT/Lj8cfvO+nz6s/p8+nz6s/p8+nH73vve+1z9ov5G/+n/WgI0A/MDsQTYA0QEhgPSAcIA6f9G/9n+5P2C/Lj8QP3v/ED9nfzT/Fz9w/ve+9P8Cv0a/jX+5P2S/Vz9d/3k/b7+9P4DAHAAcADO/0b/6f98/wMA+AA/Ak8D2ANEBPMDGQM0A+IC4gL+AnYCGQNrA2sDNAO8AzQDkQJ2AtIB7QGcARQBLwHCAIsA6f/O/87/Kv9s/jX+Uf5c/Wb86fp8+nz6fPqS+JL4kviS+JL4kviS+JL4fPqY+nz6IPv6+1H+Yf8fAPgApwBKAbcBpwDCAFUAfP9G/2z+Nf4K/dP8FfxW+437zvrp+gT7jfsE+zv7Vvs7+5387/yS/VH+Kv+X/wMAFAGcAXAAl//O/87/LwH4APgAnAFlAawCNAOGAw4EYAQ6BR4FzQRwBVUFzQTYAzQDxwJ2AhkD/gJ2Aj8CdgLHAj8CgQGcAe0BCQJ2AloCrAJaAnYCdgKz/w//bP4l/SX9ZvxL/MP7BPt8+pL4kviS+Hz6s/qN+xX8uPwa/of+OgAUAd0ACQI0A2sD4gI/Au0BgQEvAen/Rv++/jX+yP13/dP80/zT/MP7+vtW+876zvrO+lb7Vvs7+977ZvzT/Gb8QP2i/g//fP/Z/tn+l/++/vT+AwCX/x8AVQDdAO0BnAHSAfgAFAGBAcIAJALHAjQD2APzA3sEKQRrA5ECdgKRAoEBSgHdAJf/Yf9h/1UAKv+H/ir/vv6i/jX+yP0K/Wb8qPvO+gT7zvqS+Hz6kviS+JL4kviS+JL4fPp8+vr7d/2+/rP/wgAvAUoBLwEvARQBpwCnAJf/s////Wz+Kv9R/kD9nfzv/DD8Cv13/VH+Uf41/v/9d/01/pL9Gv41/hr+vv4P/+n/s//O/3AAVQADAIsAFAEUAWUB7QG3AQkCdgIZAykETwNPA4YDxwL+AhkDTwMZA+ICTwORAscCGQMZA5ECnAGnAAMARv+i/vT+fP8DAB8AcADZ/qL+Uf7v/IL8S/y4/IL8Ffyo+876fPp8+nz6kvh8+rP6s/rD+538uPwa/r7+HwDSAQkC2AMOBA4EawN2AqwCLwE6AB8AKv/I/a39XP1A/YL8nfyd/Ev8O/uo+538+vvv/ED9QP3v/Fz9//3k/Rr+h/6z/2H/2f6H/r7+Yf/0/s7/3QC3AU8DvAOWBAMFYARgBHsE8wOGA/MDDgQ0A3sEsQSxBJYEhgNEBGAEKQShA/MDvANrA2sDhgP+AnYCWgIJArcBZQEUAen/6f9h/2H/5P0l/a397/xc/a395P1c/bj8nfzT/CX9kv3I/Zf/wgAkAkQEoQNPA6wCkQKRAjQDNAPSAd0AiwADAKL+bP53/ZL9XP3v/CX9uPwV/Ev8jfs7+/r7S/xc/ZL9h/5G/9n+2f5s/tn+ov41/r7+//01/tn+ov6X/wMAAwDdANIBJALiAk8DawPiApECrAKRAuICxwJaAuICNAMJAu0BgQH4AIsAl//O/87/VQAfAKcApwA6AM7/vv4P/+T9yP13/e/8Jf3v/NP8gvyN+wT7qPvO+jv7IPuN+0v8MPxA/VH+Nf5G/zoAcAB2AuIC/gKGAxkDdgKsAiQCtwEvAVUAOgB8/2H/vv6t/Vz9kv13/Uv8uPwl/e/80/y4/Hf9uPwK/Xf9d/0a/g//AwADAFUAAwAfALP/fP+z/2H/VQDtAQkCdgLHApECgQEJAqEDrAJaAuICTwNrA+IC4gKGAzQDxwJaAscC4gIJAu0B0gEkAtIBtwF2Aj8CPwJaAiQCCQKLAIsA6f+X/2H/rf0K/Vz9rf0K/e/8Ffw7+0v83vu4/Fz95P0q/zoAiwD4AD8CWgKRAloCWgIJApwBnAGnANn+Uf7I/Xf9QP0l/a39XP01/jX+d/0l/Yf+vv5c/ZL9nfwl/eT9bP7O/3z/2f5G/zoAHwCz/+n/pwDCAIsASgEUAUoBJAKRAqEDawPzAxkDxwJPA5ECxwLHAk8DvANVBVUFRAQOBP4CTwOsAtIBJAK3AWUBLwEvAUoBtwEvAXAAOgB8/7P/s/8q/4f+kv2t/Vz9MPyo+zv7zvp8+nz6VvsE+4373vuC/Br+h/74ANIBxwIZA/4CoQPHAnYCgQEUAZf/vv5R/v/9rf2d/NP8ZvyN+8P7uPyd/NP8uPxA/e/8w/sw/Ev8Zvx3/Rr+rf01/mz+h/6+/lH+rf2S/Wz+s/8DAFUALwGcAawC0gEUAYEBtwG3AdIBLwGcAXYCnAEkArcB0gFaAiQCxwI/AgkCgQEvAd0A+ACBAUoBnAGBAUoBZQEUAYsAzv++/pL90/xc/Vz97/zT/Gb83vs7++n6fPp8+nz6fPpx+/r7XP1R/ir/OgBKAfgAdgJaAiQCkQIkAloCiwCz/yr/Gv4l/a39Cv24/Ar9nfxc/UD9Cv3T/ED9Gv6H/qL+Rv++/kb/fP9h/zoA6f8vAdIBZQE6ADoALwEUAcIA3QDtAT8CdgKsAu0BCQK3AWUBiwCnAD8CgQEvAUoBZQGcAbcBSgFKAdIBZQGBAZwBLwH4AEoBSgHdAOn/D/9R/sj9XP3T/O/83vtx+876fPp8+pL4fPp8+nz6fPp8+nz6fPp8+pj6zvrD+9P8Uf4q/87/pwDCABQB+ADCADoA3QBG/4f+h/70/jX+//1R/tP8QP0w/Pr7+vsV/MP7MPyd/Lj8d/3v/Mj9bP5h/x8AAwCnAHAAcADO/0b/zv+X/4sA0gEkApwBPwKsAuIC/gIZA7wDhgMpBEQEawPzA/MDDgQDBZYEYAShA9gDYATzA4YD4gJPA/MD2AMpBGAEYATzAzQDTwO3AXAAVQCz/77+//1R/q39Jf1c/Qr9Ffxx+7P6cftL/MP7Cv2S/TX+D//p/0oBnAEUAZwB+ABKAbcBSgFwAPT+2f5A/Z38Jf2C/Ev8+vvD+3H7mPp8+pj6fPog+wT7fPp8+gT7qPvD+538yP3I/Rr+5P2i/r7+bP7Z/g//D/8P/2H/Yf/p/wMAwgBwAHAAVQBVABQBFAE/AloCNAPYAw4EDgS8A9gDGQN2AiQC0gHSAWUBnAFaApECdgJaAiQC+AD4AC8BiwAq/3z/9P6t/UD9+vtW+5j6BPt8+nz6fPp8+nz6fPrp+nH7Jf3//ToAnAGnAGUBnAFKAWUBZQGLADoARv9R/pL90/wK/YL8MPzD+zD87/zv/NP8uPwl/Uv8+vsV/I37S/wK/Vz95P01/qL+2f6i/qL+ov5R/qL+Yf8DAIsAcACnAIEB0gGcAWUBSgFKAYEBgQGBAVoCNAP+AscC8wNEBA4EYATzA7wDawMZA+ICGQMZA6wCkQKsAk8DawMZA1oCJALHAtIBnAGcAYsAOgDCAMIAzv++/q39rf2t/YL8S/zv/Hf95P1s/tn+6f8JApEC4gJrA7wDRAREBIYDkQKBAcIAl/++/mH/Uf4K/Qr9Jf3T/NP8MPzT/CX97/x3/Rr+yP0q/0b/bP5s/v/9ov7//Ub/s/86AAMAYf+X/x8ApwBlAQkCJAJPAzQDvANPA/4CrAJ2AuICTwMZA4YDoQOhA6EDGQPYA1oCWgJaAiQCJALtAZECdgLHAgkCkQIJAvgACQJKARQB6f8P/5f/D/8a/kD97/xA/Xf9QP13/Wb8jfuN+/r7MPy4/Mj9vv6z/zoAFAFlAVoCkQI/AloC7QHtAQkCcABVAIsA9P5R/q39uPyC/J38S/y4/MP7+vvT/Ar9rf2+/g//Yf86ADoApwA6ALP/fP/p/9n+5P2i/lH+D/8q/2H/l/+nABQB+ADSAYEBtwF2AgkCdgKRAgkCdgLtAawC4gL+ArwDNANaAoEBSgEkAj8CgQHtAccC4gKRAv4CdgLSAYEB3QAfAHz/Yf/0/lH+//2S/Vz9gvxL/J38w/ve+zD8Jf0l/UD9Uf6+/kb/l/9wAEoBtwHSATQDoQPtAbcBZQGLAMIA6f9VAKcAOgCLALP/2f5s/sj9kv3I/UD9rf3//VH+Gv5s/jX+Nf7Z/nz/zv/p/3AAYf98/87/fP98/7P/zv86APgA7QEkAgkC7QGcAUoBFAG3AbcBLwG3AZEC/gLYA1oCgQG3AfgAFAFwAKcAFAHdAPgA3QCnABQBFAGnAHAAiwAfAHz/zv8P/1H+yP0l/Uv83vve+xX8jfvO+rP6fPrO+jv7S/xc/ZL9vv4fAEoBnAEkAj8CWgLSAYEBSgGLAKcAs/++/tn+5P3I/Xf9Jf0P/zX+uPwK/SX9MPyo+977qPsw/IL8Jf01/of+ov6i/g//Yf/Z/nz/HwA6AIsA3QBlAWUB3QDdAEoBiwCnAJwBZQHtAdIB0gGRAqwC/gLHAmsD8wNEBLwDPwL+AuICrALHAiQCCQKRAtIBPwJPA08D4gIkAk8DxwKsAkoB+ABlAc7/zv/Z/v/97/ww/I37VvuN+0v87/xR/tn+Uf4q/1UALwEJAloCdgKRArcB7QEUAZf/zv9h/2z+9P5R/lz9QP0V/DD8Zvyd/O/8QP3I/Wz+2f4q/4f+//2i/hr+2f6+/tn+h/6i/r7+d/0a/of+h/5s/joAFAEUAWUBZQFlAfgA3QD4AHAAVQA6AHz/pwCnAC8BZQGBAUoB0gGRAiQCdgJ2AloCPwKsArcBSgGcAYEBZQH4AMIAKv9s/hr+Jf0K/cj9rf0l/Vz9uPy4/DD8jft8+nz6BPsE+/r7S/xL/If+fP86AFUAwgBlARQBwgBwABQBwgCX//T+D/9A/Wb8ZvzD+4376foE+3H7O/vp+iD7qPve+7j8Zvy4/FH+Uf6i/qL+h/7Z/lH+5P3k/f/9Gv41/lH+vv5G/0b/cAD4AMIAnAEJAtIB+ADdAN0A3QD4ANIBdgJ2AuICNAM0AxkD/gI/Aj8CTwNgBGAElgSxBLEEhgPiAqwCWgIJAi8BnAGnAHAA6f8P/w//9P5s/lH+d/3v/Gz+Nf41/of+Gv5R/vT+zv8vAXYCNAOGAykEewShA08DawN2AloCWgIvAd0AOgCz/3z/9P6+/uT9//3k/Vz9Jf3v/Ar9Cv3v/IL8yP3Z/rP/zv98/87/HwD0/uT9Nf4l/cj9rf2S/Rr+Nf6H/uT9Nf41/of+2f6i/g//Rv86AN0A0gGcAd0A3QCLAIsAiwDdAN0AgQGcAUoBFAEvAfgALwG3AbcB7QGcAQkCLwGnAIsAwgDp/zX+Nf7v/CX97/yo+3H7VvtW+yD7nfwK/TX+Rv+X/6cA+ADSAQkC0gGcASQCZQGnAN0A6f9h/2H/h/7I/Xf95P1R/v/9//2i/q39XP3//bj8Cv0l/Xf9yP0a/hr+5P0a/q39yP01/v/9h/4P/zX+Nf6i/nz/s/+z/5f/HwCnAAMA3QCBAQkCJAIkAtIBNAOhA/MDAwWxBJYEoQOGA7wD2AMZA08DNAPtAccCkQLiAv4CdgKcAUoBtwH4AJwBZQGBAe0BwgA6AOn/D/9R/iX9MPxm/DD8w/vD+2b8Ffzv/Gz+Rv9KAbcBPwJaAv4CrAKLABQBwgCX/87/6f+i/jX+Uf6S/dP8Jf3I/UD9d/3k/TX+9P4a/jX+Uf6+/mH/9P58/x8AiwB8/+n/l/+H/tn+Rv9h//T+Yf+X/3z/zv9h/zoApwAq/9n+ov6z/3z/iwAJAkoB+AAvAZwBtwGRAjQDNANPA2sD/gJ2AloCtwFlAWUBwgAvAZwBFAGLAJf/Rv8P/9n+Kv8q/0b/2f4P/zX+7/xm/Gb8FfxW+1b7FfyC/NP85P3I/Ub/OgDCAGUBxwL+Ak8D2AP+AqwCwgBwAAMAD/9s/qL+QP24/Fz9+vsV/IL8Zvww/J38kv2+/mH/Yf8q//T+Yf9G/0b/ov7k/TX+bP6H/nz/Kv98/3AAVQDCANIBtwGcAQkCnAHSASQCSgFKAS8BFAE/Au0BCQKRAv4CJAIkAqwCdgI0A6EDewQOBEQENANPA2sDxwLHAgkCdgKcARQBSgFwAAMAs/+i/r7+Gv7k/ZL9QP13/Z38S/ww/CX9QP3I/TX+Kv/4AIEBkQKcAdIBgQEvAUoBwgAUAR8Azv/0/r7+5P0K/e/8MPy4/Gb8S/ww/CD7IPuo+1b73vut/Rr+vv4P/2z+ov70/uT9Nf6t/ZL9Nf6S/dn+Rv9G/0b/zv+z/1UAVQCnAC8B+ADSAUoBJAJlAS8BnAGnAMIAnAEvAS8B3QBVAIsAVQCnAHAAgQE/AnYCxwL+AjQD0gH4ABQBVQA6AB8A6f8q/6L+h/4l/Z38MPxL/Kj7Zvy4/Ar9h/6i/ir/Yf+z/1UAcADCANIBFAH4AEoBzv8DAGH/h/5s/qL+Gv5A/ZL9yP3//e/8nfyN+8P7S/ze+7j8uPzv/K39rf2H/g//9P7p/x8AAwCX/4sAOgCz/2H/fP86ABQBSgEUAZwBVQDCAPgAwgDCAC8BCQIZAxkD8wNVBdgDTwOsAqwCkQK3AQkC0gEJAiQCnAGBAS8BFAFlAT8C7QEUAd0ALwEvAUoBiwDp/yr/Rv++/lH+kv0K/UD9IPve+/r7S/zI/Wz+l/86AN0A3QDSAe0B7QE/ApwB3QCLADoAAwCX/4f+ov5R/uT9d/01/hr+rf13/Vz95P1c/Vz9Cv0K/SX9yP3k/b7+l/++/ir/h/5R/hr+ov4P/5f/iwBVAKcA+AC3AUoB3QCLAFUAFAHdAC8BFAEUAUoBSgFlAawCTwPHAjQDkQKsAscCrAJlAYEBWgJKAe0BgQEkAtIBZQFKAVUAcACLADoA3QBlAQMAzv9G/9n+//2C/MP7VvvO+lb7cfvD+zD83vu4/JL9Uf58/4sAFAHSASQCPwK3AXAAYf9h/w//5P1c/SX90/y4/N77S/ww/Kj7nfx8+qj7uPxm/Ar90/zk/eT9//3k/aL+Kv+H/of+Nf6t/VH+Nf4P/zoAfP+LAO0BWgKsAqwC7QGBAfgAFAEUAd0A0gE/AnYCWgIkAloCCQJaAjQDoQNgBAMF6ASxBPgFwgXdBXAFKQS8A5ECPwLtASQCJAKcAd0AwgDCAIsAHwCLAIsAs/+i/lH+//1A/a397/zk/Xz/Rv86AAMAs/86AHAALwGLAKcAZQEkAqEDNAMkAkoB3QDdAM7/Yf9s/of+Nf7T/NP8Cv0a/r7+VQBlAWUB3QBG/639Cv1L/Dv76frp+nz6kviS+JL4qfap9qn2qfaS+JL4fPqN+538Jf2S/Rr+h/6X/90APwIZAzoFzQSWBJYERAQpBM0EnAbiB0AJjQu0DNsN2w20DI0LZwpACRkIPweABh4FsQTYAwkC+ACz/2z+7/ww/Jj6IPv6+7j8vv5s/tn+Kv+z/2H/bP5A/TX+uPxx+xX8IPvD+2b8uPxx+437fPqS+JL4kviS+Kn2kvip9qn2v/S/9L/0v/TV8r/0v/S/9Kn2qfaS+Hz6IPtL/CX9QP30/h8AgQG8A7EEiwWLBaYFcAXNBM0EnAbiB0AJjQu0DNsNtAy0DI0LjQuNC2cKQAkZCBkIdQdaB2UGwgXNBA4EhgMZAxkDrALiAoYDlgREBHsEzQSWBOICSgFh/0D9w/t8+nz6kviS+JL4kviS+JL4kviS+JL4kviS+JL4fPp8+un6fPqS+JL4kvip9qn2qfap9qn2kviS+JL4fPqz+jD8QP2+/s7/FAHiAvMD6ASmBR4FlgQOBPMDewQvBuIHQAlnCmcKZwqNC40LZwpnCo0LQAn+BxkIWgcIBy8GHgWxBKEDNAN2ApwBkQLiAvMDYAQ6Bd0FEwbdBQMFKQSsAtIBVQBG/5L9Cv0K/d77+vsV/DD8Zvze+3z6kviS+Kn2v/S/9L/01fLV8uvw6/Dr8Ovw6/Dr8NXyv/Sp9pL4fPpW+7j8yP2H/osAnAE0A+gEAwXoBDoFDgShA+ICNAN7BOgEgAYIBxkIQAlACUAJQAkZCJEHZQbdBd0FiwWWBGsDrAKcAd0ARv8a/hr+bP5h/87/pwAkAj8C7QHSASQCSgFlAS8Bl/9G/9n+bP4a/mz+ov4P/3z/Kv+H/mz+5P2S/Z38IPsg+wT7s/p8+pL4kvip9qn2v/Sp9r/0v/Sp9qn2kviS+JL4IPuo+yX9h/6nACQCGQOWBA4EzQR7BGsDYAQ6BZwGGQhACWcKjQuNC2cKZwpACRkIrAesBz8H7QaABhMGLwZ7BP4CJAIUAQMAfP98/87/wgAvAZwBZQHtAVoC7QEJAi8B6f+H/pL9d/2C/Pr7O/v6+zD8Zvyd/HH7fPp8+nz6kviS+JL4kviS+Kn2qfap9qn2v/S/9L/0v/Sp9qn2qfaS+JL4fPrO+oL8kv2X/4EBdgJgBMIFwgXdBUoGLwYkB8cHQAlACY0LtAy0DNsNtAxnCkAJGQgZCOIHLwacBjoFoQMZA4EBwgBh///9yP13/Xf95P1R/g//fP/O/wMAOgD0/jX+Gv7v/I37s/p8+nz6fPp8+lb7w/u4/J38+vv6+3z6fPqS+Kn2kviS+Kn2qfap9qn2v/S/9L/0v/S/9Kn2kviS+JL4fPoE+wr9yP2nAD8CewSABloH4gfHBxkIPwftBscHGQhnCo0LtAzbDdsNtAy0DLQMZwpnCkAJGQgZCD8H0gYTBs0EoQOBAQMA5P1A/TX+d/2S/dn+Kv+z/1UAiwBlARQBcADO/6L+7/wV/Fb7fPpx+xX80/wK/Uv8ZvwV/CD7fPqS+Kn2qfap9qn2qfap9qn2v/S/9L/0v/S/9Kn2qfap9pL4kvh8+nz6S/y+/koBawMeBUoGdQeRB+0GkQeRB0AJQAlnCrQMtAwCDykQKRApEAIPtAy0DI0LjQtACRkIJAfSBpwG8wM/AsIAh/6S/e/8uPy4/IL8Jf2S/Xf9yP30/tn+Nf6S/Z38s/qS+JL4kviS+JL4fPp8+pL4fPp8+nz6kviS+JL4kvip9qn2qfap9r/0v/S/9L/0v/S/9L/0v/Sp9qn2kviS+JL4fPqN+5L9wgAZA3sEcAXtBrcGSgZaB8cHQAlnCo0LtAwCDykQKRApEAIP2w20DI0LjQtnCmcKQAkZCLcG+AUOBP4CtwFwAHz/vv6t/eT9Gv5R/tn+9P5h//T+zv/0/nf9kv3e+876fPog+wT7BPuo+3H7+vtx++n6BPt8+pL4kviS+Kn2qfap9qn2v/S/9Kn2qfap9qn2kviS+JL4kvh8+pj66fqd/Br+pwBaAtgDLwbSBggH/gdaB0oG7QYZCEAJZwqNC7QM2w3bDdsN2w20DI0LZwpnCkAJGQgkBz8H3QWhA2sDtwHCAHz/ov4a/q39kv1c/cj9//2+/g//s/8P/9n+Gv5L/Kj7fPp8+nz6BPuz+sP7ZvyN+3H7fPp8+nz6kviS+JL4kviS+JL4qfap9qn2qfap9qn2qfap9qn2qfaS+Kn2kviS+Hz6jftc/Zf/ZQGRArwDewQpBPMDYASmBdIGQAlACWcKjQu0DLQMtAyNC2cKQAlACRkIGQisB5wGpgXoBNgDPwIUAXAAs/8P/yr/vv5R/lH+2f5h/87/3QADAKcAzv/Z/r7+yP0K/SX9rf3T/Mj95P1A/Xf9Cv0w/HH7IPt8+nz6fPp8+pL4kviS+Kn2qfap9qn2qfaS+JL4kviS+JL4kvh8+rP6Cv2+/hQB8wMeBbcGnAYkBxkIWgesBxkIGQhnCo0LtAzbDdsN2w3bDbQMtAyNC2cKZwpnCmcKQAl1BxMGKQS8A/4CJALCAKcAs/98/+n/Kv/O/xQBdgLtAZwB0gGcAd0A6f9G/6390/wl/Xf95P1A/ZL9XP1m/DD8w/tx+3z6fPqS+JL4kviS+Kn2qfap9r/0v/Sp9qn2kviS+Kn2kvip9qn2kvh8+oL8Uf7p/5wBxwKhA2sDawMOBGAEOgXtBhkIZwq0DI0LjQuNC40LjQtnCmcKZwpnCkAJ4gfSBi8GDgSsAi8BiwA6AA//5P24/O/80/yS/a39h/4P/2H/Rv+i/jX++vvO+un6fPp8+rP66fpx+wT7cftL/Fb7fPp8+nz6fPp8+nz6kviS+Kn2qfa/9L/0qfap9qn2qfap9pL4qfap9qn2kviS+On67/y+/i8BWgKhA2AEKQRgBLEESgYkB0AJZwqNC7QMtAy0DI0LjQuNC2cKQAlACUAJ/gdaBy8GAwUOBGsD4gIkAvgA6f+X/77+Gv7Z/nz/+ACcAcIAwgD4AB8AYf8a/v/9kv24/O/8kv2S/Vz90/yo+/r7cfve+zv7mPp8+pL4kviS+JL4qfa/9L/0qfap9qn2kviS+JL4kviS+JL4kvh8+mb8h/5VANIBoQMpBGAEHgVVBfgF7QaRB0AJZwqNC7QMjQuNC40LjQtnCkAJZwpnCkAJGQgZCAgHEwYDBaEDPwIJAu0BHwD0/sj9rf2t/eT9Nf5h/wMAOgBwAOn/HwBh/6L+bP41/jX+bP6+/nz/Kv9s/pL97/ww/MP7+vtx+876mPp8+pL4kvip9qn2qfap9qn2qfaS+JL4qfap9qn2qfaS+JL4BPvk/Xz/LwF2AmsDvAOhA0QEsQTdBQgHGQhACWcKjQuNC2cKjQuNC0AJQAlACRkIGQjHB+0GLwbNBKwCtwHdAKcAs/8a/lz9nfzv/K39Gv58/wMAAwCz/yr/9P6t/ZL90/xL/Ar9Jf0l/eT9yP0K/Qr9jftx+yD7fPp8+nz6fPp8+pL4kviS+Kn2qfap9qn2kviS+JL4kviS+JL4kviS+Hz6qPuS/en/SgF2ArwD6AQTBpwGHgUTBj8HGQhACY0LjQu0DLQMtAy0DI0LjQuNC2cKZwpnCmcKGQgZCHUHnAZgBGsDtwFwAJf/5P2S/Xf9//3Z/nz/6f86ALP/l/9R/kD9uPww/Pr7+vtA/UD90/ww/Pr7w/vO+pj6fPqY+iD7fPp8+pL4kviS+Kn2v/S/9L/0qfap9qn2qfap9r/0v/Sp9qn2kviS+CD77/yH/nz/OgDCAGUB7QGsArwDRATdBVoHGQhACWcKZwpACWcKQAlACUAJZwpACRkIxwd1B5wGiwXoBGsDJAJKAen/zv9s/oL8Jf2+/of+Kv/p/1UAl/+H/uT9Jf1A/ZL9//1R/qL+9P6X/1H+d/13/Z38nfy4/Fz9kv0a/hr+uPzO+pL4kviS+JL4kvh8+nz6fPp8+pL4kviS+JL4kviz+kv8XP0q/4sACQKRAnYCoQMpBHAF0gb+B0AJZwqNC40LjQuNC40LtAyNC40LZwpnCkAJQAkZCJEHkQcTBgMFKQSRAvgAs/8a/iX9kv3I/TX+fP8fAB8As/9G/639S/xm/Ev8Zvzv/Br+ov7k/Rr+kv3T/Gb8jfv6+2b8Zvwl/dP8MPyz+pL4kvip9qn2kviS+JL4fPqS+JL4kviS+JL4kviS+LP6d/1R/lUAJAIkAv4C/gI0A4YDlgSmBbcGQAlACUAJZwpnCkAJQAlACUAJQAkZCP4HdQc/B1oH0gbNBM0EoQNaAqcAD/9c/e/8S/wV/IL80/xc/VH+bP4q/0b/rf0K/Wb8nfwK/Rr+rf1s/jX+ov6t/UD9rf2C/J38+vsK/YL83vtx+3z6kvip9qn2qfaS+JL4kviS+JL4kvip9qn2qfap9pL4fPp8+t77yP3Z/un/cADdALcBtwH+AnsEpgU/BxkIGQgZCP4HGQiRBxkIQAkZCBkIPwfHB6wHrAeABsIFlgQpBHYCwgBh/2z+//3//eT9h/5VAIsAZQHdAN0A6f9G/0b/vv58/2H/zv+nAOn/6f8DAL7+Uf7k/SX9XP13/eT9Nf7v/I37IPt8+pL4fPqz+rP6BPvO+nz6kviS+JL4qfaS+JL4fPqo+0D9h/7O/8IACQI/AtIB4gK8A7EEEwYZCEAJQAlACUAJQAlACWcKZwpnCmcKZwpACRkIQAlACUAJGQiRB8IFNANlAYsARv9s/r7+s/86AAMApwBlAZwBiwB8/2H/Yf8P/2H/Kv+z/87/l/+z/9n+ov5A/e/8XP3I/VH+5P1A/Wb8jft8+nz6fPqY+rP6BPtx+8P7zvp8+nz6kviS+JL4fPrp+p38Jf01/rP/zv+LAMIAZQEJAv4C6AT4BZwGWgfHBxkIQAlACUAJGQhACUAJxwd1ByQHJAckB6wHJAeLBWAE4gKcAXz/XP1L/N773vsw/O/80/xA/Xf9nfxL/Pr7w/sg+1b7nfyd/Ar97/wl/TD8cftx+3H7Ffz6++/8Jf24/Fb7fPqS+Kn2kviS+JL4kviS+Hz6s/p8+pL4kviS+JL4kvjp+hX80/wq/2H/OgAvAdIBtwH+ApYEHgX4BT8HQAkZCEAJZwpACWcKZwpnCkAJQAnHBz8HWgcIB9IGCAcIB5wGHgVPA3YCiwD0/mz+7/xc/VH+Nf5R/mz+9P6H/r7+h/4q/w//bP58/w//s/8DAJf/2f4P//T+h/6X/wMA6f++/v/9Zvz6+yD7fPqY+gT7w/ve+2b8Cv1m/Fb7fPqS+JL4kviS+Hz6+vuS/Yf+Yf8fAM7/wgAvAT8CGQO8A1UFgAaRBxkIQAlnCmcKZwqNC0AJZwpACUAJQAn+B/4HkQcZCO0G7QY6BdgDPwLp/yr/h/41/pL9vv5G/yr/Yf++/lH+d/13/f/9Jf3k/Q//Yf9h/9n+Uf41/jX+kv1c/f/92f5R/uT9Jf3D+3z6kviS+JL4kvh8+nz6fPqz+nz6fPqS+Kn2qfaS+JL4kvh8+lb70/yt/dn+vv4q/zoAtwGsAoYDewR7BLEEiwVlBj8HJAeRBxkI4gc/Bz8HZQbSBggH0gZ1B5wG0gaABpYEoQOBAR8AfP9h/yr/Kv8fAAMAAwDp/wMA6f9h/2H/Kv86AKcAOgBVAHAAKv/I/SX97/z//fT+yP13/e/8S/xx+3z6kviS+JL4fPqS+Hz6fPp8+pL4kviS+Kn2qfap9qn2qfaS+Hz6zvow/J387/zI/Vz9nfyt/d0ACQJlAeICEwbiB0AJZwq0DNsNtAyNC2cKQAk/B3AFiwVVBXAFYASxBOgEhgPYA8cC7QHSAe0BWgKBAYEBnAHCAA//Nf5s/lz9zvqS+Fb7Kv9KAbcB/gLCBVoHGQgZCD8HVQU0A6cA0/yS+L/01fLV8tXyqfaS+IL8vv4JAjQDWgIUAWH/O/u/9BftAe/V8tXy1fK/9Br+zQQZCGcK2w3bDY0LZwqABpwBCv2S+Kn2kvjO+kD99P5EBGcKtAwCDwIPAg8CD40LpgU/AhQBUf58+pL4s/qC/Lj8XP3p/3YCxwLtARQBl/9L/JL4qfap9qn2kvh8+jv7Nf5wAPgAnAE/AnYCwgD0/hr+3vuS+Kn2qfap9qn2kvhW+3z/JAJPAzQDkQIUAeT9fPqp9qn2v/Sp9qn2kvjp+jX++ADtAYYDHgX4BSkENAPtAZf/l/86ALcBawNVBawHZwqNC40LdQcZCGcKjQtACVoHjQvbDY0LGQhACRkIiwVrA4EBiwD0/lz9Cv01/r7+ov6t/Xz/gQEJAscCGQOmBZwGRARwAM7/OgBR/rj8MPwa/s7/D//k/Sr/s/+H/mb8MPz//dn+d/1W+0v8Zvzp+nz6kviS+JL4qfaS+Hz6mPp8+nz6fPpx+2b80/zI/Yf+pwAUAWUBNAMeBWAEYAT4BZEHJAdwBZYEOgWABkQEawPYA4sFCAcTBggHCAeWBCQCVQCX/1H+QP3e+wT7uPz//b7+d/2t/Sr/s/9R/qL+7QFaAnAARv8UAd0AnfwE+yr/HwD0/r7+s//CAEoBwgDI/ZL9rf3v/DD8Zvx3/UD9+vuo+xX8Cv3p+pL4kvh8+nz6kvh8+iD70/y4/Ar9Uf4P/w//zv+cAYEBGQOWBPMDKQSABkAJPweABhkIkQfCBQMFgAa3BloHgAYIByQHZQb4BawCYf8q/wMAXP0w/JL9ov4q/2H/iwDCAGH/s/98/77+Yf+X/6L+fP9VAPT+Gv6t/Q//cABVAAMAHwCLAFUAYf9A/Uv8O/uS+Hz6fPrO+lb7S/yH/lH+kv24/IL80/wK/aj7Vvtm/CD7fPp8+hX8uPyH/joAFAGRAqYFpgVgBLcGQAkZCO0GxwdaB6wH0gaABpwGPwf+B8cHQAlnCmcKZwpACVoHpgWhAz8C9P70/nAAcAAfAFUAZQFVAIsAHwADAA//2f7O/wMA6f///Uv87/wa/v/9//2i/kb/VQDtAQMAd/2t/fT+cfuS+Hz6zvpW+5L4BPuC/Pr76fqS+JL4fPqp9qn2kviS+Hz6fPqS+JL4qPuS/TX+h/4fANIB+AAvAVoCVQWxBGAEPwdnCmcKrAdKBmUG4gftBmAEhgPtBkAJ7QZVBfgFCAfCBYYDrAKRAscCnAGz/8IAnAHO/7j87/y+/mz+s//4AEoBJAJ2ApECkQLSAfgA9P58/8IACQL4AB8AGQPNBBkDwgA/ApECLwGnAO0BPwIvAc7/SgEvAbP/Yf/I/fT+Kv+H/kv8nfxh/3z/h/6H/koBRAR7BCkEYAQvBkAJZwoZCBkIQAkIB7cBAwCi/pj6v/QX7S3rWeeF497b9Nmx34Xjb+UX7ZL43QAZCAIPxRTrFXcStAwDBZ38v/QX7VnnWect69XyfPoJAo0LnhMSF2AZYBkSF3cS2w0ZCGsD2f6S+L/0v/S/9L/0qfbp/yQHtAxQEesVEhfrFZ4T2w0TBmH/qfbV8gHvAe8B79XykvgZA7QMdxJgGfwdSSAjH2AZnhPbDRkIJAJc/bj8yP0a/i8BJAfbDXcSORjVHCMfIx/VHBIXAg+sBzX+qfbV8gHvWefI3SDW9Nn02TbUeM5M0grYsd9Z5xftv/RW+0oBawPNBLwDov6p9tXy1fLr8C3rQ+kB79Xykvh8+i8BQAm0DAIPKRB3EncS2w3HB8IFzQTdADv7kviN+/T+Yf9G/xkDZQbiB3UHxwdKBkoBgvx8+qn2v/S/9JL45P3NBLQMKRCeExIXhxpgGRIXxRR3EgIPjQtnCkAJxwecBhkIjQvbDbQMtAwpEHcSUBEpENsNjQtnChkICAeABsIFhgN2At0AZQFwAHf9ZvxR/nAAOgCX/wr9bP5s/jD8kvi/9NXy6/Dr8Ovw1fLV8uvwAe/r8BftWefe2zbUNtRi0I7MeM421ArYsd9D6b/0fPoq/5wBTwPiAjoAfPq/9NXy1fLr8NXyqfb6+6cALwa0DHcS6xUSFzkYYBmHGjkYUBECDwIP2w1ACUAJjQsCDwIPdxISFzkYORgSF8UUUBHbDUAJVQVgBFoC6f9lAQgHtAxQEXcS6xU5GBIXEheeEwIPZwopBDX+mPqS+JL4kvhm/IEBwgVlBsIFSgaABikEgQHp/4L8jfuS+Kn2qfaS+JL4qfap9nz6+vuS+Kn2kviS+JL4qfaS+Hz6fPqo+zX+vv70/kv8kviS+JL4qfbV8uvw1fK/9C3rheOx37Hf3tsK2ArYyN1v5UPp6/CS+L7+xwKxBBkIjQtACXYC7/xL/Hz6kvip9nz6iwDCBWcKKRASF64bYBnrFcUUnhPbDUAJGQgZCHUHVQXtBkAJjQu0DLQM2w0pEAIPjQviBx4F7QEg+6n2qfap9r/0v/RL/AkC+AVnCgIPnhPrFcUUUBEpENsNWgc/AosAl//O/90AJALiBwIPUBF3ElARUBFQEQIPjQtlBlUFawNs/sP7O/t8+qn2kvh8+tP8AwDdAM7/9P4vAYL8qfbV8uvwF+1D6UPpLesB7+vwv/TV8hftb+WF48jd9Nkg1jbUINb02YXjLeu/9Dv7zQSNCykQtAxACWAEgvy/9NXyAe8t6wHv1fKS+Ev8ZQYCD54T6xU5GNUcrhtgGXcSAg9nChkI6ATtAQkCPwe0DCkQxRRgGa4bhxqHGhIXAg/SBtIBJf07+3z6kvg7+90A0gaNCykQnhPrFesV6xWeEykQQAm8A1UAvv58/3z/h/5lAf4HjQuNC40LAg8CD9sNjQtnCqwHKQRlAf/9uPyz+iD7fPp8+iX9l//k/SX9Cv18+r/06/AX7S3rWedv5YXjWecX7S3rb+Wx37Hfsd/02TbUTNIg1t7bsd9D6b/06f+RBwIPnhMSF8UUAg8TBnAA6fq/9NXy1fKp9rP6HwBVBdsNnhPFFMUU6xU5GMUU2w1ACccHvAPdAB8A+ABKAWAEQAkCD1ARnhPFFAIPjQvdBYsAfPqp9r/0v/SS+Mj9gQFVBUAJjQsCDwIP2w2NCxkIwgU0A1UAVQDO/2z+Gv74AGAEVQUZCBkIZwrbDVARdxJQESkQAg9QEQIPjQtnCkAJWgf+B2cKtAzbDbQMZwqABuICvv6p9tXy6/Dr8AHvF+1D6YXj3tsg1mLQpMrRxufEushi0PTZb+UB75L42AONC7QMAg9nCjQDfPrV8hftQ+lv5VnnLeu/9B8AGQhQERIXrhvVHK4bORh3EmcKrAL0/nz6qfap9qn2fPoDAAgHZwrbDVARnhNQEY0LnAZVAGb8fPqS+JL4QP0ZA3UHtAx3EjkYhxpgGWAZYBmHGusVdxICD7QMjQuNC2cKjQu0DLQMAg8CDykQAg8CD9sNAg8CDwIPtAyNC7QMjQsZCJwGtwZrA6ED8wPYA/4CnAH0/gT7kvi/9OvwAe8X7RftAe8B72/l9Nk21HjOusjnxBPB/cK6yEzS3ttZ59Xyjft2AlUFnAZPA7j86/BD6W/lheOF41nnF+2p9koBtAzrFa4b/B3VHK4bORieE9sNQAkeBT8C4gLNBD8HQAm0DFARORjVHK4bYBnFFNsNLwb4ADv7kvi/9L/0fPqnABkItAxQEcUUORhgGTkYxRRQEQIPjQtnChkI7QYvBoAGVQWsB40L2w0CDwIPAg9QEXcSdxJQEbQMjQsZCJwGHgUkAh8Avv5h/7P/gQEvAVUAl/+d/JL4v/TV8uvwAe/r8Ovw6/DV8hftheP02TbUjszRxufE0cZ4zvTZWefV8koBjQvFFGAZORh3ErQMkQKp9hftWeeF44XjLevr8JL4GQMCDxIXrhv8Ha4bORh3EtsNkQeGA6cAbP7T/Nn+DgRACbQMKRB3EsUU6xWeEwIPGQhKATD8kvip9qn2v/SS+Ev8gQEZCGcKZwpnCo0LZwqRB+gE6f8w/CD7qPsl/VUACQJgBKwHjQvbDdsN2w20DLQMtAzbDbQM2w0CDwIPUBGeE54TUBECD7QMQAmABvMDwgBs/nz6v/S/9Kn2qfap9pL4IPui/sIAnAGnAB8Ad/18+r/06/AX7cjdjsz9whPBKb8pvym/0cY21G/lv/SsAgIPEheuGzkYnhPbDc0EqfZD6Zvhm+GF42/lF+3V8sP7nAYpEMUUEheeE9sNZwpACeIHHgUkAvgAdgK3BtsNdxLrFTkYYBlgGYcahxoSF1ARQAmmBfMD2ANrAzQD2AOsB9sNUBHFFBIX6xWeE1ARKRDbDUAJewRwANP8nfxR/nz/l//p/2UBRASLBToFEwbtBvgFvAN2AgkCKQSsAgkCCQK8A4AG6AREBKEDPwK+/sP7qfbr8BftWedZ51nnLesB7+vw1fKS+Dv7Jf1A/fr7kvip9qn2qfa/9L/0qfa/9Kn2fPpL/Hz6qfbV8gHvF+0B7xftQ+lD6S3r6/C/9Dv7Kv8OBD8HQAmNC40LZwo6BfgA6fqS+Kn2qfa/9L/0fPqH/tgDGQiNC7QMAg8CDwIPKRBQESkQ2w1nCo0LtAy0DNsN2w3bDSkQKRACDwIPtAxnCoAGDgQZAzQDSgHCAJwBdgIDBQgH0gYDBXAFYARrA9IBwgC+/u/8XP01/s7/nAGWBKYF3QXtBv4HGQgZCD8HZQaRBxkIrAdACUAJxwdaB0AJQAlACY0LjQu0DNsNAg/bDY0LGQhEBBQBRv+t/c76kviS+Kn2qfbV8oXjYtATwWu5rbOts4G3P72OzJvh1fLdBcUU/B1wIdUcdxLSBjD8Ae+F4/TZCtje22/lAe+S+AkCjQueE+sVxRQpEGcKlgQq/3z6qfap9pL4Vvts/h4FjQt3EjkYrhuHGmAZ6xVQEWcKzQQvAbj8XP30/qcAAwVACbQMAg93ElARUBEpENsNGQi3BmUGtwbiB3UHWgdnCikQAg8pECkQAg+NCxkIvAPp/xQB3QA6ADoApgV1B40L2w0CDykQAg/bDUAJLwZaAg//kvi/9AHvLest6y3rF+3r8NXyv/Sp9s76Jf01/t77qfbV8gHvF+0X7RftAe8B7+vwqfad/IsALwHZ/pj6kvip9r/0Ae8X7S3rQ+kt6xftF+3r8Kn2kviS+DD8Uf6+/hr+yP0V/J38S/yS+JL4fPr6+4f+LwHiAosFQAmNC40LjQu0DI0LjQtnCmcKtAzbDdsN2w0pEJ4TnhOeEykQtAy0DNsN2w0CDykQUBGeE+sVEhfrFesVdxIpENsN2w20DI0LjQtnCo0L2w0pEFARdxJQEVARAg8pEFARdxJQEXcSnhOeE1ARjQsIB437Wedi0Cm/2a8cqhyq8K2Bt9HG3tsX7d0AAg+HGvwdhxopELP/1fJv5cjdCtgg1grYsd8t67/0bP6sB7QMAg+0DC8GtwGi/kv8fPqS+JL43vucAccHAg/rFa4bIx8jH9UcORjFFAIPGQhaAs76v/TV8tXy1fK/9JL4zvqd/Hf9uPy4/Hz/Yf///Vz9FfyC/GH/4gLdBUAJjQu0DGcKZwpnCscH0gZEBKED2AOcBhkIjQsCD1AREheHGtUc1Rz8HdUcEhdQEY0LNAOS/ZL4v/Tr8NXyv/R8+lz9Nf5G/9n+Yf8K/d77fPqS+L/01fIB7xftAe/r8Ovw1fK/9Kn2qPui/g//Gv6S/VH+BPuS+JL4kvip9pL4qfap9pL4fPol/SX9bP7v/DD86fqS+Kn2kvh8+pL4Cv2z/6EDPwdnCmcKQAlACe0GsQQJAqcAZvzD+3z6qfap9qn2qfaS+Pr7h/5lAZECrAIJArcBWgLCAIsApwA6AHYCwgWRB2cK2w3bDdsN2w3bDbQMtAy0DGcKQAkZCMcHCAe3BqYFewRgBDoFVQWLBVUFwgWLBWAEPwI6AHz/Kv+i/mb8s/qS+Kn2qfap9qn2kviS+Kn2v/TV8tXy6/DV8tXyv/SS+M76Cv06AKwCGQNEBGAEoQO3AZECawMZA3sEzQTNBJYEzQT4BS8GkQdACSQHRATHArP/uPww/BX8cfs7+0v89P5lATQDhgORAqwCZQFVADX+XP3v/ED95P0a/r7+AwBlAVoChgM0A7EEewR7BFUFrAdnCmcKjQtnCmUGSgFx+9XyLetv5Zvh3tve28jdsd9v5S3r6/C/9Hz6d/0a/lH+s/9wAM7/gQGBAbcBNAPzA4sFdQdACWcKjQuNC0AJPwceBT8CgQGnAAMAOgAkAnsEGQjbDSkQnhPrFRIX6xXFFJ4TdxIpEAIP2w1nCkAJGQgkBz8HGQgZCOIHZQbCBXsEDgQ0A9IB+ACX/8j9d/2X/6cAGQOmBXUHdQfdBUQELwHk/Vb7kvjV8uvwF+0t6y3rF+0B7+vw1fLV8tXy6/Dr8Ovw6/Dr8Ovw6/Dr8Ovw1fKp9pL4kvgE+zv7+vvv/JL9Gv7I/Qr9+vuC/CX9Nf5lAWsDLwZACWcKZwpnCmcKGQiRB90F6ARgBGsDGQPiAg4EYAQDBcIF+AWmBcIF+AVKBi8GRAShA6wCFAH4AEoBtwGsAvMD6AQvBloHGQhACRkIdQfCBUQExwI6APT+QP1x+6j7Zvx3/TX+h/70/g//5P2d/BX8MPyd/NP85P30/gMAcAAvAYEBnAHSAacAcADO//gAOgADAKcAHwAfAHz/OgCnAGUB3QCBAToAh/4l/bP6fPqS+JL4fPrO+hX8Jf13/Ub/zv/dABQB6f81/q39nfwV/ED9kv1c/dP8d/13/Rr+XP01/vT+9P6z/4f+Uf4P/3z/iwCnAHAAFAFlAToAOgC3AQkCdgJ2AnYCWgKcAR8Azv++/hr+5P1s/joAgQGGA90FrAcZCEAJQAkZCP4HGQgZCEAJZwpnCo0LjQtnCpEHVQVrA7cBLwGz/3f95P3v/IL83vs7+1b7gvyt/Yf+Yf8DAKcAcABh/8j9ZvzD+zv76fo7+3H7uPy4/CX9MPze+6j7qPvO+pL4kviS+JL4kviY+sP7Jf0P/8IA0gGsAnYCLwHdAIf+ZvzO+nz6kvip9qn2v/S/9L/0qfap9qn2kvh8+vr7Ffwl/Qr9XP2t/a39Uf5VAD8CvAOABhkIQAlnCmcKZwpnCmcKQAlACRkIkQecBsIF2AP+AgkCWgIJAiQC4gLHAoYDawO3AZwBiwBG/3z/HwAfAFUASgEkAv4CkQKRAu0BSgHp/yr/Gv64/Fz90/zk/Q//9P4DAHAApwCBARQB6f/Z/kD9nfxL/BX8nfwg+zv7zvp8+nz6fPp8+gT7gvyd/K39Nf5R/jX+Gv7//Xf95P01/jX+Yf+X//4ClgTzA5YEpgX4Bd0FJAftBhkIdQdKBlUFKQTHAiQCCQL4AMIAFAFlARQBCQJlAen/+ABVAIsAcAAfAEoB7QEZA9gDhgPiAnYCPwIJAu0BLwGnAHAAHwADACr/s/9wAFUAOgCX/5f/D//I/bj8MPyo+9773vsV/IL8jfsg+7P6kvh8+pj6s/oE+4L8vv6X/x8As/++/of+2f41/ir/6f86AC8BnAEkAnYCGQOhA0QElgTdBZwGCAfSBrEEsQRgBHYC+ABVAOn/Rv+X/7P/VQAfAFUAVQDp/zoA2f6X/wMApwBwAIsAwgBVAN0A+AD4AAMAwgDO/3AAVQBh/90AHwDdAMIApwADAM7/bP7v/Gb8O/s7+wT7VvuN+8P7O/sE+wT7fPqS+JL4fPp8+iD7+vtL/Fz9bP6i/ir/Kv+H/r7+h/5G/7P/s//p/3AA+ACnAN0A7QE0A9gDYAREBHsE/gLtAWUBcACX/w//D/++/s7/l/8DAHAAAwCnAN0ALwFlAbcBWgLYA7EEHgX4BbEEzQSWBJYEKQS8AykEoQPYAykElgQ6BaYF+AWcBugE8wNPA2UBOgAP/2z+Nf6t/Qr9S/yC/BX8IPt8+pL4kviS+Hz6BPuN+/r7Cv3I/f/9kv3T/Hf9Nf6i/tn+6f/dAKcAwgDdAIEBkQJPA5YE6AQ6BQMF8wM0A3YCPwJwAM7/Yf8q/1H+2f6i/qL+D//0/s7/D//p/2H/s/+LAMIA3QCBAZECdgLHApwBSgGcAd0AFAFlAS8BnAFKAXYCGQNrAxkDnAFKAYsAHwB8/0b/h/7//f/9//0l/Wb8FfzO+s76fPp8+nz6fPqN+2b87/x3/Rr+Cv3v/O/80/zI/Rr+Yf/O/1UAVQA6AN0AZQEkAjQDlgQDBXAFzQREBCkExwKBAc7/Yf98/2H/D/8q/w//Kv9h/4f+2f41/v/95P3Z/tn+Kv/p/87/cAADAB8As/9h//T+ov7Z/hr+Nf4P/5f/3QBKARQB6f8q/xr+Uf7I/SX9QP36+xX83vsV/AT7s/p8+pL4kviS+JL4kvjO+p38kv2H/qL+bP7Z/kb/6f8q/x8A+AAvAQkCPwKsApECawO8A7EE6ASABqwHSgacBi8GOgXYA6wCtwHSAYEBtwG3AdIB/gIJAiQCtwFKAS8B3QBlAUoBWgJrAzQDdgKBASQCgQEvAT8CgQEvAWUB+ADdAGUBCQLiAmsDkQLtASQCcAAP/9n+9P6+/mz+rf0K/UD90/z6++n6fPp8+nz6s/r6+9P8Cv3I/VH+Uf5c/ZL90/wl/eT9//1G/0b/s/+z/+n/HwBKASQC/gJ7BHsEYATzA2AEGQNaAiQC+ACLAKcAAwCz/3AAVQBwAHAAAwDO/7P/fP8fAFUAAwDCAPgA+AAvAWUBFAFlASQCgQHdAHAAAwBVABQBZQE/AtIBCQKcAen/s/+H/qL+kv0l/UD9XP13/Qr9uPwg+977zvqS+JL4kvh8+lb7FfzT/ED9gvxA/Uv8S/wV/O/8d/2S/VH+bP6H/lH+s//p/y8BtwEZA0QE8wMpBBkDoQPiAtIBHwDp//T+yP0q/77+vv7//a39Uf4a/v/9XP1A/Wz+D//O/3AALwHdABQBwgBaAk8D0gEJAmUBSgGnAEoBPwKRAhkDoQNPA4EBZQEUAen/s/8P///9XP1A/Qr9QP3T/CD7mPqS+JL4kviS+JL4fPqz+nH7IPud/Ar9nfyC/NP8rf1A/VH+bP4q//T+ov4q/7P/pwAvAVoCdgJPA7wDoQMZA3YCZQE6ACr/s/8DACr/9P6X/+n/9P58/2H/Kv/Z/kb/HwBwAGUB3QDCAEoB3QCcAdIBZQEvAR8Azv/O/4sA+AD4APgA7QHtAe0BgQEq/0b/Kv8l/Uv80/x3/a39yP2t/Z38MPzp+nH76fp8+o37cftc/SX9rf2S/a39kv0K/b7+Rv/p/5f/cABwAKcAFAFKAbcBxwJ7BA4EcAWcBmUGgAZlBnAFKQQZA+0BFAFVACr/Kv9s/mz+ov5R/lH+Cv13/UD9yP3I/VH+2f5s/kb/Kv+X/zoAHwADAJf/ov4q/2z+Yf+LAM7/pwAUAUoBVQDCAHAA2f6i/jX+//13/Xf9kv0a/lz9uPww/Kj7jfs7+6j7nfwK/cj9Uf6+/gMAs/9G/6L+2f7O/1UAwgAvAdIBgQEkAscChgPzAx4FwgUvBhkIGQjHB/4HnAZwBXAFKQS8AzQDxwJaAiQCPwLtAYEBHwDdAC8BwgD4AEoBOgA6AKcA3QBlAYsAwgA6AM7/Kv/0/mz+yP01/lH+vv4P/1UAcAB8/87/l/8a/pL95P3T/O/87/wV/Pr7cfvp+pL4kviS+JL4kvh8+pj6fPrp+s766foE+8P7cftx+538Jf2i/vT+ov4P/3z/Rv86AIsA3QC3ARkD8wPYA8cCPwKcAen/6f9h/3z/zv9G/1H+bP5R/v/9Gv6i/kb/5P01/v/9bP5h/+n/zv9VAMIA3QDCABQB+ABVABQBAwADAPgAgQHSAU8DWgIkAkoBAwCz/2z+Uf7I/a39XP2S/Z38MPzD+wT7kviS+Hz6kvh8+nz6zvpx+zD8ZvyC/Pr7gvxA/VH+Uf6S/a395P2+/vT+fP8fAEoBtwHiArwDKQREBHsEewRrA5EC7QGBAYsAHwAfAAMAiwCLAA//bP6H/r7+Nf5R/mz+2f58/0b/Rv/O/5wB0gEJAtIBWgJKAXAA+ADdAKwCxwIJAscC4gJ2Ak8DJAKnAFUAAwAP/w//6f8DAM7/Uf41/v/95P3k/Qr9gvyC/O/8kv1R/of+vv4a/nf9//0P/zoAcAAfAB8AVQD0/mz+Yf/p/1UAtwHiAlUFGQhnCo0LjQtnCuIH3QUDBXAFOgW8A5ECPwIUAb7+d/1L/I37mPqS+JL4kviS+JL4kvh8+o37MPxL/M76fPp8+pL4VvtA/Sr/zv8DAMIAcADO/87/wgA6AFUA+ACLAHAAAwBG//T+kv0w/Fb7fPp8+nz66fqd/Hf9Nf7dAD8CPwI0A4YDawMOBOgEwgXSBuIH4gckB2UG2AMvAfT+Cv3v/Eb/VQAUAT8C0gFaAoEBwgD0/v/90/ze+6j7BPvD+xX8d/0l/Wb8s/qS+JL4kvip9pL4+vsl/Rr+kv3//dn+rf0l/UD9yP1s/ir/HwAvAU8DVQUTBpEHGQgZCBkIGQhACWcKtAy0DLQMjQtnChkIcAV2Akb/MPx8+pL4qfap9qn2qfap9qn2qfap9pL4kviS+JL4fPp8+nz6fPqS+Hz6fPqS+Hz6w/sK/f/9Kv98/8IAcAAq///90/yo+538w/uo+2b8d/1G/yr/OgCBATQD6ATtBhkIQAlnCo0LtAzbDQIPUBEpEI0LZwpACT8HOgUOBOICrAJlAbcBCQIUAdIBnAFlARQBwgDp/77+fP9h/6L+Nf7v/HH76fp8+gT7MPwK/cj9fP/SAZECsQRgBA4E0gFc/Xz6kvjV8gHvLetZ52/lheOF42/lQ+kB77/0kvjT/HAA3QWNCykQxRQSF2AZYBk5GBIXxRR3EgIPtAxnCrcG/gKcAQMA9P70/lH+yP2N+3z6kvip9r/01fLr8OvwAe8B7+vw6/DV8qn2fPpc/cIAzQTiB40LtAy0DI0LtAyNC2cKJAcpBLcBh/6N+5L4qfaS+JL4kviS+Hz6fPo7+2z+SgGWBD8HGQh1B0oGiwUDBUQENAMJAu0BxwJaAk8DAwWsBxkIPweABjoFKQQJAkb///3e+5L4v/Tr8AHvF+0t60PpQ+lD6S3rAe/r8L/0kvhW+//9l//CAMcCsQToBMIFnAZKBhMG0gasB0AJZwpnCkAJgAYvBh4F4gI0A7EEAwUpBIEBAwBs/u/86fqS+JL4qfaS+JL4kvhW+0D9D/+nABkDpgVlBuIHZwqNC40LZwpnCkAJxwf4BQ4EGQM/AnYCawPYA5YEwgUIB9IG3QXdBVUFsQQDBQMFsQQvAa39jfuY+qn21fIB7wHvLetD6UPpQ+kX7dXyqfZW+yr/awNKBkAJjQu0DAIPAg8CD9sN2w2NC0AJJAf4Bc0EnAHZ/r7+AwCz/xr+Jf3D+3z6kvi/9NXy6/AB7xftF+0t6xftAe8B7+vw1fKp9pL4XP0vAR4FrAdnCrQM2w0pEFARUBF3EncSnhNQEQIP2w20DLQMtAy0DI0LtAy0DI0LZwpnCkAJGQgTBk8DVQDZ/nf9zvqo+zD8IPtx+876s/ow/K39bP7I/UD9S/w7+876IPuY+pL4qfa/9L/0v/S/9NXy1fLr8Ovw6/DV8tXy1fKS+BX89P7CAA4ErAeNC1ARxRTFFBIXxRTFFOsVEhcSFzkYORiuG64bYBkSF8UUUBFnCscCBPvV8lnnyN021HjOusgTwT+9VbtVuym/0cZ4zgrYm+EB73z6DgS0DBIX1RxwIb4jDCZaKDMnMyflJHAh1Rw5GOsVUBECD40LQAnSBtIBvv7D+3z6kvip9tXy6/AX7S3rLesX7evwqfbv/HYCGQgCD+sVrhsjH5ci5STlJJciIx+uGzkYdxK0DEoGD/+S+NXyAe8X7S3rQ+lZ51nnWedD6UPpQ+lD6UPpQ+kt6xftAe/r8L/0qfaS+Lj8Rv9EBEAJ2w13EsUUEhcSFzkYEhc5GA==\" type=\"audio/wav\" />\n",
       "                    Your browser does not support the audio element.\n",
       "                </audio>\n",
       "              "
      ],
      "text/plain": [
       "<IPython.lib.display.Audio object>"
      ]
     },
     "execution_count": 22,
     "metadata": {},
     "output_type": "execute_result"
    }
   ],
   "source": [
    "ipd.Audio(dataset[0][0], rate = 16000)"
   ]
  },
  {
   "cell_type": "code",
   "execution_count": 6,
   "metadata": {
    "ExecuteTime": {
     "end_time": "2020-04-21T21:08:00.479253Z",
     "start_time": "2020-04-21T21:07:59.898301Z"
    }
   },
   "outputs": [
    {
     "name": "stdout",
     "output_type": "stream",
     "text": [
      "Totally 195898 samples with at most 198 samples for one class\n"
     ]
    }
   ],
   "source": [
    "dataset = SequenceDataset(scp_file = \"exp/processed/train_orig.scp\",\n",
    "                          utt2spkid_file=\"exp/processed/utt2spkid\", min_length=800)"
   ]
  },
  {
   "cell_type": "code",
   "execution_count": 7,
   "metadata": {
    "ExecuteTime": {
     "end_time": "2020-04-21T21:10:51.006473Z",
     "start_time": "2020-04-21T21:10:50.968695Z"
    }
   },
   "outputs": [],
   "source": [
    "from model import NeuralSpeakerModel, AngleLoss"
   ]
  },
  {
   "cell_type": "code",
   "execution_count": 8,
   "metadata": {
    "ExecuteTime": {
     "end_time": "2020-04-21T21:16:56.072094Z",
     "start_time": "2020-04-21T21:16:55.957006Z"
    }
   },
   "outputs": [],
   "source": [
    " model=NeuralSpeakerModel(model='resnet34', input_dim= 30, output_dim=1128, D=32, hidden_dim=512, \\\n",
    "            pooling='mean', network_type='lde', distance_type='sqr', asoftmax=True, m=2)"
   ]
  },
  {
   "cell_type": "code",
   "execution_count": 11,
   "metadata": {
    "ExecuteTime": {
     "end_time": "2020-04-21T21:18:37.157776Z",
     "start_time": "2020-04-21T21:18:37.146999Z"
    }
   },
   "outputs": [],
   "source": [
    "from torchsummary import summary"
   ]
  },
  {
   "cell_type": "code",
   "execution_count": 18,
   "metadata": {
    "ExecuteTime": {
     "end_time": "2020-04-21T21:23:28.137428Z",
     "start_time": "2020-04-21T21:23:28.127611Z"
    }
   },
   "outputs": [
    {
     "data": {
      "text/plain": [
       "(800, 30)"
      ]
     },
     "execution_count": 18,
     "metadata": {},
     "output_type": "execute_result"
    }
   ],
   "source": [
    "dataset[0][0].shape"
   ]
  },
  {
   "cell_type": "code",
   "execution_count": 14,
   "metadata": {
    "ExecuteTime": {
     "end_time": "2020-04-21T21:19:56.551792Z",
     "start_time": "2020-04-21T21:19:56.545779Z"
    }
   },
   "outputs": [
    {
     "name": "stdout",
     "output_type": "stream",
     "text": [
      "NeuralSpeakerModel(\n",
      "  (res): ResNet(\n",
      "    (conv1): Conv2d(1, 16, kernel_size=(7, 7), stride=(1, 1), padding=(3, 3), bias=False)\n",
      "    (bn1): BatchNorm2d(16, eps=1e-05, momentum=0.1, affine=True, track_running_stats=True)\n",
      "    (relu): ReLU(inplace=True)\n",
      "    (layer1): Sequential(\n",
      "      (0): BasicBlock(\n",
      "        (conv1): Conv2d(16, 16, kernel_size=(3, 3), stride=(1, 1), padding=(1, 1), bias=False)\n",
      "        (bn1): BatchNorm2d(16, eps=1e-05, momentum=0.1, affine=True, track_running_stats=True)\n",
      "        (relu): ReLU(inplace=True)\n",
      "        (conv2): Conv2d(16, 16, kernel_size=(3, 3), stride=(1, 1), padding=(1, 1), bias=False)\n",
      "        (bn2): BatchNorm2d(16, eps=1e-05, momentum=0.1, affine=True, track_running_stats=True)\n",
      "      )\n",
      "      (1): BasicBlock(\n",
      "        (conv1): Conv2d(16, 16, kernel_size=(3, 3), stride=(1, 1), padding=(1, 1), bias=False)\n",
      "        (bn1): BatchNorm2d(16, eps=1e-05, momentum=0.1, affine=True, track_running_stats=True)\n",
      "        (relu): ReLU(inplace=True)\n",
      "        (conv2): Conv2d(16, 16, kernel_size=(3, 3), stride=(1, 1), padding=(1, 1), bias=False)\n",
      "        (bn2): BatchNorm2d(16, eps=1e-05, momentum=0.1, affine=True, track_running_stats=True)\n",
      "      )\n",
      "      (2): BasicBlock(\n",
      "        (conv1): Conv2d(16, 16, kernel_size=(3, 3), stride=(1, 1), padding=(1, 1), bias=False)\n",
      "        (bn1): BatchNorm2d(16, eps=1e-05, momentum=0.1, affine=True, track_running_stats=True)\n",
      "        (relu): ReLU(inplace=True)\n",
      "        (conv2): Conv2d(16, 16, kernel_size=(3, 3), stride=(1, 1), padding=(1, 1), bias=False)\n",
      "        (bn2): BatchNorm2d(16, eps=1e-05, momentum=0.1, affine=True, track_running_stats=True)\n",
      "      )\n",
      "    )\n",
      "    (layer2): Sequential(\n",
      "      (0): BasicBlock(\n",
      "        (conv1): Conv2d(16, 32, kernel_size=(3, 3), stride=(2, 2), padding=(1, 1), bias=False)\n",
      "        (bn1): BatchNorm2d(32, eps=1e-05, momentum=0.1, affine=True, track_running_stats=True)\n",
      "        (relu): ReLU(inplace=True)\n",
      "        (conv2): Conv2d(32, 32, kernel_size=(3, 3), stride=(1, 1), padding=(1, 1), bias=False)\n",
      "        (bn2): BatchNorm2d(32, eps=1e-05, momentum=0.1, affine=True, track_running_stats=True)\n",
      "        (downsample): Sequential(\n",
      "          (0): Conv2d(16, 32, kernel_size=(1, 1), stride=(2, 2), bias=False)\n",
      "          (1): BatchNorm2d(32, eps=1e-05, momentum=0.1, affine=True, track_running_stats=True)\n",
      "        )\n",
      "      )\n",
      "      (1): BasicBlock(\n",
      "        (conv1): Conv2d(32, 32, kernel_size=(3, 3), stride=(1, 1), padding=(1, 1), bias=False)\n",
      "        (bn1): BatchNorm2d(32, eps=1e-05, momentum=0.1, affine=True, track_running_stats=True)\n",
      "        (relu): ReLU(inplace=True)\n",
      "        (conv2): Conv2d(32, 32, kernel_size=(3, 3), stride=(1, 1), padding=(1, 1), bias=False)\n",
      "        (bn2): BatchNorm2d(32, eps=1e-05, momentum=0.1, affine=True, track_running_stats=True)\n",
      "      )\n",
      "      (2): BasicBlock(\n",
      "        (conv1): Conv2d(32, 32, kernel_size=(3, 3), stride=(1, 1), padding=(1, 1), bias=False)\n",
      "        (bn1): BatchNorm2d(32, eps=1e-05, momentum=0.1, affine=True, track_running_stats=True)\n",
      "        (relu): ReLU(inplace=True)\n",
      "        (conv2): Conv2d(32, 32, kernel_size=(3, 3), stride=(1, 1), padding=(1, 1), bias=False)\n",
      "        (bn2): BatchNorm2d(32, eps=1e-05, momentum=0.1, affine=True, track_running_stats=True)\n",
      "      )\n",
      "      (3): BasicBlock(\n",
      "        (conv1): Conv2d(32, 32, kernel_size=(3, 3), stride=(1, 1), padding=(1, 1), bias=False)\n",
      "        (bn1): BatchNorm2d(32, eps=1e-05, momentum=0.1, affine=True, track_running_stats=True)\n",
      "        (relu): ReLU(inplace=True)\n",
      "        (conv2): Conv2d(32, 32, kernel_size=(3, 3), stride=(1, 1), padding=(1, 1), bias=False)\n",
      "        (bn2): BatchNorm2d(32, eps=1e-05, momentum=0.1, affine=True, track_running_stats=True)\n",
      "      )\n",
      "    )\n",
      "    (layer3): Sequential(\n",
      "      (0): BasicBlock(\n",
      "        (conv1): Conv2d(32, 64, kernel_size=(3, 3), stride=(2, 2), padding=(1, 1), bias=False)\n",
      "        (bn1): BatchNorm2d(64, eps=1e-05, momentum=0.1, affine=True, track_running_stats=True)\n",
      "        (relu): ReLU(inplace=True)\n",
      "        (conv2): Conv2d(64, 64, kernel_size=(3, 3), stride=(1, 1), padding=(1, 1), bias=False)\n",
      "        (bn2): BatchNorm2d(64, eps=1e-05, momentum=0.1, affine=True, track_running_stats=True)\n",
      "        (downsample): Sequential(\n",
      "          (0): Conv2d(32, 64, kernel_size=(1, 1), stride=(2, 2), bias=False)\n",
      "          (1): BatchNorm2d(64, eps=1e-05, momentum=0.1, affine=True, track_running_stats=True)\n",
      "        )\n",
      "      )\n",
      "      (1): BasicBlock(\n",
      "        (conv1): Conv2d(64, 64, kernel_size=(3, 3), stride=(1, 1), padding=(1, 1), bias=False)\n",
      "        (bn1): BatchNorm2d(64, eps=1e-05, momentum=0.1, affine=True, track_running_stats=True)\n",
      "        (relu): ReLU(inplace=True)\n",
      "        (conv2): Conv2d(64, 64, kernel_size=(3, 3), stride=(1, 1), padding=(1, 1), bias=False)\n",
      "        (bn2): BatchNorm2d(64, eps=1e-05, momentum=0.1, affine=True, track_running_stats=True)\n",
      "      )\n",
      "      (2): BasicBlock(\n",
      "        (conv1): Conv2d(64, 64, kernel_size=(3, 3), stride=(1, 1), padding=(1, 1), bias=False)\n",
      "        (bn1): BatchNorm2d(64, eps=1e-05, momentum=0.1, affine=True, track_running_stats=True)\n",
      "        (relu): ReLU(inplace=True)\n",
      "        (conv2): Conv2d(64, 64, kernel_size=(3, 3), stride=(1, 1), padding=(1, 1), bias=False)\n",
      "        (bn2): BatchNorm2d(64, eps=1e-05, momentum=0.1, affine=True, track_running_stats=True)\n",
      "      )\n",
      "      (3): BasicBlock(\n",
      "        (conv1): Conv2d(64, 64, kernel_size=(3, 3), stride=(1, 1), padding=(1, 1), bias=False)\n",
      "        (bn1): BatchNorm2d(64, eps=1e-05, momentum=0.1, affine=True, track_running_stats=True)\n",
      "        (relu): ReLU(inplace=True)\n",
      "        (conv2): Conv2d(64, 64, kernel_size=(3, 3), stride=(1, 1), padding=(1, 1), bias=False)\n",
      "        (bn2): BatchNorm2d(64, eps=1e-05, momentum=0.1, affine=True, track_running_stats=True)\n",
      "      )\n",
      "      (4): BasicBlock(\n",
      "        (conv1): Conv2d(64, 64, kernel_size=(3, 3), stride=(1, 1), padding=(1, 1), bias=False)\n",
      "        (bn1): BatchNorm2d(64, eps=1e-05, momentum=0.1, affine=True, track_running_stats=True)\n",
      "        (relu): ReLU(inplace=True)\n",
      "        (conv2): Conv2d(64, 64, kernel_size=(3, 3), stride=(1, 1), padding=(1, 1), bias=False)\n",
      "        (bn2): BatchNorm2d(64, eps=1e-05, momentum=0.1, affine=True, track_running_stats=True)\n",
      "      )\n",
      "      (5): BasicBlock(\n",
      "        (conv1): Conv2d(64, 64, kernel_size=(3, 3), stride=(1, 1), padding=(1, 1), bias=False)\n",
      "        (bn1): BatchNorm2d(64, eps=1e-05, momentum=0.1, affine=True, track_running_stats=True)\n",
      "        (relu): ReLU(inplace=True)\n",
      "        (conv2): Conv2d(64, 64, kernel_size=(3, 3), stride=(1, 1), padding=(1, 1), bias=False)\n",
      "        (bn2): BatchNorm2d(64, eps=1e-05, momentum=0.1, affine=True, track_running_stats=True)\n",
      "      )\n",
      "    )\n",
      "    (layer4): Sequential(\n",
      "      (0): BasicBlock(\n",
      "        (conv1): Conv2d(64, 128, kernel_size=(3, 3), stride=(2, 2), padding=(1, 1), bias=False)\n",
      "        (bn1): BatchNorm2d(128, eps=1e-05, momentum=0.1, affine=True, track_running_stats=True)\n",
      "        (relu): ReLU(inplace=True)\n",
      "        (conv2): Conv2d(128, 128, kernel_size=(3, 3), stride=(1, 1), padding=(1, 1), bias=False)\n",
      "        (bn2): BatchNorm2d(128, eps=1e-05, momentum=0.1, affine=True, track_running_stats=True)\n",
      "        (downsample): Sequential(\n",
      "          (0): Conv2d(64, 128, kernel_size=(1, 1), stride=(2, 2), bias=False)\n",
      "          (1): BatchNorm2d(128, eps=1e-05, momentum=0.1, affine=True, track_running_stats=True)\n",
      "        )\n",
      "      )\n",
      "      (1): BasicBlock(\n",
      "        (conv1): Conv2d(128, 128, kernel_size=(3, 3), stride=(1, 1), padding=(1, 1), bias=False)\n",
      "        (bn1): BatchNorm2d(128, eps=1e-05, momentum=0.1, affine=True, track_running_stats=True)\n",
      "        (relu): ReLU(inplace=True)\n",
      "        (conv2): Conv2d(128, 128, kernel_size=(3, 3), stride=(1, 1), padding=(1, 1), bias=False)\n",
      "        (bn2): BatchNorm2d(128, eps=1e-05, momentum=0.1, affine=True, track_running_stats=True)\n",
      "      )\n",
      "      (2): BasicBlock(\n",
      "        (conv1): Conv2d(128, 128, kernel_size=(3, 3), stride=(1, 1), padding=(1, 1), bias=False)\n",
      "        (bn1): BatchNorm2d(128, eps=1e-05, momentum=0.1, affine=True, track_running_stats=True)\n",
      "        (relu): ReLU(inplace=True)\n",
      "        (conv2): Conv2d(128, 128, kernel_size=(3, 3), stride=(1, 1), padding=(1, 1), bias=False)\n",
      "        (bn2): BatchNorm2d(128, eps=1e-05, momentum=0.1, affine=True, track_running_stats=True)\n",
      "      )\n",
      "    )\n",
      "    (avgpool): AvgPool2d(kernel_size=(1, 3), stride=(1, 3), padding=0)\n",
      "  )\n",
      "  (pool): LDE()\n",
      "  (fc11): Linear(in_features=4096, out_features=512, bias=True)\n",
      "  (bn1): BatchNorm1d(512, eps=1e-05, momentum=0.1, affine=True, track_running_stats=True)\n",
      "  (fc2): Linear(in_features=512, out_features=1128, bias=True)\n",
      ")\n"
     ]
    }
   ],
   "source": [
    "print(model)"
   ]
  },
  {
   "cell_type": "code",
   "execution_count": 26,
   "metadata": {
    "ExecuteTime": {
     "end_time": "2020-04-21T23:37:02.662981Z",
     "start_time": "2020-04-21T23:37:02.187666Z"
    }
   },
   "outputs": [
    {
     "name": "stdout",
     "output_type": "stream",
     "text": [
      "----------------------------------------------------------------\n",
      "        Layer (type)               Output Shape         Param #\n",
      "================================================================\n",
      "            Conv2d-1         [128, 16, 800, 30]             784\n",
      "       BatchNorm2d-2         [128, 16, 800, 30]              32\n",
      "              ReLU-3         [128, 16, 800, 30]               0\n",
      "            Conv2d-4         [128, 16, 800, 30]           2,304\n",
      "       BatchNorm2d-5         [128, 16, 800, 30]              32\n",
      "              ReLU-6         [128, 16, 800, 30]               0\n",
      "            Conv2d-7         [128, 16, 800, 30]           2,304\n",
      "       BatchNorm2d-8         [128, 16, 800, 30]              32\n",
      "              ReLU-9         [128, 16, 800, 30]               0\n",
      "       BasicBlock-10         [128, 16, 800, 30]               0\n",
      "           Conv2d-11         [128, 16, 800, 30]           2,304\n",
      "      BatchNorm2d-12         [128, 16, 800, 30]              32\n",
      "             ReLU-13         [128, 16, 800, 30]               0\n",
      "           Conv2d-14         [128, 16, 800, 30]           2,304\n",
      "      BatchNorm2d-15         [128, 16, 800, 30]              32\n",
      "             ReLU-16         [128, 16, 800, 30]               0\n",
      "       BasicBlock-17         [128, 16, 800, 30]               0\n",
      "           Conv2d-18         [128, 16, 800, 30]           2,304\n",
      "      BatchNorm2d-19         [128, 16, 800, 30]              32\n",
      "             ReLU-20         [128, 16, 800, 30]               0\n",
      "           Conv2d-21         [128, 16, 800, 30]           2,304\n",
      "      BatchNorm2d-22         [128, 16, 800, 30]              32\n",
      "             ReLU-23         [128, 16, 800, 30]               0\n",
      "       BasicBlock-24         [128, 16, 800, 30]               0\n",
      "           Conv2d-25         [128, 32, 400, 15]           4,608\n",
      "      BatchNorm2d-26         [128, 32, 400, 15]              64\n",
      "             ReLU-27         [128, 32, 400, 15]               0\n",
      "           Conv2d-28         [128, 32, 400, 15]           9,216\n",
      "      BatchNorm2d-29         [128, 32, 400, 15]              64\n",
      "           Conv2d-30         [128, 32, 400, 15]             512\n",
      "      BatchNorm2d-31         [128, 32, 400, 15]              64\n",
      "             ReLU-32         [128, 32, 400, 15]               0\n",
      "       BasicBlock-33         [128, 32, 400, 15]               0\n",
      "           Conv2d-34         [128, 32, 400, 15]           9,216\n",
      "      BatchNorm2d-35         [128, 32, 400, 15]              64\n",
      "             ReLU-36         [128, 32, 400, 15]               0\n",
      "           Conv2d-37         [128, 32, 400, 15]           9,216\n",
      "      BatchNorm2d-38         [128, 32, 400, 15]              64\n",
      "             ReLU-39         [128, 32, 400, 15]               0\n",
      "       BasicBlock-40         [128, 32, 400, 15]               0\n",
      "           Conv2d-41         [128, 32, 400, 15]           9,216\n",
      "      BatchNorm2d-42         [128, 32, 400, 15]              64\n",
      "             ReLU-43         [128, 32, 400, 15]               0\n",
      "           Conv2d-44         [128, 32, 400, 15]           9,216\n",
      "      BatchNorm2d-45         [128, 32, 400, 15]              64\n",
      "             ReLU-46         [128, 32, 400, 15]               0\n",
      "       BasicBlock-47         [128, 32, 400, 15]               0\n",
      "           Conv2d-48         [128, 32, 400, 15]           9,216\n",
      "      BatchNorm2d-49         [128, 32, 400, 15]              64\n",
      "             ReLU-50         [128, 32, 400, 15]               0\n",
      "           Conv2d-51         [128, 32, 400, 15]           9,216\n",
      "      BatchNorm2d-52         [128, 32, 400, 15]              64\n",
      "             ReLU-53         [128, 32, 400, 15]               0\n",
      "       BasicBlock-54         [128, 32, 400, 15]               0\n",
      "           Conv2d-55          [128, 64, 200, 8]          18,432\n",
      "      BatchNorm2d-56          [128, 64, 200, 8]             128\n",
      "             ReLU-57          [128, 64, 200, 8]               0\n",
      "           Conv2d-58          [128, 64, 200, 8]          36,864\n",
      "      BatchNorm2d-59          [128, 64, 200, 8]             128\n",
      "           Conv2d-60          [128, 64, 200, 8]           2,048\n",
      "      BatchNorm2d-61          [128, 64, 200, 8]             128\n",
      "             ReLU-62          [128, 64, 200, 8]               0\n",
      "       BasicBlock-63          [128, 64, 200, 8]               0\n",
      "           Conv2d-64          [128, 64, 200, 8]          36,864\n",
      "      BatchNorm2d-65          [128, 64, 200, 8]             128\n",
      "             ReLU-66          [128, 64, 200, 8]               0\n",
      "           Conv2d-67          [128, 64, 200, 8]          36,864\n",
      "      BatchNorm2d-68          [128, 64, 200, 8]             128\n",
      "             ReLU-69          [128, 64, 200, 8]               0\n",
      "       BasicBlock-70          [128, 64, 200, 8]               0\n",
      "           Conv2d-71          [128, 64, 200, 8]          36,864\n",
      "      BatchNorm2d-72          [128, 64, 200, 8]             128\n",
      "             ReLU-73          [128, 64, 200, 8]               0\n",
      "           Conv2d-74          [128, 64, 200, 8]          36,864\n",
      "      BatchNorm2d-75          [128, 64, 200, 8]             128\n",
      "             ReLU-76          [128, 64, 200, 8]               0\n",
      "       BasicBlock-77          [128, 64, 200, 8]               0\n",
      "           Conv2d-78          [128, 64, 200, 8]          36,864\n",
      "      BatchNorm2d-79          [128, 64, 200, 8]             128\n",
      "             ReLU-80          [128, 64, 200, 8]               0\n",
      "           Conv2d-81          [128, 64, 200, 8]          36,864\n",
      "      BatchNorm2d-82          [128, 64, 200, 8]             128\n",
      "             ReLU-83          [128, 64, 200, 8]               0\n",
      "       BasicBlock-84          [128, 64, 200, 8]               0\n",
      "           Conv2d-85          [128, 64, 200, 8]          36,864\n",
      "      BatchNorm2d-86          [128, 64, 200, 8]             128\n",
      "             ReLU-87          [128, 64, 200, 8]               0\n",
      "           Conv2d-88          [128, 64, 200, 8]          36,864\n",
      "      BatchNorm2d-89          [128, 64, 200, 8]             128\n",
      "             ReLU-90          [128, 64, 200, 8]               0\n",
      "       BasicBlock-91          [128, 64, 200, 8]               0\n",
      "           Conv2d-92          [128, 64, 200, 8]          36,864\n",
      "      BatchNorm2d-93          [128, 64, 200, 8]             128\n",
      "             ReLU-94          [128, 64, 200, 8]               0\n",
      "           Conv2d-95          [128, 64, 200, 8]          36,864\n",
      "      BatchNorm2d-96          [128, 64, 200, 8]             128\n",
      "             ReLU-97          [128, 64, 200, 8]               0\n",
      "       BasicBlock-98          [128, 64, 200, 8]               0\n",
      "           Conv2d-99         [128, 128, 100, 4]          73,728\n",
      "     BatchNorm2d-100         [128, 128, 100, 4]             256\n",
      "            ReLU-101         [128, 128, 100, 4]               0\n",
      "          Conv2d-102         [128, 128, 100, 4]         147,456\n",
      "     BatchNorm2d-103         [128, 128, 100, 4]             256\n",
      "          Conv2d-104         [128, 128, 100, 4]           8,192\n",
      "     BatchNorm2d-105         [128, 128, 100, 4]             256\n",
      "            ReLU-106         [128, 128, 100, 4]               0\n",
      "      BasicBlock-107         [128, 128, 100, 4]               0\n",
      "          Conv2d-108         [128, 128, 100, 4]         147,456\n",
      "     BatchNorm2d-109         [128, 128, 100, 4]             256\n",
      "            ReLU-110         [128, 128, 100, 4]               0\n",
      "          Conv2d-111         [128, 128, 100, 4]         147,456\n",
      "     BatchNorm2d-112         [128, 128, 100, 4]             256\n",
      "            ReLU-113         [128, 128, 100, 4]               0\n",
      "      BasicBlock-114         [128, 128, 100, 4]               0\n",
      "          Conv2d-115         [128, 128, 100, 4]         147,456\n",
      "     BatchNorm2d-116         [128, 128, 100, 4]             256\n",
      "            ReLU-117         [128, 128, 100, 4]               0\n",
      "          Conv2d-118         [128, 128, 100, 4]         147,456\n",
      "     BatchNorm2d-119         [128, 128, 100, 4]             256\n",
      "            ReLU-120         [128, 128, 100, 4]               0\n",
      "      BasicBlock-121         [128, 128, 100, 4]               0\n",
      "       AvgPool2d-122         [128, 128, 100, 1]               0\n",
      "          ResNet-123            [128, 100, 128]               0\n",
      "             LDE-124                [128, 4096]               0\n",
      "          Linear-125                 [128, 512]       2,097,664\n",
      "     BatchNorm1d-126                 [128, 512]           1,024\n",
      "          Linear-127                [128, 1128]         578,664\n",
      "================================================================\n",
      "Total params: 4,011,032\n",
      "Trainable params: 4,011,032\n",
      "Non-trainable params: 0\n",
      "----------------------------------------------------------------\n",
      "Input size (MB): 11.72\n",
      "Forward/backward pass size (MB): 20206.10\n",
      "Params size (MB): 15.30\n",
      "Estimated Total Size (MB): 20233.12\n",
      "----------------------------------------------------------------\n"
     ]
    }
   ],
   "source": [
    "summary(model, (800, 30), batch_size=128)"
   ]
  },
  {
   "cell_type": "code",
   "execution_count": 20,
   "metadata": {
    "ExecuteTime": {
     "end_time": "2020-04-21T21:39:25.149838Z",
     "start_time": "2020-04-21T21:39:25.143367Z"
    }
   },
   "outputs": [
    {
     "name": "stdout",
     "output_type": "stream",
     "text": [
      "===> Model total parameter: 4015160\n"
     ]
    }
   ],
   "source": [
    "model_params = sum(p.numel() for p in model.parameters() if p.requires_grad)\n",
    "print('===> Model total parameter: {}'.format(model_params))"
   ]
  },
  {
   "cell_type": "markdown",
   "metadata": {},
   "source": [
    "<hr>"
   ]
  },
  {
   "cell_type": "markdown",
   "metadata": {},
   "source": [
    "## Check torchaudio.compliance.kaldi features with Kaldi toolkit"
   ]
  },
  {
   "cell_type": "code",
   "execution_count": 25,
   "metadata": {
    "ExecuteTime": {
     "end_time": "2020-05-19T15:59:22.587286Z",
     "start_time": "2020-05-19T15:59:22.387057Z"
    }
   },
   "outputs": [
    {
     "data": {
      "text/plain": [
       "torch.Size([1, 64000])"
      ]
     },
     "execution_count": 25,
     "metadata": {},
     "output_type": "execute_result"
    }
   ],
   "source": [
    "torch.from_numpy(dataset[0][0]).unsqueeze(0).shape"
   ]
  },
  {
   "cell_type": "code",
   "execution_count": 27,
   "metadata": {
    "ExecuteTime": {
     "end_time": "2020-05-19T15:59:46.053286Z",
     "start_time": "2020-05-19T15:59:45.860257Z"
    }
   },
   "outputs": [
    {
     "data": {
      "text/plain": [
       "torch.Size([398, 257])"
      ]
     },
     "execution_count": 27,
     "metadata": {},
     "output_type": "execute_result"
    }
   ],
   "source": [
    "torchaudio.compliance.kaldi.spectrogram(torch.from_numpy(dataset[0][0]).unsqueeze(0)).shape"
   ]
  },
  {
   "cell_type": "code",
   "execution_count": 4,
   "metadata": {
    "ExecuteTime": {
     "end_time": "2020-05-05T08:48:55.073619Z",
     "start_time": "2020-05-05T08:48:55.061021Z"
    }
   },
   "outputs": [
    {
     "name": "stdout",
     "output_type": "stream",
     "text": [
      "Utt: id10001-1zcIwhmdeo4-00001\n",
      "Path:/home/faber6911/kaldi/egs/pytorch-kaldi-neural-speaker-embeddings/fbank/raw_fbank_train.1.ark:26\n"
     ]
    }
   ],
   "source": [
    "for line in open('fbank/raw_fbank_train.1.scp'):\n",
    "    utt, path = line.rstrip().split()\n",
    "    break\n",
    "    \n",
    "print(\"Utt: {}\\nPath:{}\".format(utt, path))"
   ]
  },
  {
   "cell_type": "code",
   "execution_count": 5,
   "metadata": {
    "ExecuteTime": {
     "end_time": "2020-05-05T08:48:55.695034Z",
     "start_time": "2020-05-05T08:48:55.680536Z"
    }
   },
   "outputs": [
    {
     "name": "stdout",
     "output_type": "stream",
     "text": [
      "Shape: (812, 30)\n",
      "Max: 27.77927017211914\n",
      "Min: 10.756635665893555\n"
     ]
    }
   ],
   "source": [
    "# read matrix and check dimensions\n",
    "fbank_line = kaldi_io.read_mat(path)\n",
    "print(\"Shape: {}\\nMax: {}\\nMin: {}\".format(fbank_line.shape, np.max(fbank_line), np.min(fbank_line)))"
   ]
  },
  {
   "cell_type": "code",
   "execution_count": 6,
   "metadata": {
    "ExecuteTime": {
     "end_time": "2020-05-05T08:48:58.515491Z",
     "start_time": "2020-05-05T08:48:58.512309Z"
    }
   },
   "outputs": [
    {
     "name": "stdout",
     "output_type": "stream",
     "text": [
      "Abs path for wav file:\n",
      "/export/corpora/VoxCeleb1/dev/wav/id10001/1zcIwhmdeo4/00001.wav\n"
     ]
    }
   ],
   "source": [
    "# from utt to path for import wav file\n",
    "new_path = re.sub('-', '/', utt)\n",
    "new_path = new_path+'.wav'\n",
    "audio_path = os.path.join('/export/corpora/VoxCeleb1/dev/wav/', new_path)\n",
    "print(\"Abs path for wav file:\\n{}\".format(audio_path))"
   ]
  },
  {
   "cell_type": "code",
   "execution_count": 7,
   "metadata": {
    "ExecuteTime": {
     "end_time": "2020-05-05T08:48:59.697600Z",
     "start_time": "2020-05-05T08:48:59.685337Z"
    }
   },
   "outputs": [
    {
     "name": "stdout",
     "output_type": "stream",
     "text": [
      "Shape: (129921,)\n",
      "Duration: 8.1200625 seconds\n"
     ]
    }
   ],
   "source": [
    "# import wav file and check dims and duration\n",
    "sr, waveform = wavfile.read(audio_path)\n",
    "print(\"Shape: {}\\nDuration: {} seconds\".format(waveform.shape, waveform.shape[0]/sr))"
   ]
  },
  {
   "cell_type": "code",
   "execution_count": 8,
   "metadata": {
    "ExecuteTime": {
     "end_time": "2020-05-05T08:49:01.733590Z",
     "start_time": "2020-05-05T08:49:01.716918Z"
    }
   },
   "outputs": [
    {
     "data": {
      "text/plain": [
       "torch.Size([1, 129921])"
      ]
     },
     "execution_count": 8,
     "metadata": {},
     "output_type": "execute_result"
    }
   ],
   "source": [
    "# from numpy to TorchTensor in order to use with torchaudio\n",
    "waveform = torch.FloatTensor(waveform)\n",
    "waveform = waveform.unsqueeze(0)\n",
    "waveform.shape"
   ]
  },
  {
   "cell_type": "code",
   "execution_count": 9,
   "metadata": {
    "ExecuteTime": {
     "end_time": "2020-05-05T08:49:02.223162Z",
     "start_time": "2020-05-05T08:49:02.118804Z"
    }
   },
   "outputs": [],
   "source": [
    "# fbank from torchaudio with same config\n",
    "fbank_torch = torchaudio.compliance.kaldi.fbank(waveform,\n",
    "                                                sample_frequency = sr,\n",
    "                                                frame_length = 25,\n",
    "                                                low_freq = 20,\n",
    "                                                high_freq = 7600,\n",
    "                                                num_mel_bins = 30,\n",
    "                                                snip_edges = False)"
   ]
  },
  {
   "cell_type": "code",
   "execution_count": 10,
   "metadata": {
    "ExecuteTime": {
     "end_time": "2020-05-05T08:49:02.733546Z",
     "start_time": "2020-05-05T08:49:02.716086Z"
    }
   },
   "outputs": [
    {
     "name": "stdout",
     "output_type": "stream",
     "text": [
      "fbank Kaldi toolkit:\n",
      "[[15.3331   17.081566 17.721813 ... 19.025589 19.246582 19.476   ]\n",
      " [14.083518 16.721992 17.103155 ... 19.966415 19.51774  19.911795]\n",
      " [14.944939 16.36242  16.39664  ... 20.000017 20.357042 21.019016]\n",
      " ...\n",
      " [13.966785 16.675093 17.25782  ... 17.336458 16.881641 18.509287]\n",
      " [14.258617 15.63033  17.50915  ... 18.303068 17.276648 17.981493]\n",
      " [14.880245 16.346786 18.475801 ... 17.882803 17.320536 18.509287]]\n",
      "\n",
      "fbank torchaudio:\n",
      "tensor([[15.3379, 17.0791, 17.7284,  ..., 19.0252, 19.2422, 19.4683],\n",
      "        [14.1024, 16.7175, 17.1048,  ..., 19.9661, 19.5175, 19.9037],\n",
      "        [14.9401, 16.3688, 16.4212,  ..., 19.9948, 20.3537, 21.0038],\n",
      "        ...,\n",
      "        [13.9402, 16.6806, 17.2543,  ..., 17.3316, 16.8983, 18.4902],\n",
      "        [14.2535, 15.6409, 17.5064,  ..., 18.2910, 17.2929, 17.9776],\n",
      "        [14.8852, 16.3422, 18.4661,  ..., 17.9035, 17.3213, 18.4965]])\n"
     ]
    }
   ],
   "source": [
    "print(\"fbank Kaldi toolkit:\\n{}\\n\\nfbank torchaudio:\\n{}\".format(fbank_line, fbank_torch))"
   ]
  },
  {
   "cell_type": "code",
   "execution_count": 11,
   "metadata": {
    "ExecuteTime": {
     "end_time": "2020-05-05T08:49:03.537439Z",
     "start_time": "2020-05-05T08:49:03.529607Z"
    }
   },
   "outputs": [
    {
     "name": "stdout",
     "output_type": "stream",
     "text": [
      "//// torchaudio fbank -- kaldi toolkit fbank\n",
      "Max: 27.7794246673584, 27.77927017211914\n",
      "Min: 10.755780220031738, 10.756635665893555\n",
      "Mean: 19.649372100830078, 19.64935874938965\n",
      "Median: 19.618640899658203, 19.622425079345703\n"
     ]
    }
   ],
   "source": [
    "print(\"//// torchaudio fbank -- kaldi toolkit fbank\\nMax: {}, {}\\nMin: {}, {}\\nMean: {}, {}\\nMedian: {}, {}\".format(\n",
    "                 torch.max(fbank_torch), np.max(fbank_line),\n",
    "                 torch.min(fbank_torch), np.min(fbank_line),\n",
    "                 torch.mean(fbank_torch), np.mean(fbank_line),\n",
    "                 torch.median(fbank_torch), np.median(fbank_line)))"
   ]
  },
  {
   "cell_type": "markdown",
   "metadata": {},
   "source": [
    "fbank seems to be the same, time to check for MFCC"
   ]
  },
  {
   "cell_type": "code",
   "execution_count": 12,
   "metadata": {
    "ExecuteTime": {
     "end_time": "2020-05-05T08:49:05.373802Z",
     "start_time": "2020-05-05T08:49:05.362122Z"
    }
   },
   "outputs": [
    {
     "name": "stdout",
     "output_type": "stream",
     "text": [
      "Utt: id10001-1zcIwhmdeo4-00001\n",
      "Path:/home/faber6911/kaldi/egs/pytorch-kaldi-neural-speaker-embeddings/mfcc/raw_mfcc_train_mfcc.1.ark:26\n"
     ]
    }
   ],
   "source": [
    "for line in open('mfcc/raw_mfcc_train_mfcc.1.scp'):\n",
    "    utt, path = line.rstrip().split()\n",
    "    break\n",
    "    \n",
    "print(\"Utt: {}\\nPath:{}\".format(utt, path))"
   ]
  },
  {
   "cell_type": "code",
   "execution_count": 13,
   "metadata": {
    "ExecuteTime": {
     "end_time": "2020-05-05T08:49:06.134580Z",
     "start_time": "2020-05-05T08:49:06.124105Z"
    }
   },
   "outputs": [
    {
     "name": "stdout",
     "output_type": "stream",
     "text": [
      "Shape: (812, 30)\n",
      "Max: 59.16253662109375\n",
      "Min: -76.8489990234375\n"
     ]
    }
   ],
   "source": [
    "mfcc_line = kaldi_io.read_mat(path)\n",
    "print(\"Shape: {}\\nMax: {}\\nMin: {}\".format(mfcc_line.shape, np.max(mfcc_line), np.min(mfcc_line)))"
   ]
  },
  {
   "cell_type": "markdown",
   "metadata": {
    "ExecuteTime": {
     "end_time": "2020-05-03T19:22:49.901092Z",
     "start_time": "2020-05-03T19:22:49.897978Z"
    }
   },
   "source": [
    "The wav file is the same so we already have the audio in TorchTensor format"
   ]
  },
  {
   "cell_type": "code",
   "execution_count": 14,
   "metadata": {
    "ExecuteTime": {
     "end_time": "2020-05-05T08:49:08.001202Z",
     "start_time": "2020-05-05T08:49:07.949820Z"
    }
   },
   "outputs": [],
   "source": [
    "mfcc_torch = torchaudio.compliance.kaldi.mfcc(waveform = waveform,\n",
    "                                              sample_frequency = sr,\n",
    "                                             frame_length = 25,\n",
    "                                             low_freq = 20,\n",
    "                                             high_freq = 7600,\n",
    "                                             num_mel_bins = 30,\n",
    "                                             num_ceps = 30,\n",
    "                                             snip_edges = False,\n",
    "                                             use_energy=True)"
   ]
  },
  {
   "cell_type": "markdown",
   "metadata": {},
   "source": [
    "MFCC in Kaldi toolkit has use_energy param True as default while torchaudio.compliance.kaldi has use_energy False"
   ]
  },
  {
   "cell_type": "code",
   "execution_count": 15,
   "metadata": {
    "ExecuteTime": {
     "end_time": "2020-05-05T08:49:09.103160Z",
     "start_time": "2020-05-05T08:49:09.095908Z"
    }
   },
   "outputs": [
    {
     "name": "stdout",
     "output_type": "stream",
     "text": [
      "mfcc Kaldi toolkit:\n",
      "[[ 20.106464   -11.908861     0.39882356 ...  -0.7912214    3.6647441\n",
      "    2.9267256 ]\n",
      " [ 19.808418   -16.656345    -3.5222826  ...   3.485898     4.524192\n",
      "    4.6507907 ]\n",
      " [ 20.021309   -17.447592    -1.2642107  ...   3.133277     5.6291966\n",
      "    3.7312894 ]\n",
      " ...\n",
      " [ 21.30063     -3.422789   -24.859312   ...   1.1005099    3.1736312\n",
      "   -2.7399864 ]\n",
      " [ 21.57147     -2.7626133  -24.859312   ...  -0.28873026  -2.1898746\n",
      "   -2.7399864 ]\n",
      " [ 21.723818    -0.12190962 -23.017002   ...   4.1911397   -2.0781922\n",
      "   -2.1426592 ]]\n",
      "mfcc torchaudio:\n",
      "tensor([[ 20.1075, -11.9517,   0.2819,  ...,  -0.8027,   3.6210,   2.9432],\n",
      "        [ 19.7922, -16.6810,  -3.5334,  ...,   3.4430,   4.5605,   4.6365],\n",
      "        [ 20.0252, -17.4113,  -1.2113,  ...,   3.1620,   5.5843,   3.7296],\n",
      "        ...,\n",
      "        [ 21.3083,  -3.3794, -24.9784,  ...,   1.0830,   3.2391,  -2.7685],\n",
      "        [ 21.5762,  -2.8118, -24.9922,  ...,  -0.2775,  -2.2522,  -2.6962],\n",
      "        [ 21.7162,  -0.1835, -22.9673,  ...,   4.1791,  -2.0688,  -2.1565]])\n"
     ]
    }
   ],
   "source": [
    "print(\"mfcc Kaldi toolkit:\\n{}\\nmfcc torchaudio:\\n{}\".format(mfcc_line, mfcc_torch))"
   ]
  },
  {
   "cell_type": "code",
   "execution_count": 16,
   "metadata": {
    "ExecuteTime": {
     "end_time": "2020-05-05T08:49:12.448871Z",
     "start_time": "2020-05-05T08:49:12.443774Z"
    }
   },
   "outputs": [
    {
     "name": "stdout",
     "output_type": "stream",
     "text": [
      "//// torchaudio mfcc -- kaldi toolkit mfcc\n",
      "Max: 59.11941146850586, 59.16253662109375\n",
      "Min: -76.91753387451172, -76.8489990234375\n",
      "Mean: -2.9523754119873047, -2.953380823135376\n",
      "Median: -0.6154720187187195, -0.6105281114578247\n"
     ]
    }
   ],
   "source": [
    "print(\"//// torchaudio mfcc -- kaldi toolkit mfcc\\nMax: {}, {}\\nMin: {}, {}\\nMean: {}, {}\\nMedian: {}, {}\".format(\n",
    "                 torch.max(mfcc_torch), np.max(mfcc_line),\n",
    "                 torch.min(mfcc_torch), np.min(mfcc_line),\n",
    "                 torch.mean(mfcc_torch), np.mean(mfcc_line),\n",
    "                 torch.median(mfcc_torch), np.median(mfcc_line)))"
   ]
  },
  {
   "cell_type": "markdown",
   "metadata": {},
   "source": [
    "## Writing .ark and .scp file"
   ]
  },
  {
   "cell_type": "code",
   "execution_count": 215,
   "metadata": {
    "ExecuteTime": {
     "end_time": "2020-05-03T20:20:26.622626Z",
     "start_time": "2020-05-03T20:20:26.620165Z"
    }
   },
   "outputs": [],
   "source": [
    "saving = {'prova': fbank_torch.numpy(),\n",
    "         'prova2': fbank_line}"
   ]
  },
  {
   "cell_type": "code",
   "execution_count": 156,
   "metadata": {
    "ExecuteTime": {
     "end_time": "2020-05-03T15:59:31.143319Z",
     "start_time": "2020-05-03T15:59:31.129696Z"
    }
   },
   "outputs": [],
   "source": [
    "# Allow to write .ark file\n",
    "with open('feats2.ark','wb') as f:\n",
    "  for key,mat in saving.items():\n",
    "    kaldi_io.write_mat(f, mat, key = key)"
   ]
  },
  {
   "cell_type": "code",
   "execution_count": null,
   "metadata": {
    "ExecuteTime": {
     "end_time": "2020-05-03T20:20:54.256377Z",
     "start_time": "2020-05-03T20:20:54.242180Z"
    }
   },
   "outputs": [],
   "source": [
    "# work in progress, write .ark and .scp files all in one\n",
    "ark_scp_output='ark:| copy-feats --compress=true ark:- ark,scp:data/feats2.ark,data/feats2.scp'\n",
    "with kaldi_io.open_or_fd(ark_scp_output,'wb') as f:\n",
    "    for key,mat in saving.items():\n",
    "        kaldi_io.write_mat(f, mat, key = key)"
   ]
  },
  {
   "cell_type": "code",
   "execution_count": 180,
   "metadata": {
    "ExecuteTime": {
     "end_time": "2020-05-03T18:34:38.678759Z",
     "start_time": "2020-05-03T18:34:38.676710Z"
    }
   },
   "outputs": [],
   "source": [
    "# modules that allow to use writers and readers for kaldi obj\n",
    "import kaldiio\n",
    "from kaldiio import WriteHelper"
   ]
  },
  {
   "cell_type": "code",
   "execution_count": 126,
   "metadata": {
    "ExecuteTime": {
     "end_time": "2020-05-03T15:32:23.709662Z",
     "start_time": "2020-05-03T15:32:23.694394Z"
    }
   },
   "outputs": [],
   "source": [
    "# write .ark and .scp file all in one\n",
    "with WriteHelper('ark,scp:file.ark,file.scp') as writer:\n",
    "    for key, mat in saving.items():\n",
    "        writer[key] = mat"
   ]
  }
 ],
 "metadata": {
  "kernelspec": {
   "display_name": "Python 3",
   "language": "python",
   "name": "python3"
  },
  "language_info": {
   "codemirror_mode": {
    "name": "ipython",
    "version": 3
   },
   "file_extension": ".py",
   "mimetype": "text/x-python",
   "name": "python",
   "nbconvert_exporter": "python",
   "pygments_lexer": "ipython3",
   "version": "3.8.2"
  }
 },
 "nbformat": 4,
 "nbformat_minor": 4
}
